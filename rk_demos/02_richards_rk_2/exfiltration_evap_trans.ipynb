{
 "cells": [
  {
   "cell_type": "markdown",
   "metadata": {},
   "source": [
    "\n",
    "\n",
    "# Richards' Equation"
   ]
  },
  {
   "cell_type": "markdown",
   "metadata": {},
   "source": [
    "This is a simple verticle, pseudo-1D column of water with a water table below the surface.  It solves the pressure to steady-state.  For constant density and incompressible solid, this would be a linear pressure profile. (but we include a pressure-dependent density.)\n",
    "\n",
    "The highlight of this problem is - \n",
    "#### Infiltration of water is taken into account: Neumann mass flux boundary - Top surface - +0.000176 $mol m^{-2} s^{-1}$\n",
    "#### Initial hydrostatic head:   - 3.0 m i.e. 7 m from the bottom! \n",
    "#### Time period - 0 - 10 s\n",
    "Input parameters:\n",
    "\n",
    "1. Mesh size defined using Generated Mesh - Box type.\n",
    "- Low coordinate - (0,0,0), High coordinate - (1,1,10), number of cells - (1,1,100)\n",
    "- Creates a pseudo 1D water column with 100 cells along the z-direction.\n",
    "\n",
    "2. Solves the Richards equation\n",
    "\n",
    "3. Boundary condition - Neumann B.C: Mass flux on the top = -0.000176 $mol m^{-2} s^{-1}$\n",
    "\n",
    "4. Water Retention Parameters [WRM] - Van Genuchten Model : $alpha$ [$Pa^{-1}$] = 0.00015, m [-] = 0.8, residual saturation [-] = 0.\n",
    "\n",
    "5. Water content is calculated by Richards water content. \n",
    "\n",
    "\\begin{equation}\n",
    "            \\theta = n * s * \\phi *  {cell volume}\n",
    "\\end{equation}\n",
    "\n",
    "where n = molar density of liquid phase [mol $m^{-3}$], s = saturation of phase [-], $\\phi$ = porosity [-].\n",
    "\n",
    "6. The relative permeability method - upwind with Darcy flux - Relative permeability is defined on cells, but must be calculated on faces to multiply a flux.\n",
    "\n",
    "7. n = 0.25, K (Abs. permeability) = 2.5e-12 m^2, T_{initial} = 275.15 K,  g = (0,0,-9.8006m ms^{-2}), n_l = 55000 mol m^{-3}, dynamic_viscosity = 0.00089 Pas, Pore compressibility =  1e-09 Pa^{-1}.\n",
    "\n",
    "8. Hydrostatic head [m] = -3.0 m, Hydrostatic water density = 1000 kg m^{-3}\n",
    "\n",
    "9. Visualization - Entire domain, Times start period stop - (0, 1, 10) - (Start, period, stop). The time steps is 0.1, hence we will have a total of 10 results. \n",
    "\n",
    "\n",
    "### Richards equation:\n",
    "\n",
    "For transient state, the 3-D Richard's equation in variably saturated domain is:\n",
    "\\begin{equation}\n",
    "    \\frac{\\partial \\theta}{\\partial t} - \\triangledown \\frac{k_r n_l}{\\mu} K (\\triangledown p + \\rho g \\hat{z}) = Q_w \n",
    "\\end{equation}\n",
    "\n",
    "where, $\\theta$ = Extensive water content of the cell [mol], t = time variable [s], $\\triangledown$ = Divergence operator, $k_r$ = relative permeability [-], $n_l$ = molar density of liquid phase [mol $m^{-3}$], $\\mu$ = Absolute (Dynamic) viscosity of water (Pas), K = Absolute permeability [$m^{2}$], p = liquid pressure [Pa], $\\rho$ = density of water, $\\hat{z}$ = elevation [m], $Q_w$ = mass source of water [mol $s^{-1}$] \n",
    "\n",
    "For steady state, $\\frac{\\partial \\theta}{\\partial t}$ = 0 and $Q_w$ = -0.0005 mol m^{-2} s^{-1}.\n",
    "\n",
    "Hence the above equation reduces as:\n",
    "\\begin{equation}\n",
    "    \\triangledown \\frac{k_r n_l}{\\mu} K (\\triangledown p + \\rho g \\hat{z}) = Q_w\n",
    "\\end{equation}\n",
    "\n",
    "### Van-Genuchten Maulem  Model\n",
    "\n",
    "#### Defined in the function - $wrm_{vangenuchten}$\n",
    "\n",
    "The retention curve as given by [Schuh et al., 2017] :\n",
    "\n",
    "If $P_c$ > 0, $S_*$ ($P_c$) = $S_r$ + (1 - $S_r$) $[1 + (\\alpha P_c)^n]^{-m}$\n",
    "\n",
    "else $S_*$ ($P_c$) = 1\n",
    "\n",
    "\n",
    "Combined with the Mualem (1976) model for re-scaling liquid phase permeability:\n",
    "\\begin{equation}\n",
    "    k_{r1} = (s_l)^{0.5}[1 - (1 - (s_l)^{\\frac{1}{m}})^{m}]^{2}\n",
    "\\end{equation}\n",
    "\n",
    "where, $S_*$ - Retention curve for unfrozen liquid-gas phase, $S_r$ (-) - Residual saturation, $P_c$ (Pa) - Capillary pressure, and $\\alpha$ ($Pa^{-1}$), and m = 1 - 1/n - model parameters, $s_l$ = saturation of liquid\n",
    "\n",
    "The saturation of liquid and gas is equal to 1, i.e,\n",
    "\n",
    "$s_l + s_g = 1$\n",
    "\n",
    "\n",
    "\n",
    "\n",
    "\n",
    "\n",
    "The exponent m controls the shape of the soil retention curve and can be related to the pore size distribution of the texture, where larger values corresponds to smaller pore size variability i.e. to well-sorted textures.\n",
    "\n",
    "Combined with the Mualem (1976) model for re-scaling liquid phase permeability:\n",
    "\\begin{equation}\n",
    "    k_{r1} = (s_l)^{0.5}[1 - (1 - (s_l)^{\\frac{1}{m}})^{m}]^{2}\n",
    "\\end{equation}\n",
    "\n",
    "\n",
    "$s_l = S_* [-\\beta \\rho_i h_0 \\upsilon H (-\\upsilon) + (S_*)^{-1} (s_l + s_i)]$\n",
    " - However this equation includes the ice phase! - What is the equation used by the demo problem?\n",
    "\n",
    "Author: Ethan Coon (Initial code) and Radhakrishna"
   ]
  },
  {
   "cell_type": "code",
   "execution_count": 1,
   "metadata": {},
   "outputs": [],
   "source": [
    "%matplotlib inline"
   ]
  },
  {
   "cell_type": "code",
   "execution_count": 2,
   "metadata": {},
   "outputs": [],
   "source": [
    "import sys,os\n",
    "sys.path.append(os.path.join(os.environ['ATS_SRC_DIR'],'tools', 'utils'))\n",
    "import ats_xdmf\n",
    "import plot_column_data\n",
    "import numpy as np\n",
    "from matplotlib import pyplot as plt\n",
    "import h5py\n",
    "import pandas as pd\n",
    "import xml.etree.ElementTree as ET"
   ]
  },
  {
   "cell_type": "code",
   "execution_count": 3,
   "metadata": {},
   "outputs": [],
   "source": [
    "import warnings\n",
    "\n",
    "warnings.filterwarnings('ignore')"
   ]
  },
  {
   "cell_type": "code",
   "execution_count": 5,
   "metadata": {},
   "outputs": [],
   "source": [
    "file_name = 'exfiltration_evap_trans.demo'\n",
    "input_filename = 'exfiltration_evap_trans.xml'"
   ]
  },
  {
   "cell_type": "code",
   "execution_count": 6,
   "metadata": {},
   "outputs": [],
   "source": [
    "# load the ATS solution\n",
    "directory = f\"./{file_name}/\"\n",
    "vis = ats_xdmf.VisFile(directory)\n",
    "vis.loadMesh(columnar=True)\n"
   ]
  },
  {
   "cell_type": "markdown",
   "metadata": {},
   "source": [
    " - Lighter color signifies earlier time steps. "
   ]
  },
  {
   "cell_type": "markdown",
   "metadata": {},
   "source": [
    "VGC parameters: alpha = 0.00015, m = 0.8, w_res = 0"
   ]
  },
  {
   "cell_type": "code",
   "execution_count": 7,
   "metadata": {},
   "outputs": [
    {
     "data": {
      "image/png": "[encoded data removed]",
      "text/plain": [
       "<Figure size 576x432 with 2 Axes>"
      ]
     },
     "metadata": {
      "needs_background": "light"
     },
     "output_type": "display_data"
    }
   ],
   "source": [
    "# plot the solution\n",
    "fig = plt.figure(figsize=(8,6))\n",
    "axs = fig.subplots(1,2)\n",
    "plot_column_data.plot_subsurface(vis, ['saturation_liquid',], axs[0], None, 'b')\n",
    "plot_column_data.plot_subsurface(vis, ['pressure',], axs[1], None, 'r')\n",
    "axs[1].ticklabel_format(style='sci', axis='x', scilimits=(0,0))\n",
    "axs[0].set_xlabel('saturation [-]')\n",
    "axs[0].set_ylabel('z [m]')\n",
    "axs[1].set_xlabel('pressure [Pa]')\n",
    "axs[1].set_ylabel('z [m]')\n",
    "plt.tight_layout()\n",
    "plt.show()"
   ]
  },
  {
   "cell_type": "code",
   "execution_count": 75,
   "metadata": {},
   "outputs": [],
   "source": [
    "def plot(dirname, title):\n",
    "    \"\"\"A generic plotting function that plots saturation as a function of depth.\"\"\"\n",
    "    fig = plt.figure()\n",
    "\n",
    "    vis = ats_xdmf.VisFile(dirname, time_unit='d')\n",
    "    vis.loadMesh(columnar=True)\n",
    "    \n",
    "    # plot the solution\n",
    "    ax = fig.subplots(1,1)\n",
    "    plot_column_data.plot_subsurface(vis, ['saturation_liquid',], ax, None, cmap='jet')\n",
    "\n",
    "    ax.set_xlabel('saturation [-]')\n",
    "    ax.set_ylabel('z [m]')"
   ]
  },
  {
   "cell_type": "markdown",
   "metadata": {},
   "source": [
    "Plot by Author - Ethan coon - The first example simply looks at infiltrating into a column, slowly filling up the subsurface.  Note that the color scheme goes from the initial condition in blue to later times in red."
   ]
  },
  {
   "cell_type": "code",
   "execution_count": 76,
   "metadata": {},
   "outputs": [
    {
     "data": {
      "image/png": "[encoded data removed]",
      "text/plain": [
       "<Figure size 432x288 with 1 Axes>"
      ]
     },
     "metadata": {
      "needs_background": "light"
     },
     "output_type": "display_data"
    }
   ],
   "source": [
    "plot(f\"{file_name}/\", \"infiltration to seepage face\")"
   ]
  },
  {
   "cell_type": "markdown",
   "metadata": {},
   "source": [
    "### RK - work"
   ]
  },
  {
   "cell_type": "code",
   "execution_count": 77,
   "metadata": {},
   "outputs": [
    {
     "name": "stdout",
     "output_type": "stream",
     "text": [
      "List of datasets in this file: \n",
      " \n",
      " ['base_porosity.cell.0', 'capillary_pressure_gas_liq.cell.0', 'cell_volume.cell.0', 'darcy_velocity.cell.0', 'darcy_velocity.cell.1', 'darcy_velocity.cell.2', 'mass_density_liquid.cell.0', 'molar_density_liquid.cell.0', 'permeability.cell.0', 'porosity.cell.0', 'pressure.cell.0', 'relative_permeability.cell.0', 'saturation_gas.cell.0', 'saturation_liquid.cell.0', 'viscosity_liquid.cell.0', 'water_content.cell.0']\n",
      "\n",
      "\n",
      "<HDF5 group \"/base_porosity.cell.0\" (11 members)>\n"
     ]
    }
   ],
   "source": [
    "with h5py.File(f'{file_name}/ats_vis_data.h5','r') as hdf:\n",
    "    ls = list(hdf.keys())\n",
    "    print('List of datasets in this file: \\n \\n', ls)\n",
    "    print('\\n')\n",
    "    porosity = hdf.get('base_porosity.cell.0')\n",
    "    print(porosity)"
   ]
  },
  {
   "cell_type": "code",
   "execution_count": 78,
   "metadata": {},
   "outputs": [],
   "source": [
    "def inputfiles_pddataframes(file_name,t):\n",
    "    \"\"\"\n",
    "    The function is defined to read the input files from the ats simulation. \n",
    "    For each time instance, a dataframe can store the data.\n",
    " \n",
    "    Parameters\n",
    "    ------\n",
    "    \n",
    "    Input parameters:\n",
    "    \n",
    "    file_name : Provide the path to access the file name. \n",
    "    Ex: 'richards_steadystate.demo/ats_vis_data.h5'\n",
    "    \n",
    "    t : The time instance at which the data is required.\n",
    "    Ex: cell_volume.cell.0/{t} - here 0/0 - signifies the first directory (with data at t=0), \n",
    "    similary 0/1 - signifies the second directory (with data at t=1).\n",
    "            \n",
    "    Output parameters:\n",
    "    \n",
    "    data_results : pandas dataframe with all the key elements of the simulation.\n",
    "    \n",
    "    \"\"\"\n",
    "    \n",
    "    with h5py.File(file_name,'r') as hdf:\n",
    "        # Cell_volume\n",
    "        cell_volume_all = np.array(hdf.get(f'cell_volume.cell.0/{t}'))\n",
    "        cell_volume = cell_volume_all.flatten()\n",
    "\n",
    "        # Storing the variables/constants in a dataframe - Do we have a direct function to do this? \n",
    "        # Can we simplify the code?\n",
    "        z = np.arange(0.0,10.0,0.1)\n",
    "        data_results = pd.DataFrame(index=z,data=cell_volume,columns=['cell_volume'])\n",
    "\n",
    "        mass_density_all = np.array(hdf.get(f'mass_density_liquid.cell.0/{t}'))\n",
    "        mass_density = mass_density_all.flatten()\n",
    "        data_results['mass_density [rho_l] [kg m^{-3}]'] = mass_density\n",
    "\n",
    "\n",
    "\n",
    "        molar_density_all = np.array(hdf.get(f'molar_density_liquid.cell.0/{t}'))\n",
    "        molar_density = molar_density_all.flatten()\n",
    "        data_results['molar_density [n_l] [mol m^{-3}]'] = molar_density\n",
    "\n",
    "\n",
    "        permeability_all = np.array(hdf.get(f'permeability.cell.0/{t}'))\n",
    "        permeability = permeability_all.flatten()\n",
    "        data_results['Absolute permeability [K] (m^{2})'] = permeability\n",
    "\n",
    "\n",
    "\n",
    "        porosity_all = np.array(hdf.get(f'porosity.cell.0/{t}'))\n",
    "        porosity = porosity_all.flatten()\n",
    "        data_results['Porosity [phi] (-)'] = porosity\n",
    "\n",
    "        pressure_all = np.array(hdf.get(f'pressure.cell.0/{t}'))\n",
    "        pressure = pressure_all.flatten()\n",
    "        data_results['Abs pressure [p_abs] [Pa]'] = pressure \n",
    "        # Water pressure or total pressure (Atm + water)? - Probably both\n",
    "\n",
    "        relative_permeability_all = np.array(hdf.get(f'relative_permeability.cell.0/{t}'))\n",
    "        relative_permeability = relative_permeability_all.flatten()\n",
    "        data_results['Relative permeability [kr] [-]'] = relative_permeability\n",
    "\n",
    "\n",
    "        saturation_gas_all = np.array(hdf.get(f'saturation_gas.cell.0/{t}'))\n",
    "        saturation_gas = saturation_gas_all.flatten()\n",
    "        data_results['Saturation of gas [s_g] [-]'] = saturation_gas\n",
    "\n",
    "\n",
    "        saturation_liquid_all = np.array(hdf.get(f'saturation_liquid.cell.0/{t}'))\n",
    "        saturation_liquid = saturation_liquid_all.flatten()\n",
    "        data_results['Saturation of liquid [s_l] [-]'] = saturation_liquid\n",
    "\n",
    "\n",
    "        #temperature_all = np.array(hdf.get(f'temperature.cell.0/{t}'))\n",
    "        #temperature = temperature_all.flatten()\n",
    "        #data_results['Temperature [T] [K]'] = temperature\n",
    "\n",
    "\n",
    "        viscosity_liquid_all = np.array(hdf.get(f'viscosity_liquid.cell.0/{t}'))\n",
    "        viscosity_liquid = viscosity_liquid_all.flatten()\n",
    "        data_results['viscosity_liquid [v] Pas]'] = viscosity_liquid\n",
    "\n",
    "\n",
    "        water_content_all = np.array(hdf.get(f'water_content.cell.0/{t}'))\n",
    "        water_content = water_content_all.flatten()\n",
    "        data_results['water_content [theta] mols'] = water_content\n",
    "        \n",
    "        return data_results"
   ]
  },
  {
   "cell_type": "code",
   "execution_count": 79,
   "metadata": {},
   "outputs": [
    {
     "name": "stdout",
     "output_type": "stream",
     "text": [
      "[  0 100 101 102 103 104  94  96  97  98  99]\n"
     ]
    }
   ],
   "source": [
    "# Determining the time instances at which the data is stored\n",
    "\n",
    "with h5py.File(f'{file_name}/ats_vis_data.h5','r') as hdf:\n",
    "        # Cell_volume\n",
    "        cell_volume_all = np.array(hdf.get(f'cell_volume.cell.0'))\n",
    "        time_period = cell_volume_all.astype('int64')\n",
    "        print(time_period)\n",
    "        # Time series stored in an irregular format! - \n",
    "        # ['0' '100' '103' '104' '105' '106' '107' '108' '109' '110' '111']"
   ]
  },
  {
   "cell_type": "markdown",
   "metadata": {},
   "source": [
    "### Storing the data for all time instances"
   ]
  },
  {
   "cell_type": "code",
   "execution_count": 80,
   "metadata": {},
   "outputs": [],
   "source": [
    "for i in time_period:\n",
    "    # https://stackoverflow.com/questions/1060090/changing-variable-names-with-python-for-loops\n",
    "    locals()[\"data_results_\"+str(i)] = inputfiles_pddataframes(file_name=f'{file_name}/ats_vis_data.h5', t=i)"
   ]
  },
  {
   "cell_type": "markdown",
   "metadata": {},
   "source": [
    "### Plotting the initial pressure:"
   ]
  },
  {
   "cell_type": "code",
   "execution_count": 81,
   "metadata": {},
   "outputs": [
    {
     "data": {
      "text/plain": [
       "0.0    140061.2675\n",
       "0.1    139080.6025\n",
       "0.2    138099.9375\n",
       "0.3    137119.2725\n",
       "0.4    136138.6075\n",
       "          ...     \n",
       "9.5     46898.0925\n",
       "9.6     45917.4275\n",
       "9.7     44936.7625\n",
       "9.8     43956.0975\n",
       "9.9     42975.4325\n",
       "Name: Abs pressure [p_abs] [Pa], Length: 100, dtype: float64"
      ]
     },
     "execution_count": 81,
     "metadata": {},
     "output_type": "execute_result"
    }
   ],
   "source": [
    "data_results_0['Abs pressure [p_abs] [Pa]']"
   ]
  },
  {
   "cell_type": "code",
   "execution_count": 82,
   "metadata": {},
   "outputs": [
    {
     "data": {
      "text/html": [
       "<div>\n",
       "<style scoped>\n",
       "    .dataframe tbody tr th:only-of-type {\n",
       "        vertical-align: middle;\n",
       "    }\n",
       "\n",
       "    .dataframe tbody tr th {\n",
       "        vertical-align: top;\n",
       "    }\n",
       "\n",
       "    .dataframe thead th {\n",
       "        text-align: right;\n",
       "    }\n",
       "</style>\n",
       "<table border=\"1\" class=\"dataframe\">\n",
       "  <thead>\n",
       "    <tr style=\"text-align: right;\">\n",
       "      <th></th>\n",
       "      <th>cell_volume</th>\n",
       "      <th>mass_density [rho_l] [kg m^{-3}]</th>\n",
       "      <th>molar_density [n_l] [mol m^{-3}]</th>\n",
       "      <th>Absolute permeability [K] (m^{2})</th>\n",
       "      <th>Porosity [phi] (-)</th>\n",
       "      <th>Abs pressure [p_abs] [Pa]</th>\n",
       "      <th>Relative permeability [kr] [-]</th>\n",
       "      <th>Saturation of gas [s_g] [-]</th>\n",
       "      <th>Saturation of liquid [s_l] [-]</th>\n",
       "      <th>viscosity_liquid [v] Pas]</th>\n",
       "      <th>water_content [theta] mols</th>\n",
       "      <th>Water pressure [p_l] [Pa]</th>\n",
       "      <th>Pressure head [m]</th>\n",
       "      <th>Elevation head [m]</th>\n",
       "      <th>Hydraulic head [m]</th>\n",
       "      <th>Atmospheric pressure head [m]</th>\n",
       "    </tr>\n",
       "  </thead>\n",
       "  <tbody>\n",
       "    <tr>\n",
       "      <th>0.0</th>\n",
       "      <td>0.1</td>\n",
       "      <td>1000.0</td>\n",
       "      <td>55000.0</td>\n",
       "      <td>2.500000e-12</td>\n",
       "      <td>0.250038</td>\n",
       "      <td>140061.2675</td>\n",
       "      <td>6.179775e+00</td>\n",
       "      <td>0.000000</td>\n",
       "      <td>1.000000</td>\n",
       "      <td>0.00089</td>\n",
       "      <td>1375.210299</td>\n",
       "      <td>38736.2675</td>\n",
       "      <td>3.952438</td>\n",
       "      <td>0.0</td>\n",
       "      <td>3.952438</td>\n",
       "      <td>10.338653</td>\n",
       "    </tr>\n",
       "    <tr>\n",
       "      <th>0.1</th>\n",
       "      <td>0.1</td>\n",
       "      <td>1000.0</td>\n",
       "      <td>55000.0</td>\n",
       "      <td>2.500000e-12</td>\n",
       "      <td>0.250037</td>\n",
       "      <td>139080.6025</td>\n",
       "      <td>6.179775e+00</td>\n",
       "      <td>0.000000</td>\n",
       "      <td>1.000000</td>\n",
       "      <td>0.00089</td>\n",
       "      <td>1375.204906</td>\n",
       "      <td>37755.6025</td>\n",
       "      <td>3.852377</td>\n",
       "      <td>0.1</td>\n",
       "      <td>3.952377</td>\n",
       "      <td>10.338653</td>\n",
       "    </tr>\n",
       "    <tr>\n",
       "      <th>0.2</th>\n",
       "      <td>0.1</td>\n",
       "      <td>1000.0</td>\n",
       "      <td>55000.0</td>\n",
       "      <td>2.500000e-12</td>\n",
       "      <td>0.250036</td>\n",
       "      <td>138099.9375</td>\n",
       "      <td>6.179775e+00</td>\n",
       "      <td>0.000000</td>\n",
       "      <td>1.000000</td>\n",
       "      <td>0.00089</td>\n",
       "      <td>1375.199512</td>\n",
       "      <td>36774.9375</td>\n",
       "      <td>3.752315</td>\n",
       "      <td>0.2</td>\n",
       "      <td>3.952315</td>\n",
       "      <td>10.338653</td>\n",
       "    </tr>\n",
       "    <tr>\n",
       "      <th>0.3</th>\n",
       "      <td>0.1</td>\n",
       "      <td>1000.0</td>\n",
       "      <td>55000.0</td>\n",
       "      <td>2.500000e-12</td>\n",
       "      <td>0.250035</td>\n",
       "      <td>137119.2725</td>\n",
       "      <td>6.179775e+00</td>\n",
       "      <td>0.000000</td>\n",
       "      <td>1.000000</td>\n",
       "      <td>0.00089</td>\n",
       "      <td>1375.194118</td>\n",
       "      <td>35794.2725</td>\n",
       "      <td>3.652253</td>\n",
       "      <td>0.3</td>\n",
       "      <td>3.952253</td>\n",
       "      <td>10.338653</td>\n",
       "    </tr>\n",
       "    <tr>\n",
       "      <th>0.4</th>\n",
       "      <td>0.1</td>\n",
       "      <td>1000.0</td>\n",
       "      <td>55000.0</td>\n",
       "      <td>2.500000e-12</td>\n",
       "      <td>0.250034</td>\n",
       "      <td>136138.6075</td>\n",
       "      <td>6.179775e+00</td>\n",
       "      <td>0.000000</td>\n",
       "      <td>1.000000</td>\n",
       "      <td>0.00089</td>\n",
       "      <td>1375.188725</td>\n",
       "      <td>34813.6075</td>\n",
       "      <td>3.552191</td>\n",
       "      <td>0.4</td>\n",
       "      <td>3.952191</td>\n",
       "      <td>10.338653</td>\n",
       "    </tr>\n",
       "    <tr>\n",
       "      <th>...</th>\n",
       "      <td>...</td>\n",
       "      <td>...</td>\n",
       "      <td>...</td>\n",
       "      <td>...</td>\n",
       "      <td>...</td>\n",
       "      <td>...</td>\n",
       "      <td>...</td>\n",
       "      <td>...</td>\n",
       "      <td>...</td>\n",
       "      <td>...</td>\n",
       "      <td>...</td>\n",
       "      <td>...</td>\n",
       "      <td>...</td>\n",
       "      <td>...</td>\n",
       "      <td>...</td>\n",
       "      <td>...</td>\n",
       "    </tr>\n",
       "    <tr>\n",
       "      <th>9.5</th>\n",
       "      <td>0.1</td>\n",
       "      <td>1000.0</td>\n",
       "      <td>55000.0</td>\n",
       "      <td>2.500000e-12</td>\n",
       "      <td>0.250000</td>\n",
       "      <td>46898.0925</td>\n",
       "      <td>4.510943e-11</td>\n",
       "      <td>0.999775</td>\n",
       "      <td>0.000225</td>\n",
       "      <td>0.00089</td>\n",
       "      <td>0.309509</td>\n",
       "      <td>-54426.9075</td>\n",
       "      <td>-5.553426</td>\n",
       "      <td>9.5</td>\n",
       "      <td>3.946574</td>\n",
       "      <td>10.338653</td>\n",
       "    </tr>\n",
       "    <tr>\n",
       "      <th>9.6</th>\n",
       "      <td>0.1</td>\n",
       "      <td>1000.0</td>\n",
       "      <td>55000.0</td>\n",
       "      <td>2.500000e-12</td>\n",
       "      <td>0.250000</td>\n",
       "      <td>45917.4275</td>\n",
       "      <td>3.640860e-11</td>\n",
       "      <td>0.999790</td>\n",
       "      <td>0.000210</td>\n",
       "      <td>0.00089</td>\n",
       "      <td>0.288172</td>\n",
       "      <td>-55407.5725</td>\n",
       "      <td>-5.653488</td>\n",
       "      <td>9.6</td>\n",
       "      <td>3.946512</td>\n",
       "      <td>10.338653</td>\n",
       "    </tr>\n",
       "    <tr>\n",
       "      <th>9.7</th>\n",
       "      <td>0.1</td>\n",
       "      <td>1000.0</td>\n",
       "      <td>55000.0</td>\n",
       "      <td>2.500000e-12</td>\n",
       "      <td>0.250000</td>\n",
       "      <td>44936.7625</td>\n",
       "      <td>2.949669e-11</td>\n",
       "      <td>0.999805</td>\n",
       "      <td>0.000195</td>\n",
       "      <td>0.00089</td>\n",
       "      <td>0.268643</td>\n",
       "      <td>-56388.2375</td>\n",
       "      <td>-5.753550</td>\n",
       "      <td>9.7</td>\n",
       "      <td>3.946450</td>\n",
       "      <td>10.338653</td>\n",
       "    </tr>\n",
       "    <tr>\n",
       "      <th>9.8</th>\n",
       "      <td>0.1</td>\n",
       "      <td>1000.0</td>\n",
       "      <td>55000.0</td>\n",
       "      <td>2.500000e-12</td>\n",
       "      <td>0.250000</td>\n",
       "      <td>43956.0975</td>\n",
       "      <td>2.398384e-11</td>\n",
       "      <td>0.999818</td>\n",
       "      <td>0.000182</td>\n",
       "      <td>0.00089</td>\n",
       "      <td>0.250740</td>\n",
       "      <td>-57368.9025</td>\n",
       "      <td>-5.853611</td>\n",
       "      <td>9.8</td>\n",
       "      <td>3.946389</td>\n",
       "      <td>10.338653</td>\n",
       "    </tr>\n",
       "    <tr>\n",
       "      <th>9.9</th>\n",
       "      <td>0.1</td>\n",
       "      <td>1000.0</td>\n",
       "      <td>55000.0</td>\n",
       "      <td>2.500000e-12</td>\n",
       "      <td>0.250000</td>\n",
       "      <td>42975.4325</td>\n",
       "      <td>1.956984e-11</td>\n",
       "      <td>0.999830</td>\n",
       "      <td>0.000170</td>\n",
       "      <td>0.00089</td>\n",
       "      <td>0.234304</td>\n",
       "      <td>-58349.5675</td>\n",
       "      <td>-5.953673</td>\n",
       "      <td>9.9</td>\n",
       "      <td>3.946327</td>\n",
       "      <td>10.338653</td>\n",
       "    </tr>\n",
       "  </tbody>\n",
       "</table>\n",
       "<p>100 rows × 16 columns</p>\n",
       "</div>"
      ],
      "text/plain": [
       "     cell_volume  mass_density [rho_l] [kg m^{-3}]  \\\n",
       "0.0          0.1                            1000.0   \n",
       "0.1          0.1                            1000.0   \n",
       "0.2          0.1                            1000.0   \n",
       "0.3          0.1                            1000.0   \n",
       "0.4          0.1                            1000.0   \n",
       "..           ...                               ...   \n",
       "9.5          0.1                            1000.0   \n",
       "9.6          0.1                            1000.0   \n",
       "9.7          0.1                            1000.0   \n",
       "9.8          0.1                            1000.0   \n",
       "9.9          0.1                            1000.0   \n",
       "\n",
       "     molar_density [n_l] [mol m^{-3}]  Absolute permeability [K] (m^{2})  \\\n",
       "0.0                           55000.0                       2.500000e-12   \n",
       "0.1                           55000.0                       2.500000e-12   \n",
       "0.2                           55000.0                       2.500000e-12   \n",
       "0.3                           55000.0                       2.500000e-12   \n",
       "0.4                           55000.0                       2.500000e-12   \n",
       "..                                ...                                ...   \n",
       "9.5                           55000.0                       2.500000e-12   \n",
       "9.6                           55000.0                       2.500000e-12   \n",
       "9.7                           55000.0                       2.500000e-12   \n",
       "9.8                           55000.0                       2.500000e-12   \n",
       "9.9                           55000.0                       2.500000e-12   \n",
       "\n",
       "     Porosity [phi] (-)  Abs pressure [p_abs] [Pa]  \\\n",
       "0.0            0.250038                140061.2675   \n",
       "0.1            0.250037                139080.6025   \n",
       "0.2            0.250036                138099.9375   \n",
       "0.3            0.250035                137119.2725   \n",
       "0.4            0.250034                136138.6075   \n",
       "..                  ...                        ...   \n",
       "9.5            0.250000                 46898.0925   \n",
       "9.6            0.250000                 45917.4275   \n",
       "9.7            0.250000                 44936.7625   \n",
       "9.8            0.250000                 43956.0975   \n",
       "9.9            0.250000                 42975.4325   \n",
       "\n",
       "     Relative permeability [kr] [-]  Saturation of gas [s_g] [-]  \\\n",
       "0.0                    6.179775e+00                     0.000000   \n",
       "0.1                    6.179775e+00                     0.000000   \n",
       "0.2                    6.179775e+00                     0.000000   \n",
       "0.3                    6.179775e+00                     0.000000   \n",
       "0.4                    6.179775e+00                     0.000000   \n",
       "..                              ...                          ...   \n",
       "9.5                    4.510943e-11                     0.999775   \n",
       "9.6                    3.640860e-11                     0.999790   \n",
       "9.7                    2.949669e-11                     0.999805   \n",
       "9.8                    2.398384e-11                     0.999818   \n",
       "9.9                    1.956984e-11                     0.999830   \n",
       "\n",
       "     Saturation of liquid [s_l] [-]  viscosity_liquid [v] Pas]  \\\n",
       "0.0                        1.000000                    0.00089   \n",
       "0.1                        1.000000                    0.00089   \n",
       "0.2                        1.000000                    0.00089   \n",
       "0.3                        1.000000                    0.00089   \n",
       "0.4                        1.000000                    0.00089   \n",
       "..                              ...                        ...   \n",
       "9.5                        0.000225                    0.00089   \n",
       "9.6                        0.000210                    0.00089   \n",
       "9.7                        0.000195                    0.00089   \n",
       "9.8                        0.000182                    0.00089   \n",
       "9.9                        0.000170                    0.00089   \n",
       "\n",
       "     water_content [theta] mols  Water pressure [p_l] [Pa]  Pressure head [m]  \\\n",
       "0.0                 1375.210299                 38736.2675           3.952438   \n",
       "0.1                 1375.204906                 37755.6025           3.852377   \n",
       "0.2                 1375.199512                 36774.9375           3.752315   \n",
       "0.3                 1375.194118                 35794.2725           3.652253   \n",
       "0.4                 1375.188725                 34813.6075           3.552191   \n",
       "..                          ...                        ...                ...   \n",
       "9.5                    0.309509                -54426.9075          -5.553426   \n",
       "9.6                    0.288172                -55407.5725          -5.653488   \n",
       "9.7                    0.268643                -56388.2375          -5.753550   \n",
       "9.8                    0.250740                -57368.9025          -5.853611   \n",
       "9.9                    0.234304                -58349.5675          -5.953673   \n",
       "\n",
       "     Elevation head [m]  Hydraulic head [m]  Atmospheric pressure head [m]  \n",
       "0.0                 0.0            3.952438                      10.338653  \n",
       "0.1                 0.1            3.952377                      10.338653  \n",
       "0.2                 0.2            3.952315                      10.338653  \n",
       "0.3                 0.3            3.952253                      10.338653  \n",
       "0.4                 0.4            3.952191                      10.338653  \n",
       "..                  ...                 ...                            ...  \n",
       "9.5                 9.5            3.946574                      10.338653  \n",
       "9.6                 9.6            3.946512                      10.338653  \n",
       "9.7                 9.7            3.946450                      10.338653  \n",
       "9.8                 9.8            3.946389                      10.338653  \n",
       "9.9                 9.9            3.946327                      10.338653  \n",
       "\n",
       "[100 rows x 16 columns]"
      ]
     },
     "execution_count": 82,
     "metadata": {},
     "output_type": "execute_result"
    }
   ],
   "source": [
    "rho_avg = 1000 # kg m^{-3} - Provided by the developer \n",
    "g = 9.8006 # ms^{-2} - Provided by the user, g = (0,0,-9.8006m ms^{-2})\n",
    "p_0 = 101325 # Pa\n",
    "\n",
    "# Calculating the water pressure = p_abs -p_0\n",
    "data_results_0['Water pressure [p_l] [Pa]'] = data_results_0['Abs pressure [p_abs] [Pa]'] - p_0\n",
    "\n",
    "data_results_0['Pressure head [m]'] = data_results_0['Water pressure [p_l] [Pa]']/(rho_avg*g)\n",
    "\n",
    "data_results_0['Elevation head [m]'] = data_results_0.index\n",
    "\n",
    "data_results_0['Hydraulic head [m]'] = data_results_0['Pressure head [m]'] + data_results_0['Elevation head [m]']\n",
    "\n",
    "data_results_0['Atmospheric pressure head [m]'] = 101325/(rho_avg*g)\n",
    "\n",
    "data_results_0"
   ]
  },
  {
   "cell_type": "code",
   "execution_count": 83,
   "metadata": {},
   "outputs": [
    {
     "data": {
      "image/png": "[encoded data removed]",
      "text/plain": [
       "<Figure size 576x432 with 1 Axes>"
      ]
     },
     "metadata": {
      "needs_background": "light"
     },
     "output_type": "display_data"
    }
   ],
   "source": [
    "# To find the elevation where -ve pressure head begins\n",
    "z_drop = data_results_0[data_results_0['Pressure head [m]'].le(0)].index[0]\n",
    "\n",
    "z = np.arange(0,10,0.1)\n",
    "\n",
    "fig = plt.figure(figsize=(8,6))\n",
    "\n",
    "plt.title('Hydraulic, Elevation, Pressure, Atmospheric pressure head - in 1-D soil column')\n",
    "plt.plot(data_results_0['Abs pressure [p_abs] [Pa]']/(rho_avg*g), z, 'y', label='Absolute Pressure head [m]')\n",
    "plt.plot(data_results_0['Pressure head [m]'], z, 'r', label='Water pressure head [m]')\n",
    "plt.plot(data_results_0['Elevation head [m]'], z, 'g', label='Elevation head [m]')\n",
    "plt.plot(data_results_0['Hydraulic head [m]'], z, 'b', label='Hydraulic head [m]')\n",
    "plt.plot(data_results_0['Atmospheric pressure head [m]'], z, 'k', label='Atmospheric pressure head [m]')\n",
    "plt.axhline(y=z_drop,color='k',linestyle='--',label=f'z_drop = {z_drop}')\n",
    "plt.ylabel('z [m]')\n",
    "plt.xlabel(' Heads [m]')\n",
    "plt.legend()\n",
    "plt.tight_layout()\n",
    "plt.show()"
   ]
  },
  {
   "cell_type": "markdown",
   "metadata": {},
   "source": [
    "### Plotting relative permeability"
   ]
  },
  {
   "cell_type": "code",
   "execution_count": 84,
   "metadata": {},
   "outputs": [
    {
     "data": {
      "image/png": "[encoded data removed]",
      "text/plain": [
       "<Figure size 432x432 with 1 Axes>"
      ]
     },
     "metadata": {
      "needs_background": "light"
     },
     "output_type": "display_data"
    }
   ],
   "source": [
    "fig = plt.figure(figsize=(6,6))\n",
    "\n",
    "plt.title('Relative permeability - Upwind with Darcy flux (initial)')\n",
    "plt.plot(data_results_0['Relative permeability [kr] [-]'],z, 'b')\n",
    "\n",
    "plt.xlabel('Relative permeability [kr] [-]')\n",
    "plt.ylabel(' Elevation [m]')\n",
    "plt.tight_layout()\n",
    "#plt.show()"
   ]
  },
  {
   "cell_type": "markdown",
   "metadata": {},
   "source": [
    "#### Calculating the saturation based on VanGenuchten's model\n"
   ]
  },
  {
   "cell_type": "code",
   "execution_count": 85,
   "metadata": {},
   "outputs": [],
   "source": [
    "# data_results_VGC = pd.DataFrame(data=data_results['Water pressure [p] [Pa]'].values,index="
   ]
  },
  {
   "cell_type": "code",
   "execution_count": 86,
   "metadata": {},
   "outputs": [],
   "source": [
    "#data_results_VGC['ad'] = data_results['Water pressure [p] [Pa]']*10"
   ]
  },
  {
   "cell_type": "code",
   "execution_count": 87,
   "metadata": {},
   "outputs": [],
   "source": [
    "##### Parameters that we assigned:\n",
    "#alpha = 0.00015\n",
    "#m = 0.8\n",
    "#Sr = 0\n",
    "#n = 1/(1-m)\n",
    "#data_results_VGC = data_results.copy()\n",
    "#data_results_VGC['S_*'] = Sr + (1 - Sr) * pow(1 + pow(alpha*data_results_VGC['Water pressure [p] [Pa]'],n),(-m))\n",
    "#data_results_VGC['S_*(Pc)'] =  pow(1 + pow(alpha * data_results['Water pressure [p] [Pa]'],n),(-m))\n"
   ]
  },
  {
   "cell_type": "markdown",
   "metadata": {},
   "source": [
    "How do you find out saturation of the liquid?"
   ]
  },
  {
   "cell_type": "markdown",
   "metadata": {},
   "source": [
    "### Plotting initial saturation :"
   ]
  },
  {
   "cell_type": "code",
   "execution_count": 88,
   "metadata": {},
   "outputs": [
    {
     "data": {
      "text/plain": [
       "<matplotlib.legend.Legend at 0x7f0f64b32370>"
      ]
     },
     "execution_count": 88,
     "metadata": {},
     "output_type": "execute_result"
    },
    {
     "data": {
      "image/png": "[encoded data removed]",
      "text/plain": [
       "<Figure size 432x432 with 1 Axes>"
      ]
     },
     "metadata": {
      "needs_background": "light"
     },
     "output_type": "display_data"
    }
   ],
   "source": [
    "fig = plt.figure(figsize=(6,6))\n",
    "\n",
    "plt.title('Saturation (initial)')\n",
    "plt.plot(data_results_0['Saturation of liquid [s_l] [-]'], z, 'b', label='Saturation of liquid')\n",
    "plt.plot(data_results_0['Saturation of gas [s_g] [-]'], z, 'r', label='Saturation of gas')\n",
    "\n",
    "plt.xlabel('Saturation [-]')\n",
    "plt.ylabel(' Elevation [m]')\n",
    "plt.tight_layout()\n",
    "plt.legend()\n",
    "#plt.show()"
   ]
  },
  {
   "cell_type": "code",
   "execution_count": 89,
   "metadata": {},
   "outputs": [],
   "source": [
    "### Plotting Richards water content"
   ]
  },
  {
   "cell_type": "code",
   "execution_count": 90,
   "metadata": {},
   "outputs": [
    {
     "data": {
      "image/png": "[encoded data removed]",
      "text/plain": [
       "<Figure size 432x432 with 1 Axes>"
      ]
     },
     "metadata": {
      "needs_background": "light"
     },
     "output_type": "display_data"
    }
   ],
   "source": [
    "fig = plt.figure(figsize=(6,6))\n",
    "\n",
    "plt.title('Richards water content (theta) (initial)')\n",
    "plt.plot(data_results_0['water_content [theta] mols'],z, 'b')\n",
    "\n",
    "plt.xlabel('water_content [theta] [mols]')\n",
    "plt.ylabel(' Elevation [m]')\n",
    "plt.tight_layout()\n",
    "#plt.show()"
   ]
  },
  {
   "cell_type": "markdown",
   "metadata": {},
   "source": [
    "### Plotting the saturation results"
   ]
  },
  {
   "cell_type": "code",
   "execution_count": 106,
   "metadata": {},
   "outputs": [
    {
     "name": "stdout",
     "output_type": "stream",
     "text": [
      "[  0 100 101 102 103 104  94  96  97  98  99]\n"
     ]
    }
   ],
   "source": [
    "print(time_period.sort)"
   ]
  },
  {
   "cell_type": "code",
   "execution_count": 107,
   "metadata": {},
   "outputs": [
    {
     "name": "stdout",
     "output_type": "stream",
     "text": [
      "[  0  94  96  97  98  99 100 101 102 103 104]\n"
     ]
    }
   ],
   "source": [
    "with h5py.File(f'{file_name}/ats_vis_data.h5','r') as hdf:\n",
    "        # Cell_volume\n",
    "        cell_volume_all = np.array(hdf.get(f'cell_volume.cell.0'))\n",
    "        time_period = cell_volume_all.astype('int64')\n",
    "        ### Sorting the dataframes \n",
    "        time_period.sort()\n",
    "        print(time_period)"
   ]
  },
  {
   "cell_type": "code",
   "execution_count": 108,
   "metadata": {},
   "outputs": [
    {
     "data": {
      "text/plain": [
       "'infiltration_prep_trans.demo'"
      ]
     },
     "execution_count": 108,
     "metadata": {},
     "output_type": "execute_result"
    }
   ],
   "source": [
    "file_name"
   ]
  },
  {
   "cell_type": "code",
   "execution_count": null,
   "metadata": {},
   "outputs": [],
   "source": [
    "        # Storing the variables/constants in a dataframe - Do we have a direct function to do this? \n",
    "        # Can we simplify the code?\n",
    "        z = np.arange(0.0,10.0,0.1)\n",
    "        data_var = pd.DataFrame(index=z,data=cell_volume,columns=[f'{variable}'])\n",
    "        print(data_var)"
   ]
  },
  {
   "cell_type": "code",
   "execution_count": 126,
   "metadata": {},
   "outputs": [
    {
     "data": {
      "text/plain": [
       "array([ 94,  96,  97,  98,  99, 100, 101, 102, 103, 104])"
      ]
     },
     "execution_count": 126,
     "metadata": {},
     "output_type": "execute_result"
    }
   ],
   "source": [
    "time_period[1:]"
   ]
  },
  {
   "cell_type": "code",
   "execution_count": 127,
   "metadata": {},
   "outputs": [],
   "source": [
    "variable = 'cell_volume'\n",
    "file_name = 'infiltration_prep_trans.demo'\n",
    "t = 1\n",
    "with h5py.File(f'{file_name}/ats_vis_data.h5','r') as hdf:\n",
    "        # Cell_volume\n",
    "        z = np.arange(0.0, 10, 0.1)\n",
    "        data_var = pd.DataFrame(index=z,data=var,columns=[f'{variable}-{0}'])\n",
    "        for i in time_period[1:]:\n",
    "            var_all = np.array(hdf.get(f'{variable}.cell.0/{i}'))\n",
    "            var = var_all.flatten()\n",
    "            \n",
    "            data_var[f'{i}'] = var\n",
    "            \n"
   ]
  },
  {
   "cell_type": "markdown",
   "metadata": {},
   "source": [
    "### Defining a dataframe that extracts the data for a single variable for all time instances"
   ]
  },
  {
   "cell_type": "code",
   "execution_count": 147,
   "metadata": {},
   "outputs": [],
   "source": [
    "def input_datavar(file_name, variable):\n",
    "    \"\"\"\n",
    "    The function defined to extract a variable across all time instances.\n",
    "    \n",
    "    Parameters\n",
    "    ------\n",
    "    \n",
    "    Input parameters:\n",
    "    \n",
    "    file_name : Provide the path to access the file name. \n",
    "    Ex: 'richards_steadystate.demo/ats_vis_data.h5'\n",
    "    \n",
    "    variable: Name of the variable in the dataset that you are interested in.\n",
    "    Ex: 'cell_volume'\n",
    "    \n",
    "    Output parameters:\n",
    "    \n",
    "    data_var : pandas dataframe with the time series data of the variable.\n",
    "    \n",
    "    \"\"\"\n",
    "    # To determine the time period and the list in which the dataframes \n",
    "    \n",
    "    with h5py.File(f'{file_name}/ats_vis_data.h5','r') as hdf:\n",
    "        # Cell_volume\n",
    "        cell_volume_all = np.array(hdf.get(f'cell_volume.cell.0'))\n",
    "        time_period = cell_volume_all.astype('int64')\n",
    "        ### Sorting the dataframes \n",
    "        time_period.sort()\n",
    "    \n",
    "    with h5py.File(f'{file_name}/ats_vis_data.h5','r') as hdf:\n",
    "        # Cell_volume\n",
    "        z = np.arange(0.0, 10, 0.1)\n",
    "        var_all_0 = np.array(hdf.get(f'{variable}.cell.0/0'))\n",
    "        var_0 = var_all_0.flatten()\n",
    "        data_var = pd.DataFrame(index=z,data=var_0,columns=[f'0'])\n",
    "        \n",
    "        for i in time_period[1:]:\n",
    "            var_all = np.array(hdf.get(f'{variable}.cell.0/{i}'))\n",
    "            var = var_all.flatten()\n",
    "            \n",
    "            data_var[f'{i}'] = var\n",
    "    \n",
    "    return data_var"
   ]
  },
  {
   "cell_type": "code",
   "execution_count": 148,
   "metadata": {},
   "outputs": [
    {
     "name": "stdout",
     "output_type": "stream",
     "text": [
      "List of datasets in this file: \n",
      " \n",
      " ['base_porosity.cell.0', 'capillary_pressure_gas_liq.cell.0', 'cell_volume.cell.0', 'darcy_velocity.cell.0', 'darcy_velocity.cell.1', 'darcy_velocity.cell.2', 'mass_density_liquid.cell.0', 'molar_density_liquid.cell.0', 'permeability.cell.0', 'porosity.cell.0', 'pressure.cell.0', 'relative_permeability.cell.0', 'saturation_gas.cell.0', 'saturation_liquid.cell.0', 'viscosity_liquid.cell.0', 'water_content.cell.0']\n",
      "\n",
      "\n",
      "<HDF5 group \"/base_porosity.cell.0\" (11 members)>\n"
     ]
    }
   ],
   "source": [
    "with h5py.File(f'{file_name}/ats_vis_data.h5','r') as hdf:\n",
    "    ls = list(hdf.keys())\n",
    "    print('List of datasets in this file: \\n \\n', ls)\n",
    "    print('\\n')\n",
    "    porosity = hdf.get('base_porosity.cell.0')\n",
    "    print(porosity)"
   ]
  },
  {
   "cell_type": "code",
   "execution_count": 158,
   "metadata": {},
   "outputs": [
    {
     "data": {
      "text/html": [
       "<div>\n",
       "<style scoped>\n",
       "    .dataframe tbody tr th:only-of-type {\n",
       "        vertical-align: middle;\n",
       "    }\n",
       "\n",
       "    .dataframe tbody tr th {\n",
       "        vertical-align: top;\n",
       "    }\n",
       "\n",
       "    .dataframe thead th {\n",
       "        text-align: right;\n",
       "    }\n",
       "</style>\n",
       "<table border=\"1\" class=\"dataframe\">\n",
       "  <thead>\n",
       "    <tr style=\"text-align: right;\">\n",
       "      <th></th>\n",
       "      <th>0</th>\n",
       "      <th>1</th>\n",
       "      <th>2</th>\n",
       "      <th>3</th>\n",
       "      <th>4</th>\n",
       "      <th>5</th>\n",
       "      <th>6</th>\n",
       "      <th>7</th>\n",
       "      <th>8</th>\n",
       "      <th>9</th>\n",
       "      <th>10</th>\n",
       "    </tr>\n",
       "  </thead>\n",
       "  <tbody>\n",
       "    <tr>\n",
       "      <th>0.0</th>\n",
       "      <td>1.0</td>\n",
       "      <td>1.0</td>\n",
       "      <td>1.0</td>\n",
       "      <td>1.0</td>\n",
       "      <td>1.0</td>\n",
       "      <td>1.0</td>\n",
       "      <td>1.0</td>\n",
       "      <td>1.0</td>\n",
       "      <td>1.0</td>\n",
       "      <td>1.0</td>\n",
       "      <td>1.0</td>\n",
       "    </tr>\n",
       "    <tr>\n",
       "      <th>0.1</th>\n",
       "      <td>1.0</td>\n",
       "      <td>1.0</td>\n",
       "      <td>1.0</td>\n",
       "      <td>1.0</td>\n",
       "      <td>1.0</td>\n",
       "      <td>1.0</td>\n",
       "      <td>1.0</td>\n",
       "      <td>1.0</td>\n",
       "      <td>1.0</td>\n",
       "      <td>1.0</td>\n",
       "      <td>1.0</td>\n",
       "    </tr>\n",
       "    <tr>\n",
       "      <th>0.2</th>\n",
       "      <td>1.0</td>\n",
       "      <td>1.0</td>\n",
       "      <td>1.0</td>\n",
       "      <td>1.0</td>\n",
       "      <td>1.0</td>\n",
       "      <td>1.0</td>\n",
       "      <td>1.0</td>\n",
       "      <td>1.0</td>\n",
       "      <td>1.0</td>\n",
       "      <td>1.0</td>\n",
       "      <td>1.0</td>\n",
       "    </tr>\n",
       "    <tr>\n",
       "      <th>0.3</th>\n",
       "      <td>1.0</td>\n",
       "      <td>1.0</td>\n",
       "      <td>1.0</td>\n",
       "      <td>1.0</td>\n",
       "      <td>1.0</td>\n",
       "      <td>1.0</td>\n",
       "      <td>1.0</td>\n",
       "      <td>1.0</td>\n",
       "      <td>1.0</td>\n",
       "      <td>1.0</td>\n",
       "      <td>1.0</td>\n",
       "    </tr>\n",
       "    <tr>\n",
       "      <th>0.4</th>\n",
       "      <td>1.0</td>\n",
       "      <td>1.0</td>\n",
       "      <td>1.0</td>\n",
       "      <td>1.0</td>\n",
       "      <td>1.0</td>\n",
       "      <td>1.0</td>\n",
       "      <td>1.0</td>\n",
       "      <td>1.0</td>\n",
       "      <td>1.0</td>\n",
       "      <td>1.0</td>\n",
       "      <td>1.0</td>\n",
       "    </tr>\n",
       "  </tbody>\n",
       "</table>\n",
       "</div>"
      ],
      "text/plain": [
       "      0    1    2    3    4    5    6    7    8    9    10\n",
       "0.0  1.0  1.0  1.0  1.0  1.0  1.0  1.0  1.0  1.0  1.0  1.0\n",
       "0.1  1.0  1.0  1.0  1.0  1.0  1.0  1.0  1.0  1.0  1.0  1.0\n",
       "0.2  1.0  1.0  1.0  1.0  1.0  1.0  1.0  1.0  1.0  1.0  1.0\n",
       "0.3  1.0  1.0  1.0  1.0  1.0  1.0  1.0  1.0  1.0  1.0  1.0\n",
       "0.4  1.0  1.0  1.0  1.0  1.0  1.0  1.0  1.0  1.0  1.0  1.0"
      ]
     },
     "execution_count": 158,
     "metadata": {},
     "output_type": "execute_result"
    }
   ],
   "source": [
    "### Accessing the variable at all time instances\n",
    "\n",
    "file_name = 'infiltration_prep_trans.demo'\n",
    "variable = 'saturation_liquid'\n",
    "saturation_data = input_datavar(file_name,variable)\n",
    "\n",
    "saturation_data.columns = np.arange(0,11,1)\n",
    "saturation_data.head()"
   ]
  },
  {
   "cell_type": "code",
   "execution_count": 159,
   "metadata": {},
   "outputs": [
    {
     "data": {
      "text/html": [
       "<div>\n",
       "<style scoped>\n",
       "    .dataframe tbody tr th:only-of-type {\n",
       "        vertical-align: middle;\n",
       "    }\n",
       "\n",
       "    .dataframe tbody tr th {\n",
       "        vertical-align: top;\n",
       "    }\n",
       "\n",
       "    .dataframe thead th {\n",
       "        text-align: right;\n",
       "    }\n",
       "</style>\n",
       "<table border=\"1\" class=\"dataframe\">\n",
       "  <thead>\n",
       "    <tr style=\"text-align: right;\">\n",
       "      <th></th>\n",
       "      <th>0</th>\n",
       "      <th>1</th>\n",
       "      <th>2</th>\n",
       "      <th>3</th>\n",
       "      <th>4</th>\n",
       "      <th>5</th>\n",
       "      <th>6</th>\n",
       "      <th>7</th>\n",
       "      <th>8</th>\n",
       "      <th>9</th>\n",
       "      <th>10</th>\n",
       "    </tr>\n",
       "  </thead>\n",
       "  <tbody>\n",
       "    <tr>\n",
       "      <th>0.0</th>\n",
       "      <td>140061.2675</td>\n",
       "      <td>141755.331203</td>\n",
       "      <td>145948.106372</td>\n",
       "      <td>150142.141028</td>\n",
       "      <td>154336.910964</td>\n",
       "      <td>158531.608734</td>\n",
       "      <td>162726.231279</td>\n",
       "      <td>166920.779006</td>\n",
       "      <td>171115.256135</td>\n",
       "      <td>175309.705259</td>\n",
       "      <td>179504.738827</td>\n",
       "    </tr>\n",
       "    <tr>\n",
       "      <th>0.1</th>\n",
       "      <td>139080.6025</td>\n",
       "      <td>140774.666203</td>\n",
       "      <td>144967.441373</td>\n",
       "      <td>149161.476029</td>\n",
       "      <td>153356.245965</td>\n",
       "      <td>157550.943735</td>\n",
       "      <td>161745.566280</td>\n",
       "      <td>165940.114007</td>\n",
       "      <td>170134.591135</td>\n",
       "      <td>174329.040259</td>\n",
       "      <td>178524.073827</td>\n",
       "    </tr>\n",
       "    <tr>\n",
       "      <th>0.2</th>\n",
       "      <td>138099.9375</td>\n",
       "      <td>139794.001204</td>\n",
       "      <td>143986.776374</td>\n",
       "      <td>148180.811030</td>\n",
       "      <td>152375.580966</td>\n",
       "      <td>156570.278735</td>\n",
       "      <td>160764.901281</td>\n",
       "      <td>164959.449008</td>\n",
       "      <td>169153.926136</td>\n",
       "      <td>173348.375260</td>\n",
       "      <td>177543.408828</td>\n",
       "    </tr>\n",
       "    <tr>\n",
       "      <th>0.3</th>\n",
       "      <td>137119.2725</td>\n",
       "      <td>138813.336206</td>\n",
       "      <td>143006.111375</td>\n",
       "      <td>147200.146031</td>\n",
       "      <td>151394.915967</td>\n",
       "      <td>155589.613737</td>\n",
       "      <td>159784.236282</td>\n",
       "      <td>163978.784009</td>\n",
       "      <td>168173.261138</td>\n",
       "      <td>172367.710262</td>\n",
       "      <td>176562.743829</td>\n",
       "    </tr>\n",
       "    <tr>\n",
       "      <th>0.4</th>\n",
       "      <td>136138.6075</td>\n",
       "      <td>137832.671207</td>\n",
       "      <td>142025.446377</td>\n",
       "      <td>146219.481033</td>\n",
       "      <td>150414.250969</td>\n",
       "      <td>154608.948739</td>\n",
       "      <td>158803.571284</td>\n",
       "      <td>162998.119011</td>\n",
       "      <td>167192.596140</td>\n",
       "      <td>171387.045264</td>\n",
       "      <td>175582.078831</td>\n",
       "    </tr>\n",
       "  </tbody>\n",
       "</table>\n",
       "</div>"
      ],
      "text/plain": [
       "              0              1              2              3              4   \\\n",
       "0.0  140061.2675  141755.331203  145948.106372  150142.141028  154336.910964   \n",
       "0.1  139080.6025  140774.666203  144967.441373  149161.476029  153356.245965   \n",
       "0.2  138099.9375  139794.001204  143986.776374  148180.811030  152375.580966   \n",
       "0.3  137119.2725  138813.336206  143006.111375  147200.146031  151394.915967   \n",
       "0.4  136138.6075  137832.671207  142025.446377  146219.481033  150414.250969   \n",
       "\n",
       "                5              6              7              8   \\\n",
       "0.0  158531.608734  162726.231279  166920.779006  171115.256135   \n",
       "0.1  157550.943735  161745.566280  165940.114007  170134.591135   \n",
       "0.2  156570.278735  160764.901281  164959.449008  169153.926136   \n",
       "0.3  155589.613737  159784.236282  163978.784009  168173.261138   \n",
       "0.4  154608.948739  158803.571284  162998.119011  167192.596140   \n",
       "\n",
       "                9              10  \n",
       "0.0  175309.705259  179504.738827  \n",
       "0.1  174329.040259  178524.073827  \n",
       "0.2  173348.375260  177543.408828  \n",
       "0.3  172367.710262  176562.743829  \n",
       "0.4  171387.045264  175582.078831  "
      ]
     },
     "execution_count": 159,
     "metadata": {},
     "output_type": "execute_result"
    }
   ],
   "source": [
    "### Accessing the variable at all time instances\n",
    "\n",
    "file_name = 'infiltration_prep_trans.demo'\n",
    "variable = 'pressure'\n",
    "pressure_data = input_datavar(file_name,variable)\n",
    "\n",
    "pressure_data.columns = np.arange(0,11,1)\n",
    "pressure_data.head()"
   ]
  },
  {
   "cell_type": "code",
   "execution_count": 173,
   "metadata": {},
   "outputs": [],
   "source": [
    "pressure_head_data = pressure_data/(10000)"
   ]
  },
  {
   "cell_type": "code",
   "execution_count": 185,
   "metadata": {},
   "outputs": [
    {
     "data": {
      "text/html": [
       "<div>\n",
       "<style scoped>\n",
       "    .dataframe tbody tr th:only-of-type {\n",
       "        vertical-align: middle;\n",
       "    }\n",
       "\n",
       "    .dataframe tbody tr th {\n",
       "        vertical-align: top;\n",
       "    }\n",
       "\n",
       "    .dataframe thead th {\n",
       "        text-align: right;\n",
       "    }\n",
       "</style>\n",
       "<table border=\"1\" class=\"dataframe\">\n",
       "  <thead>\n",
       "    <tr style=\"text-align: right;\">\n",
       "      <th></th>\n",
       "      <th>0</th>\n",
       "      <th>1</th>\n",
       "      <th>2</th>\n",
       "      <th>3</th>\n",
       "      <th>4</th>\n",
       "      <th>5</th>\n",
       "      <th>6</th>\n",
       "      <th>7</th>\n",
       "      <th>8</th>\n",
       "      <th>9</th>\n",
       "      <th>10</th>\n",
       "    </tr>\n",
       "  </thead>\n",
       "  <tbody>\n",
       "    <tr>\n",
       "      <th>0.0</th>\n",
       "      <td>14.006127</td>\n",
       "      <td>14.175533</td>\n",
       "      <td>14.594811</td>\n",
       "      <td>15.014214</td>\n",
       "      <td>15.433691</td>\n",
       "      <td>15.853161</td>\n",
       "      <td>16.272623</td>\n",
       "      <td>16.692078</td>\n",
       "      <td>17.111526</td>\n",
       "      <td>17.530971</td>\n",
       "      <td>17.950474</td>\n",
       "    </tr>\n",
       "    <tr>\n",
       "      <th>0.1</th>\n",
       "      <td>13.908060</td>\n",
       "      <td>14.077467</td>\n",
       "      <td>14.496744</td>\n",
       "      <td>14.916148</td>\n",
       "      <td>15.335625</td>\n",
       "      <td>15.755094</td>\n",
       "      <td>16.174557</td>\n",
       "      <td>16.594011</td>\n",
       "      <td>17.013459</td>\n",
       "      <td>17.432904</td>\n",
       "      <td>17.852407</td>\n",
       "    </tr>\n",
       "    <tr>\n",
       "      <th>0.2</th>\n",
       "      <td>13.809994</td>\n",
       "      <td>13.979400</td>\n",
       "      <td>14.398678</td>\n",
       "      <td>14.818081</td>\n",
       "      <td>15.237558</td>\n",
       "      <td>15.657028</td>\n",
       "      <td>16.076490</td>\n",
       "      <td>16.495945</td>\n",
       "      <td>16.915393</td>\n",
       "      <td>17.334838</td>\n",
       "      <td>17.754341</td>\n",
       "    </tr>\n",
       "    <tr>\n",
       "      <th>0.3</th>\n",
       "      <td>13.711927</td>\n",
       "      <td>13.881334</td>\n",
       "      <td>14.300611</td>\n",
       "      <td>14.720015</td>\n",
       "      <td>15.139492</td>\n",
       "      <td>15.558961</td>\n",
       "      <td>15.978424</td>\n",
       "      <td>16.397878</td>\n",
       "      <td>16.817326</td>\n",
       "      <td>17.236771</td>\n",
       "      <td>17.656274</td>\n",
       "    </tr>\n",
       "    <tr>\n",
       "      <th>0.4</th>\n",
       "      <td>13.613861</td>\n",
       "      <td>13.783267</td>\n",
       "      <td>14.202545</td>\n",
       "      <td>14.621948</td>\n",
       "      <td>15.041425</td>\n",
       "      <td>15.460895</td>\n",
       "      <td>15.880357</td>\n",
       "      <td>16.299812</td>\n",
       "      <td>16.719260</td>\n",
       "      <td>17.138705</td>\n",
       "      <td>17.558208</td>\n",
       "    </tr>\n",
       "    <tr>\n",
       "      <th>...</th>\n",
       "      <td>...</td>\n",
       "      <td>...</td>\n",
       "      <td>...</td>\n",
       "      <td>...</td>\n",
       "      <td>...</td>\n",
       "      <td>...</td>\n",
       "      <td>...</td>\n",
       "      <td>...</td>\n",
       "      <td>...</td>\n",
       "      <td>...</td>\n",
       "      <td>...</td>\n",
       "    </tr>\n",
       "    <tr>\n",
       "      <th>9.5</th>\n",
       "      <td>4.689809</td>\n",
       "      <td>8.772805</td>\n",
       "      <td>8.772805</td>\n",
       "      <td>8.772805</td>\n",
       "      <td>8.772805</td>\n",
       "      <td>8.772805</td>\n",
       "      <td>8.772806</td>\n",
       "      <td>8.772822</td>\n",
       "      <td>8.773046</td>\n",
       "      <td>8.776145</td>\n",
       "      <td>8.815432</td>\n",
       "    </tr>\n",
       "    <tr>\n",
       "      <th>9.6</th>\n",
       "      <td>4.591743</td>\n",
       "      <td>8.772805</td>\n",
       "      <td>8.772805</td>\n",
       "      <td>8.772805</td>\n",
       "      <td>8.772805</td>\n",
       "      <td>8.772805</td>\n",
       "      <td>8.772806</td>\n",
       "      <td>8.772814</td>\n",
       "      <td>8.772935</td>\n",
       "      <td>8.774615</td>\n",
       "      <td>8.796839</td>\n",
       "    </tr>\n",
       "    <tr>\n",
       "      <th>9.7</th>\n",
       "      <td>4.493676</td>\n",
       "      <td>8.772805</td>\n",
       "      <td>8.772805</td>\n",
       "      <td>8.772805</td>\n",
       "      <td>8.772805</td>\n",
       "      <td>8.772805</td>\n",
       "      <td>8.772805</td>\n",
       "      <td>8.772810</td>\n",
       "      <td>8.772875</td>\n",
       "      <td>8.773785</td>\n",
       "      <td>8.786109</td>\n",
       "    </tr>\n",
       "    <tr>\n",
       "      <th>9.8</th>\n",
       "      <td>4.395610</td>\n",
       "      <td>8.772805</td>\n",
       "      <td>8.772805</td>\n",
       "      <td>8.772805</td>\n",
       "      <td>8.772805</td>\n",
       "      <td>8.772805</td>\n",
       "      <td>8.772805</td>\n",
       "      <td>8.772808</td>\n",
       "      <td>8.772843</td>\n",
       "      <td>8.773335</td>\n",
       "      <td>8.780095</td>\n",
       "    </tr>\n",
       "    <tr>\n",
       "      <th>9.9</th>\n",
       "      <td>4.297543</td>\n",
       "      <td>8.772805</td>\n",
       "      <td>8.772805</td>\n",
       "      <td>8.772805</td>\n",
       "      <td>8.772805</td>\n",
       "      <td>8.772805</td>\n",
       "      <td>8.772805</td>\n",
       "      <td>8.772806</td>\n",
       "      <td>8.772826</td>\n",
       "      <td>8.773092</td>\n",
       "      <td>8.776780</td>\n",
       "    </tr>\n",
       "  </tbody>\n",
       "</table>\n",
       "<p>100 rows × 11 columns</p>\n",
       "</div>"
      ],
      "text/plain": [
       "            0          1          2          3          4          5   \\\n",
       "0.0  14.006127  14.175533  14.594811  15.014214  15.433691  15.853161   \n",
       "0.1  13.908060  14.077467  14.496744  14.916148  15.335625  15.755094   \n",
       "0.2  13.809994  13.979400  14.398678  14.818081  15.237558  15.657028   \n",
       "0.3  13.711927  13.881334  14.300611  14.720015  15.139492  15.558961   \n",
       "0.4  13.613861  13.783267  14.202545  14.621948  15.041425  15.460895   \n",
       "..         ...        ...        ...        ...        ...        ...   \n",
       "9.5   4.689809   8.772805   8.772805   8.772805   8.772805   8.772805   \n",
       "9.6   4.591743   8.772805   8.772805   8.772805   8.772805   8.772805   \n",
       "9.7   4.493676   8.772805   8.772805   8.772805   8.772805   8.772805   \n",
       "9.8   4.395610   8.772805   8.772805   8.772805   8.772805   8.772805   \n",
       "9.9   4.297543   8.772805   8.772805   8.772805   8.772805   8.772805   \n",
       "\n",
       "            6          7          8          9          10  \n",
       "0.0  16.272623  16.692078  17.111526  17.530971  17.950474  \n",
       "0.1  16.174557  16.594011  17.013459  17.432904  17.852407  \n",
       "0.2  16.076490  16.495945  16.915393  17.334838  17.754341  \n",
       "0.3  15.978424  16.397878  16.817326  17.236771  17.656274  \n",
       "0.4  15.880357  16.299812  16.719260  17.138705  17.558208  \n",
       "..         ...        ...        ...        ...        ...  \n",
       "9.5   8.772806   8.772822   8.773046   8.776145   8.815432  \n",
       "9.6   8.772806   8.772814   8.772935   8.774615   8.796839  \n",
       "9.7   8.772805   8.772810   8.772875   8.773785   8.786109  \n",
       "9.8   8.772805   8.772808   8.772843   8.773335   8.780095  \n",
       "9.9   8.772805   8.772806   8.772826   8.773092   8.776780  \n",
       "\n",
       "[100 rows x 11 columns]"
      ]
     },
     "execution_count": 185,
     "metadata": {},
     "output_type": "execute_result"
    }
   ],
   "source": [
    "pressure_head_data"
   ]
  },
  {
   "cell_type": "code",
   "execution_count": 188,
   "metadata": {},
   "outputs": [
    {
     "data": {
      "text/plain": [
       "<matplotlib.legend.Legend at 0x7f0f54c06a00>"
      ]
     },
     "execution_count": 188,
     "metadata": {},
     "output_type": "execute_result"
    },
    {
     "data": {
      "image/png": "[encoded data removed]",
      "text/plain": [
       "<Figure size 720x576 with 2 Axes>"
      ]
     },
     "metadata": {
      "needs_background": "light"
     },
     "output_type": "display_data"
    }
   ],
   "source": [
    "fig, (ax1, ax2) = plt.subplots(1, 2)\n",
    "fig.set_size_inches(w=10,h=8)\n",
    "fig.suptitle('Saturation of liquid  and pressure at different time instances')\n",
    "\n",
    "z = saturation_data.index\n",
    "\n",
    "ax1.plot(saturation_data[0], z, alpha=0.1, label ='t = 0 s')\n",
    "ax1.plot(saturation_data[2], z, alpha=0.2, label ='t = 2 s')\n",
    "ax1.plot(saturation_data[4], z, alpha=0.4, label ='t = 4 s')\n",
    "ax1.plot(saturation_data[6], z, alpha=0.6, label ='t = 6 s')\n",
    "ax1.plot(saturation_data[8], z, alpha=0.8, label ='t = 8 s')\n",
    "ax1.plot(saturation_data[10], z, alpha=1, label ='t = 10 s')\n",
    "ax1.legend()\n",
    "ax1.set_ylabel('z (in m)')\n",
    "ax1.set_xlabel('Saturation (-)')\n",
    "\n",
    "ax2.plot(pressure_head_data[0], z, alpha=0.1, label ='t = 0 s')\n",
    "ax2.plot(pressure_head_data[2], z, alpha=0.2, label ='t = 2 s')\n",
    "ax2.plot(pressure_head_data[4], z, alpha=0.4, label ='t = 4 s')\n",
    "ax2.plot(pressure_head_data[6], z, alpha=0.6, label ='t = 6 s')\n",
    "ax2.plot(pressure_head_data[8], z, alpha=0.8, label ='t = 8 s')\n",
    "ax2.plot(pressure_head_data[10], z, alpha=1, label ='t = 10 s')\n",
    "ax2.set_xlabel('Pressure head (in m)')\n",
    "ax2.axvline(x=8.772805,color='k',linestyle='--',label='p-const = 8.77 m')\n",
    "ax2.legend()\n"
   ]
  },
  {
   "cell_type": "code",
   "execution_count": 160,
   "metadata": {},
   "outputs": [
    {
     "data": {
      "text/plain": [
       "<AxesSubplot:>"
      ]
     },
     "execution_count": 160,
     "metadata": {},
     "output_type": "execute_result"
    },
    {
     "data": {
      "image/png": "[encoded data removed]",
      "text/plain": [
       "<Figure size 432x288 with 1 Axes>"
      ]
     },
     "metadata": {
      "needs_background": "light"
     },
     "output_type": "display_data"
    }
   ],
   "source": []
  },
  {
   "cell_type": "code",
   "execution_count": 99,
   "metadata": {},
   "outputs": [
    {
     "data": {
      "text/plain": [
       "<matplotlib.legend.Legend at 0x7f0f5d2a6d60>"
      ]
     },
     "execution_count": 99,
     "metadata": {},
     "output_type": "execute_result"
    },
    {
     "data": {
      "image/png": "[encoded data removed]",
      "text/plain": [
       "<Figure size 432x432 with 1 Axes>"
      ]
     },
     "metadata": {
      "needs_background": "light"
     },
     "output_type": "display_data"
    }
   ],
   "source": [
    "fig = plt.figure(figsize=(6,6))\n",
    "\n",
    "plt.title('Saturation of liquid at different time instances')\n",
    "plt.plot(data_results_0['Saturation of liquid [s_l] [-]'], z, 'b', alpha=0.1, label='t= 0 s')\n",
    "plt.plot(data_results_96['Saturation of liquid [s_l] [-]'], z, 'b', alpha=0.2, label='t= 2 s')\n",
    "plt.plot(data_results_98['Saturation of liquid [s_l] [-]'], z, 'b', alpha=0.4, label='t= 4 s')\n",
    "plt.plot(data_results_100['Saturation of liquid [s_l] [-]'], z, 'b', alpha=0.6, label='t= 6 s')\n",
    "plt.plot(data_results_102['Saturation of liquid [s_l] [-]'], z, 'b', alpha=0.8, label='t= 8 s')\n",
    "plt.plot(data_results_104['Saturation of liquid [s_l] [-]'], z, 'b', alpha=1, label='t= 10 s')\n",
    "\n",
    "#plt.axvline(x=data_results_113['Saturation of liquid [s_l] [-]'].min(),color='k',linestyle='--',label='residual_saturation')\n",
    "plt.xlabel('Saturation [-]')\n",
    "plt.ylabel(' Elevation [m]')\n",
    "plt.tight_layout()\n",
    "plt.legend()\n",
    "#plt.show()"
   ]
  },
  {
   "cell_type": "code",
   "execution_count": null,
   "metadata": {},
   "outputs": [],
   "source": [
    "data_res"
   ]
  },
  {
   "cell_type": "code",
   "execution_count": 57,
   "metadata": {},
   "outputs": [
    {
     "data": {
      "text/plain": [
       "<matplotlib.legend.Legend at 0x7f0f5ee358b0>"
      ]
     },
     "execution_count": 57,
     "metadata": {},
     "output_type": "execute_result"
    },
    {
     "data": {
      "image/png": "[encoded data removed]",
      "text/plain": [
       "<Figure size 432x432 with 1 Axes>"
      ]
     },
     "metadata": {
      "needs_background": "light"
     },
     "output_type": "display_data"
    }
   ],
   "source": [
    "fig = plt.figure(figsize=(6,6))\n",
    "\n",
    "plt.title('Saturation of liquid at different time instances')\n",
    "plt.plot(data_results_0['Saturation of liquid [s_l] [-]'], z, 'b', alpha=0.6, label='t=0')\n",
    "plt.plot(data_results_75['Saturation of liquid [s_l] [-]'], z, 'b', alpha=0.9, label='t=0.2s')\n",
    "#plt.axvline(x=data_results_113['Saturation of liquid [s_l] [-]'].min(),color='k',linestyle='--',label='residual_saturation')\n",
    "plt.xlabel('Saturation [-]')\n",
    "plt.ylabel(' Elevation [m]')\n",
    "plt.tight_layout()\n",
    "plt.legend()\n",
    "#plt.show()"
   ]
  },
  {
   "cell_type": "markdown",
   "metadata": {},
   "source": [
    "Comments:\n",
    "    \n",
    "* Due to the infiltration of water into the 1-D column, the saturation of water increases with time proportional to the incoming water flux.\n",
    "\n",
    "* Why does the residual water saturation increase? Due to the influx of water?"
   ]
  }
 ],
 "metadata": {
  "kernelspec": {
   "display_name": "Python 3",
   "language": "python",
   "name": "python3"
  },
  "language_info": {
   "codemirror_mode": {
    "name": "ipython",
    "version": 3
   },
   "file_extension": ".py",
   "mimetype": "text/x-python",
   "name": "python",
   "nbconvert_exporter": "python",
   "pygments_lexer": "ipython3",
   "version": "3.8.8"
  },
  "name": "richards_steadystate.ipynb"
 },
 "nbformat": 4,
 "nbformat_minor": 1
}
