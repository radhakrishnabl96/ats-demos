{
 "cells": [
  {
   "cell_type": "code",
   "execution_count": 1,
   "metadata": {},
   "outputs": [],
   "source": [
    "import sys,os\n",
    "sys.path.append(os.path.join(os.environ['ATS_SRC_DIR'],'tools','meshing_ats'))\n",
    "sys.path.append(os.path.join(os.environ['AMANZI_TPLS_DIR'],'SEACAS','lib'))\n",
    "#sys.path.append(os.path.join(os.environ[\"SEACAS_DIR\"],\"lib\"))\n",
    "import meshing_ats\n",
    "\n",
    "import numpy as np"
   ]
  },
  {
   "cell_type": "code",
   "execution_count": 2,
   "metadata": {},
   "outputs": [
    {
     "ename": "AttributeError",
     "evalue": "module 'meshing_ats' has no attribute 'Mesh2D'",
     "output_type": "error",
     "traceback": [
      "\u001b[0;31m---------------------------------------------------------------------------\u001b[0m",
      "\u001b[0;31mAttributeError\u001b[0m                            Traceback (most recent call last)",
      "\u001b[0;32m<ipython-input-2-8ed1653594d1>\u001b[0m in \u001b[0;36m<module>\u001b[0;34m\u001b[0m\n\u001b[1;32m      1\u001b[0m \u001b[0;31m# create the surface strip mesh\u001b[0m\u001b[0;34m\u001b[0m\u001b[0;34m\u001b[0m\u001b[0;34m\u001b[0m\u001b[0m\n\u001b[1;32m      2\u001b[0m \u001b[0mxz\u001b[0m \u001b[0;34m=\u001b[0m \u001b[0mnp\u001b[0m\u001b[0;34m.\u001b[0m\u001b[0mloadtxt\u001b[0m\u001b[0;34m(\u001b[0m\u001b[0;34m\"nathan_polygon.txt\"\u001b[0m\u001b[0;34m)\u001b[0m\u001b[0;34m\u001b[0m\u001b[0;34m\u001b[0m\u001b[0m\n\u001b[0;32m----> 3\u001b[0;31m \u001b[0mm2\u001b[0m \u001b[0;34m=\u001b[0m \u001b[0mmeshing_ats\u001b[0m\u001b[0;34m.\u001b[0m\u001b[0mMesh2D\u001b[0m\u001b[0;34m.\u001b[0m\u001b[0mfrom_Transect\u001b[0m\u001b[0;34m(\u001b[0m\u001b[0mxz\u001b[0m\u001b[0;34m[\u001b[0m\u001b[0;34m:\u001b[0m\u001b[0;34m,\u001b[0m\u001b[0;36m0\u001b[0m\u001b[0;34m]\u001b[0m\u001b[0;34m,\u001b[0m\u001b[0mxz\u001b[0m\u001b[0;34m[\u001b[0m\u001b[0;34m:\u001b[0m\u001b[0;34m,\u001b[0m\u001b[0;36m1\u001b[0m\u001b[0;34m]\u001b[0m\u001b[0;34m)\u001b[0m\u001b[0;34m\u001b[0m\u001b[0;34m\u001b[0m\u001b[0m\n\u001b[0m",
      "\u001b[0;31mAttributeError\u001b[0m: module 'meshing_ats' has no attribute 'Mesh2D'"
     ]
    }
   ],
   "source": [
    "# create the surface strip mesh\n",
    "xz = np.loadtxt(\"nathan_polygon.txt\")\n",
    "m2 = meshing_ats.Mesh2D.from_Transect(xz[:,0],xz[:,1])"
   ]
  },
  {
   "cell_type": "code",
   "execution_count": 3,
   "metadata": {},
   "outputs": [
    {
     "ename": "AttributeError",
     "evalue": "module 'meshing_ats' has no attribute 'Mesh3D'",
     "output_type": "error",
     "traceback": [
      "\u001b[0;31m---------------------------------------------------------------------------\u001b[0m",
      "\u001b[0;31mAttributeError\u001b[0m                            Traceback (most recent call last)",
      "\u001b[0;32m<ipython-input-3-b70dbb57b90d>\u001b[0m in \u001b[0;36m<module>\u001b[0;34m\u001b[0m\n\u001b[1;32m      7\u001b[0m \u001b[0mlayer_material_id\u001b[0m \u001b[0;34m=\u001b[0m \u001b[0;34m[\u001b[0m\u001b[0;36m101\u001b[0m\u001b[0;34m,\u001b[0m \u001b[0;36m101\u001b[0m\u001b[0;34m,\u001b[0m \u001b[0;36m101\u001b[0m\u001b[0;34m,\u001b[0m \u001b[0;36m101\u001b[0m\u001b[0;34m]\u001b[0m\u001b[0;34m\u001b[0m\u001b[0;34m\u001b[0m\u001b[0m\n\u001b[1;32m      8\u001b[0m \u001b[0;34m\u001b[0m\u001b[0m\n\u001b[0;32m----> 9\u001b[0;31m m3 = meshing_ats.Mesh3D.extruded_Mesh2D(m2, layer_types, layer_dzs, \n\u001b[0m\u001b[1;32m     10\u001b[0m                                         ncells_per_layer, layer_material_id)\n\u001b[1;32m     11\u001b[0m \u001b[0mm3\u001b[0m\u001b[0;34m.\u001b[0m\u001b[0mwrite_exodus\u001b[0m\u001b[0;34m(\u001b[0m\u001b[0;34m\"nathan_mesh1.exo\"\u001b[0m\u001b[0;34m)\u001b[0m\u001b[0;34m\u001b[0m\u001b[0;34m\u001b[0m\u001b[0m\n",
      "\u001b[0;31mAttributeError\u001b[0m: module 'meshing_ats' has no attribute 'Mesh3D'"
     ]
    }
   ],
   "source": [
    "# build up the layering structure as we extrude in the vertical\n",
    "\n",
    "# first cut: 4 layers, each with uniform dz in the layer\n",
    "layer_types = ['constant','constant','constant','constant']\n",
    "layer_dzs = [0.01, 0.02, 0.05, 1]\n",
    "ncells_per_layer = [2, 9, 40, 49]\n",
    "layer_material_id = [101, 101, 101, 101]\n",
    "\n",
    "m3 = meshing_ats.Mesh3D.extruded_Mesh2D(m2, layer_types, layer_dzs, \n",
    "                                        ncells_per_layer, layer_material_id)\n",
    "m3.write_exodus(\"nathan_mesh1.exo\")\n"
   ]
  },
  {
   "cell_type": "code",
   "execution_count": 3,
   "metadata": {},
   "outputs": [
    {
     "name": "stdout",
     "output_type": "stream",
     "text": [
      "\n",
      "You are using exodus.py v 1.04 (beta-cmake), a python wrapper of some of the exodus II library.\n",
      "Copyright (c) 2013, 2014, 2015, 2016 Sandia Corporation. Under the terms of Contract DE-AC04-94AL85000\n",
      "with Sandia Corporation, the U.S. Government retains certain rights in this software.\n",
      "\n",
      "Opening exodus file: nathan_mesh2.exo\n",
      "Closing exodus file: nathan_mesh2.exo\n"
     ]
    }
   ],
   "source": [
    "# make a fancier version:\n",
    "# make the top layer a variable thickness layer\n",
    "def dz_layer1(s):\n",
    "    return (np.sin(2*np.pi * s / 23.0) + 0.02)**2\n",
    "dzs_layer1 = np.array([dz_layer1(x) for x in m2.coords[:,0]])\n",
    "\n",
    "# make the second and third layer constant dz, and make the \n",
    "# fourth layer \"snap\" to the bottom coordinate of z = -45m.  \n",
    "# This results in a flat-bottomed mesh, and the bottom layer \n",
    "# adjusts dz to match that bottom.\n",
    "layer_types = ['node','constant','constant','snapped']\n",
    "layer_data = [dzs_layer1, 1, 2, -45.0]\n",
    "ncells_per_layer = [2, 9, 5, 10]\n",
    "layer_material_ids = [101, 101, 101, 101]\n",
    "\n",
    "m3 = meshing_ats.Mesh3D.extruded_Mesh2D(m2, layer_types, \n",
    "                                        layer_data, \n",
    "                                        ncells_per_layer, \n",
    "                                        layer_material_ids)\n",
    "m3.write_exodus(\"nathan_mesh2.exo\")\n",
    "\n"
   ]
  }
 ],
 "metadata": {
  "kernelspec": {
   "display_name": "Python 3",
   "language": "python",
   "name": "python3"
  },
  "language_info": {
   "codemirror_mode": {
    "name": "ipython",
    "version": 3
   },
   "file_extension": ".py",
   "mimetype": "text/x-python",
   "name": "python",
   "nbconvert_exporter": "python",
   "pygments_lexer": "ipython3",
   "version": "3.8.8"
  }
 },
 "nbformat": 4,
 "nbformat_minor": 1
}
