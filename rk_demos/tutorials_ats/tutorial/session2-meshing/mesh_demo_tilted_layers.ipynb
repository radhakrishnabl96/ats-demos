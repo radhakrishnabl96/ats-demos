{
 "cells": [
  {
   "cell_type": "code",
   "execution_count": 1,
   "metadata": {},
   "outputs": [],
   "source": [
    "import sys,os\n",
    "\n",
    "sys.path.append(os.path.join(os.environ['ATS_SRC_DIR'],'tools','meshing_ats'))\n",
    "import meshing_ats\n",
    "\n",
    "import numpy as np\n",
    "from matplotlib import pyplot as plt\n",
    "%matplotlib inline"
   ]
  },
  {
   "cell_type": "code",
   "execution_count": 2,
   "metadata": {},
   "outputs": [
    {
     "name": "stdout",
     "output_type": "stream",
     "text": [
      "[   0.   10.   20.   30.   40.   50.   60.   70.   80.   90.  100.  110.\n",
      "  120.  130.  140.  150.  160.  170.  180.  190.  200.  210.  220.  230.\n",
      "  240.  250.  260.  270.  280.  290.  300.  310.  320.  330.  340.  350.\n",
      "  360.  370.  380.  390.  400.  410.  420.  430.  440.  450.  460.  470.\n",
      "  480.  490.  500.  510.  520.  530.  540.  550.  560.  570.  580.  590.\n",
      "  600.  610.  620.  630.  640.  650.  660.  670.  680.  690.  700.  710.\n",
      "  720.  730.  740.  750.  760.  770.  780.  790.  800.  810.  820.  830.\n",
      "  840.  850.  860.  870.  880.  890.  900.  910.  920.  930.  940.  950.\n",
      "  960.  970.  980.  990. 1000.] [100.  99.  98.  97.  96.  95.  94.  93.  92.  91.  90.  89.  88.  87.\n",
      "  86.  85.  84.  83.  82.  81.  80.  79.  78.  77.  76.  75.  74.  73.\n",
      "  72.  71.  70.  69.  68.  67.  66.  65.  64.  63.  62.  61.  60.  59.\n",
      "  58.  57.  56.  55.  54.  53.  52.  51.  50.  49.  48.  47.  46.  45.\n",
      "  44.  43.  42.  41.  40.  39.  38.  37.  36.  35.  34.  33.  32.  31.\n",
      "  30.  29.  28.  27.  26.  25.  24.  23.  22.  21.  20.  19.  18.  17.\n",
      "  16.  15.  14.  13.  12.  11.  10.   9.   8.   7.   6.   5.   4.   3.\n",
      "   2.   1.   0.]\n",
      "101 101\n"
     ]
    },
    {
     "ename": "AttributeError",
     "evalue": "module 'meshing_ats' has no attribute 'Mesh2D'",
     "output_type": "error",
     "traceback": [
      "\u001b[0;31m---------------------------------------------------------------------------\u001b[0m",
      "\u001b[0;31mAttributeError\u001b[0m                            Traceback (most recent call last)",
      "\u001b[0;32m<ipython-input-2-055003818ada>\u001b[0m in \u001b[0;36m<module>\u001b[0;34m\u001b[0m\n\u001b[1;32m      4\u001b[0m \u001b[0mprint\u001b[0m\u001b[0;34m(\u001b[0m\u001b[0mx\u001b[0m\u001b[0;34m,\u001b[0m \u001b[0mz\u001b[0m\u001b[0;34m)\u001b[0m\u001b[0;34m\u001b[0m\u001b[0;34m\u001b[0m\u001b[0m\n\u001b[1;32m      5\u001b[0m \u001b[0mprint\u001b[0m\u001b[0;34m(\u001b[0m\u001b[0mlen\u001b[0m\u001b[0;34m(\u001b[0m\u001b[0mx\u001b[0m\u001b[0;34m)\u001b[0m\u001b[0;34m,\u001b[0m\u001b[0mlen\u001b[0m\u001b[0;34m(\u001b[0m\u001b[0mz\u001b[0m\u001b[0;34m)\u001b[0m\u001b[0;34m)\u001b[0m\u001b[0;34m\u001b[0m\u001b[0;34m\u001b[0m\u001b[0m\n\u001b[0;32m----> 6\u001b[0;31m \u001b[0mm2\u001b[0m \u001b[0;34m=\u001b[0m \u001b[0mmeshing_ats\u001b[0m\u001b[0;34m.\u001b[0m\u001b[0mMesh2D\u001b[0m\u001b[0;34m.\u001b[0m\u001b[0mfrom_Transect\u001b[0m\u001b[0;34m(\u001b[0m\u001b[0mx\u001b[0m\u001b[0;34m,\u001b[0m\u001b[0mz\u001b[0m\u001b[0;34m)\u001b[0m\u001b[0;34m\u001b[0m\u001b[0;34m\u001b[0m\u001b[0m\n\u001b[0m",
      "\u001b[0;31mAttributeError\u001b[0m: module 'meshing_ats' has no attribute 'Mesh2D'"
     ]
    }
   ],
   "source": [
    "# 1 km long hillslope, 10% slope\n",
    "x = np.linspace(0,1000,101)\n",
    "z = np.linspace(100,0,101)\n",
    "print(x, z)\n",
    "print(len(x),len(z))\n",
    "m2 = meshing_ats.Mesh2D.from_Transect(x,z)\n"
   ]
  },
  {
   "cell_type": "code",
   "execution_count": 3,
   "metadata": {},
   "outputs": [],
   "source": [
    "#Changing organic layer thickness \n",
    "def dz_layer1(s):\n",
    "    if s<100:\n",
    "        thickness=0.5\n",
    "    elif ((100<=s)&(s<=200)):\n",
    "        thickness=-0.0045*s+0.95\n",
    "    elif ((200<s)&(s<800)):\n",
    "        thickness=0.05\n",
    "    elif ((800<=s)&(s<=900)):\n",
    "        thickness=0.0025*s-1.95\n",
    "    else:\n",
    "        thickness=0.3\n",
    "    return thickness"
   ]
  },
  {
   "cell_type": "code",
   "execution_count": 7,
   "metadata": {},
   "outputs": [
    {
     "name": "stdout",
     "output_type": "stream",
     "text": [
      "[0.02, 0.02, 0.02, 0.02, 0.02, 0.02, 0.02, 0.02, 0.02, 0.02, 0.02, 0.02, 0.02, 0.02, 0.02, 0.02, 0.02, 0.02, 0.02, 0.02, 0.02, 0.02, 0.02, 0.02, 0.02, 0.02, 0.02, 0.02, 0.02, 0.02, 0.02, 0.02, 0.02, 0.02, 0.02, 0.02, 0.02, 0.02, 0.02, 0.02, 0.02, 0.02, 0.02, 0.02, 0.02, 0.02, 0.02, 0.02, 0.02, 0.02, 0.04, 0.04, 0.04, 0.04, 0.04, 0.04, 0.04, 0.04, 0.04, 0.04, 0.04, 0.04, 0.04, 0.04, 0.04, 0.04, 0.04, 0.04, 0.04, 0.04, 0.04, 0.04, 0.04, 0.04, 0.04, 0.048, 0.0576, 0.06912, 0.082944, 0.0995328, 0.11943936, 0.143327232, 0.1719926784, 0.20639121407999997, 0.24766945689599995, 0.29720334827519995, 0.3566440179302399, 0.4279728215162879, 0.5135673858195454, 0.6162808629834545, 1.232561725966909, 2.465123451933818, 4.930246903867636, 9.860493807735272]\n",
      "23.946111067404367\n",
      "95\n"
     ]
    },
    {
     "ename": "AttributeError",
     "evalue": "module 'meshing_ats' has no attribute 'Mesh3D'",
     "output_type": "error",
     "traceback": [
      "\u001b[0;31m---------------------------------------------------------------------------\u001b[0m",
      "\u001b[0;31mAttributeError\u001b[0m                            Traceback (most recent call last)",
      "\u001b[0;32m<ipython-input-7-45d6cbbd1906>\u001b[0m in \u001b[0;36m<module>\u001b[0;34m\u001b[0m\n\u001b[1;32m     66\u001b[0m \u001b[0;31m#print sum(layer_ncells)\u001b[0m\u001b[0;34m\u001b[0m\u001b[0;34m\u001b[0m\u001b[0;34m\u001b[0m\u001b[0m\n\u001b[1;32m     67\u001b[0m \u001b[0;34m\u001b[0m\u001b[0m\n\u001b[0;32m---> 68\u001b[0;31m \u001b[0mm3\u001b[0m \u001b[0;34m=\u001b[0m \u001b[0mmeshing_ats\u001b[0m\u001b[0;34m.\u001b[0m\u001b[0mMesh3D\u001b[0m\u001b[0;34m.\u001b[0m\u001b[0mextruded_Mesh2D\u001b[0m\u001b[0;34m(\u001b[0m\u001b[0mm2\u001b[0m\u001b[0;34m,\u001b[0m \u001b[0mlayer_types\u001b[0m\u001b[0;34m,\u001b[0m\u001b[0mlayer_data\u001b[0m\u001b[0;34m,\u001b[0m \u001b[0mlayer_ncells\u001b[0m\u001b[0;34m,\u001b[0m \u001b[0mlayer_mat_ids\u001b[0m\u001b[0;34m)\u001b[0m\u001b[0;34m\u001b[0m\u001b[0;34m\u001b[0m\u001b[0m\n\u001b[0m\u001b[1;32m     69\u001b[0m \u001b[0mm3\u001b[0m\u001b[0;34m.\u001b[0m\u001b[0mwrite_exodus\u001b[0m\u001b[0;34m(\u001b[0m\u001b[0;34m\"hillslope_organic_layerbyid.exo\"\u001b[0m\u001b[0;34m)\u001b[0m\u001b[0;34m\u001b[0m\u001b[0;34m\u001b[0m\u001b[0m\n",
      "\u001b[0;31mAttributeError\u001b[0m: module 'meshing_ats' has no attribute 'Mesh3D'"
     ]
    }
   ],
   "source": [
    "# layer extrusion for 2D\n",
    "layer_types = []\n",
    "layer_data = []\n",
    "layer_ncells = []\n",
    "layer_mat_ids = []\n",
    "\n",
    "# 50 x 2cm cells, labeled according to dz function\n",
    "ncells = 50\n",
    "dz = 0.02\n",
    "\n",
    "centroid_depths = np.arange(dz/2.0, ncells*dz, dz)\n",
    "\n",
    "for i in range(ncells):\n",
    "    layer_types.append('constant') #organic\n",
    "    layer_data.append(dz)\n",
    "    layer_ncells.append(1)\n",
    "\n",
    "    # labeling in the top meter varies across the domain\n",
    "    layer_mat_ids1 = np.zeros((len(x)-1,),'d')\n",
    "    for j in range(len(x)-1):\n",
    "        if centroid_depths[i] < dz_layer1(x[j]):\n",
    "            layer_mat_ids1[j] = 1001\n",
    "        else:\n",
    "            layer_mat_ids1[j] = 1002\n",
    "    layer_mat_ids.append(layer_mat_ids1)\n",
    "\n",
    "# layer 2\n",
    "dz = 0.04\n",
    "for i in range(25):\n",
    "    layer_types.append('constant') #mineral\n",
    "    layer_data.append(dz)\n",
    "    layer_ncells.append(1)\n",
    "    layer_mat_ids.append(1002 * np.ones((len(x)-1,)))\n",
    "\n",
    "# expanding\n",
    "dz = .04\n",
    "for i in range(15):\n",
    "    dz *= 1.2\n",
    "    layer_types.append(\"constant\")\n",
    "    layer_data.append(dz)\n",
    "    layer_ncells.append(1)\n",
    "    layer_mat_ids.append(1002*np.ones((len(x)-1,)))\n",
    "        \n",
    "for i in range(4):\n",
    "    dz *= 2\n",
    "    layer_types.append(\"constant\")\n",
    "    layer_data.append(dz)\n",
    "    layer_ncells.append(1)\n",
    "    layer_mat_ids.append(101*np.ones((len(x)-1,)))\n",
    " \n",
    "\n",
    "print(layer_data)\n",
    "print(sum(layer_data))\n",
    "\n",
    "layer_types.append('node')\n",
    "layer_data.append(45 - sum(layer_data))\n",
    "layer_ncells.append(2)\n",
    "layer_mat_ids.append(101*np.ones((len(x)-1,)))\n",
    "\n",
    "print(len(layer_data))\n",
    "\n",
    "#print layer_data\n",
    "#print np.array([layer_data, np.cumsum(np.array(layer_data)), layer_mat_ids]).transpose()\n",
    "#print layer_mat_ids\n",
    "#print len(layer_mat_ids)\n",
    "#print sum(layer_ncells)\n",
    "\n",
    "m3 = meshing_ats.Mesh3D.extruded_Mesh2D(m2, layer_types,layer_data, layer_ncells, layer_mat_ids)\n",
    "m3.write_exodus(\"hillslope_organic_layerbyid.exo\")\n"
   ]
  },
  {
   "cell_type": "markdown",
   "metadata": {
    "collapsed": true
   },
   "source": [
    "NOTE: talk about converting file types and prepartitioning\n",
    "\n",
    "    $AMANZI_TPLS_DIR/bin/meshconvert ./hillslope_organic_layerbyid.exo hillslope_organic_layerbyid2.exo\n",
    "    \n",
    "    mkdir 4; cd 4\n",
    "    mpiexec -n 4 $AMANZI_TPLS_DIR/bin/meshconvert --classify=1 --partition --partition-method=2 ../hillslope_organic_layerbyid2.exo hillslope_organic_layerbyid2.par\n",
    "    \n",
    "    \n",
    "    \n",
    "    \n",
    "     ( --help)\n",
    "     ( --partition-method= 0 (default metis)\n",
    "                           1 (default zoltan)\n",
    "                           2 (zoltan partition in map view) . <---- use me for surface water\n",
    "    "
   ]
  }
 ],
 "metadata": {
  "kernelspec": {
   "display_name": "Python 3",
   "language": "python",
   "name": "python3"
  },
  "language_info": {
   "codemirror_mode": {
    "name": "ipython",
    "version": 3
   },
   "file_extension": ".py",
   "mimetype": "text/x-python",
   "name": "python",
   "nbconvert_exporter": "python",
   "pygments_lexer": "ipython3",
   "version": "3.8.8"
  }
 },
 "nbformat": 4,
 "nbformat_minor": 2
}
