{
 "cells": [
  {
   "cell_type": "markdown",
   "metadata": {},
   "source": [
    "\n",
    "\n",
    "# Richards' Equation, steady state"
   ]
  },
  {
   "cell_type": "markdown",
   "metadata": {},
   "source": [
    "This is a simple verticle, pseudo-1D column of water with a water table below the surface.  It solves the pressure to steady-state.  For constant density and incompressible solid, this would be a linear pressure profile. (but we include a pressure-dependent density.)\n",
    "\n",
    "The highlight of this problem is - \n",
    "#### Infiltration of water is taken into account: Neumann mass flux boundary - Top surface - -0.0005 $mol m^{-2} s^{-1}$\n",
    "#### Initial hydrostatic head: - 5 m\n",
    "Input parameters:\n",
    "\n",
    "1. Mesh size defined using Generated Mesh - Box type.\n",
    "- Low coordinate - (0,0,0), High coordinate - (1,1,10), number of cells - (1,1,100)\n",
    "- Creates a pseudo 1D water column with 100 cells along the z-direction.\n",
    "\n",
    "2. Solves the Richards equation\n",
    "\n",
    "3. Boundary condition - Neumann B.C: Mass flux on the top = -0.0005 mol m^{-2} s^{-1}\n",
    "\n",
    "4. Water Retention Parameters [WRM] - Van Genuchten Model : $alpha$ [$Pa^{-1}$] = 0.00015, m [-] = 0.8, residual saturation [-] = 0.\n",
    "\n",
    "5. Water content is calculated by Richards water content. \n",
    "\n",
    "\\begin{equation}\n",
    "            \\theta = n * s * \\phi *  {cell volume}\n",
    "\\end{equation}\n",
    "\n",
    "where n = molar density of liquid phase [mol $m^{-3}$], s = saturation of phase [-], $\\phi$ = porosity [-].\n",
    "\n",
    "6. The relative permeability method - upwind with Darcy flux - Relative permeability is defined on cells, but must be calculated on faces to multiply a flux.\n",
    "\n",
    "7. n = 0.25, K (Abs. permeability) = 2.5e-12 m^2, T_{initial} = 275.15 K,  g = (0,0,-9.8006m ms^{-2}), n_l = 55000 mol m^{-3}, dynamic_viscosity = 0.00089 Pas, Pore compressibility =  1e-09 Pa^{-1}.\n",
    "\n",
    "8. Hydrostatic head [m] = 6 m, Hydrostatic water density = 1000 kg m^{-3}\n",
    "\n",
    "9. Visualization - Entire domain, Times start period stop - (0, 0.1, -1) - (Start, period, stop). The time steps is 0.1, hence we will have a total of 10 results. \n",
    "\n",
    "\n",
    "### Richards equation:\n",
    "\n",
    "For transient state, the 3-D Richard's equation in variably saturated domain is:\n",
    "\\begin{equation}\n",
    "    \\frac{\\partial \\theta}{\\partial t} - \\triangledown \\frac{k_r n_l}{\\mu} K (\\triangledown p + \\rho g \\hat{z}) = Q_w \n",
    "\\end{equation}\n",
    "\n",
    "where, $\\theta$ = Extensive water content of the cell [mol], t = time variable [s], $\\triangledown$ = Divergence operator, $k_r$ = relative permeability [-], $n_l$ = molar density of liquid phase [mol $m^{-3}$], $\\mu$ = Absolute (Dynamic) viscosity of water (Pas), K = Absolute permeability [$m^{2}$], p = liquid pressure [Pa], $\\rho$ = density of water, $\\hat{z}$ = elevation [m], $Q_w$ = mass source of water [mol $s^{-1}$] \n",
    "\n",
    "For steady state, $\\frac{\\partial \\theta}{\\partial t}$ = 0 and $Q_w$ = -0.0005 mol m^{-2} s^{-1}.\n",
    "\n",
    "Hence the above equation reduces as:\n",
    "\\begin{equation}\n",
    "    \\triangledown \\frac{k_r n_l}{\\mu} K (\\triangledown p + \\rho g \\hat{z}) = Q_w\n",
    "\\end{equation}\n",
    "\n",
    "### Van-Genuchten Maulem  Model\n",
    "\n",
    "#### Defined in the function - $wrm_{vangenuchten}$\n",
    "\n",
    "The retention curve as given by [Schuh et al., 2017] :\n",
    "\n",
    "If $P_c$ > 0, $S_*$ ($P_c$) = $S_r$ + (1 - $S_r$) $[1 + (\\alpha P_c)^n]^{-m}$\n",
    "\n",
    "else $S_*$ ($P_c$) = 1\n",
    "\n",
    "\n",
    "Combined with the Mualem (1976) model for re-scaling liquid phase permeability:\n",
    "\\begin{equation}\n",
    "    k_{r1} = (s_l)^{0.5}[1 - (1 - (s_l)^{\\frac{1}{m}})^{m}]^{2}\n",
    "\\end{equation}\n",
    "\n",
    "where, $S_*$ - Retention curve for unfrozen liquid-gas phase, $S_r$ (-) - Residual saturation, $P_c$ (Pa) - Capillary pressure, and $\\alpha$ ($Pa^{-1}$), and m = 1 - 1/n - model parameters, $s_l$ = saturation of liquid\n",
    "\n",
    "The saturation of liquid and gas is equal to 1, i.e,\n",
    "\n",
    "$s_l + s_g = 1$\n",
    "\n",
    "\n",
    "The exponent m controls the shape of the soil retention curve and can be related to the pore size distribution of the texture, where larger values corresponds to smaller pore size variability i.e. to well-sorted textures.\n",
    "\n",
    "Combined with the Mualem (1976) model for re-scaling liquid phase permeability:\n",
    "\\begin{equation}\n",
    "    k_{r1} = (s_l)^{0.5}[1 - (1 - (s_l)^{\\frac{1}{m}})^{m}]^{2}\n",
    "\\end{equation}\n",
    "\n",
    "\n",
    "$s_l = S_* [-\\beta \\rho_i h_0 \\upsilon H (-\\upsilon) + (S_*)^{-1} (s_l + s_i)]$\n",
    " - However this equation includes the ice phase! - What is the equation used by the demo problem?\n",
    "\n",
    "Author: Ethan Coon (Initial code) and Radhakrishna"
   ]
  },
  {
   "cell_type": "code",
   "execution_count": 19,
   "metadata": {},
   "outputs": [],
   "source": [
    "%matplotlib inline"
   ]
  },
  {
   "cell_type": "code",
   "execution_count": 20,
   "metadata": {},
   "outputs": [],
   "source": [
    "import sys,os\n",
    "sys.path.append(os.path.join(os.environ['ATS_SRC_DIR'],'tools', 'utils'))\n",
    "import ats_xdmf\n",
    "import plot_column_data\n",
    "import numpy as np\n",
    "from matplotlib import pyplot as plt\n",
    "import h5py\n",
    "import pandas as pd\n",
    "import xml.etree.ElementTree as ET"
   ]
  },
  {
   "cell_type": "code",
   "execution_count": 21,
   "metadata": {},
   "outputs": [],
   "source": [
    "import warnings\n",
    "\n",
    "warnings.filterwarnings('ignore')"
   ]
  },
  {
   "cell_type": "code",
   "execution_count": 22,
   "metadata": {},
   "outputs": [],
   "source": [
    "# load the ATS solution\n",
    "directory = \"./richards-infiltration_2.demo\"\n",
    "vis = ats_xdmf.VisFile(directory)\n",
    "vis.loadMesh(columnar=True)\n"
   ]
  },
  {
   "cell_type": "markdown",
   "metadata": {},
   "source": [
    " - Lighter color signifies earlier time steps. "
   ]
  },
  {
   "cell_type": "markdown",
   "metadata": {},
   "source": [
    "VGC parameters: alpha = 0.00015, m = 0.8, w_res = 0"
   ]
  },
  {
   "cell_type": "code",
   "execution_count": 23,
   "metadata": {},
   "outputs": [
    {
     "data": {
      "image/png": "[encoded data removed]",
      "text/plain": [
       "<Figure size 576x432 with 2 Axes>"
      ]
     },
     "metadata": {
      "needs_background": "light"
     },
     "output_type": "display_data"
    }
   ],
   "source": [
    "# plot the solution\n",
    "fig = plt.figure(figsize=(8,6))\n",
    "axs = fig.subplots(1,2)\n",
    "plot_column_data.plot_subsurface(vis, ['saturation_liquid',], axs[0], None, 'b')\n",
    "plot_column_data.plot_subsurface(vis, ['pressure',], axs[1], None, 'r')\n",
    "axs[1].ticklabel_format(style='sci', axis='x', scilimits=(0,0))\n",
    "axs[0].set_xlabel('saturation [-]')\n",
    "axs[0].set_ylabel('z [m]')\n",
    "axs[1].set_xlabel('pressure [Pa]')\n",
    "axs[1].set_ylabel('z [m]')\n",
    "plt.tight_layout()\n",
    "plt.show()"
   ]
  },
  {
   "cell_type": "markdown",
   "metadata": {},
   "source": [
    "### Reading the input file"
   ]
  },
  {
   "cell_type": "code",
   "execution_count": 24,
   "metadata": {},
   "outputs": [],
   "source": [
    "tree = ET.parse('infiltration_2.xml')\n",
    "root = tree.getroot()"
   ]
  },
  {
   "cell_type": "code",
   "execution_count": 25,
   "metadata": {},
   "outputs": [
    {
     "name": "stdout",
     "output_type": "stream",
     "text": [
      "ParameterList \n",
      " {'name': 'Main', 'type': 'ParameterList'}\n"
     ]
    }
   ],
   "source": [
    "print(root.tag, '\\n', root.attrib)\n",
    "# At the top level, the XML is rooted in the Parameter list with the 'Main' type "
   ]
  },
  {
   "cell_type": "code",
   "execution_count": 26,
   "metadata": {},
   "outputs": [
    {
     "name": "stdout",
     "output_type": "stream",
     "text": [
      "{'name': 'mesh', 'type': 'ParameterList'}\n",
      "{'name': 'regions', 'type': 'ParameterList'}\n",
      "{'name': 'cycle driver', 'type': 'ParameterList'}\n",
      "{'name': 'checkpoint', 'type': 'ParameterList'}\n",
      "{'name': 'PKs', 'type': 'ParameterList'}\n",
      "{'name': 'state', 'type': 'ParameterList'}\n",
      "{'name': 'visualization'}\n"
     ]
    }
   ],
   "source": [
    "for child in root:\n",
    "    print(child.attrib)\n",
    "# Has mainly 7 sub-types - Mesh, Regions, Cycle driver, Checkpoint, Visualization, PKs, State etc.\n",
    "# Why does visualization not have a type?"
   ]
  },
  {
   "cell_type": "code",
   "execution_count": 27,
   "metadata": {},
   "outputs": [
    {
     "name": "stdout",
     "output_type": "stream",
     "text": [
      "Mesh - ParameterList \n",
      "\n",
      "{'name': 'mesh', 'type': 'ParameterList'}\n",
      "{'name': 'domain', 'type': 'ParameterList'}\n",
      "{'name': 'generate mesh parameters', 'type': 'ParameterList'}\n",
      "\n",
      "\n",
      "Mesh - Parameters \n",
      "\n",
      "{'name': 'mesh type', 'type': 'string', 'value': 'generate mesh'}\n",
      "{'name': 'build columns from set', 'type': 'string', 'value': 'surface'}\n",
      "{'name': 'number of cells', 'type': 'Array(int)', 'value': '{1,1,100}'}\n",
      "{'name': 'domain low coordinate', 'type': 'Array(double)', 'value': '{0.0,0.0,0.0}'}\n",
      "{'name': 'domain high coordinate', 'type': 'Array(double)', 'value': '{1.0,1.0,10.0}'}\n"
     ]
    }
   ],
   "source": [
    "# Printing the mesh attributes \n",
    "print('Mesh - ParameterList \\n')\n",
    "for mesh in root[0].iter('ParameterList'):\n",
    "    print(mesh.attrib)\n",
    "\n",
    "print('\\n')\n",
    "\n",
    "print('Mesh - Parameters \\n')\n",
    "for mesh in root[0].iter('Parameter'):\n",
    "    print(mesh.attrib)"
   ]
  },
  {
   "cell_type": "code",
   "execution_count": 28,
   "metadata": {},
   "outputs": [
    {
     "name": "stdout",
     "output_type": "stream",
     "text": [
      "State - ParameterList \n",
      "\n",
      "{'name': 'state', 'type': 'ParameterList'}\n",
      "{'name': 'field evaluators', 'type': 'ParameterList'}\n",
      "{'name': 'water_content', 'type': 'ParameterList'}\n",
      "{'name': 'capillary_pressure_gas_liq', 'type': 'ParameterList'}\n",
      "{'name': 'mass_density_liquid', 'type': 'ParameterList'}\n",
      "{'name': 'molar_density_liquid', 'type': 'ParameterList'}\n",
      "{'name': 'viscosity_liquid', 'type': 'ParameterList'}\n",
      "{'name': 'base_porosity', 'type': 'ParameterList'}\n",
      "{'name': 'function', 'type': 'ParameterList'}\n",
      "{'name': 'domain', 'type': 'ParameterList'}\n",
      "{'name': 'function', 'type': 'ParameterList'}\n",
      "{'name': 'function-constant', 'type': 'ParameterList'}\n",
      "{'name': 'verbose object', 'type': 'ParameterList'}\n",
      "{'name': 'porosity'}\n",
      "{'name': 'compressible porosity model parameters'}\n",
      "{'name': 'computational domain'}\n",
      "{'name': 'permeability', 'type': 'ParameterList'}\n",
      "{'name': 'function', 'type': 'ParameterList'}\n",
      "{'name': 'domain', 'type': 'ParameterList'}\n",
      "{'name': 'function', 'type': 'ParameterList'}\n",
      "{'name': 'function-constant', 'type': 'ParameterList'}\n",
      "{'name': 'verbose object', 'type': 'ParameterList'}\n",
      "{'name': 'initial conditions', 'type': 'ParameterList'}\n",
      "{'name': 'atmospheric_pressure', 'type': 'ParameterList'}\n",
      "{'name': 'gravity', 'type': 'ParameterList'}\n",
      "\n",
      "\n",
      "State - Parameters \n",
      "\n",
      "{'name': 'field evaluator type', 'type': 'string', 'value': 'richards water content'}\n",
      "{'name': 'field evaluator type', 'type': 'string', 'value': 'capillary pressure, atmospheric gas over liquid'}\n",
      "{'name': 'field evaluator type', 'type': 'string', 'value': 'independent variable constant'}\n",
      "{'name': 'value', 'type': 'double', 'value': '1000.0'}\n",
      "{'name': 'field evaluator type', 'type': 'string', 'value': 'independent variable constant'}\n",
      "{'name': 'value', 'type': 'double', 'value': '55000.0'}\n",
      "{'name': 'field evaluator type', 'type': 'string', 'value': 'independent variable constant'}\n",
      "{'name': 'value', 'type': 'double', 'value': '0.00089'}\n",
      "{'name': 'field evaluator type', 'type': 'string', 'value': 'independent variable'}\n",
      "{'name': 'constant in time', 'type': 'bool', 'value': 'true'}\n",
      "{'name': 'region', 'type': 'string', 'value': 'computational domain'}\n",
      "{'name': 'component', 'type': 'string', 'value': 'cell'}\n",
      "{'name': 'value', 'type': 'double', 'value': '0.25'}\n",
      "{'name': 'verbosity level', 'type': 'string', 'value': 'low'}\n",
      "{'name': 'field evaluator type', 'type': 'string', 'value': 'compressible porosity'}\n",
      "{'name': 'region', 'type': 'string', 'value': 'computational domain'}\n",
      "{'name': 'pore compressibility [Pa^-1]', 'type': 'double', 'value': '1e-09'}\n",
      "{'name': 'field evaluator type', 'type': 'string', 'value': 'independent variable'}\n",
      "{'name': 'constant in time', 'type': 'bool', 'value': 'true'}\n",
      "{'name': 'region', 'type': 'string', 'value': 'computational domain'}\n",
      "{'name': 'component', 'type': 'string', 'value': 'cell'}\n",
      "{'name': 'value', 'type': 'double', 'value': '2.5e-12'}\n",
      "{'name': 'verbosity level', 'type': 'string', 'value': 'low'}\n",
      "{'name': 'value', 'type': 'double', 'value': '101325.0'}\n",
      "{'name': 'value', 'type': 'Array(double)', 'value': '{0.0,0.0,-9.80665}'}\n"
     ]
    }
   ],
   "source": [
    "# Printing the mesh attributes \n",
    "print('State - ParameterList \\n')\n",
    "for mesh in root[5].iter('ParameterList'):\n",
    "    print(mesh.attrib)\n",
    "\n",
    "print('\\n')\n",
    "\n",
    "print('State - Parameters \\n')\n",
    "for mesh in root[5].iter('Parameter'):\n",
    "    print(mesh.attrib)"
   ]
  },
  {
   "cell_type": "code",
   "execution_count": 29,
   "metadata": {},
   "outputs": [],
   "source": [
    "def plot(dirname, title):\n",
    "    \"\"\"A generic plotting function that plots saturation as a function of depth.\"\"\"\n",
    "    fig = plt.figure()\n",
    "\n",
    "    vis = ats_xdmf.VisFile(dirname, time_unit='d')\n",
    "    vis.loadMesh(columnar=True)\n",
    "    \n",
    "    # plot the solution\n",
    "    ax = fig.subplots(1,1)\n",
    "    plot_column_data.plot_subsurface(vis, ['saturation_liquid',], ax, None, cmap='jet')\n",
    "\n",
    "    ax.set_xlabel('saturation [-]')\n",
    "    ax.set_ylabel('z [m]')"
   ]
  },
  {
   "cell_type": "markdown",
   "metadata": {},
   "source": [
    "Plot by Author - Ethan coon - The first example simply looks at infiltrating into a column, slowly filling up the subsurface.  Note that the color scheme goes from the initial condition in blue to later times in red."
   ]
  },
  {
   "cell_type": "code",
   "execution_count": 30,
   "metadata": {},
   "outputs": [
    {
     "data": {
      "image/png": "[encoded data removed]",
      "text/plain": [
       "<Figure size 432x288 with 1 Axes>"
      ]
     },
     "metadata": {
      "needs_background": "light"
     },
     "output_type": "display_data"
    }
   ],
   "source": [
    "plot(\"./richards-infiltration_2.demo/\", \"infiltration example\")"
   ]
  },
  {
   "cell_type": "markdown",
   "metadata": {},
   "source": [
    "### RK - work"
   ]
  },
  {
   "cell_type": "code",
   "execution_count": 31,
   "metadata": {},
   "outputs": [],
   "source": [
    "# load the ATS solution\n",
    "directory = \"./richards-infiltration_2.demo/\"\n",
    "vis = ats_xdmf.VisFile(directory)\n",
    "vis.loadMesh(columnar=True)"
   ]
  },
  {
   "cell_type": "code",
   "execution_count": 32,
   "metadata": {},
   "outputs": [
    {
     "name": "stdout",
     "output_type": "stream",
     "text": [
      "List of datasets in this file: \n",
      " \n",
      " ['base_porosity.cell.0', 'capillary_pressure_gas_liq.cell.0', 'cell_volume.cell.0', 'darcy_velocity.cell.0', 'darcy_velocity.cell.1', 'darcy_velocity.cell.2', 'mass_density_liquid.cell.0', 'molar_density_liquid.cell.0', 'permeability.cell.0', 'porosity.cell.0', 'pressure.cell.0', 'relative_permeability.cell.0', 'saturation_gas.cell.0', 'saturation_liquid.cell.0', 'viscosity_liquid.cell.0', 'water_content.cell.0']\n",
      "\n",
      "\n",
      "<HDF5 group \"/base_porosity.cell.0\" (11 members)>\n"
     ]
    }
   ],
   "source": [
    "with h5py.File('richards-infiltration_2.demo/ats_vis_data.h5','r') as hdf:\n",
    "    ls = list(hdf.keys())\n",
    "    print('List of datasets in this file: \\n \\n', ls)\n",
    "    print('\\n')\n",
    "    porosity = hdf.get('base_porosity.cell.0')\n",
    "    print(porosity)"
   ]
  },
  {
   "cell_type": "markdown",
   "metadata": {},
   "source": [
    "* Has a total of 11 members (10 for results and 1 for initial condition)"
   ]
  },
  {
   "cell_type": "code",
   "execution_count": 33,
   "metadata": {},
   "outputs": [],
   "source": [
    "def inputfiles_pddataframes(file_name,t):\n",
    "    \"\"\"\n",
    "    The function is defined to read the input files from the ats simulation. \n",
    "    For each time instance, a dataframe can store the data.\n",
    " \n",
    "    Parameters\n",
    "    ------\n",
    "    \n",
    "    Input parameters:\n",
    "    \n",
    "    file_name : Provide the path to access the file name. \n",
    "    Ex: 'richards_steadystate.demo/ats_vis_data.h5'\n",
    "    \n",
    "    t : The time instance at which the data is required.\n",
    "    Ex: cell_volume.cell.0/{t} - here 0/0 - signifies the first directory (with data at t=0), \n",
    "    similary 0/1 - signifies the second directory (with data at t=1).\n",
    "            \n",
    "    Output parameters:\n",
    "    \n",
    "    data_results : pandas dataframe with all the key elements of the simulation.\n",
    "    \n",
    "    \"\"\"\n",
    "    \n",
    "    with h5py.File(file_name,'r') as hdf:\n",
    "        # Cell_volume\n",
    "        cell_volume_all = np.array(hdf.get(f'cell_volume.cell.0/{t}'))\n",
    "        cell_volume = cell_volume_all.flatten()\n",
    "\n",
    "        # Storing the variables/constants in a dataframe - Do we have a direct function to do this? \n",
    "        # Can we simplify the code?\n",
    "        z = np.arange(0.0,10.0,0.1)\n",
    "        data_results = pd.DataFrame(index=z,data=cell_volume,columns=['cell_volume'])\n",
    "\n",
    "        mass_density_all = np.array(hdf.get(f'mass_density_liquid.cell.0/{t}'))\n",
    "        mass_density = mass_density_all.flatten()\n",
    "        data_results['mass_density [rho_l] [kg m^{-3}]'] = mass_density\n",
    "\n",
    "\n",
    "\n",
    "        molar_density_all = np.array(hdf.get(f'molar_density_liquid.cell.0/{t}'))\n",
    "        molar_density = molar_density_all.flatten()\n",
    "        data_results['molar_density [n_l] [mol m^{-3}]'] = molar_density\n",
    "\n",
    "\n",
    "        permeability_all = np.array(hdf.get(f'permeability.cell.0/{t}'))\n",
    "        permeability = permeability_all.flatten()\n",
    "        data_results['Absolute permeability [K] (m^{2})'] = permeability\n",
    "\n",
    "\n",
    "\n",
    "        porosity_all = np.array(hdf.get(f'porosity.cell.0/{t}'))\n",
    "        porosity = porosity_all.flatten()\n",
    "        data_results['Porosity [phi] (-)'] = porosity\n",
    "\n",
    "        pressure_all = np.array(hdf.get(f'pressure.cell.0/{t}'))\n",
    "        pressure = pressure_all.flatten()\n",
    "        data_results['Abs pressure [p_abs] [Pa]'] = pressure \n",
    "        # Water pressure or total pressure (Atm + water)? - Probably both\n",
    "\n",
    "        relative_permeability_all = np.array(hdf.get(f'relative_permeability.cell.0/{t}'))\n",
    "        relative_permeability = relative_permeability_all.flatten()\n",
    "        data_results['Relative permeability [kr] [-]'] = relative_permeability\n",
    "\n",
    "\n",
    "        saturation_gas_all = np.array(hdf.get(f'saturation_gas.cell.0/{t}'))\n",
    "        saturation_gas = saturation_gas_all.flatten()\n",
    "        data_results['Saturation of gas [s_g] [-]'] = saturation_gas\n",
    "\n",
    "\n",
    "        saturation_liquid_all = np.array(hdf.get(f'saturation_liquid.cell.0/{t}'))\n",
    "        saturation_liquid = saturation_liquid_all.flatten()\n",
    "        data_results['Saturation of liquid [s_l] [-]'] = saturation_liquid\n",
    "\n",
    "\n",
    "        #temperature_all = np.array(hdf.get(f'temperature.cell.0/{t}'))\n",
    "        #temperature = temperature_all.flatten()\n",
    "        #data_results['Temperature [T] [K]'] = temperature\n",
    "\n",
    "\n",
    "        viscosity_liquid_all = np.array(hdf.get(f'viscosity_liquid.cell.0/{t}'))\n",
    "        viscosity_liquid = viscosity_liquid_all.flatten()\n",
    "        data_results['viscosity_liquid [v] Pas]'] = viscosity_liquid\n",
    "\n",
    "\n",
    "        water_content_all = np.array(hdf.get(f'water_content.cell.0/{t}'))\n",
    "        water_content = water_content_all.flatten()\n",
    "        data_results['water_content [theta] mols'] = water_content\n",
    "        \n",
    "        return data_results"
   ]
  },
  {
   "cell_type": "code",
   "execution_count": 34,
   "metadata": {},
   "outputs": [
    {
     "name": "stdout",
     "output_type": "stream",
     "text": [
      "[  0 166 175 178 180 181 182 183 184 185 186]\n"
     ]
    }
   ],
   "source": [
    "# Determining the time instances at which the data is stored\n",
    "\n",
    "with h5py.File('richards-infiltration_2.demo/ats_vis_data.h5','r') as hdf:\n",
    "        # Cell_volume\n",
    "        cell_volume_all = np.array(hdf.get(f'cell_volume.cell.0'))\n",
    "        time_period = cell_volume_all.astype('int64')\n",
    "        print(time_period)\n",
    "        # Time series stored in an irregular format! - \n",
    "        # ['0' '100' '103' '104' '105' '106' '107' '108' '109' '110' '111']"
   ]
  },
  {
   "cell_type": "markdown",
   "metadata": {},
   "source": [
    "### Storing the data for all time instances"
   ]
  },
  {
   "cell_type": "code",
   "execution_count": 35,
   "metadata": {},
   "outputs": [],
   "source": [
    "for i in time_period:\n",
    "    # https://stackoverflow.com/questions/1060090/changing-variable-names-with-python-for-loops\n",
    "    locals()[\"data_results_\"+str(i)] = inputfiles_pddataframes(file_name='richards-infiltration_2.demo/ats_vis_data.h5', t=i)"
   ]
  },
  {
   "cell_type": "markdown",
   "metadata": {},
   "source": [
    "### Plotting the initial pressure:"
   ]
  },
  {
   "cell_type": "code",
   "execution_count": 36,
   "metadata": {},
   "outputs": [
    {
     "data": {
      "text/plain": [
       "0.0    149867.9175\n",
       "0.1    148887.2525\n",
       "0.2    147906.5875\n",
       "0.3    146925.9225\n",
       "0.4    145945.2575\n",
       "          ...     \n",
       "9.5     56704.7425\n",
       "9.6     55724.0775\n",
       "9.7     54743.4125\n",
       "9.8     53762.7475\n",
       "9.9     52782.0825\n",
       "Name: Abs pressure [p_abs] [Pa], Length: 100, dtype: float64"
      ]
     },
     "execution_count": 36,
     "metadata": {},
     "output_type": "execute_result"
    }
   ],
   "source": [
    "data_results_0['Abs pressure [p_abs] [Pa]']"
   ]
  },
  {
   "cell_type": "code",
   "execution_count": 38,
   "metadata": {},
   "outputs": [
    {
     "data": {
      "text/html": [
       "<div>\n",
       "<style scoped>\n",
       "    .dataframe tbody tr th:only-of-type {\n",
       "        vertical-align: middle;\n",
       "    }\n",
       "\n",
       "    .dataframe tbody tr th {\n",
       "        vertical-align: top;\n",
       "    }\n",
       "\n",
       "    .dataframe thead th {\n",
       "        text-align: right;\n",
       "    }\n",
       "</style>\n",
       "<table border=\"1\" class=\"dataframe\">\n",
       "  <thead>\n",
       "    <tr style=\"text-align: right;\">\n",
       "      <th></th>\n",
       "      <th>cell_volume</th>\n",
       "      <th>mass_density [rho_l] [kg m^{-3}]</th>\n",
       "      <th>molar_density [n_l] [mol m^{-3}]</th>\n",
       "      <th>Absolute permeability [K] (m^{2})</th>\n",
       "      <th>Porosity [phi] (-)</th>\n",
       "      <th>Abs pressure [p_abs] [Pa]</th>\n",
       "      <th>Relative permeability [kr] [-]</th>\n",
       "      <th>Saturation of gas [s_g] [-]</th>\n",
       "      <th>Saturation of liquid [s_l] [-]</th>\n",
       "      <th>viscosity_liquid [v] Pas]</th>\n",
       "      <th>water_content [theta] mols</th>\n",
       "      <th>Water pressure [p_l] [Pa]</th>\n",
       "      <th>Pressure head [m]</th>\n",
       "      <th>Elevation head [m]</th>\n",
       "      <th>Hydraulic head [m]</th>\n",
       "      <th>Atmospheric pressure head [m]</th>\n",
       "    </tr>\n",
       "  </thead>\n",
       "  <tbody>\n",
       "    <tr>\n",
       "      <th>0.0</th>\n",
       "      <td>0.1</td>\n",
       "      <td>1000.0</td>\n",
       "      <td>55000.0</td>\n",
       "      <td>2.500000e-12</td>\n",
       "      <td>0.250048</td>\n",
       "      <td>149867.9175</td>\n",
       "      <td>6.179775e+00</td>\n",
       "      <td>0.000000</td>\n",
       "      <td>1.000000</td>\n",
       "      <td>0.00089</td>\n",
       "      <td>1375.264236</td>\n",
       "      <td>48542.9175</td>\n",
       "      <td>4.953056</td>\n",
       "      <td>0.0</td>\n",
       "      <td>4.953056</td>\n",
       "      <td>10.338653</td>\n",
       "    </tr>\n",
       "    <tr>\n",
       "      <th>0.1</th>\n",
       "      <td>0.1</td>\n",
       "      <td>1000.0</td>\n",
       "      <td>55000.0</td>\n",
       "      <td>2.500000e-12</td>\n",
       "      <td>0.250047</td>\n",
       "      <td>148887.2525</td>\n",
       "      <td>6.179775e+00</td>\n",
       "      <td>0.000000</td>\n",
       "      <td>1.000000</td>\n",
       "      <td>0.00089</td>\n",
       "      <td>1375.258842</td>\n",
       "      <td>47562.2525</td>\n",
       "      <td>4.852994</td>\n",
       "      <td>0.1</td>\n",
       "      <td>4.952994</td>\n",
       "      <td>10.338653</td>\n",
       "    </tr>\n",
       "    <tr>\n",
       "      <th>0.2</th>\n",
       "      <td>0.1</td>\n",
       "      <td>1000.0</td>\n",
       "      <td>55000.0</td>\n",
       "      <td>2.500000e-12</td>\n",
       "      <td>0.250046</td>\n",
       "      <td>147906.5875</td>\n",
       "      <td>6.179775e+00</td>\n",
       "      <td>0.000000</td>\n",
       "      <td>1.000000</td>\n",
       "      <td>0.00089</td>\n",
       "      <td>1375.253449</td>\n",
       "      <td>46581.5875</td>\n",
       "      <td>4.752932</td>\n",
       "      <td>0.2</td>\n",
       "      <td>4.952932</td>\n",
       "      <td>10.338653</td>\n",
       "    </tr>\n",
       "    <tr>\n",
       "      <th>0.3</th>\n",
       "      <td>0.1</td>\n",
       "      <td>1000.0</td>\n",
       "      <td>55000.0</td>\n",
       "      <td>2.500000e-12</td>\n",
       "      <td>0.250045</td>\n",
       "      <td>146925.9225</td>\n",
       "      <td>6.179775e+00</td>\n",
       "      <td>0.000000</td>\n",
       "      <td>1.000000</td>\n",
       "      <td>0.00089</td>\n",
       "      <td>1375.248055</td>\n",
       "      <td>45600.9225</td>\n",
       "      <td>4.652870</td>\n",
       "      <td>0.3</td>\n",
       "      <td>4.952870</td>\n",
       "      <td>10.338653</td>\n",
       "    </tr>\n",
       "    <tr>\n",
       "      <th>0.4</th>\n",
       "      <td>0.1</td>\n",
       "      <td>1000.0</td>\n",
       "      <td>55000.0</td>\n",
       "      <td>2.500000e-12</td>\n",
       "      <td>0.250044</td>\n",
       "      <td>145945.2575</td>\n",
       "      <td>6.179775e+00</td>\n",
       "      <td>0.000000</td>\n",
       "      <td>1.000000</td>\n",
       "      <td>0.00089</td>\n",
       "      <td>1375.242661</td>\n",
       "      <td>44620.2575</td>\n",
       "      <td>4.552809</td>\n",
       "      <td>0.4</td>\n",
       "      <td>4.952809</td>\n",
       "      <td>10.338653</td>\n",
       "    </tr>\n",
       "    <tr>\n",
       "      <th>...</th>\n",
       "      <td>...</td>\n",
       "      <td>...</td>\n",
       "      <td>...</td>\n",
       "      <td>...</td>\n",
       "      <td>...</td>\n",
       "      <td>...</td>\n",
       "      <td>...</td>\n",
       "      <td>...</td>\n",
       "      <td>...</td>\n",
       "      <td>...</td>\n",
       "      <td>...</td>\n",
       "      <td>...</td>\n",
       "      <td>...</td>\n",
       "      <td>...</td>\n",
       "      <td>...</td>\n",
       "      <td>...</td>\n",
       "    </tr>\n",
       "    <tr>\n",
       "      <th>9.5</th>\n",
       "      <td>0.1</td>\n",
       "      <td>1000.0</td>\n",
       "      <td>55000.0</td>\n",
       "      <td>2.500000e-12</td>\n",
       "      <td>0.250000</td>\n",
       "      <td>56704.7425</td>\n",
       "      <td>4.893297e-10</td>\n",
       "      <td>0.999502</td>\n",
       "      <td>0.000498</td>\n",
       "      <td>0.00089</td>\n",
       "      <td>0.685147</td>\n",
       "      <td>-44620.2575</td>\n",
       "      <td>-4.552809</td>\n",
       "      <td>9.5</td>\n",
       "      <td>4.947191</td>\n",
       "      <td>10.338653</td>\n",
       "    </tr>\n",
       "    <tr>\n",
       "      <th>9.6</th>\n",
       "      <td>0.1</td>\n",
       "      <td>1000.0</td>\n",
       "      <td>55000.0</td>\n",
       "      <td>2.500000e-12</td>\n",
       "      <td>0.250000</td>\n",
       "      <td>55724.0775</td>\n",
       "      <td>3.769730e-10</td>\n",
       "      <td>0.999543</td>\n",
       "      <td>0.000457</td>\n",
       "      <td>0.00089</td>\n",
       "      <td>0.628087</td>\n",
       "      <td>-45600.9225</td>\n",
       "      <td>-4.652870</td>\n",
       "      <td>9.6</td>\n",
       "      <td>4.947130</td>\n",
       "      <td>10.338653</td>\n",
       "    </tr>\n",
       "    <tr>\n",
       "      <th>9.7</th>\n",
       "      <td>0.1</td>\n",
       "      <td>1000.0</td>\n",
       "      <td>55000.0</td>\n",
       "      <td>2.500000e-12</td>\n",
       "      <td>0.250000</td>\n",
       "      <td>54743.4125</td>\n",
       "      <td>2.920309e-10</td>\n",
       "      <td>0.999580</td>\n",
       "      <td>0.000420</td>\n",
       "      <td>0.00089</td>\n",
       "      <td>0.576846</td>\n",
       "      <td>-46581.5875</td>\n",
       "      <td>-4.752932</td>\n",
       "      <td>9.7</td>\n",
       "      <td>4.947068</td>\n",
       "      <td>10.338653</td>\n",
       "    </tr>\n",
       "    <tr>\n",
       "      <th>9.8</th>\n",
       "      <td>0.1</td>\n",
       "      <td>1000.0</td>\n",
       "      <td>55000.0</td>\n",
       "      <td>2.500000e-12</td>\n",
       "      <td>0.250000</td>\n",
       "      <td>53762.7475</td>\n",
       "      <td>2.274348e-10</td>\n",
       "      <td>0.999614</td>\n",
       "      <td>0.000386</td>\n",
       "      <td>0.00089</td>\n",
       "      <td>0.530725</td>\n",
       "      <td>-47562.2525</td>\n",
       "      <td>-4.852994</td>\n",
       "      <td>9.8</td>\n",
       "      <td>4.947006</td>\n",
       "      <td>10.338653</td>\n",
       "    </tr>\n",
       "    <tr>\n",
       "      <th>9.9</th>\n",
       "      <td>0.1</td>\n",
       "      <td>1000.0</td>\n",
       "      <td>55000.0</td>\n",
       "      <td>2.500000e-12</td>\n",
       "      <td>0.250000</td>\n",
       "      <td>52782.0825</td>\n",
       "      <td>1.780329e-10</td>\n",
       "      <td>0.999644</td>\n",
       "      <td>0.000356</td>\n",
       "      <td>0.00089</td>\n",
       "      <td>0.489122</td>\n",
       "      <td>-48542.9175</td>\n",
       "      <td>-4.953056</td>\n",
       "      <td>9.9</td>\n",
       "      <td>4.946944</td>\n",
       "      <td>10.338653</td>\n",
       "    </tr>\n",
       "  </tbody>\n",
       "</table>\n",
       "<p>100 rows × 16 columns</p>\n",
       "</div>"
      ],
      "text/plain": [
       "     cell_volume  mass_density [rho_l] [kg m^{-3}]  \\\n",
       "0.0          0.1                            1000.0   \n",
       "0.1          0.1                            1000.0   \n",
       "0.2          0.1                            1000.0   \n",
       "0.3          0.1                            1000.0   \n",
       "0.4          0.1                            1000.0   \n",
       "..           ...                               ...   \n",
       "9.5          0.1                            1000.0   \n",
       "9.6          0.1                            1000.0   \n",
       "9.7          0.1                            1000.0   \n",
       "9.8          0.1                            1000.0   \n",
       "9.9          0.1                            1000.0   \n",
       "\n",
       "     molar_density [n_l] [mol m^{-3}]  Absolute permeability [K] (m^{2})  \\\n",
       "0.0                           55000.0                       2.500000e-12   \n",
       "0.1                           55000.0                       2.500000e-12   \n",
       "0.2                           55000.0                       2.500000e-12   \n",
       "0.3                           55000.0                       2.500000e-12   \n",
       "0.4                           55000.0                       2.500000e-12   \n",
       "..                                ...                                ...   \n",
       "9.5                           55000.0                       2.500000e-12   \n",
       "9.6                           55000.0                       2.500000e-12   \n",
       "9.7                           55000.0                       2.500000e-12   \n",
       "9.8                           55000.0                       2.500000e-12   \n",
       "9.9                           55000.0                       2.500000e-12   \n",
       "\n",
       "     Porosity [phi] (-)  Abs pressure [p_abs] [Pa]  \\\n",
       "0.0            0.250048                149867.9175   \n",
       "0.1            0.250047                148887.2525   \n",
       "0.2            0.250046                147906.5875   \n",
       "0.3            0.250045                146925.9225   \n",
       "0.4            0.250044                145945.2575   \n",
       "..                  ...                        ...   \n",
       "9.5            0.250000                 56704.7425   \n",
       "9.6            0.250000                 55724.0775   \n",
       "9.7            0.250000                 54743.4125   \n",
       "9.8            0.250000                 53762.7475   \n",
       "9.9            0.250000                 52782.0825   \n",
       "\n",
       "     Relative permeability [kr] [-]  Saturation of gas [s_g] [-]  \\\n",
       "0.0                    6.179775e+00                     0.000000   \n",
       "0.1                    6.179775e+00                     0.000000   \n",
       "0.2                    6.179775e+00                     0.000000   \n",
       "0.3                    6.179775e+00                     0.000000   \n",
       "0.4                    6.179775e+00                     0.000000   \n",
       "..                              ...                          ...   \n",
       "9.5                    4.893297e-10                     0.999502   \n",
       "9.6                    3.769730e-10                     0.999543   \n",
       "9.7                    2.920309e-10                     0.999580   \n",
       "9.8                    2.274348e-10                     0.999614   \n",
       "9.9                    1.780329e-10                     0.999644   \n",
       "\n",
       "     Saturation of liquid [s_l] [-]  viscosity_liquid [v] Pas]  \\\n",
       "0.0                        1.000000                    0.00089   \n",
       "0.1                        1.000000                    0.00089   \n",
       "0.2                        1.000000                    0.00089   \n",
       "0.3                        1.000000                    0.00089   \n",
       "0.4                        1.000000                    0.00089   \n",
       "..                              ...                        ...   \n",
       "9.5                        0.000498                    0.00089   \n",
       "9.6                        0.000457                    0.00089   \n",
       "9.7                        0.000420                    0.00089   \n",
       "9.8                        0.000386                    0.00089   \n",
       "9.9                        0.000356                    0.00089   \n",
       "\n",
       "     water_content [theta] mols  Water pressure [p_l] [Pa]  Pressure head [m]  \\\n",
       "0.0                 1375.264236                 48542.9175           4.953056   \n",
       "0.1                 1375.258842                 47562.2525           4.852994   \n",
       "0.2                 1375.253449                 46581.5875           4.752932   \n",
       "0.3                 1375.248055                 45600.9225           4.652870   \n",
       "0.4                 1375.242661                 44620.2575           4.552809   \n",
       "..                          ...                        ...                ...   \n",
       "9.5                    0.685147                -44620.2575          -4.552809   \n",
       "9.6                    0.628087                -45600.9225          -4.652870   \n",
       "9.7                    0.576846                -46581.5875          -4.752932   \n",
       "9.8                    0.530725                -47562.2525          -4.852994   \n",
       "9.9                    0.489122                -48542.9175          -4.953056   \n",
       "\n",
       "     Elevation head [m]  Hydraulic head [m]  Atmospheric pressure head [m]  \n",
       "0.0                 0.0            4.953056                      10.338653  \n",
       "0.1                 0.1            4.952994                      10.338653  \n",
       "0.2                 0.2            4.952932                      10.338653  \n",
       "0.3                 0.3            4.952870                      10.338653  \n",
       "0.4                 0.4            4.952809                      10.338653  \n",
       "..                  ...                 ...                            ...  \n",
       "9.5                 9.5            4.947191                      10.338653  \n",
       "9.6                 9.6            4.947130                      10.338653  \n",
       "9.7                 9.7            4.947068                      10.338653  \n",
       "9.8                 9.8            4.947006                      10.338653  \n",
       "9.9                 9.9            4.946944                      10.338653  \n",
       "\n",
       "[100 rows x 16 columns]"
      ]
     },
     "execution_count": 38,
     "metadata": {},
     "output_type": "execute_result"
    }
   ],
   "source": [
    "rho_avg = 1000 # kg m^{-3} - Provided by the developer \n",
    "g = 9.8006 # ms^{-2} - Provided by the user, g = (0,0,-9.8006m ms^{-2})\n",
    "p_0 = 101325 # Pa\n",
    "\n",
    "# Calculating the water pressure = p_abs -p_0\n",
    "data_results_0['Water pressure [p_l] [Pa]'] = data_results_0['Abs pressure [p_abs] [Pa]'] - p_0\n",
    "\n",
    "data_results_0['Pressure head [m]'] = data_results_0['Water pressure [p_l] [Pa]']/(rho_avg*g)\n",
    "\n",
    "data_results_0['Elevation head [m]'] = data_results_0.index\n",
    "\n",
    "data_results_0['Hydraulic head [m]'] = data_results_0['Pressure head [m]'] + data_results_0['Elevation head [m]']\n",
    "\n",
    "data_results_0['Atmospheric pressure head [m]'] = 101325/(rho_avg*g)\n",
    "\n",
    "data_results_0"
   ]
  },
  {
   "cell_type": "code",
   "execution_count": 44,
   "metadata": {},
   "outputs": [
    {
     "data": {
      "text/plain": [
       "array([0. , 0.1, 0.2, 0.3, 0.4, 0.5, 0.6, 0.7, 0.8, 0.9, 1. , 1.1, 1.2,\n",
       "       1.3, 1.4, 1.5, 1.6, 1.7, 1.8, 1.9, 2. , 2.1, 2.2, 2.3, 2.4, 2.5,\n",
       "       2.6, 2.7, 2.8, 2.9, 3. , 3.1, 3.2, 3.3, 3.4, 3.5, 3.6, 3.7, 3.8,\n",
       "       3.9, 4. , 4.1, 4.2, 4.3, 4.4, 4.5, 4.6, 4.7, 4.8, 4.9, 5. , 5.1,\n",
       "       5.2, 5.3, 5.4, 5.5, 5.6, 5.7, 5.8, 5.9, 6. , 6.1, 6.2, 6.3, 6.4,\n",
       "       6.5, 6.6, 6.7, 6.8, 6.9, 7. , 7.1, 7.2, 7.3, 7.4, 7.5, 7.6, 7.7,\n",
       "       7.8, 7.9, 8. , 8.1, 8.2, 8.3, 8.4, 8.5, 8.6, 8.7, 8.8, 8.9, 9. ,\n",
       "       9.1, 9.2, 9.3, 9.4, 9.5, 9.6, 9.7, 9.8, 9.9])"
      ]
     },
     "execution_count": 44,
     "metadata": {},
     "output_type": "execute_result"
    }
   ],
   "source": []
  },
  {
   "cell_type": "code",
   "execution_count": 45,
   "metadata": {},
   "outputs": [
    {
     "data": {
      "image/png": "[encoded data removed]",
      "text/plain": [
       "<Figure size 576x432 with 1 Axes>"
      ]
     },
     "metadata": {
      "needs_background": "light"
     },
     "output_type": "display_data"
    }
   ],
   "source": [
    "# To find the elevation where -ve pressure head begins\n",
    "#z_drop = data_results_0[data_results_0['Pressure head [m]'].le(0)].index[0]\n",
    "\n",
    "z = np.arange(0,10,0.1)\n",
    "\n",
    "fig = plt.figure(figsize=(8,6))\n",
    "\n",
    "plt.title('Hydraulic, Elevation, Pressure, Atmospheric pressure head - in 1-D soil column')\n",
    "plt.plot(data_results_0['Abs pressure [p_abs] [Pa]']/(rho_avg*g), z, 'y', label='Absolute Pressure head [m]')\n",
    "plt.plot(data_results_0['Pressure head [m]'], z, 'r', label='Water pressure head [m]')\n",
    "plt.plot(data_results_0['Elevation head [m]'], z, 'g', label='Elevation head [m]')\n",
    "plt.plot(data_results_0['Hydraulic head [m]'], z, 'b', label='Hydraulic head [m]')\n",
    "plt.plot(data_results_0['Atmospheric pressure head [m]'], z, 'k', label='Atmospheric pressure head [m]')\n",
    "#plt.axhline(y=z_drop,color='k',linestyle='--',label=f'z_drop = {z_drop}')\n",
    "plt.ylabel('z [m]')\n",
    "plt.xlabel(' Heads [m]')\n",
    "plt.legend()\n",
    "plt.tight_layout()\n",
    "plt.show()"
   ]
  },
  {
   "cell_type": "markdown",
   "metadata": {},
   "source": [
    "### Plotting relative permeability"
   ]
  },
  {
   "cell_type": "code",
   "execution_count": 46,
   "metadata": {},
   "outputs": [
    {
     "data": {
      "image/png": "[encoded data removed]",
      "text/plain": [
       "<Figure size 432x432 with 1 Axes>"
      ]
     },
     "metadata": {
      "needs_background": "light"
     },
     "output_type": "display_data"
    }
   ],
   "source": [
    "fig = plt.figure(figsize=(6,6))\n",
    "\n",
    "plt.title('Relative permeability - Upwind with Darcy flux (initial)')\n",
    "plt.plot(data_results_0['Relative permeability [kr] [-]'],z, 'b')\n",
    "\n",
    "plt.xlabel('Relative permeability [kr] [-]')\n",
    "plt.ylabel(' Elevation [m]')\n",
    "plt.tight_layout()\n",
    "#plt.show()"
   ]
  },
  {
   "cell_type": "markdown",
   "metadata": {},
   "source": [
    "#### Calculating the saturation based on VanGenuchten's model\n"
   ]
  },
  {
   "cell_type": "code",
   "execution_count": 47,
   "metadata": {},
   "outputs": [],
   "source": [
    "# data_results_VGC = pd.DataFrame(data=data_results['Water pressure [p] [Pa]'].values,index="
   ]
  },
  {
   "cell_type": "code",
   "execution_count": 48,
   "metadata": {},
   "outputs": [],
   "source": [
    "#data_results_VGC['ad'] = data_results['Water pressure [p] [Pa]']*10"
   ]
  },
  {
   "cell_type": "code",
   "execution_count": 49,
   "metadata": {},
   "outputs": [],
   "source": [
    "##### Parameters that we assigned:\n",
    "#alpha = 0.00015\n",
    "#m = 0.8\n",
    "#Sr = 0\n",
    "#n = 1/(1-m)\n",
    "#data_results_VGC = data_results.copy()\n",
    "#data_results_VGC['S_*'] = Sr + (1 - Sr) * pow(1 + pow(alpha*data_results_VGC['Water pressure [p] [Pa]'],n),(-m))\n",
    "#data_results_VGC['S_*(Pc)'] =  pow(1 + pow(alpha * data_results['Water pressure [p] [Pa]'],n),(-m))\n"
   ]
  },
  {
   "cell_type": "markdown",
   "metadata": {},
   "source": [
    "How do you find out saturation of the liquid?"
   ]
  },
  {
   "cell_type": "markdown",
   "metadata": {},
   "source": [
    "### Plotting initial saturation :"
   ]
  },
  {
   "cell_type": "code",
   "execution_count": 50,
   "metadata": {},
   "outputs": [
    {
     "data": {
      "text/plain": [
       "<matplotlib.legend.Legend at 0x7fb31cbe2df0>"
      ]
     },
     "execution_count": 50,
     "metadata": {},
     "output_type": "execute_result"
    },
    {
     "data": {
      "image/png": "[encoded data removed]",
      "text/plain": [
       "<Figure size 432x432 with 1 Axes>"
      ]
     },
     "metadata": {
      "needs_background": "light"
     },
     "output_type": "display_data"
    }
   ],
   "source": [
    "fig = plt.figure(figsize=(6,6))\n",
    "\n",
    "plt.title('Saturation (initial)')\n",
    "plt.plot(data_results_0['Saturation of liquid [s_l] [-]'], z, 'b', label='Saturation of liquid')\n",
    "plt.plot(data_results_0['Saturation of gas [s_g] [-]'], z, 'r', label='Saturation of gas')\n",
    "\n",
    "plt.xlabel('Saturation [-]')\n",
    "plt.ylabel(' Elevation [m]')\n",
    "plt.tight_layout()\n",
    "plt.legend()\n",
    "#plt.show()"
   ]
  },
  {
   "cell_type": "code",
   "execution_count": 51,
   "metadata": {},
   "outputs": [],
   "source": [
    "### Plotting Richards water content"
   ]
  },
  {
   "cell_type": "code",
   "execution_count": 52,
   "metadata": {},
   "outputs": [
    {
     "data": {
      "image/png": "[encoded data removed]",
      "text/plain": [
       "<Figure size 432x432 with 1 Axes>"
      ]
     },
     "metadata": {
      "needs_background": "light"
     },
     "output_type": "display_data"
    }
   ],
   "source": [
    "fig = plt.figure(figsize=(6,6))\n",
    "\n",
    "plt.title('Richards water content (theta) (initial)')\n",
    "plt.plot(data_results_0['water_content [theta] mols'],z, 'b')\n",
    "\n",
    "plt.xlabel('water_content [theta] [mols]')\n",
    "plt.ylabel(' Elevation [m]')\n",
    "plt.tight_layout()\n",
    "#plt.show()"
   ]
  },
  {
   "cell_type": "markdown",
   "metadata": {},
   "source": [
    "### Plotting the saturation results"
   ]
  },
  {
   "cell_type": "code",
   "execution_count": null,
   "metadata": {},
   "outputs": [],
   "source": [
    "da"
   ]
  },
  {
   "cell_type": "code",
   "execution_count": 54,
   "metadata": {},
   "outputs": [
    {
     "data": {
      "text/plain": [
       "<matplotlib.legend.Legend at 0x7fb3184e6c70>"
      ]
     },
     "execution_count": 54,
     "metadata": {},
     "output_type": "execute_result"
    },
    {
     "data": {
      "image/png": "[encoded data removed]",
      "text/plain": [
       "<Figure size 432x432 with 1 Axes>"
      ]
     },
     "metadata": {
      "needs_background": "light"
     },
     "output_type": "display_data"
    }
   ],
   "source": [
    "fig = plt.figure(figsize=(6,6))\n",
    "\n",
    "plt.title('Saturation of liquid at different time instances')\n",
    "plt.plot(data_results_0['Saturation of liquid [s_l] [-]'], z, 'b', alpha=0.1, label='t=0s')\n",
    "plt.plot(data_results_166['Saturation of liquid [s_l] [-]'], z, 'b', alpha=0.3, label='t=0.3s')\n",
    "plt.plot(data_results_175['Saturation of liquid [s_l] [-]'], z, 'b', alpha=0.6, label='t=0.6s')\n",
    "plt.plot(data_results_178['Saturation of liquid [s_l] [-]'], z, 'b', alpha=0.9, label='t=0.9s')\n",
    "plt.axvline(x=data_results_182['Saturation of liquid [s_l] [-]'].min(),color='k',linestyle='--',label='residual_saturation')\n",
    "plt.xlabel('Saturation [-]')\n",
    "plt.ylabel(' Elevation [m]')\n",
    "plt.tight_layout()\n",
    "plt.legend()\n",
    "#plt.show()"
   ]
  },
  {
   "cell_type": "markdown",
   "metadata": {},
   "source": [
    "Comments:\n",
    "    \n",
    "* Due to the infiltration of water into the 1-D column, the saturation of water increases with time proportional to the incoming water flux.\n",
    "\n",
    "* Why does the residual water saturation increase? Due to the influx of water?"
   ]
  }
 ],
 "metadata": {
  "kernelspec": {
   "display_name": "Python 3",
   "language": "python",
   "name": "python3"
  },
  "language_info": {
   "codemirror_mode": {
    "name": "ipython",
    "version": 3
   },
   "file_extension": ".py",
   "mimetype": "text/x-python",
   "name": "python",
   "nbconvert_exporter": "python",
   "pygments_lexer": "ipython3",
   "version": "3.8.8"
  },
  "name": "richards_steadystate.ipynb"
 },
 "nbformat": 4,
 "nbformat_minor": 1
}
