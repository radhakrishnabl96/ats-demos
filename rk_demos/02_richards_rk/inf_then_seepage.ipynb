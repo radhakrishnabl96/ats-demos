{
 "cells": [
  {
   "cell_type": "markdown",
   "metadata": {},
   "source": [
    "\n",
    "\n",
    "# Richards' Equation, steady state"
   ]
  },
  {
   "cell_type": "markdown",
   "metadata": {},
   "source": [
    "This is a simple verticle, pseudo-1D column of water with a water table below the surface.  It solves the pressure to steady-state.  For constant density and incompressible solid, this would be a linear pressure profile. (but we include a pressure-dependent density.)\n",
    "\n",
    "The highlight of this problem is - \n",
    "#### Infiltration of water is taken into account: Neumann mass flux boundary - Top surface - -0.0005 $mol m^{-2} s^{-1}$\n",
    "#### Initial hydrostatic head: - 3.0 m i.e. 7 m from the bottom! \n",
    "Input parameters:\n",
    "\n",
    "1. Mesh size defined using Generated Mesh - Box type.\n",
    "- Low coordinate - (0,0,0), High coordinate - (1,1,10), number of cells - (1,1,100)\n",
    "- Creates a pseudo 1D water column with 100 cells along the z-direction.\n",
    "\n",
    "2. Solves the Richards equation\n",
    "\n",
    "3. Boundary condition - Neumann B.C: Mass flux on the top = -0.0005 mol m^{-2} s^{-1}\n",
    "\n",
    "4. Water Retention Parameters [WRM] - Van Genuchten Model : $alpha$ [$Pa^{-1}$] = 0.00015, m [-] = 0.8, residual saturation [-] = 0.\n",
    "\n",
    "5. Water content is calculated by Richards water content. \n",
    "\n",
    "\\begin{equation}\n",
    "            \\theta = n * s * \\phi *  {cell volume}\n",
    "\\end{equation}\n",
    "\n",
    "where n = molar density of liquid phase [mol $m^{-3}$], s = saturation of phase [-], $\\phi$ = porosity [-].\n",
    "\n",
    "6. The relative permeability method - upwind with Darcy flux - Relative permeability is defined on cells, but must be calculated on faces to multiply a flux.\n",
    "\n",
    "7. n = 0.25, K (Abs. permeability) = 2.5e-12 m^2, T_{initial} = 275.15 K,  g = (0,0,-9.8006m ms^{-2}), n_l = 55000 mol m^{-3}, dynamic_viscosity = 0.00089 Pas, Pore compressibility =  1e-09 Pa^{-1}.\n",
    "\n",
    "8. Hydrostatic head [m] = -3.0 m, Hydrostatic water density = 1000 kg m^{-3}\n",
    "\n",
    "9. Visualization - Entire domain, Times start period stop - (0, 0.1, -1) - (Start, period, stop). The time steps is 0.1, hence we will have a total of 10 results. \n",
    "\n",
    "\n",
    "### Richards equation:\n",
    "\n",
    "For transient state, the 3-D Richard's equation in variably saturated domain is:\n",
    "\\begin{equation}\n",
    "    \\frac{\\partial \\theta}{\\partial t} - \\triangledown \\frac{k_r n_l}{\\mu} K (\\triangledown p + \\rho g \\hat{z}) = Q_w \n",
    "\\end{equation}\n",
    "\n",
    "where, $\\theta$ = Extensive water content of the cell [mol], t = time variable [s], $\\triangledown$ = Divergence operator, $k_r$ = relative permeability [-], $n_l$ = molar density of liquid phase [mol $m^{-3}$], $\\mu$ = Absolute (Dynamic) viscosity of water (Pas), K = Absolute permeability [$m^{2}$], p = liquid pressure [Pa], $\\rho$ = density of water, $\\hat{z}$ = elevation [m], $Q_w$ = mass source of water [mol $s^{-1}$] \n",
    "\n",
    "For steady state, $\\frac{\\partial \\theta}{\\partial t}$ = 0 and $Q_w$ = -0.0005 mol m^{-2} s^{-1}.\n",
    "\n",
    "Hence the above equation reduces as:\n",
    "\\begin{equation}\n",
    "    \\triangledown \\frac{k_r n_l}{\\mu} K (\\triangledown p + \\rho g \\hat{z}) = Q_w\n",
    "\\end{equation}\n",
    "\n",
    "### Van-Genuchten Maulem  Model\n",
    "\n",
    "#### Defined in the function - $wrm_{vangenuchten}$\n",
    "\n",
    "The retention curve as given by [Schuh et al., 2017] :\n",
    "\n",
    "If $P_c$ > 0, $S_*$ ($P_c$) = $S_r$ + (1 - $S_r$) $[1 + (\\alpha P_c)^n]^{-m}$\n",
    "\n",
    "else $S_*$ ($P_c$) = 1\n",
    "\n",
    "\n",
    "Combined with the Mualem (1976) model for re-scaling liquid phase permeability:\n",
    "\\begin{equation}\n",
    "    k_{r1} = (s_l)^{0.5}[1 - (1 - (s_l)^{\\frac{1}{m}})^{m}]^{2}\n",
    "\\end{equation}\n",
    "\n",
    "where, $S_*$ - Retention curve for unfrozen liquid-gas phase, $S_r$ (-) - Residual saturation, $P_c$ (Pa) - Capillary pressure, and $\\alpha$ ($Pa^{-1}$), and m = 1 - 1/n - model parameters, $s_l$ = saturation of liquid\n",
    "\n",
    "The saturation of liquid and gas is equal to 1, i.e,\n",
    "\n",
    "$s_l + s_g = 1$\n",
    "\n",
    "\n",
    "\n",
    "\n",
    "\n",
    "\n",
    "The exponent m controls the shape of the soil retention curve and can be related to the pore size distribution of the texture, where larger values corresponds to smaller pore size variability i.e. to well-sorted textures.\n",
    "\n",
    "Combined with the Mualem (1976) model for re-scaling liquid phase permeability:\n",
    "\\begin{equation}\n",
    "    k_{r1} = (s_l)^{0.5}[1 - (1 - (s_l)^{\\frac{1}{m}})^{m}]^{2}\n",
    "\\end{equation}\n",
    "\n",
    "\n",
    "$s_l = S_* [-\\beta \\rho_i h_0 \\upsilon H (-\\upsilon) + (S_*)^{-1} (s_l + s_i)]$\n",
    " - However this equation includes the ice phase! - What is the equation used by the demo problem?\n",
    "\n",
    "Author: Ethan Coon (Initial code) and Radhakrishna"
   ]
  },
  {
   "cell_type": "code",
   "execution_count": 47,
   "metadata": {},
   "outputs": [],
   "source": [
    "%matplotlib inline"
   ]
  },
  {
   "cell_type": "code",
   "execution_count": 48,
   "metadata": {},
   "outputs": [],
   "source": [
    "import sys,os\n",
    "sys.path.append(os.path.join(os.environ['ATS_SRC_DIR'],'tools', 'utils'))\n",
    "import ats_xdmf\n",
    "import plot_column_data\n",
    "import numpy as np\n",
    "from matplotlib import pyplot as plt\n",
    "import h5py\n",
    "import pandas as pd\n",
    "import xml.etree.ElementTree as ET"
   ]
  },
  {
   "cell_type": "code",
   "execution_count": 49,
   "metadata": {},
   "outputs": [],
   "source": [
    "import warnings\n",
    "\n",
    "warnings.filterwarnings('ignore')"
   ]
  },
  {
   "cell_type": "code",
   "execution_count": 50,
   "metadata": {},
   "outputs": [],
   "source": [
    "file_name = 'inf_seepage.demo'\n",
    "input_filename = 'infiltration_then_seepage.xml'"
   ]
  },
  {
   "cell_type": "code",
   "execution_count": 51,
   "metadata": {},
   "outputs": [],
   "source": [
    "# load the ATS solution\n",
    "directory = f\"./{file_name}/\"\n",
    "vis = ats_xdmf.VisFile(directory)\n",
    "vis.loadMesh(columnar=True)\n"
   ]
  },
  {
   "cell_type": "markdown",
   "metadata": {},
   "source": [
    " - Lighter color signifies earlier time steps. "
   ]
  },
  {
   "cell_type": "markdown",
   "metadata": {},
   "source": [
    "VGC parameters: alpha = 0.00015, m = 0.8, w_res = 0"
   ]
  },
  {
   "cell_type": "code",
   "execution_count": 52,
   "metadata": {},
   "outputs": [
    {
     "data": {
      "image/png": "[encoded data removed]",
      "text/plain": [
       "<Figure size 576x432 with 2 Axes>"
      ]
     },
     "metadata": {
      "needs_background": "light"
     },
     "output_type": "display_data"
    }
   ],
   "source": [
    "# plot the solution\n",
    "fig = plt.figure(figsize=(8,6))\n",
    "axs = fig.subplots(1,2)\n",
    "plot_column_data.plot_subsurface(vis, ['saturation_liquid',], axs[0], None, 'b')\n",
    "plot_column_data.plot_subsurface(vis, ['pressure',], axs[1], None, 'r')\n",
    "axs[1].ticklabel_format(style='sci', axis='x', scilimits=(0,0))\n",
    "axs[0].set_xlabel('saturation [-]')\n",
    "axs[0].set_ylabel('z [m]')\n",
    "axs[1].set_xlabel('pressure [Pa]')\n",
    "axs[1].set_ylabel('z [m]')\n",
    "plt.tight_layout()\n",
    "plt.show()"
   ]
  },
  {
   "cell_type": "markdown",
   "metadata": {},
   "source": [
    "### Reading the input file"
   ]
  },
  {
   "cell_type": "code",
   "execution_count": 53,
   "metadata": {},
   "outputs": [],
   "source": [
    "tree = ET.parse(f'{input_filename}')\n",
    "root = tree.getroot()"
   ]
  },
  {
   "cell_type": "code",
   "execution_count": 54,
   "metadata": {},
   "outputs": [
    {
     "name": "stdout",
     "output_type": "stream",
     "text": [
      "ParameterList \n",
      " {'name': 'Main', 'type': 'ParameterList'}\n"
     ]
    }
   ],
   "source": [
    "print(root.tag, '\\n', root.attrib)\n",
    "# At the top level, the XML is rooted in the Parameter list with the 'Main' type "
   ]
  },
  {
   "cell_type": "code",
   "execution_count": 55,
   "metadata": {},
   "outputs": [
    {
     "name": "stdout",
     "output_type": "stream",
     "text": [
      "Mesh - ParameterList \n",
      "\n",
      "{'name': 'mesh', 'type': 'ParameterList'}\n",
      "{'name': 'domain', 'type': 'ParameterList'}\n",
      "{'name': 'generate mesh parameters', 'type': 'ParameterList'}\n",
      "\n",
      "\n",
      "Mesh - Parameters \n",
      "\n",
      "{'name': 'mesh type', 'type': 'string', 'value': 'generate mesh'}\n",
      "{'name': 'build columns from set', 'type': 'string', 'value': 'surface'}\n",
      "{'name': 'number of cells', 'type': 'Array(int)', 'value': '{1,1,100}'}\n",
      "{'name': 'domain low coordinate', 'type': 'Array(double)', 'value': '{0.0,0.0,0.0}'}\n",
      "{'name': 'domain high coordinate', 'type': 'Array(double)', 'value': '{1.0,1.0,10.0}'}\n"
     ]
    }
   ],
   "source": [
    "# Printing the mesh attributes \n",
    "print('Mesh - ParameterList \\n')\n",
    "for mesh in root[0].iter('ParameterList'):\n",
    "    print(mesh.attrib)\n",
    "\n",
    "print('\\n')\n",
    "\n",
    "print('Mesh - Parameters \\n')\n",
    "for mesh in root[0].iter('Parameter'):\n",
    "    print(mesh.attrib)"
   ]
  },
  {
   "cell_type": "code",
   "execution_count": 56,
   "metadata": {},
   "outputs": [
    {
     "name": "stdout",
     "output_type": "stream",
     "text": [
      "State - ParameterList \n",
      "\n",
      "{'name': 'visualization'}\n",
      "{'name': 'domain', 'type': 'ParameterList'}\n",
      "\n",
      "\n",
      "State - Parameters \n",
      "\n",
      "{'name': 'times start period stop', 'type': 'Array(double)', 'value': '{0.0,0.02,-1.0}'}\n",
      "{'name': 'times start period stop units', 'type': 'string', 'value': 'noleap'}\n"
     ]
    }
   ],
   "source": [
    "# Printing the mesh attributes \n",
    "print('State - ParameterList \\n')\n",
    "for mesh in root[5].iter('ParameterList'):\n",
    "    print(mesh.attrib)\n",
    "\n",
    "print('\\n')\n",
    "\n",
    "print('State - Parameters \\n')\n",
    "for mesh in root[5].iter('Parameter'):\n",
    "    print(mesh.attrib)"
   ]
  },
  {
   "cell_type": "code",
   "execution_count": 57,
   "metadata": {},
   "outputs": [],
   "source": [
    "def plot(dirname, title):\n",
    "    \"\"\"A generic plotting function that plots saturation as a function of depth.\"\"\"\n",
    "    fig = plt.figure()\n",
    "\n",
    "    vis = ats_xdmf.VisFile(dirname, time_unit='d')\n",
    "    vis.loadMesh(columnar=True)\n",
    "    \n",
    "    # plot the solution\n",
    "    ax = fig.subplots(1,1)\n",
    "    plot_column_data.plot_subsurface(vis, ['saturation_liquid',], ax, None, cmap='jet')\n",
    "\n",
    "    ax.set_xlabel('saturation [-]')\n",
    "    ax.set_ylabel('z [m]')"
   ]
  },
  {
   "cell_type": "markdown",
   "metadata": {},
   "source": [
    "Plot by Author - Ethan coon - The first example simply looks at infiltrating into a column, slowly filling up the subsurface.  Note that the color scheme goes from the initial condition in blue to later times in red."
   ]
  },
  {
   "cell_type": "code",
   "execution_count": 58,
   "metadata": {},
   "outputs": [
    {
     "data": {
      "image/png": "[encoded data removed]",
      "text/plain": [
       "<Figure size 432x288 with 1 Axes>"
      ]
     },
     "metadata": {
      "needs_background": "light"
     },
     "output_type": "display_data"
    }
   ],
   "source": [
    "plot(f\"{file_name}/\", \"infiltration to seepage face\")"
   ]
  },
  {
   "cell_type": "markdown",
   "metadata": {},
   "source": [
    "### RK - work"
   ]
  },
  {
   "cell_type": "code",
   "execution_count": 59,
   "metadata": {},
   "outputs": [
    {
     "name": "stdout",
     "output_type": "stream",
     "text": [
      "List of datasets in this file: \n",
      " \n",
      " ['base_porosity.cell.0', 'capillary_pressure_gas_liq.cell.0', 'cell_volume.cell.0', 'darcy_velocity.cell.0', 'darcy_velocity.cell.1', 'darcy_velocity.cell.2', 'mass_density_liquid.cell.0', 'molar_density_liquid.cell.0', 'permeability.cell.0', 'porosity.cell.0', 'pressure.cell.0', 'relative_permeability.cell.0', 'saturation_gas.cell.0', 'saturation_liquid.cell.0', 'viscosity_liquid.cell.0', 'water_content.cell.0']\n",
      "\n",
      "\n",
      "<HDF5 group \"/base_porosity.cell.0\" (51 members)>\n"
     ]
    }
   ],
   "source": [
    "with h5py.File(f'{file_name}/ats_vis_data.h5','r') as hdf:\n",
    "    ls = list(hdf.keys())\n",
    "    print('List of datasets in this file: \\n \\n', ls)\n",
    "    print('\\n')\n",
    "    porosity = hdf.get('base_porosity.cell.0')\n",
    "    print(porosity)"
   ]
  },
  {
   "cell_type": "markdown",
   "metadata": {},
   "source": [
    "* Has a total of 11 members (10 for results and 1 for initial condition)"
   ]
  },
  {
   "cell_type": "code",
   "execution_count": 60,
   "metadata": {},
   "outputs": [],
   "source": [
    "def inputfiles_pddataframes(file_name,t):\n",
    "    \"\"\"\n",
    "    The function is defined to read the input files from the ats simulation. \n",
    "    For each time instance, a dataframe can store the data.\n",
    " \n",
    "    Parameters\n",
    "    ------\n",
    "    \n",
    "    Input parameters:\n",
    "    \n",
    "    file_name : Provide the path to access the file name. \n",
    "    Ex: 'richards_steadystate.demo/ats_vis_data.h5'\n",
    "    \n",
    "    t : The time instance at which the data is required.\n",
    "    Ex: cell_volume.cell.0/{t} - here 0/0 - signifies the first directory (with data at t=0), \n",
    "    similary 0/1 - signifies the second directory (with data at t=1).\n",
    "            \n",
    "    Output parameters:\n",
    "    \n",
    "    data_results : pandas dataframe with all the key elements of the simulation.\n",
    "    \n",
    "    \"\"\"\n",
    "    \n",
    "    with h5py.File(file_name,'r') as hdf:\n",
    "        # Cell_volume\n",
    "        cell_volume_all = np.array(hdf.get(f'cell_volume.cell.0/{t}'))\n",
    "        cell_volume = cell_volume_all.flatten()\n",
    "\n",
    "        # Storing the variables/constants in a dataframe - Do we have a direct function to do this? \n",
    "        # Can we simplify the code?\n",
    "        z = np.arange(0.0,10.0,0.1)\n",
    "        data_results = pd.DataFrame(index=z,data=cell_volume,columns=['cell_volume'])\n",
    "\n",
    "        mass_density_all = np.array(hdf.get(f'mass_density_liquid.cell.0/{t}'))\n",
    "        mass_density = mass_density_all.flatten()\n",
    "        data_results['mass_density [rho_l] [kg m^{-3}]'] = mass_density\n",
    "\n",
    "\n",
    "\n",
    "        molar_density_all = np.array(hdf.get(f'molar_density_liquid.cell.0/{t}'))\n",
    "        molar_density = molar_density_all.flatten()\n",
    "        data_results['molar_density [n_l] [mol m^{-3}]'] = molar_density\n",
    "\n",
    "\n",
    "        permeability_all = np.array(hdf.get(f'permeability.cell.0/{t}'))\n",
    "        permeability = permeability_all.flatten()\n",
    "        data_results['Absolute permeability [K] (m^{2})'] = permeability\n",
    "\n",
    "\n",
    "\n",
    "        porosity_all = np.array(hdf.get(f'porosity.cell.0/{t}'))\n",
    "        porosity = porosity_all.flatten()\n",
    "        data_results['Porosity [phi] (-)'] = porosity\n",
    "\n",
    "        pressure_all = np.array(hdf.get(f'pressure.cell.0/{t}'))\n",
    "        pressure = pressure_all.flatten()\n",
    "        data_results['Abs pressure [p_abs] [Pa]'] = pressure \n",
    "        # Water pressure or total pressure (Atm + water)? - Probably both\n",
    "\n",
    "        relative_permeability_all = np.array(hdf.get(f'relative_permeability.cell.0/{t}'))\n",
    "        relative_permeability = relative_permeability_all.flatten()\n",
    "        data_results['Relative permeability [kr] [-]'] = relative_permeability\n",
    "\n",
    "\n",
    "        saturation_gas_all = np.array(hdf.get(f'saturation_gas.cell.0/{t}'))\n",
    "        saturation_gas = saturation_gas_all.flatten()\n",
    "        data_results['Saturation of gas [s_g] [-]'] = saturation_gas\n",
    "\n",
    "\n",
    "        saturation_liquid_all = np.array(hdf.get(f'saturation_liquid.cell.0/{t}'))\n",
    "        saturation_liquid = saturation_liquid_all.flatten()\n",
    "        data_results['Saturation of liquid [s_l] [-]'] = saturation_liquid\n",
    "\n",
    "\n",
    "        #temperature_all = np.array(hdf.get(f'temperature.cell.0/{t}'))\n",
    "        #temperature = temperature_all.flatten()\n",
    "        #data_results['Temperature [T] [K]'] = temperature\n",
    "\n",
    "\n",
    "        viscosity_liquid_all = np.array(hdf.get(f'viscosity_liquid.cell.0/{t}'))\n",
    "        viscosity_liquid = viscosity_liquid_all.flatten()\n",
    "        data_results['viscosity_liquid [v] Pas]'] = viscosity_liquid\n",
    "\n",
    "\n",
    "        water_content_all = np.array(hdf.get(f'water_content.cell.0/{t}'))\n",
    "        water_content = water_content_all.flatten()\n",
    "        data_results['water_content [theta] mols'] = water_content\n",
    "        \n",
    "        return data_results"
   ]
  },
  {
   "cell_type": "code",
   "execution_count": 61,
   "metadata": {},
   "outputs": [
    {
     "name": "stdout",
     "output_type": "stream",
     "text": [
      "[  0 103 113 123 133 143 153 163 173 183 193 203 213 223  23 233 243 253\n",
      " 263 276 286 296 306 316 326  33 336 346 356 366 376 386 396 406 416 426\n",
      "  43 436 446 456 466 476 486 496 506 516  53  63  73  83  93]\n"
     ]
    }
   ],
   "source": [
    "# Determining the time instances at which the data is stored\n",
    "\n",
    "with h5py.File(f'{file_name}/ats_vis_data.h5','r') as hdf:\n",
    "        # Cell_volume\n",
    "        cell_volume_all = np.array(hdf.get(f'cell_volume.cell.0'))\n",
    "        time_period = cell_volume_all.astype('int64')\n",
    "        print(time_period)\n",
    "        # Time series stored in an irregular format! - \n",
    "        # ['0' '100' '103' '104' '105' '106' '107' '108' '109' '110' '111']"
   ]
  },
  {
   "cell_type": "markdown",
   "metadata": {},
   "source": [
    "### Storing the data for all time instances"
   ]
  },
  {
   "cell_type": "code",
   "execution_count": 62,
   "metadata": {},
   "outputs": [],
   "source": [
    "for i in time_period:\n",
    "    # https://stackoverflow.com/questions/1060090/changing-variable-names-with-python-for-loops\n",
    "    locals()[\"data_results_\"+str(i)] = inputfiles_pddataframes(file_name=f'{file_name}/ats_vis_data.h5', t=i)"
   ]
  },
  {
   "cell_type": "markdown",
   "metadata": {},
   "source": [
    "### Plotting the initial pressure:"
   ]
  },
  {
   "cell_type": "code",
   "execution_count": 63,
   "metadata": {},
   "outputs": [
    {
     "data": {
      "text/plain": [
       "0.0    189094.5175\n",
       "0.1    188113.8525\n",
       "0.2    187133.1875\n",
       "0.3    186152.5225\n",
       "0.4    185171.8575\n",
       "          ...     \n",
       "9.5     95931.3425\n",
       "9.6     94950.6775\n",
       "9.7     93970.0125\n",
       "9.8     92989.3475\n",
       "9.9     92008.6825\n",
       "Name: Abs pressure [p_abs] [Pa], Length: 100, dtype: float64"
      ]
     },
     "execution_count": 63,
     "metadata": {},
     "output_type": "execute_result"
    }
   ],
   "source": [
    "data_results_0['Abs pressure [p_abs] [Pa]']"
   ]
  },
  {
   "cell_type": "code",
   "execution_count": 64,
   "metadata": {},
   "outputs": [
    {
     "data": {
      "text/html": [
       "<div>\n",
       "<style scoped>\n",
       "    .dataframe tbody tr th:only-of-type {\n",
       "        vertical-align: middle;\n",
       "    }\n",
       "\n",
       "    .dataframe tbody tr th {\n",
       "        vertical-align: top;\n",
       "    }\n",
       "\n",
       "    .dataframe thead th {\n",
       "        text-align: right;\n",
       "    }\n",
       "</style>\n",
       "<table border=\"1\" class=\"dataframe\">\n",
       "  <thead>\n",
       "    <tr style=\"text-align: right;\">\n",
       "      <th></th>\n",
       "      <th>cell_volume</th>\n",
       "      <th>mass_density [rho_l] [kg m^{-3}]</th>\n",
       "      <th>molar_density [n_l] [mol m^{-3}]</th>\n",
       "      <th>Absolute permeability [K] (m^{2})</th>\n",
       "      <th>Porosity [phi] (-)</th>\n",
       "      <th>Abs pressure [p_abs] [Pa]</th>\n",
       "      <th>Relative permeability [kr] [-]</th>\n",
       "      <th>Saturation of gas [s_g] [-]</th>\n",
       "      <th>Saturation of liquid [s_l] [-]</th>\n",
       "      <th>viscosity_liquid [v] Pas]</th>\n",
       "      <th>water_content [theta] mols</th>\n",
       "      <th>Water pressure [p_l] [Pa]</th>\n",
       "      <th>Pressure head [m]</th>\n",
       "      <th>Elevation head [m]</th>\n",
       "      <th>Hydraulic head [m]</th>\n",
       "      <th>Atmospheric pressure head [m]</th>\n",
       "    </tr>\n",
       "  </thead>\n",
       "  <tbody>\n",
       "    <tr>\n",
       "      <th>0.0</th>\n",
       "      <td>0.1</td>\n",
       "      <td>1000.0</td>\n",
       "      <td>55000.0</td>\n",
       "      <td>2.500000e-12</td>\n",
       "      <td>0.250087</td>\n",
       "      <td>189094.5175</td>\n",
       "      <td>6.179775</td>\n",
       "      <td>0.000000</td>\n",
       "      <td>1.000000</td>\n",
       "      <td>0.00089</td>\n",
       "      <td>1375.479982</td>\n",
       "      <td>87769.5175</td>\n",
       "      <td>8.955525</td>\n",
       "      <td>0.0</td>\n",
       "      <td>8.955525</td>\n",
       "      <td>10.338653</td>\n",
       "    </tr>\n",
       "    <tr>\n",
       "      <th>0.1</th>\n",
       "      <td>0.1</td>\n",
       "      <td>1000.0</td>\n",
       "      <td>55000.0</td>\n",
       "      <td>2.500000e-12</td>\n",
       "      <td>0.250086</td>\n",
       "      <td>188113.8525</td>\n",
       "      <td>6.179775</td>\n",
       "      <td>0.000000</td>\n",
       "      <td>1.000000</td>\n",
       "      <td>0.00089</td>\n",
       "      <td>1375.474589</td>\n",
       "      <td>86788.8525</td>\n",
       "      <td>8.855463</td>\n",
       "      <td>0.1</td>\n",
       "      <td>8.955463</td>\n",
       "      <td>10.338653</td>\n",
       "    </tr>\n",
       "    <tr>\n",
       "      <th>0.2</th>\n",
       "      <td>0.1</td>\n",
       "      <td>1000.0</td>\n",
       "      <td>55000.0</td>\n",
       "      <td>2.500000e-12</td>\n",
       "      <td>0.250085</td>\n",
       "      <td>187133.1875</td>\n",
       "      <td>6.179775</td>\n",
       "      <td>0.000000</td>\n",
       "      <td>1.000000</td>\n",
       "      <td>0.00089</td>\n",
       "      <td>1375.469195</td>\n",
       "      <td>85808.1875</td>\n",
       "      <td>8.755401</td>\n",
       "      <td>0.2</td>\n",
       "      <td>8.955401</td>\n",
       "      <td>10.338653</td>\n",
       "    </tr>\n",
       "    <tr>\n",
       "      <th>0.3</th>\n",
       "      <td>0.1</td>\n",
       "      <td>1000.0</td>\n",
       "      <td>55000.0</td>\n",
       "      <td>2.500000e-12</td>\n",
       "      <td>0.250084</td>\n",
       "      <td>186152.5225</td>\n",
       "      <td>6.179775</td>\n",
       "      <td>0.000000</td>\n",
       "      <td>1.000000</td>\n",
       "      <td>0.00089</td>\n",
       "      <td>1375.463801</td>\n",
       "      <td>84827.5225</td>\n",
       "      <td>8.655340</td>\n",
       "      <td>0.3</td>\n",
       "      <td>8.955340</td>\n",
       "      <td>10.338653</td>\n",
       "    </tr>\n",
       "    <tr>\n",
       "      <th>0.4</th>\n",
       "      <td>0.1</td>\n",
       "      <td>1000.0</td>\n",
       "      <td>55000.0</td>\n",
       "      <td>2.500000e-12</td>\n",
       "      <td>0.250083</td>\n",
       "      <td>185171.8575</td>\n",
       "      <td>6.179775</td>\n",
       "      <td>0.000000</td>\n",
       "      <td>1.000000</td>\n",
       "      <td>0.00089</td>\n",
       "      <td>1375.458408</td>\n",
       "      <td>83846.8575</td>\n",
       "      <td>8.555278</td>\n",
       "      <td>0.4</td>\n",
       "      <td>8.955278</td>\n",
       "      <td>10.338653</td>\n",
       "    </tr>\n",
       "    <tr>\n",
       "      <th>...</th>\n",
       "      <td>...</td>\n",
       "      <td>...</td>\n",
       "      <td>...</td>\n",
       "      <td>...</td>\n",
       "      <td>...</td>\n",
       "      <td>...</td>\n",
       "      <td>...</td>\n",
       "      <td>...</td>\n",
       "      <td>...</td>\n",
       "      <td>...</td>\n",
       "      <td>...</td>\n",
       "      <td>...</td>\n",
       "      <td>...</td>\n",
       "      <td>...</td>\n",
       "      <td>...</td>\n",
       "      <td>...</td>\n",
       "    </tr>\n",
       "    <tr>\n",
       "      <th>9.5</th>\n",
       "      <td>0.1</td>\n",
       "      <td>1000.0</td>\n",
       "      <td>55000.0</td>\n",
       "      <td>2.500000e-12</td>\n",
       "      <td>0.250000</td>\n",
       "      <td>95931.3425</td>\n",
       "      <td>2.406664</td>\n",
       "      <td>0.211866</td>\n",
       "      <td>0.788134</td>\n",
       "      <td>0.00089</td>\n",
       "      <td>1083.683932</td>\n",
       "      <td>-5393.6575</td>\n",
       "      <td>-0.550340</td>\n",
       "      <td>9.5</td>\n",
       "      <td>8.949660</td>\n",
       "      <td>10.338653</td>\n",
       "    </tr>\n",
       "    <tr>\n",
       "      <th>9.6</th>\n",
       "      <td>0.1</td>\n",
       "      <td>1000.0</td>\n",
       "      <td>55000.0</td>\n",
       "      <td>2.500000e-12</td>\n",
       "      <td>0.250000</td>\n",
       "      <td>94950.6775</td>\n",
       "      <td>1.114235</td>\n",
       "      <td>0.374904</td>\n",
       "      <td>0.625096</td>\n",
       "      <td>0.00089</td>\n",
       "      <td>859.507075</td>\n",
       "      <td>-6374.3225</td>\n",
       "      <td>-0.650401</td>\n",
       "      <td>9.6</td>\n",
       "      <td>8.949599</td>\n",
       "      <td>10.338653</td>\n",
       "    </tr>\n",
       "    <tr>\n",
       "      <th>9.7</th>\n",
       "      <td>0.1</td>\n",
       "      <td>1000.0</td>\n",
       "      <td>55000.0</td>\n",
       "      <td>2.500000e-12</td>\n",
       "      <td>0.250000</td>\n",
       "      <td>93970.0125</td>\n",
       "      <td>0.422678</td>\n",
       "      <td>0.539265</td>\n",
       "      <td>0.460735</td>\n",
       "      <td>0.00089</td>\n",
       "      <td>633.510086</td>\n",
       "      <td>-7354.9875</td>\n",
       "      <td>-0.750463</td>\n",
       "      <td>9.7</td>\n",
       "      <td>8.949537</td>\n",
       "      <td>10.338653</td>\n",
       "    </tr>\n",
       "    <tr>\n",
       "      <th>9.8</th>\n",
       "      <td>0.1</td>\n",
       "      <td>1000.0</td>\n",
       "      <td>55000.0</td>\n",
       "      <td>2.500000e-12</td>\n",
       "      <td>0.250000</td>\n",
       "      <td>92989.3475</td>\n",
       "      <td>0.144965</td>\n",
       "      <td>0.673772</td>\n",
       "      <td>0.326228</td>\n",
       "      <td>0.00089</td>\n",
       "      <td>448.563330</td>\n",
       "      <td>-8335.6525</td>\n",
       "      <td>-0.850525</td>\n",
       "      <td>9.8</td>\n",
       "      <td>8.949475</td>\n",
       "      <td>10.338653</td>\n",
       "    </tr>\n",
       "    <tr>\n",
       "      <th>9.9</th>\n",
       "      <td>0.1</td>\n",
       "      <td>1000.0</td>\n",
       "      <td>55000.0</td>\n",
       "      <td>2.500000e-12</td>\n",
       "      <td>0.250000</td>\n",
       "      <td>92008.6825</td>\n",
       "      <td>0.048802</td>\n",
       "      <td>0.771487</td>\n",
       "      <td>0.228513</td>\n",
       "      <td>0.00089</td>\n",
       "      <td>314.204992</td>\n",
       "      <td>-9316.3175</td>\n",
       "      <td>-0.950586</td>\n",
       "      <td>9.9</td>\n",
       "      <td>8.949414</td>\n",
       "      <td>10.338653</td>\n",
       "    </tr>\n",
       "  </tbody>\n",
       "</table>\n",
       "<p>100 rows × 16 columns</p>\n",
       "</div>"
      ],
      "text/plain": [
       "     cell_volume  mass_density [rho_l] [kg m^{-3}]  \\\n",
       "0.0          0.1                            1000.0   \n",
       "0.1          0.1                            1000.0   \n",
       "0.2          0.1                            1000.0   \n",
       "0.3          0.1                            1000.0   \n",
       "0.4          0.1                            1000.0   \n",
       "..           ...                               ...   \n",
       "9.5          0.1                            1000.0   \n",
       "9.6          0.1                            1000.0   \n",
       "9.7          0.1                            1000.0   \n",
       "9.8          0.1                            1000.0   \n",
       "9.9          0.1                            1000.0   \n",
       "\n",
       "     molar_density [n_l] [mol m^{-3}]  Absolute permeability [K] (m^{2})  \\\n",
       "0.0                           55000.0                       2.500000e-12   \n",
       "0.1                           55000.0                       2.500000e-12   \n",
       "0.2                           55000.0                       2.500000e-12   \n",
       "0.3                           55000.0                       2.500000e-12   \n",
       "0.4                           55000.0                       2.500000e-12   \n",
       "..                                ...                                ...   \n",
       "9.5                           55000.0                       2.500000e-12   \n",
       "9.6                           55000.0                       2.500000e-12   \n",
       "9.7                           55000.0                       2.500000e-12   \n",
       "9.8                           55000.0                       2.500000e-12   \n",
       "9.9                           55000.0                       2.500000e-12   \n",
       "\n",
       "     Porosity [phi] (-)  Abs pressure [p_abs] [Pa]  \\\n",
       "0.0            0.250087                189094.5175   \n",
       "0.1            0.250086                188113.8525   \n",
       "0.2            0.250085                187133.1875   \n",
       "0.3            0.250084                186152.5225   \n",
       "0.4            0.250083                185171.8575   \n",
       "..                  ...                        ...   \n",
       "9.5            0.250000                 95931.3425   \n",
       "9.6            0.250000                 94950.6775   \n",
       "9.7            0.250000                 93970.0125   \n",
       "9.8            0.250000                 92989.3475   \n",
       "9.9            0.250000                 92008.6825   \n",
       "\n",
       "     Relative permeability [kr] [-]  Saturation of gas [s_g] [-]  \\\n",
       "0.0                        6.179775                     0.000000   \n",
       "0.1                        6.179775                     0.000000   \n",
       "0.2                        6.179775                     0.000000   \n",
       "0.3                        6.179775                     0.000000   \n",
       "0.4                        6.179775                     0.000000   \n",
       "..                              ...                          ...   \n",
       "9.5                        2.406664                     0.211866   \n",
       "9.6                        1.114235                     0.374904   \n",
       "9.7                        0.422678                     0.539265   \n",
       "9.8                        0.144965                     0.673772   \n",
       "9.9                        0.048802                     0.771487   \n",
       "\n",
       "     Saturation of liquid [s_l] [-]  viscosity_liquid [v] Pas]  \\\n",
       "0.0                        1.000000                    0.00089   \n",
       "0.1                        1.000000                    0.00089   \n",
       "0.2                        1.000000                    0.00089   \n",
       "0.3                        1.000000                    0.00089   \n",
       "0.4                        1.000000                    0.00089   \n",
       "..                              ...                        ...   \n",
       "9.5                        0.788134                    0.00089   \n",
       "9.6                        0.625096                    0.00089   \n",
       "9.7                        0.460735                    0.00089   \n",
       "9.8                        0.326228                    0.00089   \n",
       "9.9                        0.228513                    0.00089   \n",
       "\n",
       "     water_content [theta] mols  Water pressure [p_l] [Pa]  Pressure head [m]  \\\n",
       "0.0                 1375.479982                 87769.5175           8.955525   \n",
       "0.1                 1375.474589                 86788.8525           8.855463   \n",
       "0.2                 1375.469195                 85808.1875           8.755401   \n",
       "0.3                 1375.463801                 84827.5225           8.655340   \n",
       "0.4                 1375.458408                 83846.8575           8.555278   \n",
       "..                          ...                        ...                ...   \n",
       "9.5                 1083.683932                 -5393.6575          -0.550340   \n",
       "9.6                  859.507075                 -6374.3225          -0.650401   \n",
       "9.7                  633.510086                 -7354.9875          -0.750463   \n",
       "9.8                  448.563330                 -8335.6525          -0.850525   \n",
       "9.9                  314.204992                 -9316.3175          -0.950586   \n",
       "\n",
       "     Elevation head [m]  Hydraulic head [m]  Atmospheric pressure head [m]  \n",
       "0.0                 0.0            8.955525                      10.338653  \n",
       "0.1                 0.1            8.955463                      10.338653  \n",
       "0.2                 0.2            8.955401                      10.338653  \n",
       "0.3                 0.3            8.955340                      10.338653  \n",
       "0.4                 0.4            8.955278                      10.338653  \n",
       "..                  ...                 ...                            ...  \n",
       "9.5                 9.5            8.949660                      10.338653  \n",
       "9.6                 9.6            8.949599                      10.338653  \n",
       "9.7                 9.7            8.949537                      10.338653  \n",
       "9.8                 9.8            8.949475                      10.338653  \n",
       "9.9                 9.9            8.949414                      10.338653  \n",
       "\n",
       "[100 rows x 16 columns]"
      ]
     },
     "execution_count": 64,
     "metadata": {},
     "output_type": "execute_result"
    }
   ],
   "source": [
    "rho_avg = 1000 # kg m^{-3} - Provided by the developer \n",
    "g = 9.8006 # ms^{-2} - Provided by the user, g = (0,0,-9.8006m ms^{-2})\n",
    "p_0 = 101325 # Pa\n",
    "\n",
    "# Calculating the water pressure = p_abs -p_0\n",
    "data_results_0['Water pressure [p_l] [Pa]'] = data_results_0['Abs pressure [p_abs] [Pa]'] - p_0\n",
    "\n",
    "data_results_0['Pressure head [m]'] = data_results_0['Water pressure [p_l] [Pa]']/(rho_avg*g)\n",
    "\n",
    "data_results_0['Elevation head [m]'] = data_results_0.index\n",
    "\n",
    "data_results_0['Hydraulic head [m]'] = data_results_0['Pressure head [m]'] + data_results_0['Elevation head [m]']\n",
    "\n",
    "data_results_0['Atmospheric pressure head [m]'] = 101325/(rho_avg*g)\n",
    "\n",
    "data_results_0"
   ]
  },
  {
   "cell_type": "code",
   "execution_count": 65,
   "metadata": {},
   "outputs": [
    {
     "data": {
      "image/png": "[encoded data removed]",
      "text/plain": [
       "<Figure size 576x432 with 1 Axes>"
      ]
     },
     "metadata": {
      "needs_background": "light"
     },
     "output_type": "display_data"
    }
   ],
   "source": [
    "# To find the elevation where -ve pressure head begins\n",
    "z_drop = data_results_0[data_results_0['Pressure head [m]'].le(0)].index[0]\n",
    "\n",
    "z = np.arange(0,10,0.1)\n",
    "\n",
    "fig = plt.figure(figsize=(8,6))\n",
    "\n",
    "plt.title('Hydraulic, Elevation, Pressure, Atmospheric pressure head - in 1-D soil column')\n",
    "plt.plot(data_results_0['Abs pressure [p_abs] [Pa]']/(rho_avg*g), z, 'y', label='Absolute Pressure head [m]')\n",
    "plt.plot(data_results_0['Pressure head [m]'], z, 'r', label='Water pressure head [m]')\n",
    "plt.plot(data_results_0['Elevation head [m]'], z, 'g', label='Elevation head [m]')\n",
    "plt.plot(data_results_0['Hydraulic head [m]'], z, 'b', label='Hydraulic head [m]')\n",
    "plt.plot(data_results_0['Atmospheric pressure head [m]'], z, 'k', label='Atmospheric pressure head [m]')\n",
    "plt.axhline(y=z_drop,color='k',linestyle='--',label=f'z_drop = {z_drop}')\n",
    "plt.ylabel('z [m]')\n",
    "plt.xlabel(' Heads [m]')\n",
    "plt.legend()\n",
    "plt.tight_layout()\n",
    "plt.show()"
   ]
  },
  {
   "cell_type": "markdown",
   "metadata": {},
   "source": [
    "### Plotting relative permeability"
   ]
  },
  {
   "cell_type": "code",
   "execution_count": 66,
   "metadata": {},
   "outputs": [
    {
     "data": {
      "image/png": "[encoded data removed]",
      "text/plain": [
       "<Figure size 432x432 with 1 Axes>"
      ]
     },
     "metadata": {
      "needs_background": "light"
     },
     "output_type": "display_data"
    }
   ],
   "source": [
    "fig = plt.figure(figsize=(6,6))\n",
    "\n",
    "plt.title('Relative permeability - Upwind with Darcy flux (initial)')\n",
    "plt.plot(data_results_0['Relative permeability [kr] [-]'],z, 'b')\n",
    "\n",
    "plt.xlabel('Relative permeability [kr] [-]')\n",
    "plt.ylabel(' Elevation [m]')\n",
    "plt.tight_layout()\n",
    "#plt.show()"
   ]
  },
  {
   "cell_type": "markdown",
   "metadata": {},
   "source": [
    "#### Calculating the saturation based on VanGenuchten's model\n"
   ]
  },
  {
   "cell_type": "code",
   "execution_count": 67,
   "metadata": {},
   "outputs": [],
   "source": [
    "# data_results_VGC = pd.DataFrame(data=data_results['Water pressure [p] [Pa]'].values,index="
   ]
  },
  {
   "cell_type": "code",
   "execution_count": 68,
   "metadata": {},
   "outputs": [],
   "source": [
    "#data_results_VGC['ad'] = data_results['Water pressure [p] [Pa]']*10"
   ]
  },
  {
   "cell_type": "code",
   "execution_count": 69,
   "metadata": {},
   "outputs": [],
   "source": [
    "##### Parameters that we assigned:\n",
    "#alpha = 0.00015\n",
    "#m = 0.8\n",
    "#Sr = 0\n",
    "#n = 1/(1-m)\n",
    "#data_results_VGC = data_results.copy()\n",
    "#data_results_VGC['S_*'] = Sr + (1 - Sr) * pow(1 + pow(alpha*data_results_VGC['Water pressure [p] [Pa]'],n),(-m))\n",
    "#data_results_VGC['S_*(Pc)'] =  pow(1 + pow(alpha * data_results['Water pressure [p] [Pa]'],n),(-m))\n"
   ]
  },
  {
   "cell_type": "markdown",
   "metadata": {},
   "source": [
    "How do you find out saturation of the liquid?"
   ]
  },
  {
   "cell_type": "markdown",
   "metadata": {},
   "source": [
    "### Plotting initial saturation :"
   ]
  },
  {
   "cell_type": "code",
   "execution_count": 70,
   "metadata": {},
   "outputs": [
    {
     "data": {
      "text/plain": [
       "<matplotlib.legend.Legend at 0x7fb9ec54f640>"
      ]
     },
     "execution_count": 70,
     "metadata": {},
     "output_type": "execute_result"
    },
    {
     "data": {
      "image/png": "[encoded data removed]",
      "text/plain": [
       "<Figure size 432x432 with 1 Axes>"
      ]
     },
     "metadata": {
      "needs_background": "light"
     },
     "output_type": "display_data"
    }
   ],
   "source": [
    "fig = plt.figure(figsize=(6,6))\n",
    "\n",
    "plt.title('Saturation (initial)')\n",
    "plt.plot(data_results_0['Saturation of liquid [s_l] [-]'], z, 'b', label='Saturation of liquid')\n",
    "plt.plot(data_results_0['Saturation of gas [s_g] [-]'], z, 'r', label='Saturation of gas')\n",
    "\n",
    "plt.xlabel('Saturation [-]')\n",
    "plt.ylabel(' Elevation [m]')\n",
    "plt.tight_layout()\n",
    "plt.legend()\n",
    "#plt.show()"
   ]
  },
  {
   "cell_type": "code",
   "execution_count": 71,
   "metadata": {},
   "outputs": [],
   "source": [
    "### Plotting Richards water content"
   ]
  },
  {
   "cell_type": "code",
   "execution_count": 72,
   "metadata": {},
   "outputs": [
    {
     "data": {
      "image/png": "[encoded data removed]",
      "text/plain": [
       "<Figure size 432x432 with 1 Axes>"
      ]
     },
     "metadata": {
      "needs_background": "light"
     },
     "output_type": "display_data"
    }
   ],
   "source": [
    "fig = plt.figure(figsize=(6,6))\n",
    "\n",
    "plt.title('Richards water content (theta) (initial)')\n",
    "plt.plot(data_results_0['water_content [theta] mols'],z, 'b')\n",
    "\n",
    "plt.xlabel('water_content [theta] [mols]')\n",
    "plt.ylabel(' Elevation [m]')\n",
    "plt.tight_layout()\n",
    "#plt.show()"
   ]
  },
  {
   "cell_type": "markdown",
   "metadata": {},
   "source": [
    "### Plotting the saturation results"
   ]
  },
  {
   "cell_type": "code",
   "execution_count": 74,
   "metadata": {},
   "outputs": [
    {
     "data": {
      "text/plain": [
       "array([  0, 103, 113, 123, 133, 143, 153, 163, 173, 183, 193, 203, 213,\n",
       "       223,  23, 233, 243, 253, 263, 276, 286, 296, 306, 316, 326,  33,\n",
       "       336, 346, 356, 366, 376, 386, 396, 406, 416, 426,  43, 436, 446,\n",
       "       456, 466, 476, 486, 496, 506, 516,  53,  63,  73,  83,  93])"
      ]
     },
     "execution_count": 74,
     "metadata": {},
     "output_type": "execute_result"
    }
   ],
   "source": [
    "time_period"
   ]
  },
  {
   "cell_type": "code",
   "execution_count": 78,
   "metadata": {},
   "outputs": [
    {
     "data": {
      "text/plain": [
       "<matplotlib.legend.Legend at 0x7fb9f362cca0>"
      ]
     },
     "execution_count": 78,
     "metadata": {},
     "output_type": "execute_result"
    },
    {
     "data": {
      "image/png": "[encoded data removed]",
      "text/plain": [
       "<Figure size 432x432 with 1 Axes>"
      ]
     },
     "metadata": {
      "needs_background": "light"
     },
     "output_type": "display_data"
    }
   ],
   "source": [
    "fig = plt.figure(figsize=(6,6))\n",
    "\n",
    "plt.title('Saturation of liquid at different time instances')\n",
    "plt.plot(data_results_0['Saturation of liquid [s_l] [-]'], z, 'b', alpha=0.1, label='t=0')\n",
    "plt.plot(data_results_113['Saturation of liquid [s_l] [-]'], z, 'b', alpha=0.3, label='t=113')\n",
    "plt.plot(data_results_366['Saturation of liquid [s_l] [-]'], z, 'b', alpha=0.6, label='t=366')\n",
    "plt.plot(data_results_63['Saturation of liquid [s_l] [-]'], z, 'b', alpha=0.9, label='t=63')\n",
    "#plt.axvline(x=data_results_113['Saturation of liquid [s_l] [-]'].min(),color='k',linestyle='--',label='residual_saturation')\n",
    "plt.xlabel('Saturation [-]')\n",
    "plt.ylabel(' Elevation [m]')\n",
    "plt.tight_layout()\n",
    "plt.legend()\n",
    "#plt.show()"
   ]
  },
  {
   "cell_type": "markdown",
   "metadata": {},
   "source": [
    "Comments:\n",
    "    \n",
    "* Due to the infiltration of water into the 1-D column, the saturation of water increases with time proportional to the incoming water flux.\n",
    "\n",
    "* Why does the residual water saturation increase? Due to the influx of water?"
   ]
  }
 ],
 "metadata": {
  "kernelspec": {
   "display_name": "Python 3",
   "language": "python",
   "name": "python3"
  },
  "language_info": {
   "codemirror_mode": {
    "name": "ipython",
    "version": 3
   },
   "file_extension": ".py",
   "mimetype": "text/x-python",
   "name": "python",
   "nbconvert_exporter": "python",
   "pygments_lexer": "ipython3",
   "version": "3.8.8"
  },
  "name": "richards_steadystate.ipynb"
 },
 "nbformat": 4,
 "nbformat_minor": 1
}
