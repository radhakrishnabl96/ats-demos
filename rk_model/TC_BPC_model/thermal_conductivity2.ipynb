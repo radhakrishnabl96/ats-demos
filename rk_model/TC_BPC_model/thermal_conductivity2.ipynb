{
 "cells": [
  {
   "cell_type": "code",
   "execution_count": 1,
   "metadata": {
    "collapsed": false
   },
   "outputs": [],
   "source": [
    "###%pylab inline\n",
    "import numpy as np\n",
    "\n",
    "from matplotlib import pyplot as plt\n",
    "from matplotlib import cm\n",
    "from matplotlib import colors as ml_colors\n",
    "from matplotlib.ticker import LinearLocator, FormatStrFormatter\n",
    "from mpl_toolkits.mplot3d import Axes3D\n",
    "import os,sys\n",
    "import scipy as sp\n",
    "\n",
    "sys.path.append('/home/ecoon/research/python')\n",
    "#import colors"
   ]
  },
  {
   "cell_type": "code",
   "execution_count": 2,
   "metadata": {
    "collapsed": false
   },
   "outputs": [],
   "source": [
    "sys.path.append('/home/ecoon/research/arctic/ats-python/src/models')\n",
    "import ewc\n",
    "import wrm_vangenuchten\n",
    "import permafrost_model_explicit_fpd"
   ]
  },
  {
   "cell_type": "code",
   "execution_count": 3,
   "metadata": {
    "collapsed": false
   },
   "outputs": [],
   "source": [
    "class TC(object):\n",
    "\n",
    "    def thermal_conductivity(self, poro, sl, si, T):\n",
    "        raise RuntimeError(\"class TC is not implemented\")\n",
    "    \n",
    "    def plot_end_members(self, poro, s_r, axs=None, color='k', label=None, npoints=1000):\n",
    "        if axs is None:\n",
    "            fig = plt.figure(figsize=(4,8))\n",
    "            axs = []\n",
    "            axs.append(fig.add_subplot(311))\n",
    "            axs.append(fig.add_subplot(312))\n",
    "            axs.append(fig.add_subplot(313))\n",
    "    \n",
    "        # unfrozen\n",
    "        sle = np.linspace(0,1,npoints)\n",
    "        sl = sle*(1-s_r) + s_r\n",
    "        si = 0\n",
    "        tc_u = np.array([self.thermal_conductivity(poro, s, si, 275.) for s in sl])\n",
    "        axs[0].plot(sle, tc_u, color=color, label=label)\n",
    "        axs[0].set_xlabel(\"1 - reduced gas saturation\")\n",
    "        axs[0].set_title(\"T > 0\")\n",
    "        axs[0].set_ylabel(\"thermal conductivity\")\n",
    "    \n",
    "        # frozen\n",
    "        sie = np.linspace(0,1,1000)\n",
    "        si = sie*(1-s_r)\n",
    "        tc_f = np.array([self.thermal_conductivity(poro, s_r, s, 260.0) for s in si])\n",
    "        axs[1].plot(sie, tc_f, color=color, label=label)\n",
    "        axs[1].set_xlabel(\"1 - reduced gas saturation\")\n",
    "        axs[1].set_title(\"T << 0\")\n",
    "        axs[1].set_ylabel(\"thermal conductivity\")\n",
    "        \n",
    "        # transition\n",
    "        sie = np.linspace(0,1,1000)\n",
    "        si = sie*(1-s_r)\n",
    "        tc_t = np.array([self.thermal_conductivity(poro, 1-s, s, 260.0) for s in si])\n",
    "        axs[2].plot(sie, tc_t, color=color, label=label)\n",
    "        axs[2].set_xlabel(\"reduced ice saturation\")\n",
    "        axs[2].set_ylabel(\"thermal conductivity\")\n",
    "        axs[2].set_title(\"sg = 0\")\n",
    "        \n",
    "    def plot_pcolor(self, poro, s_r, ax=None):\n",
    "    \n",
    "        sle = np.linspace(0,1,100)\n",
    "        sie = np.linspace(0,1,100)\n",
    "\n",
    "        sl = sle*(1-s_r) + s_r\n",
    "        si = sie*(1-s_r)\n",
    "        TC = np.array([[self.thermal_conductivity(poro, k,j, 260.0) for k in sl] for j in si])\n",
    "        if ax is None:\n",
    "            fig = plt.figure()\n",
    "            ax = fig.add_subplot(111)\n",
    "        ax.imshow(TC, origin='lower')\n",
    "        ax.set_xlabel(\"reduced liquid saturation\")\n",
    "        ax.set_ylabel(\"reduced ice saturation\")\n",
    "        return TC\n",
    "        \n",
    "    def plot_surf(self, poro, s_r, fig, ax=None):\n",
    "    \n",
    "        sle = np.linspace(0,1,100)\n",
    "        sie = np.linspace(0,1,100)\n",
    "\n",
    "        sl = sle*(1-s_r) + s_r\n",
    "        si = sie*(1-s_r)\n",
    "        TC = np.array([[self.thermal_conductivity(poro, k,j, 260.0) for k in sl] for j in si])\n",
    "\n",
    "        if ax is None:\n",
    "            ax = fig.add_subplot(111,projection=\"3d\")\n",
    "        \n",
    "        cmap = cm.jet\n",
    "        vmin = np.min(np.where(np.isnan(TC),1.e10,TC))\n",
    "        vmax = np.max(np.where(np.isnan(TC),-1.e10,TC))\n",
    "        norml = ml_colors.Normalize(vmin=vmin, vmax=vmax, clip = True)\n",
    "        \n",
    "        SLE,SIE = np.meshgrid(sle,sie)\n",
    "        surf = ax.plot_surface(SLE, SIE, TC, rstride=1, cstride=1, cmap=cmap, norm=norml, \n",
    "                               linewidth=0, antialiased=False)\n",
    "\n",
    "        ax.set_xlabel(\"reduced liquid saturation\")\n",
    "        ax.set_ylabel(\"reduced ice saturation\")\n",
    "        ax.set_zlabel(\"thermal conductivity\")\n",
    "        fig.colorbar(surf,shrink=0.5,aspect=5)\n",
    "        return TC, ax        \n",
    "        \n",
    "\n",
    "        "
   ]
  },
  {
   "cell_type": "code",
   "execution_count": 4,
   "metadata": {
    "collapsed": false
   },
   "outputs": [],
   "source": [
    "class PetersLidard(TC):\n",
    "    d_ = 0.053\n",
    "    eps_ = 1.e-10\n",
    "    \n",
    "    def __init__(self, a_u, a_f, k_soil, k_gas=0.024, k_liq=0.5611, k_ice=2.27742):\n",
    "        self.a_u = a_u\n",
    "        self.a_f = a_f\n",
    "        self.k_soil = k_soil\n",
    "        self.k_gas = k_gas\n",
    "        self.k_liq = k_liq\n",
    "        self.k_ice = k_ice\n",
    "        \n",
    "    def thermal_conductivity(self, poro, sl, si, T):\n",
    "        if sl + si > 1: return np.nan\n",
    "        k_dry = (self.d_*(1-poro)*self.k_soil + self.k_gas*poro) / \\\n",
    "            (self.d_*(1-poro) + poro)\n",
    "        k_sat_u = pow(self.k_soil,(1-poro)) * pow(self.k_liq,poro)\n",
    "        k_sat_f = pow(self.k_soil,(1-poro)) * pow(self.k_ice,poro)\n",
    "        kersten_u = pow(sl + self.eps_, self.a_u)\n",
    "        kersten_f = pow(si + self.eps_, self.a_f)\n",
    "\n",
    "        return kersten_f * k_sat_f + kersten_u * k_sat_u + (1.0 - kersten_f - kersten_u) * k_dry\n",
    " "
   ]
  },
  {
   "cell_type": "code",
   "execution_count": null,
   "metadata": {
    "collapsed": true
   },
   "outputs": [],
   "source": [
    "class ThreePhaseWetDry(TC):\n",
    "    def __init__(self, tc_sat_uf, tc_dry, a_f, a_u):\n",
    "        self.a_u = a_u\n",
    "        self.a_f = a_f\n",
    "        self.tc_sat_uf = tc_sat_uf\n",
    "        self.tc_dry = tc_dry\n",
    "    def thermal_conductivity(self, poro, sl, si, T):\n",
    "        Ki = 831.51 * std::pow(T, -1.0552)\n",
    "      Kl = 0.5611;\n",
    "  double k_sat_f = k_sat_u_ * std::pow(Ki/Kl, poro);\n",
    "\n",
    "  double kersten_u = std::pow(sat_liq + eps_, alpha_u_);\n",
    "  double kersten_f = std::pow(sat_ice + eps_, alpha_f_);\n",
    "  return kersten_f * k_sat_f + kersten_u * k_sat_u_ + (1.0 - kersten_f - kersten_u) * k_dry_;\n",
    "        "
   ]
  },
  {
   "cell_type": "code",
   "execution_count": 5,
   "metadata": {
    "collapsed": false
   },
   "outputs": [],
   "source": [
    "class PetersLidard2(TC):\n",
    "    d_ = 0.053\n",
    "    eps_ = 1.e-10\n",
    "    \n",
    "    def __init__(self, a_u, a_f, k_soil, k_gas=0.024, k_liq=0.5611, k_ice=2.27742):\n",
    "        self.a_u = a_u\n",
    "        self.a_f = a_f\n",
    "        self.k_soil = k_soil\n",
    "        self.k_gas = k_gas\n",
    "        self.k_liq = k_liq\n",
    "        self.k_ice = k_ice\n",
    "        \n",
    "    def thermal_conductivity(self, poro, sl, si):\n",
    "        if sl + si > 1: return np.nan\n",
    "        k_dry = (self.d_*(1-poro)*self.k_soil + self.k_gas*poro) / \\\n",
    "            (self.d_*(1-poro) + poro)\n",
    "        k_sat_u = pow(self.k_soil,(1-poro)) * pow(self.k_liq,poro)\n",
    "        k_sat_f = pow(self.k_soil,(1-poro)) * pow(self.k_ice,poro)\n",
    "        kersten_u = pow(sl + self.eps_, self.a_u)\n",
    "        kersten_f = pow(si + self.eps_, self.a_f)\n",
    "\n",
    "        k_f = kersten_f * k_sat_f + (1-kersten_f)*k_dry\n",
    "        k_u = kersten_u * k_sat_u + (1-kersten_u)*k_dry\n",
    "        uf = sl / (sl + si)\n",
    "        \n",
    "        return uf*k_u + (1-uf)*k_f\n",
    " "
   ]
  },
  {
   "cell_type": "code",
   "execution_count": 6,
   "metadata": {
    "collapsed": false
   },
   "outputs": [],
   "source": [
    "class PetersLidard3(TC):\n",
    "    d_ = 0.053\n",
    "    eps_ = 1.e-10\n",
    "    \n",
    "    def __init__(self, a_u, a_f, k_soil, k_gas=0.024, k_liq=0.5611, k_ice=2.27742):\n",
    "        self.a_u = a_u\n",
    "        self.a_f = a_f\n",
    "        self.k_soil = k_soil\n",
    "        self.k_gas = k_gas\n",
    "        self.k_liq = k_liq\n",
    "        self.k_ice = k_ice\n",
    "        \n",
    "    def thermal_conductivity(self, poro, sl, si):\n",
    "        if sl + si > 1: return np.nan\n",
    "        sg = 1-sl-si\n",
    "        \n",
    "        k_dry = (self.d_*(1-poro)*self.k_soil + self.k_gas*poro) / \\\n",
    "            (self.d_*(1-poro) + poro)\n",
    "        k_sat_u = pow(self.k_soil,(1-poro)) * pow(self.k_liq,poro)\n",
    "        k_sat_f = pow(self.k_soil,(1-poro)) * pow(self.k_ice,poro)\n",
    "        kersten_u = pow(1-sg + self.eps_, self.a_u)\n",
    "        kersten_f = pow(1-sg + self.eps_, self.a_f)\n",
    "\n",
    "        k_f = kersten_f * k_sat_f + (1-kersten_f)*k_dry\n",
    "        k_u = kersten_u * k_sat_u + (1-kersten_u)*k_dry\n",
    "        uf = sl / (sl + si)\n",
    "        \n",
    "        return uf*k_u + (1-uf)*k_f"
   ]
  },
  {
   "cell_type": "code",
   "execution_count": 7,
   "metadata": {
    "collapsed": false
   },
   "outputs": [],
   "source": [
    "fig = plt.figure(figsize=(6,12))\n",
    "axs = []\n",
    "axs.append(fig.add_subplot(311))\n",
    "axs.append(fig.add_subplot(312))\n",
    "axs.append(fig.add_subplot(313))\n",
    "\n",
    "tc_peat = PetersLidard(0.397947, 2.00553, 0.107283)\n",
    "#tc_peat.plot_end_members(0.876418, 0.345733, axs, color='b')\n",
    "#tc_peat.plot_end_members(0.876418, 0., axs, color='k')\n",
    "\n",
    "\n",
    "#tc_peat2 = PetersLidard2(0.5, 1.0, 0.107283)\n",
    "#tc_peat2.plot_end_members(0.876418, 0.345733, axs, color='b')\n",
    "#tc_peat2.plot_end_members(0.876418, 0., axs, color='b')\n",
    "\n",
    "#tc_peat3 = PetersLidard3(0.5, 1.0, 0.107283)\n",
    "#tc_peat3.plot_end_members(0.876418, 0.345733, axs, color='m')\n",
    "#\n",
    "#tc_peat3.plot_end_members(0.876418, 0., axs, color='r')\n",
    "#plt.show()"
   ]
  },
  {
   "cell_type": "code",
   "execution_count": 8,
   "metadata": {
    "collapsed": false
   },
   "outputs": [
    {
     "name": "stderr",
     "output_type": "stream",
     "text": [
      "-c:25: RuntimeWarning: invalid value encountered in double_scalars\n"
     ]
    },
    {
     "data": {
      "text/plain": [
       "<matplotlib.text.Text at 0x109dd6690>"
      ]
     },
     "execution_count": 8,
     "metadata": {},
     "output_type": "execute_result"
    }
   ],
   "source": [
    "fig = plt.figure(figsize=(6,12))\n",
    "axs = []\n",
    "axs.append(fig.add_subplot(211))\n",
    "axs.append(fig.add_subplot(212))\n",
    "\n",
    "tc_peat = PetersLidard(0.5, 1.0, 0.107283)\n",
    "#tc_peat.plot_end_members(0.876418, 0.345733, axs, color='k')\n",
    "tc_peat.plot_pcolor(0.876418, 0., ax=axs[0])\n",
    "axs[0].set_title(\"PL - 1\")\n",
    "\n",
    "tc_peat3 = PetersLidard3(0.5, 1.0, 0.107283)\n",
    "#tc_peat3.plot_end_members(0.876418, 0.345733, axs, color='r')\n",
    "tc_peat3.plot_pcolor(0.876418, 0., ax=axs[1])\n",
    "axs[1].set_title(\"PL - 3\")"
   ]
  },
  {
   "cell_type": "code",
   "execution_count": 10,
   "metadata": {
    "collapsed": false
   },
   "outputs": [],
   "source": [
    "fig = plt.figure()\n",
    "#tc_peat = PetersLidard(0.397947, 2.00553, 0.107283)\n",
    "tc_peat = PetersLidard(0.397947, 2.00553, 2.30283)\n",
    "vals,ax = tc_peat.plot_surf(0.876418, 0.345733, fig)\n",
    "\n",
    "tc_soil = PetersLidard(0.797355, 0.732066, 2.32081)\n",
    "tc_soil.plot_surf(0.59611, 0.199097, fig, ax)\n",
    "\n",
    "#fig = plt.figure()\n",
    "#tc_peat3 = PetersLidard3(0.5, 1.0, 0.107283)\n",
    "#tc_peat3.plot_end_members(0.876418, 0.345733, axs, color='r')\n",
    "#tc_peat3.plot_surf(0.876418, 0., fig)\n",
    "plt.show()"
   ]
  },
  {
   "cell_type": "code",
   "execution_count": 10,
   "metadata": {
    "collapsed": false
   },
   "outputs": [],
   "source": [
    "plt.show()\n"
   ]
  },
  {
   "cell_type": "code",
   "execution_count": 47,
   "metadata": {
    "collapsed": false
   },
   "outputs": [
    {
     "name": "stdout",
     "output_type": "stream",
     "text": [
      "1000\n"
     ]
    }
   ],
   "source": [
    "dat = np.loadtxt(\"sampleset.matk\", skiprows=3)\n",
    "#dat = dat[0:100]\n",
    "print len(dat)"
   ]
  },
  {
   "cell_type": "code",
   "execution_count": 8,
   "metadata": {
    "collapsed": false
   },
   "outputs": [],
   "source": [
    "peat = dict(poro=1, sr=7, ksoil=9, af=11, au=12)\n",
    "soil = dict(poro=2, sr=8, ksoil=10, af=13, au=14)"
   ]
  },
  {
   "cell_type": "code",
   "execution_count": 45,
   "metadata": {
    "collapsed": false
   },
   "outputs": [],
   "source": [
    "fig = plt.figure(figsize=(12,12))\n",
    "axs = []\n",
    "axs.append(fig.add_subplot(321))\n",
    "axs.append(fig.add_subplot(323))\n",
    "axs.append(fig.add_subplot(325))\n",
    "axs.append(fig.add_subplot(322))\n",
    "axs.append(fig.add_subplot(324))\n",
    "axs.append(fig.add_subplot(326))\n",
    "\n",
    "cfield = peat['ksoil']\n",
    "cm = colors.cm_mapper(dat[:,cfield].min(), dat[:,cfield].max())\n",
    "\n",
    "for i in range(len(dat)):\n",
    "    color = cm(dat[i,cfield])\n",
    "    tc_peat = PetersLidard(dat[i,peat['au']], dat[i,peat['af']], dat[i,peat['ksoil']])\n",
    "    tc_peat.plot_end_members(dat[i,peat['poro']], dat[i,peat['sr']], axs, color=cm(dat[i,cfield]), npoints=100)\n",
    "    #tc_peat.plot_end_members(dat[i,peat['poro']], 0., axs, color=color, npoints=100)\n",
    "    #tc_peat.plot_end_members(0., 0., axs, color=cm(dat[i,cfield]), npoints=100)\n",
    "\n",
    "    tc_soil = PetersLidard(dat[i,soil['au']], dat[i,soil['af']], dat[i,soil['ksoil']])\n",
    "    tc_soil.plot_end_members(dat[i,soil['poro']], dat[i,soil['sr']], axs[3:], color=cm(dat[i,cfield]), npoints=100)    \n",
    "    #tc_soil.plot_end_members(dat[i,soil['poro']], 0., axs[3:], color=color, npoints=100)    \n",
    "    \n",
    "plt.show()"
   ]
  },
  {
   "cell_type": "code",
   "execution_count": 30,
   "metadata": {
    "collapsed": false
   },
   "outputs": [
    {
     "name": "stdout",
     "output_type": "stream",
     "text": [
      "0.024506699438\n",
      "0.0243897122051\n",
      "0.0247697325274\n",
      "0.0246041417658\n",
      "0.0247313790447\n",
      "0.0251405856121\n",
      "0.0245944744985\n",
      "0.0251496612797\n",
      "0.024506875221\n",
      "0.0244182145859\n"
     ]
    }
   ],
   "source": [
    "for i in range(len(dat)):\n",
    "    tc_peat = PetersLidard(dat[i,peat['au']], dat[i,peat['af']], dat[i,peat['ksoil']])\n",
    "    tc_peat.thermal_conductivity(dat[i,peat['poro']], 0., 0.)"
   ]
  },
  {
   "cell_type": "code",
   "execution_count": 46,
   "metadata": {
    "collapsed": false
   },
   "outputs": [
    {
     "data": {
      "text/plain": [
       "100"
      ]
     },
     "execution_count": 46,
     "metadata": {},
     "output_type": "execute_result"
    }
   ],
   "source": [
    "len(dat)"
   ]
  },
  {
   "cell_type": "code",
   "execution_count": null,
   "metadata": {
    "collapsed": false
   },
   "outputs": [],
   "source": []
  }
 ],
 "metadata": {
  "anaconda-cloud": {},
  "kernelspec": {
   "display_name": "Python [default]",
   "language": "python",
   "name": "python2"
  },
  "language_info": {
   "codemirror_mode": {
    "name": "ipython",
    "version": 2
   },
   "file_extension": ".py",
   "mimetype": "text/x-python",
   "name": "python",
   "nbconvert_exporter": "python",
   "pygments_lexer": "ipython2",
   "version": "2.7.12"
  }
 },
 "nbformat": 4,
 "nbformat_minor": 0
}
