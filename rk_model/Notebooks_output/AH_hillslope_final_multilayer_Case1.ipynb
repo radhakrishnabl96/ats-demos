{
 "cells": [
  {
   "cell_type": "markdown",
   "metadata": {},
   "source": [
    "# Arctic Permafrost Modeling\n",
    "\n",
    "ATS initially came out of a desire to model Arctic permafrost using the best available understanding of cryosphere processes, including subsurface flow in partially saturated, partially frozen soils.  These simulations form the basis for doing this work, and represent an approach designed for continuous permafrost.\n",
    "\n",
    "This demo also is useful for seeing how layering works in ATS, as there are heterogeneous properties throughout (peat and mineral soil layers).\n",
    "\n",
    "The basic spinup of this sequence is as follows:\n",
    "\n",
    "* spinup0-water_table: Run a steady-state problem to establish a water table\n",
    "* spinup1-freezeup: Freeze the steady-state water table from below, establishing a saturated ice table.\n",
    "* spinup2-dynamic: Drive a simulation with an annual, cyclic steady-state meterological data, derived from DayMet but smoothed extensively to generate a climatologically \"typical\" year.  This establishes a permafrost vs active layer, reasonable saturation state, etc.\n",
    "\n",
    "After these, many choices are available.  1D column runs could be run using the same input file as spinup2-dynamic and driven with real daily data.  2D or 3D runs on transects, hillslopes, or other geometries can have the result of spinup2-dynamic draped from the surface and lateral flow and spatial variations can be considered.  All of these use the same basic form of input file, with a differing mesh, so we simply demonstrate one, including snow distribution to capture variations in snowpack with topography."
   ]
  },
  {
   "cell_type": "markdown",
   "metadata": {},
   "source": [
    "### Model setup:\n",
    "- Processes: Subsurface flow + Subsurface energy (with ice content)\n",
    "- Hydraulic Initial condition: -11.0 m (Hydraulic head)\n",
    "- Thermal Initial condition: 273.65 K\n",
    "- Thermal bottom B.C: 268.15 K\n",
    "- Thermal surface B.C: 293.15 K \n"
   ]
  },
  {
   "cell_type": "code",
   "execution_count": 2,
   "metadata": {},
   "outputs": [],
   "source": [
    "%matplotlib inline\n",
    "import sys,os\n",
    "\n",
    "sys.path.append(os.path.join(os.environ['ATS_SRC_DIR'],'tools', 'utils'))\n",
    "#sys.path.append(os.path.join('/home/rk/ats_rk/amanzi/src/physics/ats/tools/utils'))\n",
    "import ats_xdmf\n",
    "import plot_column_data\n",
    "import colors\n",
    "import numpy as np\n",
    "import matplotlib.cm\n",
    "from matplotlib import pyplot as plt"
   ]
  },
  {
   "cell_type": "code",
   "execution_count": 3,
   "metadata": {},
   "outputs": [],
   "source": [
    "import h5py\n",
    "import pandas as pd"
   ]
  },
  {
   "cell_type": "code",
   "execution_count": 4,
   "metadata": {},
   "outputs": [
    {
     "name": "stdout",
     "output_type": "stream",
     "text": [
      "/home/rk/ats_rk/testing/ats-demos/rk_model/Notebooks_output\n"
     ]
    }
   ],
   "source": [
    "import os\n",
    "print(os.getcwd())"
   ]
  },
  {
   "cell_type": "code",
   "execution_count": 6,
   "metadata": {
    "scrolled": true
   },
   "outputs": [
    {
     "ename": "ValueError",
     "evalue": "x has 40 columns but y has 3 columns",
     "output_type": "error",
     "traceback": [
      "\u001b[0;31m---------------------------------------------------------------------------\u001b[0m",
      "\u001b[0;31mValueError\u001b[0m                                Traceback (most recent call last)",
      "\u001b[0;32m<ipython-input-6-b383f458e5a5>\u001b[0m in \u001b[0;36m<module>\u001b[0;34m\u001b[0m\n\u001b[1;32m     57\u001b[0m \u001b[0;31m# full column\u001b[0m\u001b[0;34m\u001b[0m\u001b[0;34m\u001b[0m\u001b[0;34m\u001b[0m\u001b[0m\n\u001b[1;32m     58\u001b[0m \u001b[0mfig\u001b[0m\u001b[0;34m,\u001b[0m \u001b[0maxs\u001b[0m \u001b[0;34m=\u001b[0m \u001b[0mplt\u001b[0m\u001b[0;34m.\u001b[0m\u001b[0msubplots\u001b[0m\u001b[0;34m(\u001b[0m\u001b[0;36m1\u001b[0m\u001b[0;34m,\u001b[0m\u001b[0;36m3\u001b[0m\u001b[0;34m)\u001b[0m\u001b[0;34m\u001b[0m\u001b[0;34m\u001b[0m\u001b[0m\n\u001b[0;32m---> 59\u001b[0;31m \u001b[0mplot\u001b[0m\u001b[0;34m(\u001b[0m\u001b[0mdirectory\u001b[0m\u001b[0;34m,\u001b[0m \u001b[0maxs\u001b[0m\u001b[0;34m,\u001b[0m \u001b[0;34m'-'\u001b[0m\u001b[0;34m)\u001b[0m\u001b[0;34m\u001b[0m\u001b[0;34m\u001b[0m\u001b[0m\n\u001b[0m\u001b[1;32m     60\u001b[0m \u001b[0mdecorate\u001b[0m\u001b[0;34m(\u001b[0m\u001b[0maxs\u001b[0m\u001b[0;34m)\u001b[0m\u001b[0;34m\u001b[0m\u001b[0;34m\u001b[0m\u001b[0m\n\u001b[1;32m     61\u001b[0m \u001b[0;34m\u001b[0m\u001b[0m\n",
      "\u001b[0;32m<ipython-input-6-b383f458e5a5>\u001b[0m in \u001b[0;36mplot\u001b[0;34m(directory, axs, style)\u001b[0m\n\u001b[1;32m     36\u001b[0m             \u001b[0maxs\u001b[0m\u001b[0;34m[\u001b[0m\u001b[0;36m0\u001b[0m\u001b[0;34m]\u001b[0m\u001b[0;34m.\u001b[0m\u001b[0mplot\u001b[0m\u001b[0;34m(\u001b[0m\u001b[0mdati\u001b[0m\u001b[0;34m[\u001b[0m\u001b[0;36m4\u001b[0m\u001b[0;34m,\u001b[0m\u001b[0mi\u001b[0m\u001b[0;34m,\u001b[0m\u001b[0;34m:\u001b[0m\u001b[0;34m]\u001b[0m\u001b[0;34m,\u001b[0m\u001b[0mz\u001b[0m\u001b[0;34m,\u001b[0m \u001b[0mstyle\u001b[0m\u001b[0;34m,\u001b[0m \u001b[0mcolor\u001b[0m\u001b[0;34m=\u001b[0m\u001b[0mgas\u001b[0m\u001b[0;34m(\u001b[0m\u001b[0mt\u001b[0m\u001b[0;34m)\u001b[0m\u001b[0;34m,\u001b[0m \u001b[0mlabel\u001b[0m\u001b[0;34m=\u001b[0m\u001b[0;34m'gas'\u001b[0m\u001b[0;34m)\u001b[0m\u001b[0;34m\u001b[0m\u001b[0;34m\u001b[0m\u001b[0m\n\u001b[1;32m     37\u001b[0m         \u001b[0;32melse\u001b[0m\u001b[0;34m:\u001b[0m\u001b[0;34m\u001b[0m\u001b[0;34m\u001b[0m\u001b[0m\n\u001b[0;32m---> 38\u001b[0;31m             \u001b[0maxs\u001b[0m\u001b[0;34m[\u001b[0m\u001b[0;36m0\u001b[0m\u001b[0;34m]\u001b[0m\u001b[0;34m.\u001b[0m\u001b[0mplot\u001b[0m\u001b[0;34m(\u001b[0m\u001b[0mdati\u001b[0m\u001b[0;34m[\u001b[0m\u001b[0;36m2\u001b[0m\u001b[0;34m,\u001b[0m\u001b[0mi\u001b[0m\u001b[0;34m,\u001b[0m\u001b[0;34m:\u001b[0m\u001b[0;34m]\u001b[0m\u001b[0;34m,\u001b[0m\u001b[0mz\u001b[0m\u001b[0;34m,\u001b[0m \u001b[0mstyle\u001b[0m\u001b[0;34m,\u001b[0m \u001b[0mcolor\u001b[0m\u001b[0;34m=\u001b[0m\u001b[0mwater\u001b[0m\u001b[0;34m(\u001b[0m\u001b[0mt\u001b[0m\u001b[0;34m)\u001b[0m\u001b[0;34m)\u001b[0m\u001b[0;34m\u001b[0m\u001b[0;34m\u001b[0m\u001b[0m\n\u001b[0m\u001b[1;32m     39\u001b[0m             \u001b[0maxs\u001b[0m\u001b[0;34m[\u001b[0m\u001b[0;36m0\u001b[0m\u001b[0;34m]\u001b[0m\u001b[0;34m.\u001b[0m\u001b[0mplot\u001b[0m\u001b[0;34m(\u001b[0m\u001b[0mdati\u001b[0m\u001b[0;34m[\u001b[0m\u001b[0;36m3\u001b[0m\u001b[0;34m,\u001b[0m\u001b[0mi\u001b[0m\u001b[0;34m,\u001b[0m\u001b[0;34m:\u001b[0m\u001b[0;34m]\u001b[0m\u001b[0;34m,\u001b[0m\u001b[0mz\u001b[0m\u001b[0;34m,\u001b[0m \u001b[0mstyle\u001b[0m\u001b[0;34m,\u001b[0m \u001b[0mcolor\u001b[0m\u001b[0;34m=\u001b[0m\u001b[0mice\u001b[0m\u001b[0;34m(\u001b[0m\u001b[0mt\u001b[0m\u001b[0;34m)\u001b[0m\u001b[0;34m)\u001b[0m\u001b[0;34m\u001b[0m\u001b[0;34m\u001b[0m\u001b[0m\n\u001b[1;32m     40\u001b[0m             \u001b[0maxs\u001b[0m\u001b[0;34m[\u001b[0m\u001b[0;36m0\u001b[0m\u001b[0;34m]\u001b[0m\u001b[0;34m.\u001b[0m\u001b[0mplot\u001b[0m\u001b[0;34m(\u001b[0m\u001b[0mdati\u001b[0m\u001b[0;34m[\u001b[0m\u001b[0;36m4\u001b[0m\u001b[0;34m,\u001b[0m\u001b[0mi\u001b[0m\u001b[0;34m,\u001b[0m\u001b[0;34m:\u001b[0m\u001b[0;34m]\u001b[0m\u001b[0;34m,\u001b[0m\u001b[0mz\u001b[0m\u001b[0;34m,\u001b[0m \u001b[0mstyle\u001b[0m\u001b[0;34m,\u001b[0m \u001b[0mcolor\u001b[0m\u001b[0;34m=\u001b[0m\u001b[0mgas\u001b[0m\u001b[0;34m(\u001b[0m\u001b[0mt\u001b[0m\u001b[0;34m)\u001b[0m\u001b[0;34m)\u001b[0m\u001b[0;34m\u001b[0m\u001b[0;34m\u001b[0m\u001b[0m\n",
      "\u001b[0;32m~/anaconda3/lib/python3.8/site-packages/matplotlib/axes/_axes.py\u001b[0m in \u001b[0;36mplot\u001b[0;34m(self, scalex, scaley, data, *args, **kwargs)\u001b[0m\n\u001b[1;32m   1741\u001b[0m         \"\"\"\n\u001b[1;32m   1742\u001b[0m         \u001b[0mkwargs\u001b[0m \u001b[0;34m=\u001b[0m \u001b[0mcbook\u001b[0m\u001b[0;34m.\u001b[0m\u001b[0mnormalize_kwargs\u001b[0m\u001b[0;34m(\u001b[0m\u001b[0mkwargs\u001b[0m\u001b[0;34m,\u001b[0m \u001b[0mmlines\u001b[0m\u001b[0;34m.\u001b[0m\u001b[0mLine2D\u001b[0m\u001b[0;34m)\u001b[0m\u001b[0;34m\u001b[0m\u001b[0;34m\u001b[0m\u001b[0m\n\u001b[0;32m-> 1743\u001b[0;31m         \u001b[0mlines\u001b[0m \u001b[0;34m=\u001b[0m \u001b[0;34m[\u001b[0m\u001b[0;34m*\u001b[0m\u001b[0mself\u001b[0m\u001b[0;34m.\u001b[0m\u001b[0m_get_lines\u001b[0m\u001b[0;34m(\u001b[0m\u001b[0;34m*\u001b[0m\u001b[0margs\u001b[0m\u001b[0;34m,\u001b[0m \u001b[0mdata\u001b[0m\u001b[0;34m=\u001b[0m\u001b[0mdata\u001b[0m\u001b[0;34m,\u001b[0m \u001b[0;34m**\u001b[0m\u001b[0mkwargs\u001b[0m\u001b[0;34m)\u001b[0m\u001b[0;34m]\u001b[0m\u001b[0;34m\u001b[0m\u001b[0;34m\u001b[0m\u001b[0m\n\u001b[0m\u001b[1;32m   1744\u001b[0m         \u001b[0;32mfor\u001b[0m \u001b[0mline\u001b[0m \u001b[0;32min\u001b[0m \u001b[0mlines\u001b[0m\u001b[0;34m:\u001b[0m\u001b[0;34m\u001b[0m\u001b[0;34m\u001b[0m\u001b[0m\n\u001b[1;32m   1745\u001b[0m             \u001b[0mself\u001b[0m\u001b[0;34m.\u001b[0m\u001b[0madd_line\u001b[0m\u001b[0;34m(\u001b[0m\u001b[0mline\u001b[0m\u001b[0;34m)\u001b[0m\u001b[0;34m\u001b[0m\u001b[0;34m\u001b[0m\u001b[0m\n",
      "\u001b[0;32m~/anaconda3/lib/python3.8/site-packages/matplotlib/axes/_base.py\u001b[0m in \u001b[0;36m__call__\u001b[0;34m(self, data, *args, **kwargs)\u001b[0m\n\u001b[1;32m    271\u001b[0m                 \u001b[0mthis\u001b[0m \u001b[0;34m+=\u001b[0m \u001b[0margs\u001b[0m\u001b[0;34m[\u001b[0m\u001b[0;36m0\u001b[0m\u001b[0;34m]\u001b[0m\u001b[0;34m,\u001b[0m\u001b[0;34m\u001b[0m\u001b[0;34m\u001b[0m\u001b[0m\n\u001b[1;32m    272\u001b[0m                 \u001b[0margs\u001b[0m \u001b[0;34m=\u001b[0m \u001b[0margs\u001b[0m\u001b[0;34m[\u001b[0m\u001b[0;36m1\u001b[0m\u001b[0;34m:\u001b[0m\u001b[0;34m]\u001b[0m\u001b[0;34m\u001b[0m\u001b[0;34m\u001b[0m\u001b[0m\n\u001b[0;32m--> 273\u001b[0;31m             \u001b[0;32myield\u001b[0m \u001b[0;32mfrom\u001b[0m \u001b[0mself\u001b[0m\u001b[0;34m.\u001b[0m\u001b[0m_plot_args\u001b[0m\u001b[0;34m(\u001b[0m\u001b[0mthis\u001b[0m\u001b[0;34m,\u001b[0m \u001b[0mkwargs\u001b[0m\u001b[0;34m)\u001b[0m\u001b[0;34m\u001b[0m\u001b[0;34m\u001b[0m\u001b[0m\n\u001b[0m\u001b[1;32m    274\u001b[0m \u001b[0;34m\u001b[0m\u001b[0m\n\u001b[1;32m    275\u001b[0m     \u001b[0;32mdef\u001b[0m \u001b[0mget_next_color\u001b[0m\u001b[0;34m(\u001b[0m\u001b[0mself\u001b[0m\u001b[0;34m)\u001b[0m\u001b[0;34m:\u001b[0m\u001b[0;34m\u001b[0m\u001b[0;34m\u001b[0m\u001b[0m\n",
      "\u001b[0;32m~/anaconda3/lib/python3.8/site-packages/matplotlib/axes/_base.py\u001b[0m in \u001b[0;36m_plot_args\u001b[0;34m(self, tup, kwargs)\u001b[0m\n\u001b[1;32m    415\u001b[0m         \u001b[0mncx\u001b[0m\u001b[0;34m,\u001b[0m \u001b[0mncy\u001b[0m \u001b[0;34m=\u001b[0m \u001b[0mx\u001b[0m\u001b[0;34m.\u001b[0m\u001b[0mshape\u001b[0m\u001b[0;34m[\u001b[0m\u001b[0;36m1\u001b[0m\u001b[0;34m]\u001b[0m\u001b[0;34m,\u001b[0m \u001b[0my\u001b[0m\u001b[0;34m.\u001b[0m\u001b[0mshape\u001b[0m\u001b[0;34m[\u001b[0m\u001b[0;36m1\u001b[0m\u001b[0;34m]\u001b[0m\u001b[0;34m\u001b[0m\u001b[0;34m\u001b[0m\u001b[0m\n\u001b[1;32m    416\u001b[0m         \u001b[0;32mif\u001b[0m \u001b[0mncx\u001b[0m \u001b[0;34m>\u001b[0m \u001b[0;36m1\u001b[0m \u001b[0;32mand\u001b[0m \u001b[0mncy\u001b[0m \u001b[0;34m>\u001b[0m \u001b[0;36m1\u001b[0m \u001b[0;32mand\u001b[0m \u001b[0mncx\u001b[0m \u001b[0;34m!=\u001b[0m \u001b[0mncy\u001b[0m\u001b[0;34m:\u001b[0m\u001b[0;34m\u001b[0m\u001b[0;34m\u001b[0m\u001b[0m\n\u001b[0;32m--> 417\u001b[0;31m             \u001b[0;32mraise\u001b[0m \u001b[0mValueError\u001b[0m\u001b[0;34m(\u001b[0m\u001b[0;34mf\"x has {ncx} columns but y has {ncy} columns\"\u001b[0m\u001b[0;34m)\u001b[0m\u001b[0;34m\u001b[0m\u001b[0;34m\u001b[0m\u001b[0m\n\u001b[0m\u001b[1;32m    418\u001b[0m         return [func(x[:, j % ncx], y[:, j % ncy], kw, kwargs)\n\u001b[1;32m    419\u001b[0m                 for j in range(max(ncx, ncy))]\n",
      "\u001b[0;31mValueError\u001b[0m: x has 40 columns but y has 3 columns"
     ]
    },
    {
     "data": {
      "image/png": "[encoded data removed]",
      "text/plain": [
       "<Figure size 432x288 with 3 Axes>"
      ]
     },
     "metadata": {
      "needs_background": "light"
     },
     "output_type": "display_data"
    }
   ],
   "source": [
    "# plot the solution\n",
    "directory = \"/home/rk/ats_rk/testing/ats-demos/rk_model/Demofiles_outputs/hillslope_final_multilayer_case1.demo\"\n",
    "#\n",
    "# plot the solution\n",
    "#\n",
    "def plot(dirname, axs):\n",
    "    \"\"\"A generic plotting function that plots saturation as a function of depth.\"\"\"\n",
    "\n",
    "    plot_column_data.plot_subsurface(vis, ['pressure',], axs[0], cmap='jet')\n",
    "    axs[0].set_xlabel('pressure [Pa]')\n",
    "    ax.set_ylabel('z [m]')\n",
    "    \n",
    "    plot_column_data.plot_subsurface(vis, ['saturation_liquid',], axs[1], None, cmap='jet')\n",
    "    axs[0].set_xlabel('saturation [-]')\n",
    "    ax.set_ylabel('z [m]')\n",
    "\n",
    "def plot(directory, axs, style):\n",
    "    # load the data\n",
    "    vis = ats_xdmf.VisFile(directory, time_unit='d')\n",
    "    vis.loadMesh(columnar=True)\n",
    "    dati = np.array([vis.getArray(v) for v in [\"pressure\", \"pressure\", \"saturation_liquid\", \n",
    "                                    \"saturation_ice\", \"saturation_gas\", \"temperature\"]])\n",
    "    times = vis.times\n",
    "    \n",
    "    ice = colors.cm_mapper(-10, times[-1], colors.ice_cmap())\n",
    "    water = colors.cm_mapper(-10, times[-1], colors.water_cmap())\n",
    "    gas = colors.cm_mapper(-10, times[-1], colors.gas_cmap())    \n",
    "    \n",
    "    # plot saturation of liquid, pressure\n",
    "    z = vis.centroids[:,2]\n",
    "    for i,t in enumerate(times):\n",
    "        label = False\n",
    "        if i == len(times)-1:\n",
    "            axs[0].plot(dati[2,i,:],z, style, color=water(t), label='liquid')\n",
    "            axs[0].plot(dati[3,i,:],z, style, color=ice(t), label='ice')\n",
    "            axs[0].plot(dati[4,i,:],z, style, color=gas(t), label='gas')\n",
    "        else:\n",
    "            axs[0].plot(dati[2,i,:],z, style, color=water(t))\n",
    "            axs[0].plot(dati[3,i,:],z, style, color=ice(t))\n",
    "            axs[0].plot(dati[4,i,:],z, style, color=gas(t))\n",
    "        axs[2].plot(dati[5,i,:],z, style, color=gas(t))\n",
    "        axs[1].plot(dati[1,i,:],z, style, color=water(t))\n",
    "        axs[0].plot(dati[2,i,:],z, style, color=water(t))\n",
    "        axs[0].plot(dati[3,i,:],z, style, color=ice(t))\n",
    "        axs[0].plot(dati[4,i,:],z, style, color=gas(t))\n",
    "\n",
    "def decorate(axs):\n",
    "    axs[0].set_xlabel('saturation [-]')\n",
    "    axs[0].set_ylabel('z-coordinate [m]')\n",
    "    axs[1].set_xlabel('pressure [Pa]')\n",
    "    axs[2].set_xlabel('temperature [K]')\n",
    "    axs[1].ticklabel_format(style='sci', axis='x', scilimits=(0,0))\n",
    "    axs[0].set_xlim([-.1,1.1])\n",
    "    axs[0].legend()\n",
    "\n",
    "\n",
    "# full column\n",
    "fig, axs = plt.subplots(1,3)\n",
    "plot(directory, axs, '-')\n",
    "decorate(axs)\n",
    "\n",
    "# and a zoomed version\n",
    "fig, axs = plt.subplots(1,3)\n",
    "plot(directory, axs, '-')\n",
    "decorate(axs)\n",
    "axs[0].set_ylim([4.5,5])\n",
    "axs[1].set_ylim([4.5,5])\n",
    "axs[2].set_ylim([4.5,5])\n",
    "\n",
    "\n",
    "plt.show()\n",
    "            "
   ]
  },
  {
   "cell_type": "code",
   "execution_count": 7,
   "metadata": {},
   "outputs": [],
   "source": [
    "file_name = '/home/rk/ats_rk/testing/ats-demos/rk_model/Demofiles_outputs/hillslope_final_multilayer_case1.demo'\n",
    "input_filename = '/home/rk/ats_rk/testing/ats-demos/rk_model/Xml_input/hillslope_final_multilayer_case1.xml'"
   ]
  },
  {
   "cell_type": "code",
   "execution_count": 8,
   "metadata": {},
   "outputs": [],
   "source": [
    "# load the ATS solution\n",
    "directory = f\"{file_name}\"\n",
    "vis = ats_xdmf.VisFile(directory)\n",
    "vis.loadMesh(columnar=True)"
   ]
  },
  {
   "cell_type": "markdown",
   "metadata": {},
   "source": [
    "### RK - work"
   ]
  },
  {
   "cell_type": "code",
   "execution_count": 9,
   "metadata": {},
   "outputs": [
    {
     "name": "stdout",
     "output_type": "stream",
     "text": [
      "List of datasets in this file: \n",
      " \n",
      " ['base_porosity.cell.0', 'capillary_pressure_gas_liq.cell.0', 'capillary_pressure_liq_ice.cell.0', 'cell_volume.cell.0', 'darcy_velocity.cell.0', 'darcy_velocity.cell.1', 'darcy_velocity.cell.2', 'density_rock.cell.0', 'dwater_content|dtemperature.cell.0', 'energy.cell.0', 'enthalpy.cell.0', 'enthalpy_times_relative_permeability.cell.0', 'internal_energy_ice.cell.0', 'internal_energy_liquid.cell.0', 'internal_energy_rock.cell.0', 'mass_density_liquid.cell.0', 'molar_density_ice.cell.0', 'molar_density_liquid.cell.0', 'permeability.cell.0', 'porosity.cell.0', 'pressure.cell.0', 'relative_permeability.cell.0', 'saturation_gas.cell.0', 'saturation_ice.cell.0', 'saturation_liquid.cell.0', 'temperature.cell.0', 'thermal_conductivity.cell.0', 'viscosity_liquid.cell.0', 'water_content.cell.0']\n",
      "\n",
      "\n",
      "<HDF5 group \"/base_porosity.cell.0\" (11 members)>\n"
     ]
    }
   ],
   "source": [
    "### Extracting the subsurface data\n",
    "with h5py.File(f'{file_name}/ats_vis_data.h5','r') as hdf:\n",
    "    ls = list(hdf.keys())\n",
    "    print('List of datasets in this file: \\n \\n', ls)\n",
    "    print('\\n')\n",
    "    porosity = hdf.get('base_porosity.cell.0')\n",
    "    print(porosity)"
   ]
  },
  {
   "cell_type": "markdown",
   "metadata": {},
   "source": [
    "### Recreating the node information of the cells:\n",
    "- The centroidal distance was calculated while generating the ats mesh - ../ats/tools/meshing_ats_rk/hillslope_example_new.ipynb"
   ]
  },
  {
   "cell_type": "code",
   "execution_count": 10,
   "metadata": {},
   "outputs": [],
   "source": [
    "# Inserting a '0' at the 0th position (to find rolling mean later)\n",
    "#layerDepth = np.insert(layer_depth,0,0)\n",
    "# To find the rolling mean:\n",
    "# https://stackoverflow.com/questions/14313510/how-to-calculate-rolling-moving-average-using-numpy-scipy\n",
    "#def moving_average(x, w):\n",
    "    #return np.convolve(x, np.ones(w), 'valid') / w\n",
    "\n",
    "#layer_depth_center = moving_average(layer_depth_center,2)\n",
    "#print(layer_depth_center)"
   ]
  },
  {
   "cell_type": "code",
   "execution_count": 11,
   "metadata": {},
   "outputs": [
    {
     "data": {
      "text/plain": [
       "27"
      ]
     },
     "execution_count": 11,
     "metadata": {},
     "output_type": "execute_result"
    }
   ],
   "source": [
    "dz_hillslope = pd.read_csv('/home/rk/ats_rk/testing/ats-demos/rk_model/Data/layerdepthcentroid_hillslope.csv')\n",
    "dz = dz_hillslope['layer_depth']\n",
    "len(dz)"
   ]
  },
  {
   "cell_type": "code",
   "execution_count": 15,
   "metadata": {},
   "outputs": [
    {
     "data": {
      "text/plain": [
       "0   -0.006000\n",
       "1   -0.019200\n",
       "2   -0.035040\n",
       "3   -0.054048\n",
       "4   -0.076858\n",
       "Name: layer_depth, dtype: float64"
      ]
     },
     "execution_count": 15,
     "metadata": {},
     "output_type": "execute_result"
    }
   ],
   "source": [
    "# The following data 'layerdepthcentroid_hillslope.csv' was extracted from the meshing files\n",
    "dz_hillslope = pd.read_csv('/home/rk/ats_rk/testing/ats-demos/rk_model/Data/layerdepthcentroid_hillslope.csv')\n",
    "z = dz_hillslope['layer_depth']\n",
    "\n",
    "\n",
    "# Adding a bunch of cells to reach 45 m with 40 cells\n",
    "\n",
    "dz = 1.4\n",
    "i = len(z)\n",
    "total_depth = z[26]\n",
    "while total_depth < 45:\n",
    "    z[i] = z[i - 1] + dz\n",
    "    total_depth += dz\n",
    "    i += 1\n",
    "z = -z\n",
    "z.head() \n"
   ]
  },
  {
   "cell_type": "markdown",
   "metadata": {},
   "source": [
    "### Hillslope case: \n",
    "- It is a 2-D transect with 40 cells along the vertical and 100 cells along the horizontal\n",
    "- The data is stored based on the cell number starting from the Left to the Right (Left - higher elevation)\n",
    "- We need to write the code such that all the data for a single variable is stored in a dataframe.\n",
    "- Repeating the same depths along the row a 100 times will provide a numpy array with (4000,1) shape. "
   ]
  },
  {
   "cell_type": "code",
   "execution_count": 57,
   "metadata": {},
   "outputs": [],
   "source": [
    "def inputfiles_pddataframes(file_name,t):\n",
    "    \"\"\"\n",
    "    The function is defined to read the input files from the ats simulation. \n",
    "    For each time instance, a dataframe can store the data.\n",
    " \n",
    "    Parameters\n",
    "    ------\n",
    "    \n",
    "    Input parameters:\n",
    "    \n",
    "    file_name : Provide the path to access the file name. \n",
    "    Ex: 'richards_steadystate.demo/ats_vis_data.h5'\n",
    "    \n",
    "    t : The time instance at which the data is required.\n",
    "    Ex: cell_volume.cell.0/{t} - here 0/0 - signifies the first directory (with data at t=0), \n",
    "    similarly 0/1 - signifies the second directory (with data at t=1).\n",
    "            \n",
    "    Output parameters:\n",
    "    \n",
    "    data_results : pandas dataframe with all the key elements of the simulation.\n",
    "    \n",
    "    - idea - can't we write a smart function that directly accesses all the columns? - !\n",
    "    \n",
    "    \"\"\"\n",
    "    # The following data 'layerdepthcentroid_hillslope.csv' was extracted from the meshing files\n",
    "    dz_hillslope = pd.read_csv('/home/rk/ats_rk/testing/ats-demos/rk_model/Data/layerdepthcentroid_hillslope.csv')\n",
    "    z = dz_hillslope['layer_depth']\n",
    "\n",
    "    # Adding a bunch of cells to reach 45 m with 40 cells\n",
    "    dz = 1.4\n",
    "    i = len(z)\n",
    "    total_depth = z[26]\n",
    "    while total_depth < 45:\n",
    "        z[i] = z[i - 1] + dz\n",
    "        total_depth += dz\n",
    "        i += 1\n",
    "    # Taking the negative values since we are going below the surface\n",
    "    z = -z\n",
    "    \n",
    "    # It is a 2-D transect with 40 cells along the vertical and 100 cells along the horizontal\n",
    "    # The data is stored based on the cell number starting from the Left to the Right (Left - higher elevation)\n",
    "    # We need to write the code such that all the data for a single variable is stored in a dataframe.\n",
    "    # Repeating the same depths along the row a 100 times will provide a numpy array with (4000,1) shape. \n",
    "    \n",
    "    # Introducing a new variable for the hillslope - z_transect!\n",
    "    z_transect = z.copy()\n",
    "    # Storing the depth values 99 more times:\n",
    "    for i in range(99):\n",
    "        z_transect = z_transect.append(z)\n",
    "    #print(i)\n",
    "    \n",
    "    z_transect.index = np.arange(1,4001,1)\n",
    "    \n",
    "    with h5py.File(file_name,'r') as hdf:\n",
    "        # Cell_volume\n",
    "        cell_volume_all = np.array(hdf.get(f'cell_volume.cell.0/{t}'))\n",
    "        cell_volume = cell_volume_all.flatten()\n",
    "        \n",
    "        \n",
    "        # Storing the variables/constants in a dataframe - Do we have a direct function to do this? \n",
    "        # Can we simplify the code?\n",
    "        \n",
    "        data_results = pd.DataFrame(index=z_transect,data=cell_volume,columns=['cell_volume'])\n",
    "\n",
    "        mass_density_all = np.array(hdf.get(f'mass_density_liquid.cell.0/{t}'))\n",
    "        mass_density = mass_density_all.flatten()\n",
    "        data_results['mass_density [rho_l] [kg m^{-3}]'] = mass_density\n",
    "\n",
    "\n",
    "\n",
    "        molar_density_all = np.array(hdf.get(f'molar_density_liquid.cell.0/{t}'))\n",
    "        molar_density = molar_density_all.flatten()\n",
    "        data_results['molar_density [n_l] [mol m^{-3}]'] = molar_density\n",
    "\n",
    "\n",
    "        permeability_all = np.array(hdf.get(f'permeability.cell.0/{t}'))\n",
    "        permeability = permeability_all.flatten()\n",
    "        data_results['Absolute permeability [K] (m^{2})'] = permeability\n",
    "\n",
    "\n",
    "\n",
    "        porosity_all = np.array(hdf.get(f'porosity.cell.0/{t}'))\n",
    "        porosity = porosity_all.flatten()\n",
    "        data_results['Porosity [phi] (-)'] = porosity\n",
    "\n",
    "        pressure_all = np.array(hdf.get(f'pressure.cell.0/{t}'))\n",
    "        pressure = pressure_all.flatten()\n",
    "        data_results['Abs pressure [p_abs] [Pa]'] = pressure \n",
    "        # Water pressure or total pressure (Atm + water)? - Probably both\n",
    "\n",
    "        relative_permeability_all = np.array(hdf.get(f'relative_permeability.cell.0/{t}'))\n",
    "        relative_permeability = relative_permeability_all.flatten()\n",
    "        data_results['Relative permeability [kr] [-]'] = relative_permeability\n",
    "\n",
    "\n",
    "        saturation_gas_all = np.array(hdf.get(f'saturation_gas.cell.0/{t}'))\n",
    "        saturation_gas = saturation_gas_all.flatten()\n",
    "        data_results['Saturation of gas [s_g] [-]'] = saturation_gas\n",
    "\n",
    "\n",
    "        saturation_liquid_all = np.array(hdf.get(f'saturation_liquid.cell.0/{t}'))\n",
    "        saturation_liquid = saturation_liquid_all.flatten()\n",
    "        data_results['Saturation of liquid [s_l] [-]'] = saturation_liquid\n",
    "\n",
    "\n",
    "        \n",
    "        saturation_ice_all = np.array(hdf.get(f'saturation_ice.cell.0/{t}'))\n",
    "        saturation_ice = saturation_ice_all.flatten()\n",
    "        data_results['Saturation of ice [s_i] [-]'] = saturation_ice\n",
    "        \n",
    "        temperature_all = np.array(hdf.get(f'temperature.cell.0/{t}'))\n",
    "        temperature = temperature_all.flatten()\n",
    "        data_results['Temperature [T] [K]'] = temperature\n",
    "\n",
    "\n",
    "        viscosity_liquid_all = np.array(hdf.get(f'viscosity_liquid.cell.0/{t}'))\n",
    "        viscosity_liquid = viscosity_liquid_all.flatten()\n",
    "        data_results['viscosity_liquid [v] Pas]'] = viscosity_liquid\n",
    "\n",
    "\n",
    "        water_content_all = np.array(hdf.get(f'water_content.cell.0/{t}'))\n",
    "        water_content = water_content_all.flatten()\n",
    "        data_results['water_content [theta] mols'] = water_content\n",
    "        \n",
    "        \n",
    "        # Inserting the 'layer_depth' index as a column\n",
    "        data_results.insert(0,'layer_depth',data_results.index)\n",
    "        # Changing the index based on the cell number\n",
    "        data_results.index = np.arange(1,4001,1)\n",
    "        \n",
    "        return data_results"
   ]
  },
  {
   "cell_type": "code",
   "execution_count": 58,
   "metadata": {},
   "outputs": [
    {
     "name": "stdout",
     "output_type": "stream",
     "text": [
      "[ 0 12 13 14 15 16 17 18 19 20 21]\n"
     ]
    }
   ],
   "source": [
    "# Determining the time instances at which the data is stored\n",
    "\n",
    "with h5py.File(f'{file_name}/ats_vis_data.h5','r') as hdf:\n",
    "        # Cell_volume\n",
    "        cell_volume_all = np.array(hdf.get(f'cell_volume.cell.0'))\n",
    "        time_period = cell_volume_all.astype('int64')\n",
    "        print(time_period)\n",
    "        # Time series stored in an irregular format! - \n",
    "        # ['0' '100' '103' '104' '105' '106' '107' '108' '109' '110' '111']"
   ]
  },
  {
   "cell_type": "markdown",
   "metadata": {},
   "source": [
    "### Storing the data for all time instances"
   ]
  },
  {
   "cell_type": "code",
   "execution_count": 59,
   "metadata": {},
   "outputs": [],
   "source": [
    "for i in time_period:\n",
    "    # https://stackoverflow.com/questions/1060090/changing-variable-names-with-python-for-loops\n",
    "    locals()[\"data_results_\"+str(i)] = inputfiles_pddataframes(file_name=f'{file_name}/ats_vis_data.h5', t=i)"
   ]
  },
  {
   "cell_type": "markdown",
   "metadata": {},
   "source": [
    "### Plotting the initial pressure:"
   ]
  },
  {
   "cell_type": "code",
   "execution_count": 60,
   "metadata": {},
   "outputs": [
    {
     "data": {
      "text/html": [
       "<div>\n",
       "<style scoped>\n",
       "    .dataframe tbody tr th:only-of-type {\n",
       "        vertical-align: middle;\n",
       "    }\n",
       "\n",
       "    .dataframe tbody tr th {\n",
       "        vertical-align: top;\n",
       "    }\n",
       "\n",
       "    .dataframe thead th {\n",
       "        text-align: right;\n",
       "    }\n",
       "</style>\n",
       "<table border=\"1\" class=\"dataframe\">\n",
       "  <thead>\n",
       "    <tr style=\"text-align: right;\">\n",
       "      <th></th>\n",
       "      <th>layer_depth</th>\n",
       "      <th>cell_volume</th>\n",
       "      <th>mass_density [rho_l] [kg m^{-3}]</th>\n",
       "      <th>molar_density [n_l] [mol m^{-3}]</th>\n",
       "      <th>Absolute permeability [K] (m^{2})</th>\n",
       "      <th>Porosity [phi] (-)</th>\n",
       "      <th>Abs pressure [p_abs] [Pa]</th>\n",
       "      <th>Relative permeability [kr] [-]</th>\n",
       "      <th>Saturation of gas [s_g] [-]</th>\n",
       "      <th>Saturation of liquid [s_l] [-]</th>\n",
       "      <th>Saturation of ice [s_i] [-]</th>\n",
       "      <th>Temperature [T] [K]</th>\n",
       "      <th>viscosity_liquid [v] Pas]</th>\n",
       "      <th>water_content [theta] mols</th>\n",
       "    </tr>\n",
       "  </thead>\n",
       "  <tbody>\n",
       "    <tr>\n",
       "      <th>1</th>\n",
       "      <td>-0.006000</td>\n",
       "      <td>0.120000</td>\n",
       "      <td>999.933993</td>\n",
       "      <td>55504.709505</td>\n",
       "      <td>5.000000e-11</td>\n",
       "      <td>0.85</td>\n",
       "      <td>-6489.310100</td>\n",
       "      <td>0.000002</td>\n",
       "      <td>0.749597</td>\n",
       "      <td>0.250403</td>\n",
       "      <td>0.0</td>\n",
       "      <td>273.65</td>\n",
       "      <td>0.001753</td>\n",
       "      <td>1417.653913</td>\n",
       "    </tr>\n",
       "    <tr>\n",
       "      <th>2</th>\n",
       "      <td>-0.019200</td>\n",
       "      <td>0.144000</td>\n",
       "      <td>999.933993</td>\n",
       "      <td>55504.709505</td>\n",
       "      <td>5.000000e-11</td>\n",
       "      <td>0.85</td>\n",
       "      <td>-6359.862320</td>\n",
       "      <td>0.000002</td>\n",
       "      <td>0.749503</td>\n",
       "      <td>0.250497</td>\n",
       "      <td>0.0</td>\n",
       "      <td>273.65</td>\n",
       "      <td>0.001753</td>\n",
       "      <td>1701.820263</td>\n",
       "    </tr>\n",
       "    <tr>\n",
       "      <th>3</th>\n",
       "      <td>-0.035040</td>\n",
       "      <td>0.172800</td>\n",
       "      <td>999.933993</td>\n",
       "      <td>55504.709505</td>\n",
       "      <td>5.000000e-11</td>\n",
       "      <td>0.85</td>\n",
       "      <td>-6204.524984</td>\n",
       "      <td>0.000002</td>\n",
       "      <td>0.749391</td>\n",
       "      <td>0.250609</td>\n",
       "      <td>0.0</td>\n",
       "      <td>273.65</td>\n",
       "      <td>0.001753</td>\n",
       "      <td>2043.101209</td>\n",
       "    </tr>\n",
       "    <tr>\n",
       "      <th>4</th>\n",
       "      <td>-0.054048</td>\n",
       "      <td>0.207360</td>\n",
       "      <td>999.933993</td>\n",
       "      <td>55504.709505</td>\n",
       "      <td>5.000000e-11</td>\n",
       "      <td>0.85</td>\n",
       "      <td>-6018.120181</td>\n",
       "      <td>0.000002</td>\n",
       "      <td>0.749255</td>\n",
       "      <td>0.250745</td>\n",
       "      <td>0.0</td>\n",
       "      <td>273.65</td>\n",
       "      <td>0.001753</td>\n",
       "      <td>2453.044682</td>\n",
       "    </tr>\n",
       "    <tr>\n",
       "      <th>5</th>\n",
       "      <td>-0.076858</td>\n",
       "      <td>0.248832</td>\n",
       "      <td>999.933993</td>\n",
       "      <td>55504.709505</td>\n",
       "      <td>5.000000e-11</td>\n",
       "      <td>0.85</td>\n",
       "      <td>-5794.434417</td>\n",
       "      <td>0.000002</td>\n",
       "      <td>0.749093</td>\n",
       "      <td>0.250907</td>\n",
       "      <td>0.0</td>\n",
       "      <td>273.65</td>\n",
       "      <td>0.001753</td>\n",
       "      <td>2945.564113</td>\n",
       "    </tr>\n",
       "  </tbody>\n",
       "</table>\n",
       "</div>"
      ],
      "text/plain": [
       "   layer_depth  cell_volume  mass_density [rho_l] [kg m^{-3}]  \\\n",
       "1    -0.006000     0.120000                        999.933993   \n",
       "2    -0.019200     0.144000                        999.933993   \n",
       "3    -0.035040     0.172800                        999.933993   \n",
       "4    -0.054048     0.207360                        999.933993   \n",
       "5    -0.076858     0.248832                        999.933993   \n",
       "\n",
       "   molar_density [n_l] [mol m^{-3}]  Absolute permeability [K] (m^{2})  \\\n",
       "1                      55504.709505                       5.000000e-11   \n",
       "2                      55504.709505                       5.000000e-11   \n",
       "3                      55504.709505                       5.000000e-11   \n",
       "4                      55504.709505                       5.000000e-11   \n",
       "5                      55504.709505                       5.000000e-11   \n",
       "\n",
       "   Porosity [phi] (-)  Abs pressure [p_abs] [Pa]  \\\n",
       "1                0.85               -6489.310100   \n",
       "2                0.85               -6359.862320   \n",
       "3                0.85               -6204.524984   \n",
       "4                0.85               -6018.120181   \n",
       "5                0.85               -5794.434417   \n",
       "\n",
       "   Relative permeability [kr] [-]  Saturation of gas [s_g] [-]  \\\n",
       "1                        0.000002                     0.749597   \n",
       "2                        0.000002                     0.749503   \n",
       "3                        0.000002                     0.749391   \n",
       "4                        0.000002                     0.749255   \n",
       "5                        0.000002                     0.749093   \n",
       "\n",
       "   Saturation of liquid [s_l] [-]  Saturation of ice [s_i] [-]  \\\n",
       "1                        0.250403                          0.0   \n",
       "2                        0.250497                          0.0   \n",
       "3                        0.250609                          0.0   \n",
       "4                        0.250745                          0.0   \n",
       "5                        0.250907                          0.0   \n",
       "\n",
       "   Temperature [T] [K]  viscosity_liquid [v] Pas]  water_content [theta] mols  \n",
       "1               273.65                   0.001753                 1417.653913  \n",
       "2               273.65                   0.001753                 1701.820263  \n",
       "3               273.65                   0.001753                 2043.101209  \n",
       "4               273.65                   0.001753                 2453.044682  \n",
       "5               273.65                   0.001753                 2945.564113  "
      ]
     },
     "execution_count": 60,
     "metadata": {},
     "output_type": "execute_result"
    }
   ],
   "source": [
    "data_results_0.head()"
   ]
  },
  {
   "cell_type": "code",
   "execution_count": 61,
   "metadata": {},
   "outputs": [
    {
     "data": {
      "text/plain": [
       "1   -6489.310100\n",
       "2   -6359.862320\n",
       "3   -6204.524984\n",
       "4   -6018.120181\n",
       "5   -5794.434417\n",
       "Name: Abs pressure [p_abs] [Pa], dtype: float64"
      ]
     },
     "execution_count": 61,
     "metadata": {},
     "output_type": "execute_result"
    }
   ],
   "source": [
    "data_results_0['Abs pressure [p_abs] [Pa]'].head()"
   ]
  },
  {
   "cell_type": "code",
   "execution_count": 62,
   "metadata": {},
   "outputs": [
    {
     "data": {
      "text/html": [
       "<div>\n",
       "<style scoped>\n",
       "    .dataframe tbody tr th:only-of-type {\n",
       "        vertical-align: middle;\n",
       "    }\n",
       "\n",
       "    .dataframe tbody tr th {\n",
       "        vertical-align: top;\n",
       "    }\n",
       "\n",
       "    .dataframe thead th {\n",
       "        text-align: right;\n",
       "    }\n",
       "</style>\n",
       "<table border=\"1\" class=\"dataframe\">\n",
       "  <thead>\n",
       "    <tr style=\"text-align: right;\">\n",
       "      <th></th>\n",
       "      <th>layer_depth</th>\n",
       "      <th>cell_volume</th>\n",
       "      <th>mass_density [rho_l] [kg m^{-3}]</th>\n",
       "      <th>molar_density [n_l] [mol m^{-3}]</th>\n",
       "      <th>Absolute permeability [K] (m^{2})</th>\n",
       "      <th>Porosity [phi] (-)</th>\n",
       "      <th>Abs pressure [p_abs] [Pa]</th>\n",
       "      <th>Relative permeability [kr] [-]</th>\n",
       "      <th>Saturation of gas [s_g] [-]</th>\n",
       "      <th>Saturation of liquid [s_l] [-]</th>\n",
       "      <th>Saturation of ice [s_i] [-]</th>\n",
       "      <th>Temperature [T] [K]</th>\n",
       "      <th>viscosity_liquid [v] Pas]</th>\n",
       "      <th>water_content [theta] mols</th>\n",
       "      <th>Water pressure [p_l] [Pa]</th>\n",
       "      <th>Pressure head [m]</th>\n",
       "      <th>Elevation head [m]</th>\n",
       "      <th>Hydraulic head [m]</th>\n",
       "      <th>Atmospheric pressure head [m]</th>\n",
       "    </tr>\n",
       "  </thead>\n",
       "  <tbody>\n",
       "    <tr>\n",
       "      <th>1</th>\n",
       "      <td>-0.006000</td>\n",
       "      <td>0.120000</td>\n",
       "      <td>999.933993</td>\n",
       "      <td>55504.709505</td>\n",
       "      <td>5.000000e-11</td>\n",
       "      <td>0.85</td>\n",
       "      <td>-6489.310100</td>\n",
       "      <td>0.000002</td>\n",
       "      <td>0.749597</td>\n",
       "      <td>0.250403</td>\n",
       "      <td>0.0</td>\n",
       "      <td>273.65</td>\n",
       "      <td>0.001753</td>\n",
       "      <td>1417.653913</td>\n",
       "      <td>-107814.310100</td>\n",
       "      <td>-11.000787</td>\n",
       "      <td>1</td>\n",
       "      <td>-10.000787</td>\n",
       "      <td>10.338653</td>\n",
       "    </tr>\n",
       "    <tr>\n",
       "      <th>2</th>\n",
       "      <td>-0.019200</td>\n",
       "      <td>0.144000</td>\n",
       "      <td>999.933993</td>\n",
       "      <td>55504.709505</td>\n",
       "      <td>5.000000e-11</td>\n",
       "      <td>0.85</td>\n",
       "      <td>-6359.862320</td>\n",
       "      <td>0.000002</td>\n",
       "      <td>0.749503</td>\n",
       "      <td>0.250497</td>\n",
       "      <td>0.0</td>\n",
       "      <td>273.65</td>\n",
       "      <td>0.001753</td>\n",
       "      <td>1701.820263</td>\n",
       "      <td>-107684.862320</td>\n",
       "      <td>-10.987579</td>\n",
       "      <td>2</td>\n",
       "      <td>-8.987579</td>\n",
       "      <td>10.338653</td>\n",
       "    </tr>\n",
       "    <tr>\n",
       "      <th>3</th>\n",
       "      <td>-0.035040</td>\n",
       "      <td>0.172800</td>\n",
       "      <td>999.933993</td>\n",
       "      <td>55504.709505</td>\n",
       "      <td>5.000000e-11</td>\n",
       "      <td>0.85</td>\n",
       "      <td>-6204.524984</td>\n",
       "      <td>0.000002</td>\n",
       "      <td>0.749391</td>\n",
       "      <td>0.250609</td>\n",
       "      <td>0.0</td>\n",
       "      <td>273.65</td>\n",
       "      <td>0.001753</td>\n",
       "      <td>2043.101209</td>\n",
       "      <td>-107529.524984</td>\n",
       "      <td>-10.971729</td>\n",
       "      <td>3</td>\n",
       "      <td>-7.971729</td>\n",
       "      <td>10.338653</td>\n",
       "    </tr>\n",
       "    <tr>\n",
       "      <th>4</th>\n",
       "      <td>-0.054048</td>\n",
       "      <td>0.207360</td>\n",
       "      <td>999.933993</td>\n",
       "      <td>55504.709505</td>\n",
       "      <td>5.000000e-11</td>\n",
       "      <td>0.85</td>\n",
       "      <td>-6018.120181</td>\n",
       "      <td>0.000002</td>\n",
       "      <td>0.749255</td>\n",
       "      <td>0.250745</td>\n",
       "      <td>0.0</td>\n",
       "      <td>273.65</td>\n",
       "      <td>0.001753</td>\n",
       "      <td>2453.044682</td>\n",
       "      <td>-107343.120181</td>\n",
       "      <td>-10.952709</td>\n",
       "      <td>4</td>\n",
       "      <td>-6.952709</td>\n",
       "      <td>10.338653</td>\n",
       "    </tr>\n",
       "    <tr>\n",
       "      <th>5</th>\n",
       "      <td>-0.076858</td>\n",
       "      <td>0.248832</td>\n",
       "      <td>999.933993</td>\n",
       "      <td>55504.709505</td>\n",
       "      <td>5.000000e-11</td>\n",
       "      <td>0.85</td>\n",
       "      <td>-5794.434417</td>\n",
       "      <td>0.000002</td>\n",
       "      <td>0.749093</td>\n",
       "      <td>0.250907</td>\n",
       "      <td>0.0</td>\n",
       "      <td>273.65</td>\n",
       "      <td>0.001753</td>\n",
       "      <td>2945.564113</td>\n",
       "      <td>-107119.434417</td>\n",
       "      <td>-10.929885</td>\n",
       "      <td>5</td>\n",
       "      <td>-5.929885</td>\n",
       "      <td>10.338653</td>\n",
       "    </tr>\n",
       "  </tbody>\n",
       "</table>\n",
       "</div>"
      ],
      "text/plain": [
       "   layer_depth  cell_volume  mass_density [rho_l] [kg m^{-3}]  \\\n",
       "1    -0.006000     0.120000                        999.933993   \n",
       "2    -0.019200     0.144000                        999.933993   \n",
       "3    -0.035040     0.172800                        999.933993   \n",
       "4    -0.054048     0.207360                        999.933993   \n",
       "5    -0.076858     0.248832                        999.933993   \n",
       "\n",
       "   molar_density [n_l] [mol m^{-3}]  Absolute permeability [K] (m^{2})  \\\n",
       "1                      55504.709505                       5.000000e-11   \n",
       "2                      55504.709505                       5.000000e-11   \n",
       "3                      55504.709505                       5.000000e-11   \n",
       "4                      55504.709505                       5.000000e-11   \n",
       "5                      55504.709505                       5.000000e-11   \n",
       "\n",
       "   Porosity [phi] (-)  Abs pressure [p_abs] [Pa]  \\\n",
       "1                0.85               -6489.310100   \n",
       "2                0.85               -6359.862320   \n",
       "3                0.85               -6204.524984   \n",
       "4                0.85               -6018.120181   \n",
       "5                0.85               -5794.434417   \n",
       "\n",
       "   Relative permeability [kr] [-]  Saturation of gas [s_g] [-]  \\\n",
       "1                        0.000002                     0.749597   \n",
       "2                        0.000002                     0.749503   \n",
       "3                        0.000002                     0.749391   \n",
       "4                        0.000002                     0.749255   \n",
       "5                        0.000002                     0.749093   \n",
       "\n",
       "   Saturation of liquid [s_l] [-]  Saturation of ice [s_i] [-]  \\\n",
       "1                        0.250403                          0.0   \n",
       "2                        0.250497                          0.0   \n",
       "3                        0.250609                          0.0   \n",
       "4                        0.250745                          0.0   \n",
       "5                        0.250907                          0.0   \n",
       "\n",
       "   Temperature [T] [K]  viscosity_liquid [v] Pas]  water_content [theta] mols  \\\n",
       "1               273.65                   0.001753                 1417.653913   \n",
       "2               273.65                   0.001753                 1701.820263   \n",
       "3               273.65                   0.001753                 2043.101209   \n",
       "4               273.65                   0.001753                 2453.044682   \n",
       "5               273.65                   0.001753                 2945.564113   \n",
       "\n",
       "   Water pressure [p_l] [Pa]  Pressure head [m]  Elevation head [m]  \\\n",
       "1             -107814.310100         -11.000787                   1   \n",
       "2             -107684.862320         -10.987579                   2   \n",
       "3             -107529.524984         -10.971729                   3   \n",
       "4             -107343.120181         -10.952709                   4   \n",
       "5             -107119.434417         -10.929885                   5   \n",
       "\n",
       "   Hydraulic head [m]  Atmospheric pressure head [m]  \n",
       "1          -10.000787                      10.338653  \n",
       "2           -8.987579                      10.338653  \n",
       "3           -7.971729                      10.338653  \n",
       "4           -6.952709                      10.338653  \n",
       "5           -5.929885                      10.338653  "
      ]
     },
     "execution_count": 62,
     "metadata": {},
     "output_type": "execute_result"
    }
   ],
   "source": [
    "rho_avg = 1000 # kg m^{-3} - Provided by the developer \n",
    "g = 9.8006 # ms^{-2} - Provided by the user, g = (0,0,-9.8006m ms^{-2})\n",
    "p_0 = 101325 # Pa\n",
    "\n",
    "# Calculating the water pressure = p_abs -p_0\n",
    "data_results_0['Water pressure [p_l] [Pa]'] = data_results_0['Abs pressure [p_abs] [Pa]'] - p_0\n",
    "\n",
    "data_results_0['Pressure head [m]'] = data_results_0['Water pressure [p_l] [Pa]']/(rho_avg*g)\n",
    "\n",
    "data_results_0['Elevation head [m]'] = data_results_0.index\n",
    "\n",
    "data_results_0['Hydraulic head [m]'] = data_results_0['Pressure head [m]'] + data_results_0['Elevation head [m]']\n",
    "\n",
    "data_results_0['Atmospheric pressure head [m]'] = 101325/(rho_avg*g)\n",
    "\n",
    "data_results_0.head()"
   ]
  },
  {
   "cell_type": "code",
   "execution_count": 71,
   "metadata": {},
   "outputs": [
    {
     "data": {
      "image/png": "[encoded data removed]",
      "text/plain": [
       "<Figure size 576x432 with 1 Axes>"
      ]
     },
     "metadata": {
      "needs_background": "light"
     },
     "output_type": "display_data"
    }
   ],
   "source": [
    "# To find the elevation where -ve pressure head begins\n",
    "#z_drop = data_results_0[data_results_0['Pressure head [m]'].le(0)].index[0]\n",
    "\n",
    "z = data_results_0['layer_depth'][0:40]\n",
    "\n",
    "fig = plt.figure(figsize=(8,6))\n",
    "\n",
    "plt.title('Hydraulic, Elevation, Pressure, Atmospheric pressure head - in 1-D soil column')\n",
    "plt.plot(data_results_0['Abs pressure [p_abs] [Pa]'][0:40]/(rho_avg*g), z, 'y', label='Absolute Pressure head [m]')\n",
    "plt.plot(data_results_0['Pressure head [m]'][0:40], z, 'r', label='Water pressure head [m]')\n",
    "plt.plot(data_results_0['Elevation head [m]'][0:40], z, 'g', label='Elevation head [m]')\n",
    "plt.plot(data_results_0['Hydraulic head [m]'][0:40], z, 'b', label='Hydraulic head [m]')\n",
    "plt.plot(data_results_0['Atmospheric pressure head [m]'][0:40], z, 'k', label='Atmospheric pressure head [m]')\n",
    "plt.axvline(x=0,color='k',linestyle='--')\n",
    "plt.ylabel('z [m]')\n",
    "plt.xlabel(' Heads [m]')\n",
    "plt.legend()\n",
    "plt.tight_layout()\n",
    "plt.show()"
   ]
  },
  {
   "cell_type": "code",
   "execution_count": 74,
   "metadata": {},
   "outputs": [
    {
     "data": {
      "text/plain": [
       "Index(['layer_depth', 'cell_volume', 'mass_density [rho_l] [kg m^{-3}]',\n",
       "       'molar_density [n_l] [mol m^{-3}]', 'Absolute permeability [K] (m^{2})',\n",
       "       'Porosity [phi] (-)', 'Abs pressure [p_abs] [Pa]',\n",
       "       'Relative permeability [kr] [-]', 'Saturation of gas [s_g] [-]',\n",
       "       'Saturation of liquid [s_l] [-]', 'Saturation of ice [s_i] [-]',\n",
       "       'Temperature [T] [K]', 'viscosity_liquid [v] Pas]',\n",
       "       'water_content [theta] mols', 'Water pressure [p_l] [Pa]',\n",
       "       'Pressure head [m]', 'Elevation head [m]', 'Hydraulic head [m]',\n",
       "       'Atmospheric pressure head [m]'],\n",
       "      dtype='object')"
      ]
     },
     "execution_count": 74,
     "metadata": {},
     "output_type": "execute_result"
    }
   ],
   "source": [
    "data_results_0.columns"
   ]
  },
  {
   "cell_type": "code",
   "execution_count": 76,
   "metadata": {},
   "outputs": [
    {
     "data": {
      "text/plain": [
       "<matplotlib.legend.Legend at 0x7f9094df9820>"
      ]
     },
     "execution_count": 76,
     "metadata": {},
     "output_type": "execute_result"
    },
    {
     "data": {
      "image/png": "[encoded data removed]",
      "text/plain": [
       "<Figure size 432x432 with 1 Axes>"
      ]
     },
     "metadata": {
      "needs_background": "light"
     },
     "output_type": "display_data"
    }
   ],
   "source": [
    "fig = plt.figure(figsize=(6,6))\n",
    "\n",
    "plt.title('Saturation (initial)')\n",
    "plt.plot(data_results_0['Saturation of liquid [s_l] [-]'][0:40], z, 'b', label='Saturation of liquid')\n",
    "plt.plot(data_results_0['Saturation of gas [s_g] [-]'][0:40], z, 'r', label='Saturation of gas')\n",
    "plt.plot(data_results_0['Saturation of ice [s_i] [-]'][0:40], z, 'g', label='Saturation of ice')\n",
    "\n",
    "plt.xlabel('Saturation [-]')\n",
    "plt.ylabel(' Elevation [m]')\n",
    "plt.tight_layout()\n",
    "plt.legend()\n",
    "#plt.show()"
   ]
  },
  {
   "cell_type": "code",
   "execution_count": 52,
   "metadata": {},
   "outputs": [
    {
     "data": {
      "text/plain": [
       "Index(['cell_volume', 'mass_density [rho_l] [kg m^{-3}]',\n",
       "       'molar_density [n_l] [mol m^{-3}]', 'Absolute permeability [K] (m^{2})',\n",
       "       'Porosity [phi] (-)', 'Abs pressure [p_abs] [Pa]',\n",
       "       'Relative permeability [kr] [-]', 'Saturation of gas [s_g] [-]',\n",
       "       'Saturation of liquid [s_l] [-]', 'Saturation of ice [s_i] [-]',\n",
       "       'Temperature [T] [K]', 'viscosity_liquid [v] Pas]',\n",
       "       'water_content [theta] mols', 'Water pressure [p_l] [Pa]',\n",
       "       'Pressure head [m]', 'Elevation head [m]', 'Hydraulic head [m]',\n",
       "       'Atmospheric pressure head [m]'],\n",
       "      dtype='object')"
      ]
     },
     "execution_count": 52,
     "metadata": {},
     "output_type": "execute_result"
    }
   ],
   "source": [
    "data_results_0.columns"
   ]
  },
  {
   "cell_type": "code",
   "execution_count": 77,
   "metadata": {},
   "outputs": [
    {
     "data": {
      "text/plain": [
       "<matplotlib.legend.Legend at 0x7f9094de15e0>"
      ]
     },
     "execution_count": 77,
     "metadata": {},
     "output_type": "execute_result"
    },
    {
     "data": {
      "image/png": "[encoded data removed]",
      "text/plain": [
       "<Figure size 432x432 with 1 Axes>"
      ]
     },
     "metadata": {
      "needs_background": "light"
     },
     "output_type": "display_data"
    }
   ],
   "source": [
    "fig = plt.figure(figsize=(6,6))\n",
    "\n",
    "plt.title('Relative permeability (initial)')\n",
    "plt.plot(data_results_0['Saturation of liquid [s_l] [-]'],data_results_0['Relative permeability [kr] [-]'], 'b', label='Relative permeability [kr] [-]')\n",
    "\n",
    "plt.xlabel('Saturation [-]')\n",
    "plt.ylabel(' Relative permeability [kr] [-]')\n",
    "plt.tight_layout()\n",
    "plt.legend()\n",
    "#plt.show()"
   ]
  },
  {
   "cell_type": "code",
   "execution_count": 78,
   "metadata": {},
   "outputs": [
    {
     "name": "stdout",
     "output_type": "stream",
     "text": [
      "[ 0 12 13 14 15 16 17 18 19 20 21]\n"
     ]
    }
   ],
   "source": [
    "with h5py.File(f'{file_name}/ats_vis_data.h5','r') as hdf:\n",
    "        # Cell_volume\n",
    "        cell_volume_all = np.array(hdf.get(f'cell_volume.cell.0'))\n",
    "        time_period = cell_volume_all.astype('int64')\n",
    "        ### Sorting the dataframes \n",
    "        time_period.sort()\n",
    "        print(time_period)"
   ]
  },
  {
   "cell_type": "code",
   "execution_count": 79,
   "metadata": {},
   "outputs": [
    {
     "data": {
      "text/plain": [
       "11"
      ]
     },
     "execution_count": 79,
     "metadata": {},
     "output_type": "execute_result"
    }
   ],
   "source": [
    "len(time_period)"
   ]
  },
  {
   "cell_type": "code",
   "execution_count": 80,
   "metadata": {},
   "outputs": [
    {
     "data": {
      "text/plain": [
       "array([12, 13, 14, 15, 16, 17, 18, 19, 20, 21])"
      ]
     },
     "execution_count": 80,
     "metadata": {},
     "output_type": "execute_result"
    }
   ],
   "source": [
    "time_period[1:]"
   ]
  },
  {
   "cell_type": "markdown",
   "metadata": {},
   "source": [
    "### Defining a dataframe that extracts the data for a single variable for all time instances"
   ]
  },
  {
   "cell_type": "code",
   "execution_count": 90,
   "metadata": {},
   "outputs": [],
   "source": [
    "def input_datavar(file_name, variable):\n",
    "    \"\"\"\n",
    "    The function defined to extract a variable across all time instances.\n",
    "    \n",
    "    Parameters\n",
    "    ------\n",
    "    \n",
    "    Input parameters:\n",
    "    \n",
    "    file_name : Provide the path to access the file name. \n",
    "    Ex: 'richards_steadystate.demo/ats_vis_data.h5'\n",
    "    \n",
    "    variable: Name of the variable in the dataset that you are interested in.\n",
    "    Ex: 'cell_volume'\n",
    "    \n",
    "    Output parameters:\n",
    "    \n",
    "    data_var : pandas dataframe with the time series data of the variable.\n",
    "    \n",
    "    \"\"\"\n",
    "    \n",
    "    # Storing the dz coordinates\n",
    "    ### Finding the average between two rows - to find centroidal distance\n",
    "\n",
    "    # The following data 'layerdepthcentroid_hillslope.csv' was extracted from the meshing files\n",
    "    dz_hillslope = pd.read_csv('/home/rk/ats_rk/testing/ats-demos/rk_model/Data/layerdepthcentroid_hillslope.csv')\n",
    "    z = dz_hillslope['layer_depth']\n",
    "\n",
    "    # Adding a bunch of cells to reach 45 m with 40 cells\n",
    "    dz = 1.4\n",
    "    i = len(z)\n",
    "    total_depth = z[26]\n",
    "    while total_depth < 45:\n",
    "        z[i] = z[i - 1] + dz\n",
    "        total_depth += dz\n",
    "        i += 1\n",
    "    # Taking the negative values since we are going below the surface\n",
    "    z = -z\n",
    "    \n",
    "    # It is a 2-D transect with 40 cells along the vertical and 100 cells along the horizontal\n",
    "    # The data is stored based on the cell number starting from the Left to the Right (Left - higher elevation)\n",
    "    # We need to write the code such that all the data for a single variable is stored in a dataframe.\n",
    "    # Repeating the same depths along the row a 100 times will provide a numpy array with (4000,1) shape. \n",
    "    \n",
    "    # Introducing a new variable for the hillslope - z_transect!\n",
    "    z_transect = z.copy()\n",
    "    # Storing the depth values 99 more times:\n",
    "    for i in range(99):\n",
    "        z_transect = z_transect.append(z)\n",
    "    #print(i)\n",
    "    \n",
    "    z_transect.index = np.arange(1,4001,1)\n",
    "    \n",
    "    \n",
    "    # To determine the time period and the list in which the dataframes \n",
    "    \n",
    "    with h5py.File(f'{file_name}/ats_vis_data.h5','r') as hdf:\n",
    "        # Cell_volume\n",
    "        cell_volume_all = np.array(hdf.get(f'cell_volume.cell.0'))\n",
    "        time_period = cell_volume_all.astype('int64')\n",
    "        ### Sorting the dataframes \n",
    "        time_period.sort()\n",
    "    \n",
    "    with h5py.File(f'{file_name}/ats_vis_data.h5','r') as hdf:\n",
    "        # Cell_volume\n",
    "        var_all_0 = np.array(hdf.get(f'{variable}.cell.0/0'))\n",
    "        var_0 = var_all_0.flatten()\n",
    "        data_var = pd.DataFrame(index=z_transect,data=var_0,columns=[f'0'])\n",
    "        \n",
    "        for i in time_period[1:]:\n",
    "            var_all = np.array(hdf.get(f'{variable}.cell.0/{i}'))\n",
    "            var = var_all.flatten()\n",
    "            \n",
    "            data_var[f'{i}'] = var\n",
    "    \n",
    "    # Inserting the 'layer_depth' index as a column\n",
    "    data_var.insert(0,'layer_depth',data_var.index)\n",
    "    # Changing the index based on the cell number\n",
    "    data_var.index = np.arange(1,4001,1)\n",
    "        \n",
    "        \n",
    "    return data_var"
   ]
  },
  {
   "cell_type": "code",
   "execution_count": 91,
   "metadata": {},
   "outputs": [
    {
     "name": "stdout",
     "output_type": "stream",
     "text": [
      "List of datasets in this file: \n",
      " \n",
      " ['base_porosity.cell.0', 'capillary_pressure_gas_liq.cell.0', 'capillary_pressure_liq_ice.cell.0', 'cell_volume.cell.0', 'darcy_velocity.cell.0', 'darcy_velocity.cell.1', 'darcy_velocity.cell.2', 'density_rock.cell.0', 'dwater_content|dtemperature.cell.0', 'energy.cell.0', 'enthalpy.cell.0', 'enthalpy_times_relative_permeability.cell.0', 'internal_energy_ice.cell.0', 'internal_energy_liquid.cell.0', 'internal_energy_rock.cell.0', 'mass_density_liquid.cell.0', 'molar_density_ice.cell.0', 'molar_density_liquid.cell.0', 'permeability.cell.0', 'porosity.cell.0', 'pressure.cell.0', 'relative_permeability.cell.0', 'saturation_gas.cell.0', 'saturation_ice.cell.0', 'saturation_liquid.cell.0', 'temperature.cell.0', 'thermal_conductivity.cell.0', 'viscosity_liquid.cell.0', 'water_content.cell.0']\n",
      "\n",
      "\n",
      "None\n"
     ]
    }
   ],
   "source": [
    "with h5py.File(f'{file_name}/ats_vis_data.h5','r') as hdf:\n",
    "    ls = list(hdf.keys())\n",
    "    print('List of datasets in this file: \\n \\n', ls)\n",
    "    print('\\n')\n",
    "    porosity = hdf.get('saturation_liquid.cell.0/100')\n",
    "    print(porosity)"
   ]
  },
  {
   "cell_type": "code",
   "execution_count": 92,
   "metadata": {},
   "outputs": [],
   "source": [
    "### Accessing the variable at all time instances\n",
    "\n",
    "### Add or remove variable name if required\n",
    "variables = ['saturation_liquid','saturation_ice','saturation_gas','pressure','relative_permeability','temperature']\n",
    "\n",
    "for i in variables:\n",
    "    locals()[\"df_\"+str(i)] = input_datavar(file_name, i)\n",
    "    len_rows = len(locals()[\"df_\"+str(i)].columns)\n",
    "    locals()[\"df_\"+str(i)].columns = np.arange(0,len_rows,1)"
   ]
  },
  {
   "cell_type": "code",
   "execution_count": 93,
   "metadata": {},
   "outputs": [
    {
     "data": {
      "text/html": [
       "<div>\n",
       "<style scoped>\n",
       "    .dataframe tbody tr th:only-of-type {\n",
       "        vertical-align: middle;\n",
       "    }\n",
       "\n",
       "    .dataframe tbody tr th {\n",
       "        vertical-align: top;\n",
       "    }\n",
       "\n",
       "    .dataframe thead th {\n",
       "        text-align: right;\n",
       "    }\n",
       "</style>\n",
       "<table border=\"1\" class=\"dataframe\">\n",
       "  <thead>\n",
       "    <tr style=\"text-align: right;\">\n",
       "      <th></th>\n",
       "      <th>0</th>\n",
       "      <th>1</th>\n",
       "      <th>2</th>\n",
       "      <th>3</th>\n",
       "      <th>4</th>\n",
       "      <th>5</th>\n",
       "      <th>6</th>\n",
       "      <th>7</th>\n",
       "      <th>8</th>\n",
       "      <th>9</th>\n",
       "      <th>10</th>\n",
       "      <th>11</th>\n",
       "    </tr>\n",
       "  </thead>\n",
       "  <tbody>\n",
       "    <tr>\n",
       "      <th>1</th>\n",
       "      <td>-0.006000</td>\n",
       "      <td>-6489.310100</td>\n",
       "      <td>-6133.179900</td>\n",
       "      <td>-6135.970796</td>\n",
       "      <td>-6140.925726</td>\n",
       "      <td>-6146.837644</td>\n",
       "      <td>-6152.909273</td>\n",
       "      <td>-6158.666317</td>\n",
       "      <td>-6163.855565</td>\n",
       "      <td>-6168.361427</td>\n",
       "      <td>-6172.150031</td>\n",
       "      <td>-6175.234842</td>\n",
       "    </tr>\n",
       "    <tr>\n",
       "      <th>2</th>\n",
       "      <td>-0.019200</td>\n",
       "      <td>-6359.862320</td>\n",
       "      <td>-6004.663974</td>\n",
       "      <td>-6007.032584</td>\n",
       "      <td>-6011.953281</td>\n",
       "      <td>-6017.863449</td>\n",
       "      <td>-6023.924587</td>\n",
       "      <td>-6029.660700</td>\n",
       "      <td>-6034.822535</td>\n",
       "      <td>-6039.298094</td>\n",
       "      <td>-6043.055952</td>\n",
       "      <td>-6046.111084</td>\n",
       "    </tr>\n",
       "    <tr>\n",
       "      <th>3</th>\n",
       "      <td>-0.035040</td>\n",
       "      <td>-6204.524984</td>\n",
       "      <td>-5853.784153</td>\n",
       "      <td>-5853.417576</td>\n",
       "      <td>-5857.856168</td>\n",
       "      <td>-5863.625891</td>\n",
       "      <td>-5869.600540</td>\n",
       "      <td>-5875.251997</td>\n",
       "      <td>-5880.325000</td>\n",
       "      <td>-5884.710419</td>\n",
       "      <td>-5888.380336</td>\n",
       "      <td>-5891.352294</td>\n",
       "    </tr>\n",
       "    <tr>\n",
       "      <th>4</th>\n",
       "      <td>-0.054048</td>\n",
       "      <td>-6018.120181</td>\n",
       "      <td>-5679.945993</td>\n",
       "      <td>-5671.722114</td>\n",
       "      <td>-5674.391310</td>\n",
       "      <td>-5679.572016</td>\n",
       "      <td>-5685.235230</td>\n",
       "      <td>-5690.647340</td>\n",
       "      <td>-5695.503757</td>\n",
       "      <td>-5699.685451</td>\n",
       "      <td>-5703.164357</td>\n",
       "      <td>-5705.959630</td>\n",
       "    </tr>\n",
       "    <tr>\n",
       "      <th>5</th>\n",
       "      <td>-0.076858</td>\n",
       "      <td>-5794.434417</td>\n",
       "      <td>-5482.343053</td>\n",
       "      <td>-5458.708697</td>\n",
       "      <td>-5457.041450</td>\n",
       "      <td>-5460.616231</td>\n",
       "      <td>-5465.452648</td>\n",
       "      <td>-5470.294690</td>\n",
       "      <td>-5474.683442</td>\n",
       "      <td>-5478.452301</td>\n",
       "      <td>-5481.558604</td>\n",
       "      <td>-5484.017117</td>\n",
       "    </tr>\n",
       "  </tbody>\n",
       "</table>\n",
       "</div>"
      ],
      "text/plain": [
       "         0            1            2            3            4            5   \\\n",
       "1 -0.006000 -6489.310100 -6133.179900 -6135.970796 -6140.925726 -6146.837644   \n",
       "2 -0.019200 -6359.862320 -6004.663974 -6007.032584 -6011.953281 -6017.863449   \n",
       "3 -0.035040 -6204.524984 -5853.784153 -5853.417576 -5857.856168 -5863.625891   \n",
       "4 -0.054048 -6018.120181 -5679.945993 -5671.722114 -5674.391310 -5679.572016   \n",
       "5 -0.076858 -5794.434417 -5482.343053 -5458.708697 -5457.041450 -5460.616231   \n",
       "\n",
       "            6            7            8            9            10  \\\n",
       "1 -6152.909273 -6158.666317 -6163.855565 -6168.361427 -6172.150031   \n",
       "2 -6023.924587 -6029.660700 -6034.822535 -6039.298094 -6043.055952   \n",
       "3 -5869.600540 -5875.251997 -5880.325000 -5884.710419 -5888.380336   \n",
       "4 -5685.235230 -5690.647340 -5695.503757 -5699.685451 -5703.164357   \n",
       "5 -5465.452648 -5470.294690 -5474.683442 -5478.452301 -5481.558604   \n",
       "\n",
       "            11  \n",
       "1 -6175.234842  \n",
       "2 -6046.111084  \n",
       "3 -5891.352294  \n",
       "4 -5705.959630  \n",
       "5 -5484.017117  "
      ]
     },
     "execution_count": 93,
     "metadata": {},
     "output_type": "execute_result"
    }
   ],
   "source": [
    "df_pressure.head()"
   ]
  },
  {
   "cell_type": "code",
   "execution_count": 94,
   "metadata": {},
   "outputs": [],
   "source": [
    "pressure_head_data = df_pressure/(10000)"
   ]
  },
  {
   "cell_type": "code",
   "execution_count": 95,
   "metadata": {},
   "outputs": [
    {
     "data": {
      "text/html": [
       "<div>\n",
       "<style scoped>\n",
       "    .dataframe tbody tr th:only-of-type {\n",
       "        vertical-align: middle;\n",
       "    }\n",
       "\n",
       "    .dataframe tbody tr th {\n",
       "        vertical-align: top;\n",
       "    }\n",
       "\n",
       "    .dataframe thead th {\n",
       "        text-align: right;\n",
       "    }\n",
       "</style>\n",
       "<table border=\"1\" class=\"dataframe\">\n",
       "  <thead>\n",
       "    <tr style=\"text-align: right;\">\n",
       "      <th></th>\n",
       "      <th>0</th>\n",
       "      <th>1</th>\n",
       "      <th>2</th>\n",
       "      <th>3</th>\n",
       "      <th>4</th>\n",
       "      <th>5</th>\n",
       "      <th>6</th>\n",
       "      <th>7</th>\n",
       "      <th>8</th>\n",
       "      <th>9</th>\n",
       "      <th>10</th>\n",
       "      <th>11</th>\n",
       "    </tr>\n",
       "  </thead>\n",
       "  <tbody>\n",
       "    <tr>\n",
       "      <th>1</th>\n",
       "      <td>-6.000000e-07</td>\n",
       "      <td>-0.648931</td>\n",
       "      <td>-0.613318</td>\n",
       "      <td>-0.613597</td>\n",
       "      <td>-0.614093</td>\n",
       "      <td>-0.614684</td>\n",
       "      <td>-0.615291</td>\n",
       "      <td>-0.615867</td>\n",
       "      <td>-0.616386</td>\n",
       "      <td>-0.616836</td>\n",
       "      <td>-0.617215</td>\n",
       "      <td>-0.617523</td>\n",
       "    </tr>\n",
       "    <tr>\n",
       "      <th>2</th>\n",
       "      <td>-1.920000e-06</td>\n",
       "      <td>-0.635986</td>\n",
       "      <td>-0.600466</td>\n",
       "      <td>-0.600703</td>\n",
       "      <td>-0.601195</td>\n",
       "      <td>-0.601786</td>\n",
       "      <td>-0.602392</td>\n",
       "      <td>-0.602966</td>\n",
       "      <td>-0.603482</td>\n",
       "      <td>-0.603930</td>\n",
       "      <td>-0.604306</td>\n",
       "      <td>-0.604611</td>\n",
       "    </tr>\n",
       "    <tr>\n",
       "      <th>3</th>\n",
       "      <td>-3.504000e-06</td>\n",
       "      <td>-0.620452</td>\n",
       "      <td>-0.585378</td>\n",
       "      <td>-0.585342</td>\n",
       "      <td>-0.585786</td>\n",
       "      <td>-0.586363</td>\n",
       "      <td>-0.586960</td>\n",
       "      <td>-0.587525</td>\n",
       "      <td>-0.588032</td>\n",
       "      <td>-0.588471</td>\n",
       "      <td>-0.588838</td>\n",
       "      <td>-0.589135</td>\n",
       "    </tr>\n",
       "    <tr>\n",
       "      <th>4</th>\n",
       "      <td>-5.404800e-06</td>\n",
       "      <td>-0.601812</td>\n",
       "      <td>-0.567995</td>\n",
       "      <td>-0.567172</td>\n",
       "      <td>-0.567439</td>\n",
       "      <td>-0.567957</td>\n",
       "      <td>-0.568524</td>\n",
       "      <td>-0.569065</td>\n",
       "      <td>-0.569550</td>\n",
       "      <td>-0.569969</td>\n",
       "      <td>-0.570316</td>\n",
       "      <td>-0.570596</td>\n",
       "    </tr>\n",
       "    <tr>\n",
       "      <th>5</th>\n",
       "      <td>-7.685760e-06</td>\n",
       "      <td>-0.579443</td>\n",
       "      <td>-0.548234</td>\n",
       "      <td>-0.545871</td>\n",
       "      <td>-0.545704</td>\n",
       "      <td>-0.546062</td>\n",
       "      <td>-0.546545</td>\n",
       "      <td>-0.547029</td>\n",
       "      <td>-0.547468</td>\n",
       "      <td>-0.547845</td>\n",
       "      <td>-0.548156</td>\n",
       "      <td>-0.548402</td>\n",
       "    </tr>\n",
       "  </tbody>\n",
       "</table>\n",
       "</div>"
      ],
      "text/plain": [
       "             0         1         2         3         4         5         6   \\\n",
       "1 -6.000000e-07 -0.648931 -0.613318 -0.613597 -0.614093 -0.614684 -0.615291   \n",
       "2 -1.920000e-06 -0.635986 -0.600466 -0.600703 -0.601195 -0.601786 -0.602392   \n",
       "3 -3.504000e-06 -0.620452 -0.585378 -0.585342 -0.585786 -0.586363 -0.586960   \n",
       "4 -5.404800e-06 -0.601812 -0.567995 -0.567172 -0.567439 -0.567957 -0.568524   \n",
       "5 -7.685760e-06 -0.579443 -0.548234 -0.545871 -0.545704 -0.546062 -0.546545   \n",
       "\n",
       "         7         8         9         10        11  \n",
       "1 -0.615867 -0.616386 -0.616836 -0.617215 -0.617523  \n",
       "2 -0.602966 -0.603482 -0.603930 -0.604306 -0.604611  \n",
       "3 -0.587525 -0.588032 -0.588471 -0.588838 -0.589135  \n",
       "4 -0.569065 -0.569550 -0.569969 -0.570316 -0.570596  \n",
       "5 -0.547029 -0.547468 -0.547845 -0.548156 -0.548402  "
      ]
     },
     "execution_count": 95,
     "metadata": {},
     "output_type": "execute_result"
    }
   ],
   "source": [
    "pressure_head_data.head()"
   ]
  },
  {
   "cell_type": "code",
   "execution_count": 101,
   "metadata": {},
   "outputs": [
    {
     "data": {
      "text/plain": [
       "1     -0.006000\n",
       "2     -0.019200\n",
       "3     -0.035040\n",
       "4     -0.054048\n",
       "5     -0.076858\n",
       "6     -0.104229\n",
       "7     -0.137075\n",
       "8     -0.176490\n",
       "9     -0.223788\n",
       "10    -0.280546\n",
       "11    -0.348655\n",
       "12    -0.430386\n",
       "13    -0.528463\n",
       "14    -0.646155\n",
       "15    -0.787386\n",
       "16    -0.956863\n",
       "17    -1.160236\n",
       "18    -1.404283\n",
       "19    -1.697140\n",
       "20    -2.048568\n",
       "21    -2.470282\n",
       "22    -3.022343\n",
       "23    -3.795229\n",
       "24    -4.877269\n",
       "25    -6.392126\n",
       "26    -8.512925\n",
       "27   -27.375029\n",
       "28   -28.775029\n",
       "29   -30.175029\n",
       "30   -31.575029\n",
       "31   -32.975029\n",
       "32   -34.375029\n",
       "33   -35.775029\n",
       "34   -37.175029\n",
       "35   -38.575029\n",
       "36   -39.975029\n",
       "37   -41.375029\n",
       "38   -42.775029\n",
       "39   -44.175029\n",
       "40   -45.575029\n",
       "Name: layer_depth, dtype: float64"
      ]
     },
     "execution_count": 101,
     "metadata": {},
     "output_type": "execute_result"
    }
   ],
   "source": [
    "data_results_0['layer_depth'][0:40]"
   ]
  },
  {
   "cell_type": "code",
   "execution_count": 102,
   "metadata": {},
   "outputs": [
    {
     "data": {
      "text/plain": [
       "1     -0.006000\n",
       "2     -0.019200\n",
       "3     -0.035040\n",
       "4     -0.054048\n",
       "5     -0.076858\n",
       "6     -0.104229\n",
       "7     -0.137075\n",
       "8     -0.176490\n",
       "9     -0.223788\n",
       "10    -0.280546\n",
       "11    -0.348655\n",
       "12    -0.430386\n",
       "13    -0.528463\n",
       "14    -0.646155\n",
       "15    -0.787386\n",
       "16    -0.956863\n",
       "17    -1.160236\n",
       "18    -1.404283\n",
       "19    -1.697140\n",
       "20    -2.048568\n",
       "21    -2.470282\n",
       "22    -3.022343\n",
       "23    -3.795229\n",
       "24    -4.877269\n",
       "25    -6.392126\n",
       "26    -8.512925\n",
       "27   -27.375029\n",
       "28   -28.775029\n",
       "29   -30.175029\n",
       "30   -31.575029\n",
       "31   -32.975029\n",
       "32   -34.375029\n",
       "33   -35.775029\n",
       "34   -37.175029\n",
       "35   -38.575029\n",
       "36   -39.975029\n",
       "37   -41.375029\n",
       "38   -42.775029\n",
       "39   -44.175029\n",
       "40   -45.575029\n",
       "Name: 0, dtype: float64"
      ]
     },
     "execution_count": 102,
     "metadata": {},
     "output_type": "execute_result"
    }
   ],
   "source": [
    "df_saturation_liquid[0][0:40]"
   ]
  },
  {
   "cell_type": "code",
   "execution_count": 103,
   "metadata": {},
   "outputs": [
    {
     "data": {
      "text/plain": [
       "Text(0.5, 0, 'Saturation (-)')"
      ]
     },
     "execution_count": 103,
     "metadata": {},
     "output_type": "execute_result"
    },
    {
     "data": {
      "image/png": "[encoded data removed]",
      "text/plain": [
       "<Figure size 1008x432 with 3 Axes>"
      ]
     },
     "metadata": {
      "needs_background": "light"
     },
     "output_type": "display_data"
    }
   ],
   "source": [
    "fig, (ax2, ax1, ax3) = plt.subplots(1, 3)\n",
    "fig.set_size_inches(w=14,h=6)\n",
    "fig.suptitle('Pressure, Saturation, Relative permeability at different time instances')\n",
    "\n",
    "z = data_results_0['layer_depth'][0:40]\n",
    "\n",
    "ax1.plot(df_saturation_liquid[0][0:40], z, alpha=0.2)\n",
    "ax1.plot(df_saturation_liquid[2][0:40], z, alpha=0.3)\n",
    "ax1.plot(df_saturation_liquid[4][0:40], z, alpha=0.5)\n",
    "ax1.plot(df_saturation_liquid[6][0:40], z, alpha=0.6)\n",
    "ax1.plot(df_saturation_liquid[8][0:40], z, alpha=0.8)\n",
    "ax1.plot(df_saturation_liquid[10][0:40], z, alpha=1)\n",
    "#ax1.plot(df_saturation_liquid[200], z, alpha=1)\n",
    "#ax1.legend()\n",
    "ax1.set_ylabel('z (in m)')\n",
    "ax1.set_xlabel('Saturation of liquid(-)')\n",
    "\n",
    "ax2.plot(pressure_head_data[0][0:40], z, alpha=0.2, label ='t = 0')\n",
    "ax2.plot(pressure_head_data[2][0:40], z, alpha=0.3, label ='t = 2')\n",
    "ax2.plot(pressure_head_data[4][0:40], z, alpha=0.4, label ='t = 4')\n",
    "ax2.plot(pressure_head_data[6][0:40], z, alpha=0.6, label ='t = 6')\n",
    "ax2.plot(pressure_head_data[8][0:40], z, alpha=0.8, label ='t = 8')\n",
    "ax2.plot(pressure_head_data[10][0:40], z, alpha=1, label ='t = 10')\n",
    "#ax2.plot(pressure_head_data[200], z, alpha=1)\n",
    "ax2.set_xlabel('Pressure head (in m)')\n",
    "ax2.legend()\n",
    "\n",
    "ax3.plot(df_saturation_liquid[0][0:40], df_relative_permeability[0][0:40], alpha=0.2)\n",
    "ax3.plot(df_saturation_liquid[2][0:40], df_relative_permeability[2][0:40], alpha=0.3)\n",
    "ax3.plot(df_saturation_liquid[4][0:40], df_relative_permeability[4][0:40], alpha=0.4)\n",
    "ax3.plot(df_saturation_liquid[6][0:40], df_relative_permeability[6][0:40], alpha=0.6)\n",
    "ax3.plot(df_saturation_liquid[8][0:40], df_relative_permeability[8][0:40], alpha=0.8)\n",
    "ax3.plot(df_saturation_liquid[10][0:40], df_relative_permeability[10][0:40], alpha=1)\n",
    "#ax3.plot(df_saturation_liquid[200], df_relative_permeability[200], alpha=1, label ='t = 2 days')\n",
    "#ax3.legend()\n",
    "ax3.set_ylabel('Relative permeability (-)')\n",
    "ax3.set_xlabel('Saturation (-)')\n"
   ]
  },
  {
   "cell_type": "code",
   "execution_count": 107,
   "metadata": {},
   "outputs": [
    {
     "data": {
      "text/plain": [
       "Text(0.5, 0, 'Saturation (-)')"
      ]
     },
     "execution_count": 107,
     "metadata": {},
     "output_type": "execute_result"
    },
    {
     "data": {
      "image/png": "[encoded data removed]",
      "text/plain": [
       "<Figure size 1008x432 with 3 Axes>"
      ]
     },
     "metadata": {
      "needs_background": "light"
     },
     "output_type": "display_data"
    }
   ],
   "source": [
    "fig, (ax2, ax1, ax3) = plt.subplots(1, 3)\n",
    "fig.set_size_inches(w=14,h=6)\n",
    "fig.suptitle('Pressure, Saturation, Relative permeability at different time instances')\n",
    "\n",
    "z = data_results_0['layer_depth'][0:40]\n",
    "\n",
    "ax1.plot(df_saturation_liquid[0][0:40], z, alpha=0.2)\n",
    "ax1.plot(df_saturation_liquid[2][0:40], z, alpha=0.3)\n",
    "ax1.plot(df_saturation_liquid[4][0:40], z, alpha=0.5)\n",
    "ax1.plot(df_saturation_liquid[6][0:40], z, alpha=0.6)\n",
    "ax1.plot(df_saturation_liquid[8][0:40], z, alpha=0.8)\n",
    "ax1.plot(df_saturation_liquid[10][0:40], z, alpha=0.8)\n",
    "#ax1.plot(df_saturation_liquid[200], z, alpha=1)\n",
    "#ax1.legend()\n",
    "ax1.set_ylabel('z (in m)')\n",
    "ax1.set_xlabel('Saturation of liquid(-)')\n",
    "\n",
    "ax2.plot(pressure_head_data[0][0:40], z, alpha=0.2)\n",
    "ax2.plot(pressure_head_data[2][0:40], z, alpha=0.3)\n",
    "ax2.plot(pressure_head_data[4][0:40], z, alpha=0.4)\n",
    "ax2.plot(pressure_head_data[6][0:40], z, alpha=0.6)\n",
    "ax2.plot(pressure_head_data[8][0:40], z, alpha=0.8)\n",
    "ax2.plot(pressure_head_data[10][0:40], z, alpha=1.0)\n",
    "#ax2.plot(pressure_head_data[19], z, alpha=1)\n",
    "#ax2.plot(pressure_head_data[200], z, alpha=1)\n",
    "ax2.set_xlabel('Pressure head (in m)')\n",
    "#ax2.legend()\n",
    "\n",
    "ax3.plot(df_saturation_liquid[0][0:40], df_relative_permeability[0][0:40], alpha=0.2, label ='t = 0')\n",
    "ax3.plot(df_saturation_liquid[2][0:40], df_relative_permeability[2][0:40], alpha=0.3, label ='t = 2')\n",
    "ax3.plot(df_saturation_liquid[4][0:40], df_relative_permeability[4][0:40], alpha=0.4, label ='t = 4')\n",
    "ax3.plot(df_saturation_liquid[6][0:40], df_relative_permeability[6][0:40], alpha=0.6, label ='t = 6')\n",
    "ax3.plot(df_saturation_liquid[8][0:40], df_relative_permeability[8][0:40], alpha=0.8, label ='t = 8')\n",
    "ax3.plot(df_saturation_liquid[10][0:40], df_relative_permeability[10][0:40], alpha=1.0, label ='t = 10')\n",
    "#ax3.plot(df_saturation_liquid[19], df_relative_permeability[10], alpha=1, label ='t = 20')\n",
    "#ax3.plot(df_saturation_liquid[200], df_relative_permeability[200], alpha=1, label ='t = 2 days')\n",
    "ax3.legend()\n",
    "ax3.set_ylabel('Relative permeability (-)')\n",
    "ax3.set_xlabel('Saturation (-)')"
   ]
  },
  {
   "cell_type": "code",
   "execution_count": 109,
   "metadata": {},
   "outputs": [
    {
     "data": {
      "text/plain": [
       "Text(0.5, 0, 'Temperature (K)')"
      ]
     },
     "execution_count": 109,
     "metadata": {},
     "output_type": "execute_result"
    },
    {
     "data": {
      "image/png": "[encoded data removed]",
      "text/plain": [
       "<Figure size 1008x432 with 4 Axes>"
      ]
     },
     "metadata": {
      "needs_background": "light"
     },
     "output_type": "display_data"
    }
   ],
   "source": [
    "fig, (ax2, ax4, ax3,ax1) = plt.subplots(1, 4)\n",
    "fig.set_size_inches(w=14,h=6)\n",
    "fig.suptitle('Pressure, Saturation and Temperature at different time instances')\n",
    "\n",
    "z = data_results_0['layer_depth'][0:40]\n",
    "\n",
    "#df_saturation_liquid = df_saturation_liquid.iloc[::-1]\n",
    "\n",
    "ax1.plot(df_saturation_liquid[0][0:40], z, alpha=0.2)\n",
    "ax1.plot(df_saturation_liquid[2][0:40], z, alpha=0.3)\n",
    "ax1.plot(df_saturation_liquid[4][0:40], z, alpha=0.5)\n",
    "ax1.plot(df_saturation_liquid[6][0:40], z, alpha=0.6)\n",
    "ax1.plot(df_saturation_liquid[8][0:40], z, alpha=0.8)\n",
    "ax1.plot(df_saturation_liquid[10][0:40], z, alpha=1.0)\n",
    "#ax1.plot(df_saturation_liquid[19], z, alpha=1)\n",
    "#ax1.plot(df_saturation_liquid[200], z, alpha=1)\n",
    "#ax1.legend()\n",
    "\n",
    "ax1.set_xlabel('Saturation of liquid(-)')\n",
    "\n",
    "ax2.plot(pressure_head_data[0][0:40], z, alpha=0.2, label ='t = 0')\n",
    "ax2.plot(pressure_head_data[2][0:40], z, alpha=0.3, label ='t = 2 ')\n",
    "ax2.plot(pressure_head_data[4][0:40], z, alpha=0.4, label ='t = 4 ')\n",
    "ax2.plot(pressure_head_data[6][0:40], z, alpha=0.6, label ='t = 6 ')\n",
    "ax2.plot(pressure_head_data[8][0:40], z, alpha=0.8, label ='t = 8 ')\n",
    "ax2.plot(pressure_head_data[10][0:40], z, alpha=1.0, label ='t = 10 ')\n",
    "#ax2.plot(pressure_head_data[19], z, alpha=1, label ='t = 20 ')\n",
    "#ax2.plot(pressure_head_data[200], z, alpha=1)\n",
    "ax2.set_xlabel('Pressure head (in m)')\n",
    "ax2.set_ylabel('z (in m)')\n",
    "ax2.legend()\n",
    "\n",
    "ax3.plot(df_saturation_ice[0][0:40], z, alpha=0.2)\n",
    "ax3.plot(df_saturation_ice[2][0:40], z, alpha=0.3)\n",
    "ax3.plot(df_saturation_ice[4][0:40], z, alpha=0.5)\n",
    "ax3.plot(df_saturation_ice[6][0:40], z, alpha=0.6)\n",
    "ax3.plot(df_saturation_ice[8][0:40], z, alpha=0.8)\n",
    "ax3.plot(df_saturation_ice[10][0:40], z, alpha=1.0)\n",
    "#ax3.plot(df_saturation_ice[19], z, alpha=1)\n",
    "#ax1.plot(df_saturation_ice[200], z, alpha=1)\n",
    "#ax1.legend()\n",
    "#ax3.set_ylabel('z (in m)')\n",
    "ax3.set_xlabel('Saturation of ice(-)')\n",
    "\n",
    "ax4.plot(df_temperature[0][0:40], z, alpha=0.2)\n",
    "ax4.plot(df_temperature[2][0:40], z, alpha=0.3)\n",
    "ax4.plot(df_temperature[4][0:40], z, alpha=0.5)\n",
    "ax4.plot(df_temperature[6][0:40], z, alpha=0.6)\n",
    "ax4.plot(df_temperature[8][0:40], z, alpha=0.8)\n",
    "ax4.plot(df_temperature[10][0:40], z, alpha=1.0)\n",
    "#ax4.plot(df_temperature[19], z, alpha=1)\n",
    "#ax1.plot(df_temperature[200], z, alpha=1)\n",
    "#ax1.legend()\n",
    "#ax4.set_ylabel('z (in m)')\n",
    "ax4.set_xlabel('Temperature (K)')"
   ]
  },
  {
   "cell_type": "markdown",
   "metadata": {},
   "source": [
    "* Q - Why does pressure increase to a large extent when liquid freezes to ice? - Density of ice and water are 0.9167–0.9168 g/cm3 and  0.9998–0.999863 g/cm3 - Change in temperature \n",
    "* https://courses.lumenlearning.com/cheminter/chapter/phase-diagram-for-water/ - Read this link!"
   ]
  },
  {
   "cell_type": "markdown",
   "metadata": {},
   "source": [
    "### Plotting the changes near the surface"
   ]
  },
  {
   "cell_type": "code",
   "execution_count": 72,
   "metadata": {},
   "outputs": [
    {
     "data": {
      "text/plain": [
       "(-1.0, 0.0)"
      ]
     },
     "execution_count": 72,
     "metadata": {},
     "output_type": "execute_result"
    },
    {
     "data": {
      "image/png": "[encoded data removed]",
      "text/plain": [
       "<Figure size 1008x432 with 4 Axes>"
      ]
     },
     "metadata": {
      "needs_background": "light"
     },
     "output_type": "display_data"
    }
   ],
   "source": [
    "fig, (ax2, ax4, ax3,ax1) = plt.subplots(1, 4)\n",
    "fig.set_size_inches(w=14,h=6)\n",
    "fig.suptitle('Pressure, Saturation and Temperature at different time instances - near surface')\n",
    "\n",
    "z = df_saturation_liquid.index\n",
    "\n",
    "#df_saturation_liquid = df_saturation_liquid.iloc[::-1]\n",
    "\n",
    "ax1.plot(df_saturation_liquid[0], z, alpha=0.2)\n",
    "ax1.plot(df_saturation_liquid[4], z, alpha=0.3)\n",
    "ax1.plot(df_saturation_liquid[8], z, alpha=0.5)\n",
    "ax1.plot(df_saturation_liquid[12], z, alpha=0.6)\n",
    "ax1.plot(df_saturation_liquid[15], z, alpha=0.8)\n",
    "ax1.set_ylim(-1, 0)\n",
    "#ax1.plot(df_saturation_liquid[19], z, alpha=1)\n",
    "#ax1.plot(df_saturation_liquid[200], z, alpha=1)\n",
    "#ax1.legend()\n",
    "\n",
    "ax1.set_xlabel('Saturation of liquid(-)')\n",
    "\n",
    "ax2.plot(pressure_head_data[0], z, alpha=0.2, label ='t = 0')\n",
    "ax2.plot(pressure_head_data[4], z, alpha=0.3, label ='t = 4 ')\n",
    "ax2.plot(pressure_head_data[8], z, alpha=0.4, label ='t = 8 ')\n",
    "ax2.plot(pressure_head_data[12], z, alpha=0.6, label ='t = 12 ')\n",
    "ax2.plot(pressure_head_data[15], z, alpha=0.8, label ='t = 15 ')\n",
    "#ax2.plot(pressure_head_data[19], z, alpha=1, label ='t = 20 ')\n",
    "#ax2.plot(pressure_head_data[200], z, alpha=1)\n",
    "ax2.set_xlabel('Pressure head (in m)')\n",
    "ax2.set_ylabel('z (in m)')\n",
    "ax2.legend()\n",
    "ax2.set_ylim(-1, 0)\n",
    "\n",
    "ax3.plot(df_saturation_ice[0], z, alpha=0.2)\n",
    "ax3.plot(df_saturation_ice[4], z, alpha=0.3)\n",
    "ax3.plot(df_saturation_ice[8], z, alpha=0.5)\n",
    "ax3.plot(df_saturation_ice[12], z, alpha=0.6)\n",
    "ax3.plot(df_saturation_ice[15], z, alpha=0.8)\n",
    "#ax3.plot(df_saturation_ice[19], z, alpha=1)\n",
    "#ax1.plot(df_saturation_ice[200], z, alpha=1)\n",
    "#ax1.legend()\n",
    "#ax3.set_ylabel('z (in m)')\n",
    "ax3.set_xlabel('Saturation of ice(-)')\n",
    "ax3.set_ylim(-1, 0)\n",
    "\n",
    "ax4.plot(df_temperature[0], z, alpha=0.2)\n",
    "ax4.plot(df_temperature[4], z, alpha=0.3)\n",
    "ax4.plot(df_temperature[8], z, alpha=0.5)\n",
    "ax4.plot(df_temperature[12], z, alpha=0.6)\n",
    "ax4.plot(df_temperature[15], z, alpha=0.8)\n",
    "#ax4.plot(df_temperature[19], z, alpha=1)\n",
    "#ax1.plot(df_temperature[200], z, alpha=1)\n",
    "#ax1.legend()\n",
    "#ax4.set_ylabel('z (in m)')\n",
    "ax4.set_xlabel('Temperature (K)')\n",
    "ax4.set_ylim(-1, 0)"
   ]
  }
 ],
 "metadata": {
  "anaconda-cloud": {},
  "kernelspec": {
   "display_name": "Python 3",
   "language": "python",
   "name": "python3"
  },
  "language_info": {
   "codemirror_mode": {
    "name": "ipython",
    "version": 3
   },
   "file_extension": ".py",
   "mimetype": "text/x-python",
   "name": "python",
   "nbconvert_exporter": "python",
   "pygments_lexer": "ipython3",
   "version": "3.8.8"
  }
 },
 "nbformat": 4,
 "nbformat_minor": 1
}
