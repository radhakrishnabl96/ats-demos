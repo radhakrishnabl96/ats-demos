{
 "cells": [
  {
   "cell_type": "markdown",
   "id": "f19368e4",
   "metadata": {},
   "source": [
    "### Preparing the dataset for initializing the conditions in hillslope:"
   ]
  },
  {
   "cell_type": "code",
   "execution_count": 80,
   "id": "cf6ac89d",
   "metadata": {},
   "outputs": [
    {
     "name": "stdout",
     "output_type": "stream",
     "text": [
      "List of datasets in this file: \n",
      " \n",
      " ['pressure', 'temperature', 'z']\n",
      "\n",
      "\n",
      "[-5715161.38222217   -38288.94464055  -137009.46125349  -303729.94754876\n",
      "  -604598.55774324 -1359991.77832471 -2596737.52666966 -4390081.79553017\n",
      " -5899925.38370772 -2201592.7919399   -395567.94691654  -208693.39087789\n",
      "  -106984.41961357   -37649.29204946    10003.73100321    42614.18374259\n",
      "    65039.79466325    80682.27302661    92311.972959     227998.28604975\n",
      "   368520.8505223    425196.35995214   448699.98231278   456942.84785056\n",
      "   457954.83533019   456061.82400295   453760.93426082   452489.32873421\n",
      "   453140.85676651   456234.79638825   462026.32667192   470512.04506409\n",
      "   481399.31851633   494122.28984047   507898.01614843   521834.60226221\n",
      "   535075.99445141   546946.19192434   557048.06020229   565285.52361617\n",
      "   571808.38943001   576910.11783969   580922.4326558    584140.76186134\n",
      "   586791.28979156   589030.36787342   590959.58325265   592643.21104279\n",
      "   594122.35191633   595428.49402298   596724.59935131   598094.34855195\n",
      "   599489.12732094   600841.80867424   602064.06554894   603034.73063983\n",
      "   603585.25734359   603484.59260296   602422.40935469   599993.10799053\n",
      "   595685.75154042   588892.47374856   578964.44866947   565340.443106\n",
      "   547874.66082685   519960.65392395   483277.51914584   499000.97353468\n",
      "   522463.05298979   548872.63242427   590454.7009482    634092.33731699\n",
      "   679128.24345649   722437.48963968   766911.1972307    814897.13297787\n",
      "   864673.39133867   918400.63260349   973568.32261358  1025076.45544736\n",
      "  1078398.15557556  1142725.0850995   1230015.24939873  1362605.55107787\n",
      "  1495237.41259135]\n",
      "[253.68008384 253.81752996 253.92027393 254.03031469 254.15000698\n",
      " 254.28515666 254.44303683 254.62807515 254.83941475 255.02850646\n",
      " 255.16772065 255.28335601 255.39076687 255.49201928 255.5882779\n",
      " 255.68061948 255.77003254 255.85736616 255.94328361 256.02823543\n",
      " 256.11253967 256.19638293 256.27982083 256.36287508 256.44555466\n",
      " 256.52786252 256.60979836 256.69136004 256.77254434 256.85334745\n",
      " 256.93376527 257.01379363 257.09342859 257.17266668 257.25150509\n",
      " 257.32994187 257.40797588 257.48560675 257.56283459 257.6396598\n",
      " 257.71608273 257.79210359 257.86772233 257.94293863 258.017752\n",
      " 258.09216178 258.16616725 258.23976764 258.31296215 258.38574999\n",
      " 258.46536891 258.56026491 258.67320653 258.80738819 258.96645819\n",
      " 259.15452643 259.37613645 259.63617774 259.93970279 260.291596\n",
      " 260.69601944 261.15553185 261.66975016 262.23341467 262.83377828\n",
      " 263.67087641 264.8010387  265.2796724  264.86908336 264.38323936\n",
      " 264.06993336 263.96132648 263.97229492 264.02301582 264.07264577\n",
      " 264.10797095 264.12914937 264.14041952 264.14588343 264.14833443\n",
      " 264.14936224 264.14976809 264.14991988 264.1499742  264.14999413]\n",
      "[1.00000000e-02 3.00000000e-02 5.00000000e-02 7.00000000e-02\n",
      " 9.00000000e-02 1.10000000e-01 1.30000000e-01 1.50000000e-01\n",
      " 1.70000000e-01 1.90000000e-01 2.10000000e-01 2.30000000e-01\n",
      " 2.50000000e-01 2.70000000e-01 2.90000000e-01 3.10000000e-01\n",
      " 3.30000000e-01 3.50000000e-01 3.70000000e-01 3.90000000e-01\n",
      " 4.10000000e-01 4.30000000e-01 4.50000000e-01 4.70000000e-01\n",
      " 4.90000000e-01 5.10000000e-01 5.30000000e-01 5.50000000e-01\n",
      " 5.70000000e-01 5.90000000e-01 6.10000000e-01 6.30000000e-01\n",
      " 6.50000000e-01 6.70000000e-01 6.90000000e-01 7.10000000e-01\n",
      " 7.30000000e-01 7.50000000e-01 7.70000000e-01 7.90000000e-01\n",
      " 8.10000000e-01 8.30000000e-01 8.50000000e-01 8.70000000e-01\n",
      " 8.90000000e-01 9.10000000e-01 9.30000000e-01 9.50000000e-01\n",
      " 9.70000000e-01 9.90000000e-01 1.01200000e+00 1.03840000e+00\n",
      " 1.07008000e+00 1.10809600e+00 1.15371520e+00 1.20845824e+00\n",
      " 1.27414989e+00 1.35297987e+00 1.44757584e+00 1.56109101e+00\n",
      " 1.69730921e+00 1.86077105e+00 2.05692526e+00 2.29231031e+00\n",
      " 2.57477237e+00 3.03698302e+00 3.96140431e+00 5.48140431e+00\n",
      " 7.28884259e+00 9.09628086e+00 1.10000000e+01 1.30000000e+01\n",
      " 1.50000000e+01 1.70000000e+01 1.90000000e+01 2.10000000e+01\n",
      " 2.30000000e+01 2.50000000e+01 2.70000000e+01 2.90000000e+01\n",
      " 3.10000000e+01 3.30000000e+01 3.50000000e+01 3.70000000e+01\n",
      " 3.90000000e+01]\n"
     ]
    }
   ],
   "source": [
    "### Extracting the data from the example 'column_data.h5'.  \n",
    "with h5py.File(f'column_data.h5','r') as hdf:\n",
    "    ls = list(hdf.keys())\n",
    "    print('List of datasets in this file: \\n \\n', ls)\n",
    "    print('\\n')\n",
    "    pressure_column = np.array(hdf.get('pressure'))\n",
    "    print(pressure_column)\n",
    "    print(np.array(hdf.get('temperature')))\n",
    "    print(np.array(hdf.get('z')))"
   ]
  },
  {
   "cell_type": "code",
   "execution_count": null,
   "id": "a6d3707f",
   "metadata": {},
   "outputs": [],
   "source": [
    "### Extracting the data from the example 'column_data.h5'.  \n",
    "with h5py.File(f'column_data.h5','r') as hdf:\n",
    "    ls = list(hdf.keys())\n",
    "    print('List of datasets in this file: \\n \\n', ls)\n",
    "    print('\\n')\n",
    "    pressure_column = np.array(hdf.get('pressure'))\n",
    "    print(pressure_column)\n",
    "    print(np.array(hdf.get('temperature')))\n",
    "    print(np.array(hdf.get('z')))"
   ]
  },
  {
   "cell_type": "code",
   "execution_count": 103,
   "id": "330a2cd3",
   "metadata": {},
   "outputs": [
    {
     "data": {
      "text/plain": [
       "Float64Index([             -0.006,             -0.0192,            -0.03504,\n",
       "                        -0.054048,          -0.0768576,         -0.10422912,\n",
       "                     -0.137074944,       -0.1764899328,      -0.22378791936,\n",
       "                  -0.280545503232,    -0.3486546038784,   -0.43038552465408,\n",
       "               -0.528462629584896,  -0.646155155501875,   -0.78738618660225,\n",
       "                 -0.9568634239227,   -1.16023610870724,   -1.40428333044869,\n",
       "                -1.69713999653843,   -2.04856799584611,   -2.47028159501533,\n",
       "                -3.02234303392777,   -3.79522904840518,   -4.87726946867355,\n",
       "                -6.39212605704928,   -8.51292528077529,   -27.3750290806411,\n",
       "              -28.775029080641097, -30.175029080641096, -31.575029080641094,\n",
       "               -32.97502908064109,  -34.37502908064109,  -35.77502908064109,\n",
       "               -37.17502908064109,  -38.57502908064109, -39.975029080641086,\n",
       "              -41.375029080641085,  -42.77502908064108,  -44.17502908064108,\n",
       "               -45.57502908064108],\n",
       "             dtype='float64', name='layer_depth')"
      ]
     },
     "execution_count": 103,
     "metadata": {},
     "output_type": "execute_result"
    }
   ],
   "source": [
    "z"
   ]
  },
  {
   "cell_type": "code",
   "execution_count": 130,
   "id": "0663f96f",
   "metadata": {},
   "outputs": [
    {
     "name": "stdout",
     "output_type": "stream",
     "text": [
      "List of datasets in this file: \n",
      " \n",
      " ['base_porosity.cell.0', 'capillary_pressure_gas_liq.cell.0', 'capillary_pressure_liq_ice.cell.0', 'cell_volume.cell.0', 'darcy_velocity.cell.0', 'darcy_velocity.cell.1', 'darcy_velocity.cell.2', 'density_rock.cell.0', 'dwater_content|dtemperature.cell.0', 'energy.cell.0', 'enthalpy.cell.0', 'enthalpy_times_relative_permeability.cell.0', 'internal_energy_ice.cell.0', 'internal_energy_liquid.cell.0', 'internal_energy_rock.cell.0', 'mass_density_liquid.cell.0', 'molar_density_ice.cell.0', 'molar_density_liquid.cell.0', 'permeability.cell.0', 'porosity.cell.0', 'pressure.cell.0', 'relative_permeability.cell.0', 'saturation_gas.cell.0', 'saturation_ice.cell.0', 'saturation_liquid.cell.0', 'temperature.cell.0', 'thermal_conductivity.cell.0', 'viscosity_liquid.cell.0', 'water_content.cell.0']\n",
      "\n",
      "\n"
     ]
    }
   ],
   "source": [
    "# Creating the input file: First creating a pandas dataframe and then converted to header file.\n",
    "\n",
    "directory = '/home/rk/ats_rk/testing/ats-demos/rk_model/Demofiles_outputs/Spinup_final_multilayer_Case1.demo'\n",
    "\n",
    "### Extracting the data from the example 'column_data.h5'.  \n",
    "with h5py.File(f'{directory}/ats_vis_data.h5','r') as hdf:\n",
    "    ls = list(hdf.keys())\n",
    "    print('List of datasets in this file: \\n \\n', ls)\n",
    "    print('\\n')\n",
    "    pressure_column = np.array(hdf.get('pressure.cell.0/1600'))\n",
    "    temperature_column = np.array(hdf.get('temperature.cell.0/1600'))\n",
    "\n",
    "    \n",
    "    #nput_data_hillslope = pd.DataFrame(index=np.arange(1,41,1),data=z,columns=['layer_depth'])\n",
    "    #nput_data_hillslope['pressure'] = pressure_column\n",
    "    #nput_data_hillslope['temperature'] = temperature_column\n",
    "    #nput_data_hillslope.rename(columns={'layer_depth':'z'}, inplace=True)\n",
    "\n",
    "    \n",
    "#nput_data_hillslope.to_hdf('IC_column_data.h5', mode='w')"
   ]
  },
  {
   "cell_type": "code",
   "execution_count": 135,
   "id": "e200b8d8",
   "metadata": {},
   "outputs": [],
   "source": [
    "hf_input = h5py.File('IC_column_data.h5','w')"
   ]
  },
  {
   "cell_type": "code",
   "execution_count": 136,
   "id": "ebc7e8d8",
   "metadata": {},
   "outputs": [
    {
     "data": {
      "text/plain": [
       "<HDF5 dataset \"temperature\": shape (40, 1), type \"<f8\">"
      ]
     },
     "execution_count": 136,
     "metadata": {},
     "output_type": "execute_result"
    }
   ],
   "source": [
    "hf_input.create_dataset('z',data=z)\n",
    "hf_input.create_dataset('pressure',data=pressure_column)\n",
    "hf_input.create_dataset('temperature',data=temperature_column)"
   ]
  },
  {
   "cell_type": "code",
   "execution_count": 137,
   "id": "db25cc0d",
   "metadata": {},
   "outputs": [],
   "source": [
    "hf_input.close()"
   ]
  },
  {
   "cell_type": "code",
   "execution_count": 138,
   "id": "c8ba8ac6",
   "metadata": {},
   "outputs": [
    {
     "name": "stdout",
     "output_type": "stream",
     "text": [
      "List of datasets in this file: \n",
      " \n",
      " ['pressure', 'temperature', 'z']\n",
      "\n",
      "\n",
      "[[4546195.97819994]\n",
      " [4544342.68748985]\n",
      " [4539267.41185487]\n",
      " [3120962.28793194]\n",
      " [3118463.24696783]\n",
      " [3115153.73363198]\n",
      " [3111024.35034976]\n",
      " [3106214.08384347]\n",
      " [3101021.63235692]\n",
      " [3095810.29563436]\n",
      " [3090808.22629565]\n",
      " [3085938.884721  ]\n",
      " [3080816.3932873 ]\n",
      " [3074832.63291816]\n",
      " [3067179.10730141]\n",
      " [3056768.36682855]\n",
      " [3042088.00322244]\n",
      " [3020994.47784997]\n",
      " [2990421.34719953]\n",
      " [2945952.15022392]\n",
      " [2881183.72172647]\n",
      " [2778287.57494114]\n",
      " [2599945.47377538]\n",
      " [2287306.30746996]\n",
      " [1771319.76857349]\n",
      " [1095855.57755764]\n",
      " [ 684296.438499  ]\n",
      " [ 677840.48635519]\n",
      " [ 724984.94423489]\n",
      " [ 774095.27983019]\n",
      " [ 823304.78514825]\n",
      " [ 876190.97543225]\n",
      " [ 930309.37986948]\n",
      " [ 986715.48243438]\n",
      " [1050322.89444143]\n",
      " [1106637.34744009]\n",
      " [1176165.44253812]\n",
      " [1261595.59703653]\n",
      " [1399540.31654013]\n",
      " [1544787.05247275]]\n"
     ]
    }
   ],
   "source": [
    "### Reading the file once more \n",
    "### Extracting the data from the example 'column_data.h5'.  \n",
    "with h5py.File(f'IC_column_data.h5','r') as hdf:\n",
    "    ls = list(hdf.keys())\n",
    "    print('List of datasets in this file: \\n \\n', ls)\n",
    "    print('\\n')\n",
    "    pressure_column = np.array(hdf.get('pressure'))\n",
    "    print(pressure_column)\n",
    "    #temperature_column = np.array(hdf.get('temperature.cell.0/1600'))"
   ]
  },
  {
   "cell_type": "code",
   "execution_count": null,
   "id": "4a28d0cd",
   "metadata": {},
   "outputs": [],
   "source": []
  },
  {
   "cell_type": "code",
   "execution_count": null,
   "id": "7f92078a",
   "metadata": {},
   "outputs": [],
   "source": []
  }
 ],
 "metadata": {
  "kernelspec": {
   "display_name": "Python 3",
   "language": "python",
   "name": "python3"
  },
  "language_info": {
   "codemirror_mode": {
    "name": "ipython",
    "version": 3
   },
   "file_extension": ".py",
   "mimetype": "text/x-python",
   "name": "python",
   "nbconvert_exporter": "python",
   "pygments_lexer": "ipython3",
   "version": "3.8.8"
  }
 },
 "nbformat": 4,
 "nbformat_minor": 5
}
