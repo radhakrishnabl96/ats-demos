{
 "cells": [
  {
   "cell_type": "markdown",
   "id": "8d2f4292",
   "metadata": {},
   "source": [
    "### The following notebook accomplishes the following things:\n",
    "1. Extracts the results from the observations file \n",
    "2. Creates the input file for initial conditions based on the spinup observations"
   ]
  },
  {
   "cell_type": "code",
   "execution_count": 1,
   "id": "e84c4a51",
   "metadata": {},
   "outputs": [],
   "source": [
    "%matplotlib inline\n",
    "import sys,os\n",
    "import ats_xdmf\n",
    "import plot_column_data\n",
    "import colors\n",
    "import numpy as np\n",
    "import matplotlib.cm\n",
    "from matplotlib import pyplot as plt\n",
    "import h5py\n",
    "import pandas as pd"
   ]
  },
  {
   "cell_type": "markdown",
   "id": "19b7025e",
   "metadata": {},
   "source": [
    "#### 1. Extracts the results from the observations file "
   ]
  },
  {
   "cell_type": "code",
   "execution_count": 3,
   "id": "eb9665eb",
   "metadata": {},
   "outputs": [
    {
     "data": {
      "text/html": [
       "<div>\n",
       "<style scoped>\n",
       "    .dataframe tbody tr th:only-of-type {\n",
       "        vertical-align: middle;\n",
       "    }\n",
       "\n",
       "    .dataframe tbody tr th {\n",
       "        vertical-align: top;\n",
       "    }\n",
       "\n",
       "    .dataframe thead th {\n",
       "        text-align: right;\n",
       "    }\n",
       "</style>\n",
       "<table border=\"1\" class=\"dataframe\">\n",
       "  <thead>\n",
       "    <tr style=\"text-align: right;\">\n",
       "      <th></th>\n",
       "      <th>time [s]</th>\n",
       "      <th>point -0.04 temperature [K]</th>\n",
       "      <th>point -0.1 temperature [K]</th>\n",
       "      <th>point -0.2 temperature [K]</th>\n",
       "      <th>point -0.4 temperature [K]</th>\n",
       "      <th>point -0.8 temperature [K]</th>\n",
       "      <th>point -1.2 temperature [K]</th>\n",
       "      <th>point -1.6 temperature [K]</th>\n",
       "      <th>point -0.04 saturation liquid</th>\n",
       "      <th>point -0.1 saturation liquid</th>\n",
       "      <th>point -0.2 saturation liquid</th>\n",
       "      <th>point -0.4 saturation liquid</th>\n",
       "      <th>point -0.8 saturation liquid</th>\n",
       "      <th>point -1.2 saturation liquid</th>\n",
       "      <th>point -1.6 saturation liquid</th>\n",
       "      <th>time [days]</th>\n",
       "    </tr>\n",
       "    <tr>\n",
       "      <th>time [days]</th>\n",
       "      <th></th>\n",
       "      <th></th>\n",
       "      <th></th>\n",
       "      <th></th>\n",
       "      <th></th>\n",
       "      <th></th>\n",
       "      <th></th>\n",
       "      <th></th>\n",
       "      <th></th>\n",
       "      <th></th>\n",
       "      <th></th>\n",
       "      <th></th>\n",
       "      <th></th>\n",
       "      <th></th>\n",
       "      <th></th>\n",
       "      <th></th>\n",
       "    </tr>\n",
       "  </thead>\n",
       "  <tbody>\n",
       "    <tr>\n",
       "      <th>0.0</th>\n",
       "      <td>0.0</td>\n",
       "      <td>264.661714</td>\n",
       "      <td>264.661695</td>\n",
       "      <td>264.661658</td>\n",
       "      <td>264.661609</td>\n",
       "      <td>264.661419</td>\n",
       "      <td>264.661121</td>\n",
       "      <td>264.660733</td>\n",
       "      <td>0.224326</td>\n",
       "      <td>0.224326</td>\n",
       "      <td>0.224326</td>\n",
       "      <td>0.159499</td>\n",
       "      <td>0.159499</td>\n",
       "      <td>0.159499</td>\n",
       "      <td>0.159499</td>\n",
       "      <td>0.0</td>\n",
       "    </tr>\n",
       "    <tr>\n",
       "      <th>1.0</th>\n",
       "      <td>86400.0</td>\n",
       "      <td>263.916752</td>\n",
       "      <td>264.287603</td>\n",
       "      <td>264.517574</td>\n",
       "      <td>264.597084</td>\n",
       "      <td>264.651237</td>\n",
       "      <td>264.659786</td>\n",
       "      <td>264.660455</td>\n",
       "      <td>0.224326</td>\n",
       "      <td>0.224326</td>\n",
       "      <td>0.224326</td>\n",
       "      <td>0.159499</td>\n",
       "      <td>0.159499</td>\n",
       "      <td>0.159499</td>\n",
       "      <td>0.159499</td>\n",
       "      <td>1.0</td>\n",
       "    </tr>\n",
       "    <tr>\n",
       "      <th>2.0</th>\n",
       "      <td>172800.0</td>\n",
       "      <td>263.221386</td>\n",
       "      <td>263.833777</td>\n",
       "      <td>264.278163</td>\n",
       "      <td>264.452502</td>\n",
       "      <td>264.608173</td>\n",
       "      <td>264.649154</td>\n",
       "      <td>264.657404</td>\n",
       "      <td>0.224326</td>\n",
       "      <td>0.224326</td>\n",
       "      <td>0.224326</td>\n",
       "      <td>0.159499</td>\n",
       "      <td>0.159499</td>\n",
       "      <td>0.159499</td>\n",
       "      <td>0.159499</td>\n",
       "      <td>2.0</td>\n",
       "    </tr>\n",
       "    <tr>\n",
       "      <th>3.0</th>\n",
       "      <td>259200.0</td>\n",
       "      <td>262.605117</td>\n",
       "      <td>263.392221</td>\n",
       "      <td>264.015093</td>\n",
       "      <td>264.275285</td>\n",
       "      <td>264.540553</td>\n",
       "      <td>264.627356</td>\n",
       "      <td>264.649765</td>\n",
       "      <td>0.224326</td>\n",
       "      <td>0.224326</td>\n",
       "      <td>0.224326</td>\n",
       "      <td>0.159498</td>\n",
       "      <td>0.159499</td>\n",
       "      <td>0.159499</td>\n",
       "      <td>0.159499</td>\n",
       "      <td>3.0</td>\n",
       "    </tr>\n",
       "    <tr>\n",
       "      <th>4.0</th>\n",
       "      <td>345600.0</td>\n",
       "      <td>262.074334</td>\n",
       "      <td>262.988535</td>\n",
       "      <td>263.751818</td>\n",
       "      <td>264.083838</td>\n",
       "      <td>264.453872</td>\n",
       "      <td>264.593729</td>\n",
       "      <td>264.636120</td>\n",
       "      <td>0.224326</td>\n",
       "      <td>0.224326</td>\n",
       "      <td>0.224326</td>\n",
       "      <td>0.159498</td>\n",
       "      <td>0.159499</td>\n",
       "      <td>0.159499</td>\n",
       "      <td>0.159499</td>\n",
       "      <td>4.0</td>\n",
       "    </tr>\n",
       "  </tbody>\n",
       "</table>\n",
       "</div>"
      ],
      "text/plain": [
       "             time [s]  point -0.04 temperature [K]  \\\n",
       "time [days]                                          \n",
       "0.0               0.0                   264.661714   \n",
       "1.0           86400.0                   263.916752   \n",
       "2.0          172800.0                   263.221386   \n",
       "3.0          259200.0                   262.605117   \n",
       "4.0          345600.0                   262.074334   \n",
       "\n",
       "             point -0.1 temperature [K]  point -0.2 temperature [K]  \\\n",
       "time [days]                                                           \n",
       "0.0                          264.661695                  264.661658   \n",
       "1.0                          264.287603                  264.517574   \n",
       "2.0                          263.833777                  264.278163   \n",
       "3.0                          263.392221                  264.015093   \n",
       "4.0                          262.988535                  263.751818   \n",
       "\n",
       "             point -0.4 temperature [K]  point -0.8 temperature [K]  \\\n",
       "time [days]                                                           \n",
       "0.0                          264.661609                  264.661419   \n",
       "1.0                          264.597084                  264.651237   \n",
       "2.0                          264.452502                  264.608173   \n",
       "3.0                          264.275285                  264.540553   \n",
       "4.0                          264.083838                  264.453872   \n",
       "\n",
       "             point -1.2 temperature [K]  point -1.6 temperature [K]  \\\n",
       "time [days]                                                           \n",
       "0.0                          264.661121                  264.660733   \n",
       "1.0                          264.659786                  264.660455   \n",
       "2.0                          264.649154                  264.657404   \n",
       "3.0                          264.627356                  264.649765   \n",
       "4.0                          264.593729                  264.636120   \n",
       "\n",
       "             point -0.04 saturation liquid  point -0.1 saturation liquid  \\\n",
       "time [days]                                                                \n",
       "0.0                               0.224326                      0.224326   \n",
       "1.0                               0.224326                      0.224326   \n",
       "2.0                               0.224326                      0.224326   \n",
       "3.0                               0.224326                      0.224326   \n",
       "4.0                               0.224326                      0.224326   \n",
       "\n",
       "             point -0.2 saturation liquid  point -0.4 saturation liquid  \\\n",
       "time [days]                                                               \n",
       "0.0                              0.224326                      0.159499   \n",
       "1.0                              0.224326                      0.159499   \n",
       "2.0                              0.224326                      0.159499   \n",
       "3.0                              0.224326                      0.159498   \n",
       "4.0                              0.224326                      0.159498   \n",
       "\n",
       "             point -0.8 saturation liquid  point -1.2 saturation liquid  \\\n",
       "time [days]                                                               \n",
       "0.0                              0.159499                      0.159499   \n",
       "1.0                              0.159499                      0.159499   \n",
       "2.0                              0.159499                      0.159499   \n",
       "3.0                              0.159499                      0.159499   \n",
       "4.0                              0.159499                      0.159499   \n",
       "\n",
       "             point -1.6 saturation liquid  time [days]  \n",
       "time [days]                                             \n",
       "0.0                              0.159499          0.0  \n",
       "1.0                              0.159499          1.0  \n",
       "2.0                              0.159499          2.0  \n",
       "3.0                              0.159499          3.0  \n",
       "4.0                              0.159499          4.0  "
      ]
     },
     "execution_count": 3,
     "metadata": {},
     "output_type": "execute_result"
    }
   ],
   "source": [
    "# Reading the csv file \n",
    "df_observation = pd.read_csv('test_dyn_spinup.demo/observations.dat', skiprows=88, sep=' ')\n",
    "df_observation['time [days]'] = df_observation['time [s]']/86400\n",
    "df_observation.index = df_observation['time [days]']\n",
    "\n",
    "df_observation.head()"
   ]
  },
  {
   "cell_type": "code",
   "execution_count": 4,
   "id": "e9616269",
   "metadata": {},
   "outputs": [
    {
     "data": {
      "text/plain": [
       "173"
      ]
     },
     "execution_count": 4,
     "metadata": {},
     "output_type": "execute_result"
    }
   ],
   "source": [
    "len(df_observation)"
   ]
  },
  {
   "cell_type": "markdown",
   "id": "e767a20e",
   "metadata": {},
   "source": [
    "#### Plotting the values \n",
    "##### 1. Subsurface temperature"
   ]
  },
  {
   "cell_type": "code",
   "execution_count": 9,
   "id": "d2bd2a32",
   "metadata": {},
   "outputs": [
    {
     "data": {
      "image/png": "[encoded data removed]",
      "text/plain": [
       "<Figure size 1008x576 with 1 Axes>"
      ]
     },
     "metadata": {
      "needs_background": "light"
     },
     "output_type": "display_data"
    }
   ],
   "source": [
    "plt.figure(figsize=(14,8))\n",
    "plt.title('Plotting soil temperature [K]')\n",
    "#plt.plot(df_observation['point -0.01 temperature [K]'][:1000],label='0.01 m')\n",
    "plt.plot(df_observation['point -0.04 temperature [K]'][:1000],label='0.04 m')\n",
    "plt.plot(df_observation['point -0.2 temperature [K]'][:1000],label='0.2 m')\n",
    "plt.plot(df_observation['point -0.4 temperature [K]'][:1000],label='0.4 m')\n",
    "plt.plot(df_observation['point -0.8 temperature [K]'][:1000],label='0.8 m')\n",
    "plt.plot(df_observation['point -1.2 temperature [K]'][:1000],label='1.2 m')\n",
    "plt.plot(df_observation['point -1.6 temperature [K]'][:1000],label='1.6 m')\n",
    "\n",
    "plt.ylabel('Temperature (K)')\n",
    "#plt.gca().xaxis.set_major_formatter(mdates.DateFormatter('%m-%d'))\n",
    "plt.xlabel('Date (days)')\n",
    "plt.legend()\n",
    "plt.ylim(265,273)\n",
    "plt.grid(True)"
   ]
  },
  {
   "cell_type": "code",
   "execution_count": null,
   "id": "c5b40c5e",
   "metadata": {},
   "outputs": [],
   "source": []
  },
  {
   "cell_type": "markdown",
   "id": "f8863206",
   "metadata": {},
   "source": [
    "#### Plotting the values \n",
    "##### 2. Saturation of liquid"
   ]
  },
  {
   "cell_type": "code",
   "execution_count": 10,
   "id": "fdb084ad",
   "metadata": {},
   "outputs": [
    {
     "data": {
      "image/png": "[encoded data removed]",
      "text/plain": [
       "<Figure size 1008x576 with 1 Axes>"
      ]
     },
     "metadata": {
      "needs_background": "light"
     },
     "output_type": "display_data"
    }
   ],
   "source": [
    "plt.figure(figsize=(14,8))\n",
    "plt.title('Plotting soil saturation liquid')\n",
    "#plt.plot(df_observation['point -0.01 saturation liquid'],label='0.01 m')\n",
    "plt.plot(df_observation['point -0.04 saturation liquid'],label='0.04 m')\n",
    "plt.plot(df_observation['point -0.2 saturation liquid'],label='0.2 m')\n",
    "plt.plot(df_observation['point -0.4 saturation liquid'],label='0.4 m')\n",
    "plt.plot(df_observation['point -0.8 saturation liquid'],label='0.8 m')\n",
    "plt.plot(df_observation['point -1.2 saturation liquid'],label='1.2 m')\n",
    "plt.plot(df_observation['point -1.6 saturation liquid'],label='1.6 m')\n",
    "\n",
    "plt.ylabel('Saturation of liquid (%)')\n",
    "#plt.gca().xaxis.set_major_formatter(mdates.DateFormatter('%m-%d'))\n",
    "plt.xlabel('Date (days)')\n",
    "plt.legend()\n",
    "plt.grid(True)"
   ]
  },
  {
   "cell_type": "code",
   "execution_count": null,
   "id": "b73aeff1",
   "metadata": {},
   "outputs": [],
   "source": []
  }
 ],
 "metadata": {
  "kernelspec": {
   "display_name": "Python 3",
   "language": "python",
   "name": "python3"
  },
  "language_info": {
   "codemirror_mode": {
    "name": "ipython",
    "version": 3
   },
   "file_extension": ".py",
   "mimetype": "text/x-python",
   "name": "python",
   "nbconvert_exporter": "python",
   "pygments_lexer": "ipython3",
   "version": "3.8.8"
  }
 },
 "nbformat": 4,
 "nbformat_minor": 5
}
