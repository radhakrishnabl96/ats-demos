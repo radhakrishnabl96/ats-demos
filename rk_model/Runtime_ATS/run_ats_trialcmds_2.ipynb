{
 "cells": [
  {
   "cell_type": "markdown",
   "id": "c1ac501e",
   "metadata": {},
   "source": [
    "\n",
    "A. Attempt to write a script that calls & reproduces the command line options for executing ats. It involves mainly the following steps:\n",
    "1. Creating a demo directory : mkdir output_file_name.demo\n",
    "2. 'cd' into the demo directory : cd out_file_name.demo\n",
    "3. Excecuting the ats command : ats --xml_file=../input_file_name.xml &>out.log\n",
    "\n",
    "B. Later on we would like to change the values within the 'input_file_name.xml' and reproduce the above commands.\n",
    "1. Parsing ats xml file and changing particular values.\n",
    "2. Reproducing A once more in a looped format.\n",
    "\n",
    "\n"
   ]
  },
  {
   "cell_type": "code",
   "execution_count": 3,
   "id": "92418e61",
   "metadata": {},
   "outputs": [],
   "source": [
    "import sys,os\n",
    "import argparse\n",
    "import time\n",
    "import subprocess\n",
    "import shutil\n",
    "import fileinput"
   ]
  },
  {
   "cell_type": "markdown",
   "id": "eb6679df-62c9-4a82-b7bd-33cdcdd0560c",
   "metadata": {},
   "source": [
    "#### Writing a function to run task A:"
   ]
  },
  {
   "cell_type": "code",
   "execution_count": 143,
   "id": "0ca9d1a2-76f3-41d1-9942-b51322e8e979",
   "metadata": {},
   "outputs": [],
   "source": [
    "def ats_run(file_name):\n",
    "    \"\"\"\n",
    "    Function that calls & reproduces the command line options for executing ats. It involves mainly the following steps:\n",
    "    1. Creating a demo directory : mkdir output_file_name.demo\n",
    "    2. 'cd' into the demo directory : cd out_file_name.demo\n",
    "    3. Excecuting the ats command : ats --xml_file=../input_file_name.xml &>out.log\n",
    "    \n",
    "    Note: To execute the command - Please be in the directory where the input xml file is present.\n",
    "    \n",
    "    Parameters:\n",
    "    \n",
    "    -----\n",
    "    INPUT\n",
    "    \n",
    "    file_name : string\n",
    "    \n",
    "    The input xml file name and the directory name (both are the same). \n",
    "    \n",
    "    \n",
    "    -----\n",
    "    OUTPUT:\n",
    "    \n",
    "    Runs the ats command and dumps all the outputs in file_name_i.demo\n",
    "    \n",
    "    \"\"\"\n",
    "    # Removing the directory if it exists\n",
    "    if os.path.isdir(f'{file_name}.demo/'):\n",
    "        shutil.rmtree(f'{file_name}.demo/')\n",
    "    \n",
    "    # Making a new directory\n",
    "    os.mkdir(f'{file_name}.demo')\n",
    "    \n",
    "    # Changing the directory to the demo directory\n",
    "    os.chdir(f'{file_name}.demo/')\n",
    "    \n",
    "    # Running the ats command\n",
    "    ats_command = f\"ats --xml_file=../{file_name}.xml >out.log\"\n",
    "    \n",
    "    os.system(ats_command)\n",
    "    #output = os.popen(ats_command).read()\n",
    "    \n",
    "    #return output\n",
    "    \n",
    "        "
   ]
  },
  {
   "cell_type": "code",
   "execution_count": 58,
   "id": "d872b54c-164a-4885-8f9c-80d41ad59cee",
   "metadata": {},
   "outputs": [
    {
     "data": {
      "text/plain": [
       "'/home/rk/ats_rk/testing/ats-demos/rk_model/Runtime_ATS'"
      ]
     },
     "execution_count": 58,
     "metadata": {},
     "output_type": "execute_result"
    }
   ],
   "source": []
  },
  {
   "cell_type": "code",
   "execution_count": 59,
   "id": "fcd3bcda-0fd4-4678-8eef-ecd7d5d38cea",
   "metadata": {},
   "outputs": [
    {
     "name": "stdout",
     "output_type": "stream",
     "text": [
      "None\n"
     ]
    }
   ],
   "source": [
    "# Ensuring that we are in the right directory\n",
    "main_cwd = '/home/rk/ats_rk/testing/ats-demos/rk_model/Runtime_ATS'\n",
    "os.chdir(main_cwd)\n",
    "os.getcwd()\n",
    "\n",
    "file_name = 'infiltration'\n",
    "i = 2\n",
    "output = ats_run(file_name,i)\n",
    "print(output)"
   ]
  },
  {
   "cell_type": "code",
   "execution_count": 60,
   "id": "eb0c0de3-08f6-4af4-be31-72a88dcbec27",
   "metadata": {},
   "outputs": [
    {
     "name": "stdout",
     "output_type": "stream",
     "text": [
      "None\n"
     ]
    }
   ],
   "source": [
    "# Ensuring that we are in the right directory\n",
    "main_cwd = '/home/rk/ats_rk/testing/ats-demos/rk_model/Runtime_ATS'\n",
    "os.chdir(main_cwd)\n",
    "os.getcwd()\n",
    "\n",
    "file_name = 'infiltration'\n",
    "i = 3\n",
    "output = ats_run(file_name,i)\n",
    "print(output)"
   ]
  },
  {
   "cell_type": "code",
   "execution_count": 62,
   "id": "e72498e4-6d08-4372-84fa-5d0447430b66",
   "metadata": {},
   "outputs": [
    {
     "data": {
      "text/plain": [
       "'/home/rk/ats_rk/testing/ats-demos/rk_model/Runtime_ATS'"
      ]
     },
     "execution_count": 62,
     "metadata": {},
     "output_type": "execute_result"
    }
   ],
   "source": [
    "os.chdir(main_cwd)\n",
    "os.getcwd()"
   ]
  },
  {
   "cell_type": "markdown",
   "id": "27d7877d-1bdc-4ef8-90fd-f85f4e22bb40",
   "metadata": {},
   "source": [
    "B. Later on we would like to change the values within the 'input_file_name.xml' and reproduce the above commands.\n",
    "1. Parsing ats xml file and changing particular values.\n",
    "2. Reproducing A once more in a looped format."
   ]
  },
  {
   "cell_type": "code",
   "execution_count": 121,
   "id": "e0dae2d5-bebf-4c94-9735-506cdbc08d61",
   "metadata": {},
   "outputs": [],
   "source": [
    "### Writing a function that changes the xml file details\n",
    "\n",
    "def xml_detailschange(xml_file_name, line_search, line_replace, i):\n",
    "    \"\"\"\n",
    "    A function defined to replace a particular line of code (Helps in changing parameters)\n",
    "    \n",
    "    -----\n",
    "    Input arguments:\n",
    "    \n",
    "    xml_file_name : The input xml file name. Ex: infiltration.xml\n",
    "    \n",
    "    line_search : The line that needs to be replaced\n",
    "    \n",
    "    line_replace : The new line that will replace the searched line\n",
    "    \n",
    "    i : iteratively storing the new xml file \n",
    "    \"\"\"\n",
    "    # Changing the value within the input file and storing them in the same input file\n",
    "    #with fileinput.FileInput(xml_file_name, inplace=True, backup='.bak') as file:\n",
    "    with fileinput.FileInput(xml_file_name, inplace=True) as file:\n",
    "        for line in file:\n",
    "            print(line.replace(line_search, line_replace), end='')\n",
    "    \n",
    "    # Renaming the changed script\n",
    "    #os.rename(f'{xml_file_name}.bak','infiltration_{i}.xml')"
   ]
  },
  {
   "cell_type": "code",
   "execution_count": 126,
   "id": "2bbdba98-5925-4fd2-ae24-a37404560263",
   "metadata": {},
   "outputs": [],
   "source": [
    "# Entering the arguments\n",
    "line_search = '<Parameter name=\"domain high coordinate\" type=\"Array(double)\" value=\"{ 1, 1,40}\" />'\n",
    "line_replace = '<Parameter name=\"domain high coordinate\" type=\"Array(double)\" value=\"{ 1, 1,10}\" />'\n",
    "xml_file_name = 'infiltration.xml'"
   ]
  },
  {
   "cell_type": "code",
   "execution_count": 127,
   "id": "cc05b234-834d-46ba-8d6c-a0c18cfe94f0",
   "metadata": {},
   "outputs": [],
   "source": [
    "# Running the function - xml_detailschange - Test\n",
    "i = 1\n",
    "xml_detailschange(xml_file_name, line_search, line_replace, i)"
   ]
  },
  {
   "cell_type": "code",
   "execution_count": 131,
   "id": "dc8aae2e-619f-4bf1-bf04-dae6821d0b43",
   "metadata": {},
   "outputs": [
    {
     "data": {
      "text/plain": [
       "'/home/rk/ats_rk/testing/ats-demos/rk_model/Runtime_ATS'"
      ]
     },
     "execution_count": 131,
     "metadata": {},
     "output_type": "execute_result"
    }
   ],
   "source": [
    "os.getcwd()"
   ]
  },
  {
   "cell_type": "code",
   "execution_count": 129,
   "id": "74025161-4fe3-4e8f-bc03-65dedece9f27",
   "metadata": {},
   "outputs": [],
   "source": [
    "## Changing the hydraulic head values dynamically\n",
    "HH_replace = [-3, -5, -7, -9]\n",
    "os.chdir(main_cwd)\n",
    "xml_file_name = 'infiltration.xml'\n",
    "xml_file = 'infiltration'"
   ]
  },
  {
   "cell_type": "code",
   "execution_count": 130,
   "id": "20b94558-e093-4229-b9b6-81956f91132c",
   "metadata": {},
   "outputs": [],
   "source": [
    "# Creating new files\n",
    "for i, values in enumerate(HH_replace):\n",
    "    \n",
    "    # Copying the main file 'i' number of times and storing the ith value in the new files\n",
    "    main_file_name = f'{xml_file}.xml'\n",
    "    copied_file_name = f'{xml_file}_{i}.xml'\n",
    "    os.system(f'cp {main_file_name} {copied_file_name}')\n",
    "    "
   ]
  },
  {
   "cell_type": "code",
   "execution_count": 135,
   "id": "9077bead-45e9-46ef-8bad-76c7cf1821e0",
   "metadata": {},
   "outputs": [],
   "source": [
    "# Changing the values in the file\n",
    "for i, values in enumerate(HH_replace):\n",
    "    \n",
    "    # The copied file names for which the values have been changed\n",
    "    copied_file_name = f'{xml_file}_{i}.xml'\n",
    "\n",
    "    # Storing the searched and replaced line in a variable\n",
    "    line_search = f'<Parameter name=\"hydrostatic head [m]\" type=\"double\" value=\"-3\" />'\n",
    "    line_replace = f'<Parameter name=\"hydrostatic head [m]\" type=\"double\" value=\"{values}\" />'\n",
    "    \n",
    "    # Changing a line within the xml file\n",
    "    xml_detailschange(copied_file_name, line_search, line_replace, i)\n",
    "    \n",
    "    \n",
    "    #os.chdir(main_cwd)"
   ]
  },
  {
   "cell_type": "code",
   "execution_count": 136,
   "id": "5e73d044-e9d8-473e-b843-c33a762d536c",
   "metadata": {},
   "outputs": [
    {
     "data": {
      "text/plain": [
       "'/home/rk/ats_rk/testing/ats-demos/rk_model/Runtime_ATS'"
      ]
     },
     "execution_count": 136,
     "metadata": {},
     "output_type": "execute_result"
    }
   ],
   "source": [
    "# Ensuring that we are in the right directory\n",
    "main_cwd = '/home/rk/ats_rk/testing/ats-demos/rk_model/Runtime_ATS'\n",
    "os.chdir(main_cwd)\n",
    "os.getcwd()\n",
    "\n",
    "#file_name = 'infiltration'\n",
    "#i = 3\n",
    "#output = ats_run(file_name,i)\n",
    "#print(output)"
   ]
  },
  {
   "cell_type": "code",
   "execution_count": 146,
   "id": "998c8af0-0001-481e-9fb4-84d5de9f445d",
   "metadata": {},
   "outputs": [
    {
     "name": "stdout",
     "output_type": "stream",
     "text": [
      "None\n",
      "None\n",
      "None\n",
      "None\n"
     ]
    }
   ],
   "source": [
    "# Running the ats command with these changed values\n",
    "for i, values in enumerate(HH_replace):\n",
    "    \n",
    "    copied_file_name = f'{xml_file}_{i}'\n",
    "    \n",
    "    output = ats_run(copied_file_name)\n",
    "    \n",
    "    print(output)\n",
    "    \n",
    "    os.chdir(main_cwd)\n",
    "    "
   ]
  }
 ],
 "metadata": {
  "kernelspec": {
   "display_name": "Python 3",
   "language": "python",
   "name": "python3"
  },
  "language_info": {
   "codemirror_mode": {
    "name": "ipython",
    "version": 3
   },
   "file_extension": ".py",
   "mimetype": "text/x-python",
   "name": "python",
   "nbconvert_exporter": "python",
   "pygments_lexer": "ipython3",
   "version": "3.8.8"
  }
 },
 "nbformat": 4,
 "nbformat_minor": 5
}
