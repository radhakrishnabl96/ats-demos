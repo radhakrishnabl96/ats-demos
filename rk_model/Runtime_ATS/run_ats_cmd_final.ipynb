{
 "cells": [
  {
   "cell_type": "markdown",
   "id": "c1ac501e",
   "metadata": {},
   "source": [
    "- Attempt to write a script that calls & reproduces the command line options for executing ats.  It involves mainly the following steps:\n",
    "\n",
    "A. Creating folders and executing the ats command\n",
    "1. Creating a demo directory : mkdir output_file_name.demo\n",
    "2. 'cd' into the demo directory : cd out_file_name.demo\n",
    "3. Excecuting the ats command : ats --xml_file=../input_file_name.xml &>out.log\n",
    "\n",
    "B. Replacing the entire line within the 'input_file_name.xml' \n",
    "1. Parsing ats xml file and changing particular lines.\n",
    "\n",
    "C. Running task B dynamically by creating multiple input files\n",
    "1. Copying the main file\n",
    "2. Running task B and creating multiple input files with replaced lines\n",
    "\n",
    "D. Running task A dynamically on the changed input files\n",
    "1. Accessing the name of the input file\n",
    "2. Running task A on the changed input files\n",
    "\n",
    "E. Deleting the newly created xml files"
   ]
  },
  {
   "cell_type": "code",
   "execution_count": 1,
   "id": "92418e61",
   "metadata": {},
   "outputs": [],
   "source": [
    "import os\n",
    "import subprocess\n",
    "import shutil\n",
    "import fileinput"
   ]
  },
  {
   "cell_type": "markdown",
   "id": "eb6679df-62c9-4a82-b7bd-33cdcdd0560c",
   "metadata": {},
   "source": [
    "#### A. Creating folders and executing the ats command\n",
    "1. Creating a demo directory : mkdir output_file_name.demo\n",
    "2. 'cd' into the demo directory : cd out_file_name.demo\n",
    "3. Excecuting the ats command : ats --xml_file=../input_file_name.xml &>out.log"
   ]
  },
  {
   "cell_type": "code",
   "execution_count": 4,
   "id": "0ca9d1a2-76f3-41d1-9942-b51322e8e979",
   "metadata": {},
   "outputs": [],
   "source": [
    "def ats_run(file_name):\n",
    "    \"\"\"\n",
    "    Function that calls & reproduces the command line options for executing ats. It involves mainly the following steps:\n",
    "    1. Creating a demo directory : mkdir output_file_name.demo\n",
    "    2. 'cd' into the demo directory : cd out_file_name.demo\n",
    "    3. Excecuting the ats command : ats --xml_file=../input_file_name.xml &>out.log\n",
    "    \n",
    "    Note: To execute the command - Please be in the directory where the input xml file is present.\n",
    "    \n",
    "    Parameters:\n",
    "    \n",
    "    -----\n",
    "    INPUT\n",
    "    \n",
    "    file_name : string\n",
    "    \n",
    "    The input xml file name and the directory name (both are the same). Ex: infiltration\n",
    "    \n",
    "    \n",
    "    -----\n",
    "    OUTPUT:\n",
    "    \n",
    "    Runs the ats command and dumps all the outputs in file_name_i.demo\n",
    "    \n",
    "    \"\"\"\n",
    "    # Removing the directory if it exists\n",
    "    if os.path.isdir(f'{file_name}.demo/'):\n",
    "        shutil.rmtree(f'{file_name}.demo/')\n",
    "    \n",
    "    # Making a new directory\n",
    "    os.mkdir(f'{file_name}.demo')\n",
    "    \n",
    "    # Changing the directory to the demo directory\n",
    "    os.chdir(f'{file_name}.demo/')\n",
    "    \n",
    "    # Running the ats command\n",
    "    ats_command = f\"ats --xml_file=../{file_name}.xml >out.log\"\n",
    "    \n",
    "    os.system(ats_command)\n",
    "    #output = os.popen(ats_command).read()\n",
    "    \n",
    "    #return output\n",
    "    \n",
    "        "
   ]
  },
  {
   "cell_type": "code",
   "execution_count": 5,
   "id": "1d261538-78fe-4fd0-8d12-1237fb8f1bcc",
   "metadata": {},
   "outputs": [
    {
     "data": {
      "text/plain": [
       "'/home/rk/ats_rk/testing/ats-demos/rk_model/Runtime_ATS'"
      ]
     },
     "execution_count": 5,
     "metadata": {},
     "output_type": "execute_result"
    }
   ],
   "source": [
    "# Test - Task A\n",
    "\n",
    "# Ensuring that we are in the right directory \n",
    "\n",
    "# Storing the directory name in a variable\n",
    "main_cwd = '/home/rk/ats_rk/testing/ats-demos/rk_model/Runtime_ATS'\n",
    "os.chdir(main_cwd)\n",
    "os.getcwd()"
   ]
  },
  {
   "cell_type": "code",
   "execution_count": 7,
   "id": "fcd3bcda-0fd4-4678-8eef-ecd7d5d38cea",
   "metadata": {},
   "outputs": [
    {
     "name": "stdout",
     "output_type": "stream",
     "text": [
      "None\n"
     ]
    }
   ],
   "source": [
    "file_name = 'infiltration'\n",
    "# The ats_run needs to be stored in the variable and the output needs to be printed (Only then out.log stores the variable)\n",
    "output = ats_run(file_name)\n",
    "print(output)"
   ]
  },
  {
   "cell_type": "code",
   "execution_count": 8,
   "id": "e72498e4-6d08-4372-84fa-5d0447430b66",
   "metadata": {},
   "outputs": [
    {
     "data": {
      "text/plain": [
       "'/home/rk/ats_rk/testing/ats-demos/rk_model/Runtime_ATS'"
      ]
     },
     "execution_count": 8,
     "metadata": {},
     "output_type": "execute_result"
    }
   ],
   "source": [
    "# Changing the main directory name\n",
    "os.chdir(main_cwd)\n",
    "os.getcwd()"
   ]
  },
  {
   "cell_type": "markdown",
   "id": "27d7877d-1bdc-4ef8-90fd-f85f4e22bb40",
   "metadata": {},
   "source": [
    "B. Replacing the entire line within the 'input_file_name.xml' \n",
    "1. Parsing ats xml file and changing particular lines"
   ]
  },
  {
   "cell_type": "code",
   "execution_count": 9,
   "id": "e0dae2d5-bebf-4c94-9735-506cdbc08d61",
   "metadata": {},
   "outputs": [],
   "source": [
    "### Writing a function that changes the xml file details\n",
    "\n",
    "def xml_detailschange(xml_file_name, line_search, line_replace, i):\n",
    "    \"\"\"\n",
    "    A function defined to replace a particular line of code (Helps in changing parameters)\n",
    "    \n",
    "    Parameters:\n",
    "    \n",
    "    -----\n",
    "    INPUT:\n",
    "    \n",
    "    xml_file_name : The input xml file name. Ex: infiltration.xml\n",
    "    \n",
    "    line_search : The line that needs to be replaced\n",
    "    \n",
    "    line_replace : The new line that will replace the searched line\n",
    "    \n",
    "    i : iteratively storing the new xml file \n",
    "    \n",
    "    OUTPUT:\n",
    "    \n",
    "    A new version of the same file with the replaced lines.\n",
    "    \n",
    "    \"\"\"\n",
    "    # Changing the value within the input file and storing them in the same input file\n",
    "    #with fileinput.FileInput(xml_file_name, inplace=True, backup='.bak') as file:\n",
    "    with fileinput.FileInput(xml_file_name, inplace=True) as file:\n",
    "        for line in file:\n",
    "            print(line.replace(line_search, line_replace), end='')\n",
    "    \n"
   ]
  },
  {
   "cell_type": "code",
   "execution_count": 10,
   "id": "2bbdba98-5925-4fd2-ae24-a37404560263",
   "metadata": {},
   "outputs": [],
   "source": [
    "# Testing - Task B\n",
    "# Entering the arguments\n",
    "line_search = '<Parameter name=\"domain high coordinate\" type=\"Array(double)\" value=\"{ 1, 1,40}\" />'\n",
    "line_replace = '<Parameter name=\"domain high coordinate\" type=\"Array(double)\" value=\"{ 1, 1,10}\" />'\n",
    "xml_file_name = 'infiltration.xml'"
   ]
  },
  {
   "cell_type": "code",
   "execution_count": 11,
   "id": "aed24b12-478e-4cad-a889-9125a37e2b72",
   "metadata": {},
   "outputs": [
    {
     "data": {
      "text/plain": [
       "'/home/rk/ats_rk/testing/ats-demos/rk_model/Runtime_ATS'"
      ]
     },
     "execution_count": 11,
     "metadata": {},
     "output_type": "execute_result"
    }
   ],
   "source": [
    "os.getcwd()"
   ]
  },
  {
   "cell_type": "code",
   "execution_count": 12,
   "id": "cc05b234-834d-46ba-8d6c-a0c18cfe94f0",
   "metadata": {},
   "outputs": [],
   "source": [
    "# Running the function - xml_detailschange - Test\n",
    "i = 1\n",
    "xml_detailschange(xml_file_name, line_search, line_replace, i)"
   ]
  },
  {
   "cell_type": "code",
   "execution_count": 131,
   "id": "dc8aae2e-619f-4bf1-bf04-dae6821d0b43",
   "metadata": {},
   "outputs": [
    {
     "data": {
      "text/plain": [
       "'/home/rk/ats_rk/testing/ats-demos/rk_model/Runtime_ATS'"
      ]
     },
     "execution_count": 131,
     "metadata": {},
     "output_type": "execute_result"
    }
   ],
   "source": [
    "os.getcwd()"
   ]
  },
  {
   "cell_type": "markdown",
   "id": "08d9276d-ea44-4574-a9fc-20670b972e9f",
   "metadata": {},
   "source": [
    "C. Running task B dynamically by creating multiple input files:\n",
    "1. Copying the main file\n",
    "2. Running task B and creating multiple input files with replaced lines"
   ]
  },
  {
   "cell_type": "code",
   "execution_count": 13,
   "id": "74025161-4fe3-4e8f-bc03-65dedece9f27",
   "metadata": {},
   "outputs": [],
   "source": [
    "## Changing the hydraulic head values dynamically\n",
    "HH_replace = [-3, -5, -7, -9]\n",
    "os.chdir(main_cwd)\n",
    "xml_file_name = 'infiltration.xml'\n",
    "xml_file = 'infiltration'"
   ]
  },
  {
   "cell_type": "code",
   "execution_count": 14,
   "id": "20b94558-e093-4229-b9b6-81956f91132c",
   "metadata": {},
   "outputs": [],
   "source": [
    "# Copying the main file i number of times [Number of parameter values]\n",
    "for i, values in enumerate(HH_replace):\n",
    "    \n",
    "    # Copying the main file 'i' number of times and storing the ith value in the new files\n",
    "    main_file_name = f'{xml_file}.xml'\n",
    "    copied_file_name = f'{xml_file}_{i}.xml'\n",
    "    os.system(f'cp {main_file_name} {copied_file_name}')\n",
    "    "
   ]
  },
  {
   "cell_type": "code",
   "execution_count": 15,
   "id": "9077bead-45e9-46ef-8bad-76c7cf1821e0",
   "metadata": {},
   "outputs": [],
   "source": [
    "# Changing the values in the file\n",
    "for i, values in enumerate(HH_replace):\n",
    "    \n",
    "    # The copied file names for which the values have been changed\n",
    "    copied_file_name = f'{xml_file}_{i}.xml'\n",
    "\n",
    "    # Storing the searched and replaced line in a variable\n",
    "    line_search = f'<Parameter name=\"hydrostatic head [m]\" type=\"double\" value=\"-3\" />'\n",
    "    line_replace = f'<Parameter name=\"hydrostatic head [m]\" type=\"double\" value=\"{values}\" />'\n",
    "    \n",
    "    # Changing a line within the xml file\n",
    "    xml_detailschange(copied_file_name, line_search, line_replace, i)\n",
    "    \n",
    "    \n",
    "    #os.chdir(main_cwd)"
   ]
  },
  {
   "cell_type": "code",
   "execution_count": 136,
   "id": "5e73d044-e9d8-473e-b843-c33a762d536c",
   "metadata": {},
   "outputs": [
    {
     "data": {
      "text/plain": [
       "'/home/rk/ats_rk/testing/ats-demos/rk_model/Runtime_ATS'"
      ]
     },
     "execution_count": 136,
     "metadata": {},
     "output_type": "execute_result"
    }
   ],
   "source": [
    "# Ensuring that we are in the right directory\n",
    "main_cwd = '/home/rk/ats_rk/testing/ats-demos/rk_model/Runtime_ATS'\n",
    "os.chdir(main_cwd)\n",
    "os.getcwd()\n",
    "\n",
    "#file_name = 'infiltration'\n",
    "#i = 3\n",
    "#output = ats_run(file_name,i)\n",
    "#print(output)"
   ]
  },
  {
   "cell_type": "markdown",
   "id": "199fc2f0-af9a-4065-91bd-03367334a006",
   "metadata": {},
   "source": [
    "D. Running task A dynamically on the changed input files\n",
    "1. Accessing the name of the input file\n",
    "2. Running task A on the changed input files\n"
   ]
  },
  {
   "cell_type": "code",
   "execution_count": 18,
   "id": "998c8af0-0001-481e-9fb4-84d5de9f445d",
   "metadata": {},
   "outputs": [
    {
     "name": "stdout",
     "output_type": "stream",
     "text": [
      "None\n",
      "None\n",
      "None\n",
      "None\n"
     ]
    }
   ],
   "source": [
    "# Running the ats command with these changed values\n",
    "for i, values in enumerate(HH_replace):\n",
    "    \n",
    "    copied_file_name = f'{xml_file}_{i}'\n",
    "    \n",
    "    output = ats_run(copied_file_name)\n",
    "    \n",
    "    print(output)\n",
    "    \n",
    "    os.chdir(main_cwd)\n",
    "    "
   ]
  },
  {
   "cell_type": "markdown",
   "id": "f2aad2aa-d149-491c-947f-55ee9fd68ddc",
   "metadata": {},
   "source": [
    "E. Deleting the newly created xml files"
   ]
  },
  {
   "cell_type": "code",
   "execution_count": 21,
   "id": "a2ae007b-f993-424e-b58b-362ab203f5bd",
   "metadata": {},
   "outputs": [
    {
     "data": {
      "text/plain": [
       "'/home/rk/ats_rk/testing/ats-demos/rk_model/Runtime_ATS'"
      ]
     },
     "execution_count": 21,
     "metadata": {},
     "output_type": "execute_result"
    }
   ],
   "source": [
    "os.getcwd()"
   ]
  },
  {
   "cell_type": "code",
   "execution_count": 24,
   "id": "6b380303-fad5-4e11-a9bb-d62747f083a6",
   "metadata": {},
   "outputs": [],
   "source": [
    "for i, values in enumerate(HH_replace):\n",
    "    \n",
    "    copied_file_name = f'{xml_file}_{i}.xml'\n",
    "    \n",
    "    # Removing the directory if it exists\n",
    "    os.remove(copied_file_name)"
   ]
  },
  {
   "cell_type": "code",
   "execution_count": null,
   "id": "424fcd07-0bf3-4fe7-9349-901d0efdc186",
   "metadata": {},
   "outputs": [],
   "source": []
  },
  {
   "cell_type": "code",
   "execution_count": null,
   "id": "3823150a-2256-48a4-a537-2b2764e38bae",
   "metadata": {},
   "outputs": [],
   "source": []
  },
  {
   "cell_type": "code",
   "execution_count": null,
   "id": "fb3543a9-d184-458c-b484-5990de06e38e",
   "metadata": {},
   "outputs": [],
   "source": []
  }
 ],
 "metadata": {
  "kernelspec": {
   "display_name": "Python 3",
   "language": "python",
   "name": "python3"
  },
  "language_info": {
   "codemirror_mode": {
    "name": "ipython",
    "version": 3
   },
   "file_extension": ".py",
   "mimetype": "text/x-python",
   "name": "python",
   "nbconvert_exporter": "python",
   "pygments_lexer": "ipython3",
   "version": "3.8.8"
  }
 },
 "nbformat": 4,
 "nbformat_minor": 5
}
