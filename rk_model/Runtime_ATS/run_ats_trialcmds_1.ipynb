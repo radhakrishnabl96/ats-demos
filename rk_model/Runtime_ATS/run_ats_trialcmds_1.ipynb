{
 "cells": [
  {
   "cell_type": "markdown",
   "id": "c1ac501e",
   "metadata": {},
   "source": [
    "\n",
    "A. Attempt to write a script that calls & reproduces the command line options for executing ats. It involves mainly the following steps:\n",
    "1. Creating a demo directory : mkdir output_file_name.demo\n",
    "2. 'cd' into the demo directory : cd out_file_name.demo\n",
    "3. Excecuting the ats command : ats --xml_file=../input_file_name.xml &>out.log\n",
    "\n",
    "B. Later on we would like to change the values within the 'input_file_name.xml' and reproduce the above commands.\n",
    "1. Parsing ats xml file and changing particular values.\n",
    "2. Reproducing A once more in a looped format.\n",
    "\n",
    "\n"
   ]
  },
  {
   "cell_type": "code",
   "execution_count": 30,
   "id": "92418e61",
   "metadata": {},
   "outputs": [],
   "source": [
    "from __future__ import print_function\n",
    "import sys,os\n",
    "import argparse\n",
    "import textwrap\n",
    "import time\n",
    "import subprocess\n",
    "import shutil\n",
    "import fileinput"
   ]
  },
  {
   "cell_type": "markdown",
   "id": "84c79c24-a0a0-4c49-b76c-9d34a91282de",
   "metadata": {},
   "source": [
    "### Working with directories:\n",
    "Source: https://www.programiz.com/python-programming/directory"
   ]
  },
  {
   "cell_type": "markdown",
   "id": "7efa757a-46e8-4047-862e-224132b84bd9",
   "metadata": {},
   "source": [
    "- Changing directories:"
   ]
  },
  {
   "cell_type": "code",
   "execution_count": 13,
   "id": "3500904b-b20c-4521-8696-4ff52f211a8a",
   "metadata": {},
   "outputs": [
    {
     "data": {
      "text/plain": [
       "'/home/rk/ats_rk/testing/ats-demos/rk_model/Runtime_ATS'"
      ]
     },
     "execution_count": 13,
     "metadata": {},
     "output_type": "execute_result"
    }
   ],
   "source": [
    "os.getcwd()"
   ]
  },
  {
   "cell_type": "code",
   "execution_count": 15,
   "id": "d456a6f8-667a-49a3-a444-4f2350621567",
   "metadata": {},
   "outputs": [],
   "source": [
    "os.chdir('..')"
   ]
  },
  {
   "cell_type": "code",
   "execution_count": 16,
   "id": "31732d62-27a1-4814-b8a1-45e800a07c60",
   "metadata": {},
   "outputs": [
    {
     "data": {
      "text/plain": [
       "'/home/rk/ats_rk/testing/ats-demos/rk_model'"
      ]
     },
     "execution_count": 16,
     "metadata": {},
     "output_type": "execute_result"
    }
   ],
   "source": [
    "os.getcwd()"
   ]
  },
  {
   "cell_type": "code",
   "execution_count": 17,
   "id": "03bbddbd-412b-4ef8-8e03-1382fbf95d6b",
   "metadata": {},
   "outputs": [],
   "source": [
    "os.chdir('Runtime_ATS/')"
   ]
  },
  {
   "cell_type": "code",
   "execution_count": 18,
   "id": "0792f6d9-27c9-4889-89fc-3a91f966044b",
   "metadata": {},
   "outputs": [
    {
     "data": {
      "text/plain": [
       "'/home/rk/ats_rk/testing/ats-demos/rk_model/Runtime_ATS'"
      ]
     },
     "execution_count": 18,
     "metadata": {},
     "output_type": "execute_result"
    }
   ],
   "source": [
    "os.getcwd()"
   ]
  },
  {
   "cell_type": "code",
   "execution_count": 19,
   "id": "0e777cb4-cdb4-46ea-bb1d-baf31293a89c",
   "metadata": {},
   "outputs": [
    {
     "data": {
      "text/plain": [
       "b'/home/rk/ats_rk/testing/ats-demos/rk_model/Runtime_ATS'"
      ]
     },
     "execution_count": 19,
     "metadata": {},
     "output_type": "execute_result"
    }
   ],
   "source": [
    "os.getcwdb() "
   ]
  },
  {
   "cell_type": "code",
   "execution_count": 20,
   "id": "95186924-82fd-43e1-8ed5-8058fdbac51e",
   "metadata": {},
   "outputs": [
    {
     "data": {
      "text/plain": [
       "['test_folder', 'run_ats.ipynb', 'argparse_learn.py', '.ipynb_checkpoints']"
      ]
     },
     "execution_count": 20,
     "metadata": {},
     "output_type": "execute_result"
    }
   ],
   "source": [
    "os.listdir()"
   ]
  },
  {
   "cell_type": "code",
   "execution_count": 21,
   "id": "cb7aad4c-e8df-45c3-b3b8-a233f3086d61",
   "metadata": {},
   "outputs": [],
   "source": [
    "# Making a new directory\n",
    "os.mkdir('test.demo')"
   ]
  },
  {
   "cell_type": "code",
   "execution_count": 24,
   "id": "6f5a90a0-d404-4625-9331-09f6b60caff1",
   "metadata": {},
   "outputs": [],
   "source": [
    "# Renaming the directory\n",
    "os.rename('test_renam','test_rename.demo')"
   ]
  },
  {
   "cell_type": "code",
   "execution_count": 26,
   "id": "8620e454-28f1-4113-beb3-86c8e22ed0d0",
   "metadata": {},
   "outputs": [],
   "source": [
    "# Removing a directory\n",
    "import shutil\n",
    "shutil.rmtree('test_rename.demo')"
   ]
  },
  {
   "cell_type": "code",
   "execution_count": 27,
   "id": "d3c5487a-7f9d-49f1-9801-b5c82963da40",
   "metadata": {},
   "outputs": [
    {
     "data": {
      "text/plain": [
       "['test_folder', 'run_ats.ipynb', 'argparse_learn.py', '.ipynb_checkpoints']"
      ]
     },
     "execution_count": 27,
     "metadata": {},
     "output_type": "execute_result"
    }
   ],
   "source": [
    "os.listdir()"
   ]
  },
  {
   "cell_type": "markdown",
   "id": "f767d0e7-10d0-4d56-9917-bd33e773f314",
   "metadata": {},
   "source": [
    "#### Final commands that we are interested:"
   ]
  },
  {
   "cell_type": "code",
   "execution_count": 28,
   "id": "1baa94dd-68e6-40a7-a499-e3f87759ba05",
   "metadata": {},
   "outputs": [],
   "source": [
    "os.mkdir('test.demo')\n",
    "os.chdir('test.demo/')"
   ]
  },
  {
   "cell_type": "code",
   "execution_count": 29,
   "id": "96f67bd3-b0e1-49d7-8527-cfda181e8256",
   "metadata": {},
   "outputs": [
    {
     "data": {
      "text/plain": [
       "'/home/rk/ats_rk/testing/ats-demos/rk_model/Runtime_ATS/test.demo'"
      ]
     },
     "execution_count": 29,
     "metadata": {},
     "output_type": "execute_result"
    }
   ],
   "source": [
    "os.getcwd()"
   ]
  },
  {
   "cell_type": "code",
   "execution_count": 32,
   "id": "29ef1ff7-12ee-4230-a2f5-93a4e8e56343",
   "metadata": {},
   "outputs": [
    {
     "data": {
      "text/plain": [
       "0"
      ]
     },
     "execution_count": 32,
     "metadata": {},
     "output_type": "execute_result"
    }
   ],
   "source": [
    "ats_runcommand = \"ats --xml_file=../infiltration.xml &>out.log\"\n",
    "#subprocess.run([\"ats --xml_file=../infiltration.xml &>out.log\"])\n",
    "os.system(ats_runcommand)"
   ]
  },
  {
   "cell_type": "code",
   "execution_count": 33,
   "id": "fe59e928-594b-46cd-9f76-e6188e6f57b6",
   "metadata": {},
   "outputs": [
    {
     "data": {
      "text/plain": [
       "['ats_vis_mesh.h5.0.xmf',\n",
       " 'checkpoint00000.h5',\n",
       " 'ats_vis_data.h5',\n",
       " 'ats_vis_data.VisIt.xmf',\n",
       " 'ats_vis_mesh.h5',\n",
       " 'ats_vis_data.h5.0.xmf',\n",
       " 'ats_vis_mesh.VisIt.xmf',\n",
       " 'out.log']"
      ]
     },
     "execution_count": 33,
     "metadata": {},
     "output_type": "execute_result"
    }
   ],
   "source": [
    "os.listdir()"
   ]
  },
  {
   "cell_type": "markdown",
   "id": "eb6679df-62c9-4a82-b7bd-33cdcdd0560c",
   "metadata": {},
   "source": [
    "#### Writing a function to run all the commands:"
   ]
  },
  {
   "cell_type": "code",
   "execution_count": 246,
   "id": "0ca9d1a2-76f3-41d1-9942-b51322e8e979",
   "metadata": {},
   "outputs": [],
   "source": [
    "def ats_run(file_name, xml_file_name, i):\n",
    "    \"\"\"\n",
    "    Function that calls & reproduces the command line options for executing ats. It involves mainly the following steps:\n",
    "    1. Creating a demo directory : mkdir output_file_name.demo\n",
    "    2. 'cd' into the demo directory : cd out_file_name.demo\n",
    "    3. Excecuting the ats command : ats --xml_file=../input_file_name.xml &>out.log\n",
    "    \n",
    "    Note: To execute the command - Please be in the directory where the input xml file is present.\n",
    "    -----\n",
    "    Input arguments:\n",
    "    \n",
    "    file_name : The input xml file name and the directory name (both are the same). \n",
    "    \n",
    "    i : The ith iteration for storing the file\n",
    "    \n",
    "    -----\n",
    "    Output arguments:\n",
    "    \n",
    "    Prints the list of the files in the directory. It is to check if the output files have been created as required.\n",
    "    \n",
    "    \"\"\"\n",
    "    # Removing the directory if it exists\n",
    "    if os.path.isdir(f'{file_name}_{i}.demo/'):\n",
    "        shutil.rmtree(f'{file_name}_{i}.demo/')\n",
    "    \n",
    "    # Making a new directory\n",
    "    os.mkdir(f'{file_name}_{i}.demo')\n",
    "    \n",
    "    # Changing the directory to the demo directory\n",
    "    os.chdir(f'{file_name}_{i}.demo/')\n",
    "    \n",
    "    # Running the ats command\n",
    "    ats_command = f\"ats --xml_file=../{file_name}_{i}.xml &>out.log\"\n",
    "    \n",
    "    os.system(ats_command)\n",
    "\n",
    "    \n",
    "        "
   ]
  },
  {
   "cell_type": "code",
   "execution_count": 237,
   "id": "d872b54c-164a-4885-8f9c-80d41ad59cee",
   "metadata": {},
   "outputs": [
    {
     "data": {
      "text/plain": [
       "'/home/rk/ats_rk/testing/ats-demos/rk_model/Runtime_ATS'"
      ]
     },
     "execution_count": 237,
     "metadata": {},
     "output_type": "execute_result"
    }
   ],
   "source": [
    "os.chdir('/home/rk/ats_rk/testing/ats-demos/rk_model/Runtime_ATS')\n",
    "os.getcwd()"
   ]
  },
  {
   "cell_type": "code",
   "execution_count": 239,
   "id": "fcd3bcda-0fd4-4678-8eef-ecd7d5d38cea",
   "metadata": {},
   "outputs": [
    {
     "name": "stdout",
     "output_type": "stream",
     "text": [
      "ats --xml_file=../infiltration_2.xml &>out.log\n"
     ]
    }
   ],
   "source": [
    "file_name = 'infiltration'\n",
    "i = 2\n",
    "ats_run(file_name,i)"
   ]
  },
  {
   "cell_type": "markdown",
   "id": "27d7877d-1bdc-4ef8-90fd-f85f4e22bb40",
   "metadata": {},
   "source": [
    "B. Later on we would like to change the values within the 'input_file_name.xml' and reproduce the above commands.\n",
    "1. Parsing ats xml file and changing particular values.\n",
    "2. Reproducing A once more in a looped format."
   ]
  },
  {
   "cell_type": "code",
   "execution_count": 307,
   "id": "e0dae2d5-bebf-4c94-9735-506cdbc08d61",
   "metadata": {},
   "outputs": [],
   "source": [
    "### Writing a function that changes the xml file details\n",
    "\n",
    "def xml_detailschange(xml_file_name, line_search, line_replace, i):\n",
    "    \"\"\"\n",
    "    A function defined to replace a particular line of code (Helps in changing parameters)\n",
    "    \n",
    "    -----\n",
    "    Input arguments:\n",
    "    \n",
    "    xml_file_name : The input xml file name \n",
    "    \n",
    "    line_search : The line that needs to be replaced\n",
    "    \n",
    "    line_replace : The new line that will replace the searched line\n",
    "    \n",
    "    i : iteratively storing the new xml file \n",
    "    \"\"\"\n",
    "    with fileinput.FileInput(xml_file_name, inplace=True, backup='.bak') as file:\n",
    "        for line in file:\n",
    "            print(line.replace(line_search, line_replace), end='')\n",
    "    "
   ]
  },
  {
   "cell_type": "code",
   "execution_count": null,
   "id": "e0371cfc-482c-47f8-8838-fcac28f3f2b3",
   "metadata": {},
   "outputs": [],
   "source": [
    "### Writing a function that changes the xml file details\n",
    "\n",
    "def xml_detailschange_2(xml_file_name, line_search, line_replace, i):\n",
    "    \"\"\"\n",
    "    A function defined to replace a particular line of code (Helps in changing parameters)\n",
    "    \n",
    "    -----\n",
    "    Input arguments:\n",
    "    \n",
    "    xml_file_name : The input xml file name \n",
    "    \n",
    "    line_search : The line that needs to be replaced\n",
    "    \n",
    "    line_replace : The new line that will replace the searched line\n",
    "    \n",
    "    i : iteratively storing the new xml file \n",
    "    \"\"\"\n",
    "\n"
   ]
  },
  {
   "cell_type": "code",
   "execution_count": 315,
   "id": "2bbdba98-5925-4fd2-ae24-a37404560263",
   "metadata": {},
   "outputs": [],
   "source": [
    "# Entering the arguments\n",
    "line_search = '<Parameter name=\"number of cells\" type=\"Array(int)\" value=\"{1,1,115}\" />'\n",
    "line_replace = '<Parameter name=\"number of cells\" type=\"Array(int)\" value=\"{1,1,120}\" />'\n",
    "xml_file_name = 'infiltration_2.xml'\n",
    "new_name = 'infiltration_2'"
   ]
  },
  {
   "cell_type": "code",
   "execution_count": 322,
   "id": "c25793a6-5260-4e60-b2aa-35dc244ac020",
   "metadata": {},
   "outputs": [],
   "source": [
    "# delftstack.com/howto/python-replace-line-in-file/\n",
    "import re\n",
    "def replacement(filepath, text, subs, flags=0):\n",
    "  with open(filepath, \"r+\") as f1:\n",
    "       contents = f1.read()\n",
    "       pattern = re.compile(re.escape(text), flags)\n",
    "       contents = pattern.sub(subs, contents)\n",
    "       f1.seek(0)\n",
    "       f1.truncate()\n",
    "       f1.write(contents)\n",
    "\n"
   ]
  },
  {
   "cell_type": "code",
   "execution_count": 324,
   "id": "f5129a22-81e5-4ad5-acfc-c0494f2fc492",
   "metadata": {},
   "outputs": [],
   "source": [
    "filepath=\"infiltration_2.xml\"\n",
    "text='<Parameter name=\"number of cells\" type=\"Array(int)\" value=\"{1,1,100}\" />'\n",
    "subs='<Parameter name=\"number of cells\" type=\"Array(int)\" value=\"{1,1,120}\" />'\n",
    "replacement(filepath, text, subs)"
   ]
  },
  {
   "cell_type": "code",
   "execution_count": 317,
   "id": "e7150ba7-7a92-45d4-b24e-58e662151483",
   "metadata": {},
   "outputs": [],
   "source": [
    "# delftstack.com/howto/python-replace-line-in-file/\n",
    "file = open('infiltration_2.xml', 'r+', encoding='utf-8')\n",
    "replacement=\"\"\n",
    "for line in file:\n",
    "    line = line.strip()\n",
    "    changes = line.replace(line_search, line_replace)\n",
    "    replacement = replacement + changes + \"\\n\"\n",
    "file.close()\n",
    "\n",
    "fout = open('infiltration_2_edit.xml','w')\n",
    "fout.write(replacement)\n",
    "fout.close()\n",
    "    #print(line, end= '')\n",
    "    "
   ]
  },
  {
   "cell_type": "code",
   "execution_count": 308,
   "id": "49e5f303-92ec-47db-9b94-28bc07e38907",
   "metadata": {},
   "outputs": [],
   "source": [
    "# Entering the arguments\n",
    "line_search = '<Parameter name=\"number of cells\" type=\"Array(int)\" value=\"{1,1,100}\" />'\n",
    "line_replace = '<Parameter name=\"number of cells\" type=\"Array(int)\" value=\"{1,1,120}\" />'\n",
    "xml_file_name = 'infiltration_2.xml'\n",
    "new_name = 'infiltration_2'"
   ]
  },
  {
   "cell_type": "code",
   "execution_count": 309,
   "id": "cc05b234-834d-46ba-8d6c-a0c18cfe94f0",
   "metadata": {},
   "outputs": [
    {
     "ename": "FileNotFoundError",
     "evalue": "[Errno 2] No such file or directory: 'input_dir/infiltration_2.xml1.xml' -> 'input_dir/infiltration_2_1.xml'",
     "output_type": "error",
     "traceback": [
      "\u001b[0;31m---------------------------------------------------------------------------\u001b[0m",
      "\u001b[0;31mFileNotFoundError\u001b[0m                         Traceback (most recent call last)",
      "\u001b[0;32m<ipython-input-309-3e569c99159c>\u001b[0m in \u001b[0;36m<module>\u001b[0;34m\u001b[0m\n\u001b[1;32m      1\u001b[0m \u001b[0;31m# Running the function - xml_detailschange\u001b[0m\u001b[0;34m\u001b[0m\u001b[0;34m\u001b[0m\u001b[0;34m\u001b[0m\u001b[0m\n\u001b[1;32m      2\u001b[0m \u001b[0mi\u001b[0m \u001b[0;34m=\u001b[0m \u001b[0;36m1\u001b[0m\u001b[0;34m\u001b[0m\u001b[0;34m\u001b[0m\u001b[0m\n\u001b[0;32m----> 3\u001b[0;31m \u001b[0mxml_detailschange\u001b[0m\u001b[0;34m(\u001b[0m\u001b[0mxml_file_name\u001b[0m\u001b[0;34m,\u001b[0m \u001b[0mnew_name\u001b[0m\u001b[0;34m,\u001b[0m \u001b[0mline_search\u001b[0m\u001b[0;34m,\u001b[0m \u001b[0mline_replace\u001b[0m\u001b[0;34m,\u001b[0m \u001b[0mi\u001b[0m\u001b[0;34m)\u001b[0m\u001b[0;34m\u001b[0m\u001b[0;34m\u001b[0m\u001b[0m\n\u001b[0m",
      "\u001b[0;32m<ipython-input-307-64916fbea84a>\u001b[0m in \u001b[0;36mxml_detailschange\u001b[0;34m(xml_file_name, new_name, line_search, line_replace, i)\u001b[0m\n\u001b[1;32m     22\u001b[0m                 \u001b[0;31m#f.write(line)\u001b[0m\u001b[0;34m\u001b[0m\u001b[0;34m\u001b[0m\u001b[0;34m\u001b[0m\u001b[0m\n\u001b[1;32m     23\u001b[0m         \u001b[0;31m#file.close()\u001b[0m\u001b[0;34m\u001b[0m\u001b[0;34m\u001b[0m\u001b[0;34m\u001b[0m\u001b[0m\n\u001b[0;32m---> 24\u001b[0;31m     \u001b[0mos\u001b[0m\u001b[0;34m.\u001b[0m\u001b[0mrename\u001b[0m\u001b[0;34m(\u001b[0m\u001b[0;34mf'input_dir/{xml_file_name}{i}.xml'\u001b[0m\u001b[0;34m,\u001b[0m\u001b[0;34mf'input_dir/{new_name}_{i}.xml'\u001b[0m\u001b[0;34m)\u001b[0m\u001b[0;34m\u001b[0m\u001b[0;34m\u001b[0m\u001b[0m\n\u001b[0m",
      "\u001b[0;31mFileNotFoundError\u001b[0m: [Errno 2] No such file or directory: 'input_dir/infiltration_2.xml1.xml' -> 'input_dir/infiltration_2_1.xml'"
     ]
    }
   ],
   "source": [
    "# Running the function - xml_detailschange\n",
    "i = 1\n",
    "xml_detailschange(xml_file_name, new_name, line_search, line_replace, i)"
   ]
  },
  {
   "cell_type": "code",
   "execution_count": 142,
   "id": "e6bff195-eabb-4c0c-9693-a1a53649a121",
   "metadata": {},
   "outputs": [],
   "source": []
  },
  {
   "cell_type": "code",
   "execution_count": 155,
   "id": "3b0917ce-3a3f-4677-8dc8-000037f8521a",
   "metadata": {},
   "outputs": [],
   "source": [
    "# Changing the alpha value dynamically \n",
    "alpha = [0.00015, 0.00015, 0.0002, 0.0001]\n",
    "line_search = f'<Parameter name=\"van Genuchten alpha [Pa^-1]\" type=\"double\" value=\"{alpha[0]}\" />'\n",
    "line_replace = f'<Parameter name=\"van Genuchten alpha [Pa^-1]\" type=\"double\" value=\"{alpha[1]}\" />'\n",
    "\n",
    "# Entering the arguments\n",
    "line_search = '<Parameter name=\"number of cells\" type=\"Array(int)\" value=\"{1,1,110}\" />'\n",
    "line_replace = '<Parameter name=\"number of cells\" type=\"Array(int)\" value=\"{1,1,115}\" />'\n",
    "xml_file_name = 'infiltration_2.xml'"
   ]
  },
  {
   "cell_type": "code",
   "execution_count": 150,
   "id": "c9e9dffc-7bbd-4503-9502-db96e1cb956c",
   "metadata": {},
   "outputs": [],
   "source": [
    "main_cwd = os.getcwd()\n",
    "os.chdir(main_cwd)"
   ]
  },
  {
   "cell_type": "code",
   "execution_count": 159,
   "id": "61ae40a1-9edb-428e-80f9-7c610f1d171e",
   "metadata": {},
   "outputs": [
    {
     "data": {
      "text/plain": [
       "0.0001"
      ]
     },
     "execution_count": 159,
     "metadata": {},
     "output_type": "execute_result"
    }
   ],
   "source": [
    "alpha[3]"
   ]
  },
  {
   "cell_type": "code",
   "execution_count": 192,
   "id": "fcda0fb4-a276-4e5c-89ba-4a6b429f4760",
   "metadata": {},
   "outputs": [],
   "source": [
    "# Changing the alpha values dynamically \n",
    "alpha_search = [0.00015, 0.00015, 0.0002]\n",
    "alpha_replace = [0.00015, 0.0002, 0.0001]\n",
    "os.chdir('/home/rk/ats_rk/testing/ats-demos/rk_model/Runtime_ATS')\n",
    "file_name = 'infiltration_2'\n",
    "xml_file_name = 'infiltration_2.xml'\n"
   ]
  },
  {
   "cell_type": "code",
   "execution_count": 198,
   "id": "73cc78f5-2e4b-4575-8c77-2c24bb8a658c",
   "metadata": {},
   "outputs": [],
   "source": [
    "for i in range(len(alpha_search)):\n",
    "    \n",
    "    # Storing the main directory in a variable\n",
    "    main_cwd = os.getcwd()\n",
    "    \n",
    "    # Replace this line with the required code:\n",
    "    #org_line = '<Parameter name=\"van Genuchten alpha [Pa^-1]\" type=\"double\" value=\"0.00015\" />'\n",
    "   \n",
    "    line_search = f'<Parameter name=\"van Genuchten alpha [Pa^-1]\" type=\"double\" value=\"{alpha_search[i]}\" />'\n",
    "    line_replace = f'<Parameter name=\"van Genuchten alpha [Pa^-1]\" type=\"double\" value=\"{alpha_replace[i]}\" />'\n",
    "    \n",
    "    \n",
    "    # Changing a line within the xml file\n",
    "    xml_detailschange(xml_file_name, line_search, line_replace)\n",
    "    \n",
    "    \n",
    "    # Running the ats command\n",
    "    ats_run(file_name, i)\n",
    "    \n",
    "    # Going back to the main directory\n",
    "    os.chdir(main_cwd)\n",
    "    \n",
    "    \n",
    "#ats_run(file_name)"
   ]
  },
  {
   "cell_type": "code",
   "execution_count": 241,
   "id": "acd74714-faa8-40d0-969f-234b4bc04158",
   "metadata": {},
   "outputs": [],
   "source": [
    "## Changing the hydraulic head values dynamically\n",
    "\n",
    "# Changing the alpha values dynamically \n",
    "HH_search = [-3, -3, -5]\n",
    "HH_replace = [-3, -5, -7]\n",
    "os.chdir('/home/rk/ats_rk/testing/ats-demos/rk_model/Runtime_ATS')\n",
    "file_name = 'infiltration_3'\n",
    "xml_file_name = 'infiltration_3.xml'"
   ]
  },
  {
   "cell_type": "code",
   "execution_count": 242,
   "id": "09052dc4-68eb-4d8d-95a2-5843bc112b86",
   "metadata": {},
   "outputs": [
    {
     "data": {
      "text/plain": [
       "[-3, -5, -7]"
      ]
     },
     "execution_count": 242,
     "metadata": {},
     "output_type": "execute_result"
    }
   ],
   "source": [
    "HH_replace"
   ]
  },
  {
   "cell_type": "code",
   "execution_count": 245,
   "id": "ae7371fb-6382-4291-9eb0-a36e9f705cf3",
   "metadata": {},
   "outputs": [],
   "source": [
    "for i in range(len(HH_search)):\n",
    "    \n",
    "    # Storing the main directory in a variable\n",
    "    main_cwd = os.getcwd()\n",
    "    \n",
    "    # Replace this line with the required code:\n",
    "    #org_line = '<Parameter name=\"van Genuchten alpha [Pa^-1]\" type=\"double\" value=\"0.00015\" />'\n",
    "   \n",
    "    line_search = f'<Parameter name=\"hydrostatic head [m]\" type=\"double\" value=\"{HH_search[i]}\" />'\n",
    "    line_replace = f'<Parameter name=\"hydrostatic head [m]\" type=\"double\" value=\"{HH_replace[i]}\" />'\n",
    "    \n",
    "    # Changing a line within the xml file\n",
    "    xml_detailschange(xml_file_name, line_search, line_replace)\n",
    "    \n",
    "    \n",
    "    # Running the ats command\n",
    "    ats_run(file_name, i)\n",
    "    \n",
    "    # Give ats enough time to respond\n",
    "    time.sleep(5)\n",
    "    \n",
    "    \n",
    "    # Going back to the main directory\n",
    "    os.chdir(main_cwd)\n",
    "    \n",
    "    \n",
    "#ats_run(file_name)"
   ]
  },
  {
   "cell_type": "code",
   "execution_count": 244,
   "id": "9b730a85-65a7-479f-88c4-2ddf9a865cf2",
   "metadata": {},
   "outputs": [
    {
     "name": "stdout",
     "output_type": "stream",
     "text": [
      "1632757982.413219\n"
     ]
    }
   ],
   "source": [
    "print(time.time())"
   ]
  },
  {
   "cell_type": "code",
   "execution_count": 243,
   "id": "b34ddbe9-2e2a-488a-ae2d-5c4912a6709f",
   "metadata": {},
   "outputs": [
    {
     "name": "stdout",
     "output_type": "stream",
     "text": [
      "10.011\n",
      "20.022\n",
      "30.033\n",
      "40.044\n"
     ]
    }
   ],
   "source": [
    "### Allowing the command to wait for a few seconds before the next command is executed. This will probably provide ats_run to access the write file\n",
    "import time\n",
    "start = time.time()\n",
    "for i in range(4):\n",
    "    time.sleep(10)\n",
    "    print('%.3f'%(time.time()-start))"
   ]
  },
  {
   "cell_type": "code",
   "execution_count": null,
   "id": "0108aa9e-5f17-4bd2-ae78-c8fe1e3af932",
   "metadata": {},
   "outputs": [],
   "source": [
    "### Writing a function that runs ats dynamically by changing the parameters:\n",
    "\n",
    "\n",
    "class ats_multipleruns:\n",
    "    \"\"\"\n",
    "    Creates a class that runs ats command dynamically by changing the parameters with each simulation.\n",
    "    \n",
    "    Parameters\n",
    "    \n",
    "    -------\n",
    "    \n",
    "    INPUT PARAMETERS:\n",
    "    \n",
    "    demo_dirname : string\n",
    "    \n",
    "    The input directory name (Same as the xml file name).\n",
    "    \n",
    "    xml_file_name : string\n",
    "    \n",
    "    The input xml file name \n",
    "    \n",
    "    line_search : string\n",
    "    \n",
    "    The line that needs to be replaced (For the first simulation)\n",
    "    \n",
    "    line_replace : string\n",
    "    \n",
    "    The new line that will replace the searched line (For the first simulation)\n",
    "    \n",
    "    parameter : list\n",
    "    \n",
    "    List of parameters for which the simulation needs to be run\n",
    "    \n",
    "    OUTPUT:\n",
    "    \n",
    "    The demo file names will be displayed.  \n",
    "    \n",
    "    \"\"\"\n",
    "    \n",
    "    def __init__(self, demo_dirname, xml_file_name, line_search, line_replace, parameter):\n",
    "        \n",
    "        self.demo_dirname = demo_dirname\n",
    "        self.xml_file_name = xml_file_name\n",
    "        self.line_search = line_search\n",
    "        self.line_replace = line_replace\n",
    "        self.parameter = parameter \n",
    "        \n",
    "        \n",
    "    def ats_run(self):\n",
    "        \"\"\"\n",
    "        Function that calls & reproduces the command line options for executing ats. It involves mainly the following steps:\n",
    "        1. Creating a demo directory : mkdir output_file_name.demo\n",
    "        2. 'cd' into the demo directory : cd out_file_name.demo\n",
    "        3. Excecuting the ats command : ats --xml_file=../input_file_name.xml &>out.log\n",
    "\n",
    "        Note: To execute the command - Please be in the directory where the input xml file is present.\n",
    "        \n",
    "        Parameters\n",
    "        \n",
    "        -----\n",
    "        \n",
    "        INPUT:\n",
    "\n",
    "        file_name : The input xml file name and the directory name (both are the same). \n",
    "\n",
    "\n",
    "        OUTPUT:\n",
    "\n",
    "        Prints the list of the files in the directory. It is to check if the output files have been created as required.\n",
    "\n",
    "        \"\"\"\n",
    "        # Removing the directory if it exists\n",
    "        if os.path.isdir(f'{self.demo_dirname}.demo/'):\n",
    "            shutil.rmtree(f'{self.demo_dirname}.demo/')\n",
    "\n",
    "        # Making a new directory\n",
    "        os.mkdir(f'{self.demo_dirname}.demo')\n",
    "\n",
    "        # Changing the directory to the demo directory\n",
    "        os.chdir(f'{self.demo_dirname}.demo/')\n",
    "\n",
    "        # Running the ats command\n",
    "        ats_command = f\"ats --xml_file=../{xml_file_name} &>out.log\"\n",
    "\n",
    "        os.system(ats_command)    \n",
    "    \n",
    "    def xml_detailschange(self):\n",
    "        \"\"\"\n",
    "        A function defined to replace a particular line of code (Helps in changing parameters)\n",
    "        \n",
    "        Parameters\n",
    "        \n",
    "        -----\n",
    "        INPUT:\n",
    "\n",
    "        xml_file_name : The input xml file name \n",
    "\n",
    "        line_search : The line that needs to be replaced\n",
    "\n",
    "        line_replace : The new line that will replace the searched line\n",
    "\n",
    "        \"\"\"\n",
    "        with fileinput.FileInput(self.xml_file_name, inplace=True, backup='.bak') as file:\n",
    "            for line in file:\n",
    "                print(line.replace(self.line_search, self.line_replace), end='')"
   ]
  }
 ],
 "metadata": {
  "kernelspec": {
   "display_name": "Python 3",
   "language": "python",
   "name": "python3"
  },
  "language_info": {
   "codemirror_mode": {
    "name": "ipython",
    "version": 3
   },
   "file_extension": ".py",
   "mimetype": "text/x-python",
   "name": "python",
   "nbconvert_exporter": "python",
   "pygments_lexer": "ipython3",
   "version": "3.8.8"
  }
 },
 "nbformat": 4,
 "nbformat_minor": 5
}
