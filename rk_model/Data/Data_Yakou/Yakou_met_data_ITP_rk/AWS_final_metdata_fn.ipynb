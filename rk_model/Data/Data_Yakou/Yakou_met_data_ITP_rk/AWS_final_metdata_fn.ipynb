{
 "cells": [
  {
   "cell_type": "markdown",
   "id": "52cc45cd",
   "metadata": {},
   "source": [
    "The following data is acquired from https://data.tpdc.ac.cn/en/data/0fbc30a8-6065-4be3-b98b-95ae7f15a69e/\n",
    "\n",
    "- The datasets from 2016 - 2020 is considered for the analysis. 2020 - 2021 is not considered for the analysis since it contains missing data for nearly 3 months (2020-02 : 2020-05).\n",
    "- From 2016 - 2019 is considered for calibration and 2019 - 2020 is considered for validation.\n",
    "- This is considered only for the Case 1 (with sub_temp_0.0cm) and Case 5 (with SEB)\n",
    "- Note: We need snow depth dataset for later years! (Not just 2017)\n",
    "\n",
    "Steps taken for the analysis:\n",
    "1. Missing data is identified\n",
    "2. The missing data is imputed with datasets from the previous year\n",
    "3. Stored as .h5 file\n",
    "\n",
    "Further details are provided in the excel sheet - Available_data - \n",
    "\n",
    "- Final_data_excelsheet/AWS_Yakou_ITP_Data_2015,16,17,18,19,20 (Sheet name)\n",
    "\n",
    "- Begin with the 2019 dataset as the initial conditions for the model.  \n",
    "\n",
    "The excel sheet contains the following parameters:\n",
    "\n",
    "1. Wind speed at 10 m\n",
    "2. Wind direction at 10 m\n",
    "3. Air temperature at 5 m \n",
    "4. Relative humidity at 5 m \n",
    "5. Precipitation at 10 m\n",
    "6. Air pressure \n",
    "7. Infrared temperature \n",
    "8. Incoming shortwave radiation\n",
    "9. Outgoing shortwave radiation\n",
    "10. Incoming longwave radiation\n",
    "11. Outgoing longwave radiation\n",
    "12. Net radiation\n",
    "13. Soil heat flux at - 0.06 m\n",
    "14. Soil moisture at - 0.04 m, 0.1 m, 0.2 m, 0.4 m, 0.8 m, 1.2 m, 1.6 m\n",
    "15. Soil temperature - 0.00 m, 0.04 m, 0.1 m, 0.2 m, 0.4 m, 0.8 m, 1.2 m, 1.6 m\n",
    "\n",
    "*The following notebook is an attempt to write a function to extract all the datasets *"
   ]
  }
 ],
 "metadata": {
  "kernelspec": {
   "display_name": "Python 3",
   "language": "python",
   "name": "python3"
  },
  "language_info": {
   "codemirror_mode": {
    "name": "ipython",
    "version": 3
   },
   "file_extension": ".py",
   "mimetype": "text/x-python",
   "name": "python",
   "nbconvert_exporter": "python",
   "pygments_lexer": "ipython3",
   "version": "3.8.8"
  }
 },
 "nbformat": 4,
 "nbformat_minor": 5
}
