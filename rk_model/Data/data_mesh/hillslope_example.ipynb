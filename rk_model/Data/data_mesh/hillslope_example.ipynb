{
 "cells": [
  {
   "cell_type": "markdown",
   "metadata": {},
   "source": [
    "This script generates hillslope mesh with a varying organic layer thickness at the top."
   ]
  },
  {
   "cell_type": "code",
   "execution_count": 4,
   "metadata": {},
   "outputs": [],
   "source": [
    "import sys,os\n",
    "sys.path.append(os.path.join(os.environ['ATS_SRC_DIR'],'tools','meshing','meshing_ats'))\n",
    "import meshing_ats\n",
    "\n",
    "import numpy as np\n",
    "from matplotlib import pyplot as plt"
   ]
  },
  {
   "cell_type": "code",
   "execution_count": 5,
   "metadata": {},
   "outputs": [
    {
     "data": {
      "text/plain": [
       "<module 'meshing_ats' from '/home/rk/ats_rk/amanzi/src/physics/ats/tools/meshing/meshing_ats/meshing_ats.py'>"
      ]
     },
     "execution_count": 5,
     "metadata": {},
     "output_type": "execute_result"
    }
   ],
   "source": [
    "import importlib\n",
    "importlib.reload(meshing_ats)"
   ]
  },
  {
   "cell_type": "code",
   "execution_count": 6,
   "metadata": {},
   "outputs": [
    {
     "name": "stdout",
     "output_type": "stream",
     "text": [
      "# of x and z elements:  101 ,  101\n",
      "# of cells:  100\n"
     ]
    },
    {
     "data": {
      "image/png": "[encoded data removed]",
      "text/plain": [
       "<Figure size 432x288 with 1 Axes>"
      ]
     },
     "metadata": {
      "needs_background": "light"
     },
     "output_type": "display_data"
    }
   ],
   "source": [
    "# 1 km long hillslope, 10% slope\n",
    "x = np.linspace(0,1000,101)\n",
    "z = 100 - 0.1*x \n",
    "# Gradient = 100/1000 = 0.1\n",
    "print ('# of x and z elements: ',len(x),', ',len(z))\n",
    "plt.plot(x,z)\n",
    "plt.xlabel('x distance (m)')\n",
    "plt.ylabel('z elevation (m)')\n",
    "m2 = meshing_ats.Mesh2D.from_Transect(x,z) # Creates a recatangular mesh with x + z nodes, x - 1 number of cells\n",
    "print ('# of cells: ', m2.num_cells())"
   ]
  },
  {
   "cell_type": "code",
   "execution_count": 7,
   "metadata": {},
   "outputs": [
    {
     "data": {
      "text/plain": [
       "(100,\n",
       " 202,\n",
       " 202,\n",
       " array([   0.,   10.,   20.,   30.,   40.,   50.,   60.,   70.,   80.,\n",
       "          90.,  100.,  110.,  120.,  130.,  140.,  150.,  160.,  170.,\n",
       "         180.,  190.,  200.,  210.,  220.,  230.,  240.,  250.,  260.,\n",
       "         270.,  280.,  290.,  300.,  310.,  320.,  330.,  340.,  350.,\n",
       "         360.,  370.,  380.,  390.,  400.,  410.,  420.,  430.,  440.,\n",
       "         450.,  460.,  470.,  480.,  490.,  500.,  510.,  520.,  530.,\n",
       "         540.,  550.,  560.,  570.,  580.,  590.,  600.,  610.,  620.,\n",
       "         630.,  640.,  650.,  660.,  670.,  680.,  690.,  700.,  710.,\n",
       "         720.,  730.,  740.,  750.,  760.,  770.,  780.,  790.,  800.,\n",
       "         810.,  820.,  830.,  840.,  850.,  860.,  870.,  880.,  890.,\n",
       "         900.,  910.,  920.,  930.,  940.,  950.,  960.,  970.,  980.,\n",
       "         990., 1000.,    0.,   10.,   20.,   30.,   40.,   50.,   60.,\n",
       "          70.,   80.,   90.,  100.,  110.,  120.,  130.,  140.,  150.,\n",
       "         160.,  170.,  180.,  190.,  200.,  210.,  220.,  230.,  240.,\n",
       "         250.,  260.,  270.,  280.,  290.,  300.,  310.,  320.,  330.,\n",
       "         340.,  350.,  360.,  370.,  380.,  390.,  400.,  410.,  420.,\n",
       "         430.,  440.,  450.,  460.,  470.,  480.,  490.,  500.,  510.,\n",
       "         520.,  530.,  540.,  550.,  560.,  570.,  580.,  590.,  600.,\n",
       "         610.,  620.,  630.,  640.,  650.,  660.,  670.,  680.,  690.,\n",
       "         700.,  710.,  720.,  730.,  740.,  750.,  760.,  770.,  780.,\n",
       "         790.,  800.,  810.,  820.,  830.,  840.,  850.,  860.,  870.,\n",
       "         880.,  890.,  900.,  910.,  920.,  930.,  940.,  950.,  960.,\n",
       "         970.,  980.,  990., 1000.]),\n",
       " 301,\n",
       " array([   0.,   10.,   20.,   30.,   40.,   50.,   60.,   70.,   80.,\n",
       "          90.,  100.,  110.,  120.,  130.,  140.,  150.,  160.,  170.,\n",
       "         180.,  190.,  200.,  210.,  220.,  230.,  240.,  250.,  260.,\n",
       "         270.,  280.,  290.,  300.,  310.,  320.,  330.,  340.,  350.,\n",
       "         360.,  370.,  380.,  390.,  400.,  410.,  420.,  430.,  440.,\n",
       "         450.,  460.,  470.,  480.,  490.,  500.,  510.,  520.,  530.,\n",
       "         540.,  550.,  560.,  570.,  580.,  590.,  600.,  610.,  620.,\n",
       "         630.,  640.,  650.,  660.,  670.,  680.,  690.,  700.,  710.,\n",
       "         720.,  730.,  740.,  750.,  760.,  770.,  780.,  790.,  800.,\n",
       "         810.,  820.,  830.,  840.,  850.,  860.,  870.,  880.,  890.,\n",
       "         900.,  910.,  920.,  930.,  940.,  950.,  960.,  970.,  980.,\n",
       "         990., 1000.,    0.,   10.,   20.,   30.,   40.,   50.,   60.,\n",
       "          70.,   80.,   90.,  100.,  110.,  120.,  130.,  140.,  150.,\n",
       "         160.,  170.,  180.,  190.,  200.,  210.,  220.,  230.,  240.,\n",
       "         250.,  260.,  270.,  280.,  290.,  300.,  310.,  320.,  330.,\n",
       "         340.,  350.,  360.,  370.,  380.,  390.,  400.,  410.,  420.,\n",
       "         430.,  440.,  450.,  460.,  470.,  480.,  490.,  500.,  510.,\n",
       "         520.,  530.,  540.,  550.,  560.,  570.,  580.,  590.,  600.,\n",
       "         610.,  620.,  630.,  640.,  650.,  660.,  670.,  680.,  690.,\n",
       "         700.,  710.,  720.,  730.,  740.,  750.,  760.,  770.,  780.,\n",
       "         790.,  800.,  810.,  820.,  830.,  840.,  850.,  860.,  870.,\n",
       "         880.,  890.,  900.,  910.,  920.,  930.,  940.,  950.,  960.,\n",
       "         970.,  980.,  990., 1000.]))"
      ]
     },
     "execution_count": 7,
     "metadata": {},
     "output_type": "execute_result"
    }
   ],
   "source": [
    "m2.num_cells(), m2.num_nodes(), m2.num_nodes(), m2.coords[:,0], m2.num_edges(), m2.coords[:,0]"
   ]
  },
  {
   "cell_type": "code",
   "execution_count": 8,
   "metadata": {},
   "outputs": [
    {
     "data": {
      "text/plain": [
       "Text(0, 0.5, 'org. layer thickness (m)')"
      ]
     },
     "execution_count": 8,
     "metadata": {},
     "output_type": "execute_result"
    },
    {
     "data": {
      "image/png": "[encoded data removed]",
      "text/plain": [
       "<Figure size 432x288 with 1 Axes>"
      ]
     },
     "metadata": {
      "needs_background": "light"
     },
     "output_type": "display_data"
    }
   ],
   "source": [
    "# Changing organic layer thickness \n",
    "def organic_thickness(x):\n",
    "    \"\"\"This function is the thickness of the layer we want to vary\"\"\"\n",
    "    if x < 100:\n",
    "        thickness = 0.5\n",
    "    elif ((100 <= x) and (x <= 200)):\n",
    "        thickness = -0.0045*x + 0.95\n",
    "    elif ((200 < x) and (x < 800)):\n",
    "        thickness = 0.05\n",
    "    elif ((800 <= x) and (x <= 900)):\n",
    "        thickness = 0.0025*x - 1.95\n",
    "    else:\n",
    "        thickness = 0.3\n",
    "    return thickness\n",
    "\n",
    "org_layer_thickness = np.array([organic_thickness(xx) for xx in m2.coords[:,0]])\n",
    "plt.plot(x, org_layer_thickness[0:101])\n",
    "plt.xlabel('x distance (m)')\n",
    "plt.ylabel('org. layer thickness (m)')\n"
   ]
  },
  {
   "cell_type": "code",
   "execution_count": 9,
   "metadata": {},
   "outputs": [
    {
     "data": {
      "text/plain": [
       "202"
      ]
     },
     "execution_count": 9,
     "metadata": {},
     "output_type": "execute_result"
    }
   ],
   "source": [
    "len(org_layer_thickness)"
   ]
  },
  {
   "cell_type": "code",
   "execution_count": 10,
   "metadata": {},
   "outputs": [
    {
     "data": {
      "text/plain": [
       "array([0.5  , 0.5  , 0.5  , 0.5  , 0.5  , 0.5  , 0.5  , 0.5  , 0.5  ,\n",
       "       0.5  , 0.5  , 0.455, 0.41 , 0.365, 0.32 , 0.275, 0.23 , 0.185,\n",
       "       0.14 , 0.095, 0.05 , 0.05 , 0.05 , 0.05 , 0.05 , 0.05 , 0.05 ,\n",
       "       0.05 , 0.05 , 0.05 , 0.05 , 0.05 , 0.05 , 0.05 , 0.05 , 0.05 ,\n",
       "       0.05 , 0.05 , 0.05 , 0.05 , 0.05 , 0.05 , 0.05 , 0.05 , 0.05 ,\n",
       "       0.05 , 0.05 , 0.05 , 0.05 , 0.05 , 0.05 , 0.05 , 0.05 , 0.05 ,\n",
       "       0.05 , 0.05 , 0.05 , 0.05 , 0.05 , 0.05 , 0.05 , 0.05 , 0.05 ,\n",
       "       0.05 , 0.05 , 0.05 , 0.05 , 0.05 , 0.05 , 0.05 , 0.05 , 0.05 ,\n",
       "       0.05 , 0.05 , 0.05 , 0.05 , 0.05 , 0.05 , 0.05 , 0.05 , 0.05 ,\n",
       "       0.075, 0.1  , 0.125, 0.15 , 0.175, 0.2  , 0.225, 0.25 , 0.275,\n",
       "       0.3  , 0.3  , 0.3  , 0.3  , 0.3  , 0.3  , 0.3  , 0.3  , 0.3  ,\n",
       "       0.3  , 0.3  , 0.5  , 0.5  , 0.5  , 0.5  , 0.5  , 0.5  , 0.5  ,\n",
       "       0.5  , 0.5  , 0.5  , 0.5  , 0.455, 0.41 , 0.365, 0.32 , 0.275,\n",
       "       0.23 , 0.185, 0.14 , 0.095, 0.05 , 0.05 , 0.05 , 0.05 , 0.05 ,\n",
       "       0.05 , 0.05 , 0.05 , 0.05 , 0.05 , 0.05 , 0.05 , 0.05 , 0.05 ,\n",
       "       0.05 , 0.05 , 0.05 , 0.05 , 0.05 , 0.05 , 0.05 , 0.05 , 0.05 ,\n",
       "       0.05 , 0.05 , 0.05 , 0.05 , 0.05 , 0.05 , 0.05 , 0.05 , 0.05 ,\n",
       "       0.05 , 0.05 , 0.05 , 0.05 , 0.05 , 0.05 , 0.05 , 0.05 , 0.05 ,\n",
       "       0.05 , 0.05 , 0.05 , 0.05 , 0.05 , 0.05 , 0.05 , 0.05 , 0.05 ,\n",
       "       0.05 , 0.05 , 0.05 , 0.05 , 0.05 , 0.05 , 0.05 , 0.05 , 0.05 ,\n",
       "       0.05 , 0.05 , 0.075, 0.1  , 0.125, 0.15 , 0.175, 0.2  , 0.225,\n",
       "       0.25 , 0.275, 0.3  , 0.3  , 0.3  , 0.3  , 0.3  , 0.3  , 0.3  ,\n",
       "       0.3  , 0.3  , 0.3  , 0.3  ])"
      ]
     },
     "execution_count": 10,
     "metadata": {},
     "output_type": "execute_result"
    }
   ],
   "source": [
    "org_layer_thickness"
   ]
  },
  {
   "cell_type": "code",
   "execution_count": 26,
   "metadata": {},
   "outputs": [],
   "source": [
    "# preparing layer extrusion data for meshing_ats\n",
    "#\n",
    "# Meshes are extruded in the vertical by \"layer\", where a layer may \n",
    "# consist of multiple cells in the z direction.  These layers are \n",
    "# logical unit to make construction easier, and may or may not \n",
    "# correspond to material type (organic/mineral soil).\n",
    "# \n",
    "# The extrusion process is then given four lists, each of length\n",
    "# num_layers.\n",
    "#\n",
    "layer_types = []  # a list of strings that tell the extruding \n",
    "                  # code how to do the layers.  See meshing_ats \n",
    "                  # documentation for more, but here we will use\n",
    "                  # only \"constant\", which means that dz within\n",
    "                  # the layer is constant.\n",
    "\n",
    "layer_data = []   # this data depends upon the layer type, but\n",
    "                  # for constant is the thickness of the layer\n",
    "\n",
    "layer_ncells = [] # number of cells (in the vertical) in the layer.\n",
    "                  # The dz of each cell is the layer thickness / number of cells.\n",
    "\n",
    "layer_mat_ids = []# The material ID.  This may be either a constant int (for\n",
    "                  # unform layering) or an array of size [ncells_vertical x ncells_horizontal] in the layer \n",
    "                  # where each entry corresponds to the material ID of that cell.\n",
    "\n",
    "layer_depth = []  # used later to get the mat ids right, just for bookkeeping\n",
    "        \n",
    "# here we will only use 1 cell per layer, so layer thickness = dz.\n",
    "# We will also telescope the mesh, starting at 1cm grid cell and growing it larger in each layer.\n",
    "dz = .01\n",
    "i = 0\n",
    "current_depth = 0\n",
    "while dz < 2:\n",
    "    if i<=20:            #organic\n",
    "        dz *= 1.2\n",
    "    elif (20<i)&(i<=26): #mineral\n",
    "        dz *= 1.4\n",
    "    else:                #bedrock\n",
    "        dz *= 1.5\n",
    "    layer_types.append(\"constant\")\n",
    "    layer_data.append(dz) # Thickness of all the dz's will be added in the numpy array \n",
    "    layer_ncells.append(1)\n",
    "    current_depth += dz\n",
    "    layer_depth.append(current_depth)\n",
    "    i += 1\n",
    "    \n",
    "#print(layer_data) # Printing all the dz\n",
    "#print('\\n')\n",
    "#print(layer_depth)\n",
    "\n",
    "# now add in a bunch of cells to reach 45 m, of equal dz that is ~2m.\n",
    "num_of_layers=len(layer_data)\n",
    "layer_types.append('constant')\n",
    "layer_data.append(45 - sum(layer_data))  # note sum(layer_data) == the total mesh thickness at this point\n",
    "layer_ncells.append(int(np.floor(layer_data[-1]/dz)))\n",
    "layer_depth.append(45)"
   ]
  },
  {
   "cell_type": "code",
   "execution_count": 27,
   "metadata": {},
   "outputs": [
    {
     "data": {
      "text/plain": [
       "Text(0.5, 0, 'Number of cells')"
      ]
     },
     "execution_count": 27,
     "metadata": {},
     "output_type": "execute_result"
    },
    {
     "data": {
      "image/png": "[encoded data removed]",
      "text/plain": [
       "<Figure size 432x288 with 1 Axes>"
      ]
     },
     "metadata": {
      "needs_background": "light"
     },
     "output_type": "display_data"
    }
   ],
   "source": [
    "plt.plot(layer_depth)\n",
    "plt.ylabel('layer depth - z (in m)')\n",
    "plt.xlabel('Number of cells')"
   ]
  },
  {
   "cell_type": "code",
   "execution_count": 28,
   "metadata": {},
   "outputs": [
    {
     "name": "stdout",
     "output_type": "stream",
     "text": [
      "# of rows, # of cells: (40, 100)\n"
     ]
    }
   ],
   "source": [
    "# allocate 2D matrix with cols=#cells, rows=21\n",
    "\n",
    "mat_ids=np.zeros((m2.num_cells(), 21), 'i') # Number of columns = 100\n",
    "for i in range(m2.num_cells()):\n",
    "    for j in range(21): # after layer 20 everything is bedrock - Q. RK - mineral and then bedrock right?\n",
    "        if (layer_depth[j] < org_layer_thickness[i]):\n",
    "            mat_ids[i,j]=1001\n",
    "        else:\n",
    "            mat_ids[i,j]=1002\n",
    "            \n",
    "# filling out layer_mat_ids\n",
    "layer_mat_ids = []\n",
    "for j in range(21):\n",
    "    layer_mat_ids.append(mat_ids[:,j])\n",
    "for j in range(21,sum(layer_ncells)):\n",
    "    layer_mat_ids.append(101*np.ones((100,),'i'))\n",
    "\n",
    "print('# of rows, # of cells:', np.shape(layer_mat_ids))"
   ]
  },
  {
   "cell_type": "code",
   "execution_count": 29,
   "metadata": {},
   "outputs": [
    {
     "name": "stdout",
     "output_type": "stream",
     "text": [
      "Cell summary:\n",
      "------------------------------------------------------------\n",
      "l_id\t| c_id\t|mat_id\t| dz\t\t| z_top\n",
      "------------------------------------------------------------\n",
      " 00 \t| 00 \t| 1001 \t|   0.012000 \t|   0.000000\n",
      " 01 \t| 01 \t| 1001 \t|   0.014400 \t|   0.012000\n",
      " 02 \t| 02 \t| 1001 \t|   0.017280 \t|   0.026400\n",
      " 03 \t| 03 \t| 1001 \t|   0.020736 \t|   0.043680\n",
      " 04 \t| 04 \t| 1001 \t|   0.024883 \t|   0.064416\n",
      " 05 \t| 05 \t| 1001 \t|   0.029860 \t|   0.089299\n",
      " 06 \t| 06 \t| 1001 \t|   0.035832 \t|   0.119159\n",
      " 07 \t| 07 \t| 1001 \t|   0.042998 \t|   0.154991\n",
      " 08 \t| 08 \t| 1001 \t|   0.051598 \t|   0.197989\n",
      " 09 \t| 09 \t| 1001 \t|   0.061917 \t|   0.249587\n",
      " 10 \t| 10 \t| 1001 \t|   0.074301 \t|   0.311504\n",
      " 11 \t| 11 \t| 1001 \t|   0.089161 \t|   0.385805\n",
      " 12 \t| 12 \t| 1002 \t|   0.106993 \t|   0.474966\n",
      " 13 \t| 13 \t| 1002 \t|   0.128392 \t|   0.581959\n",
      " 14 \t| 14 \t| 1002 \t|   0.154070 \t|   0.710351\n",
      " 15 \t| 15 \t| 1002 \t|   0.184884 \t|   0.864421\n",
      " 16 \t| 16 \t| 1002 \t|   0.221861 \t|   1.049306\n",
      " 17 \t| 17 \t| 1002 \t|   0.266233 \t|   1.271167\n",
      " 18 \t| 18 \t| 1002 \t|   0.319480 \t|   1.537400\n",
      " 19 \t| 19 \t| 1002 \t|   0.383376 \t|   1.856880\n",
      " 20 \t| 20 \t| 1002 \t|   0.460051 \t|   2.240256\n",
      " 21 \t| 21 \t|  101 \t|   0.644072 \t|   2.700307\n",
      " 22 \t| 22 \t|  101 \t|   0.901700 \t|   3.344379\n",
      " 23 \t| 23 \t|  101 \t|   1.262380 \t|   4.246079\n",
      " 24 \t| 24 \t|  101 \t|   1.767333 \t|   5.508460\n",
      " 25 \t| 25 \t|  101 \t|   2.474266 \t|   7.275792\n",
      " 26 \t| 26 \t|  101 \t|   2.517853 \t|   9.750058\n",
      " 26 \t| 27 \t|  101 \t|   2.517853 \t|  12.267911\n",
      " 26 \t| 28 \t|  101 \t|   2.517853 \t|  14.785764\n",
      " 26 \t| 29 \t|  101 \t|   2.517853 \t|  17.303617\n",
      " 26 \t| 30 \t|  101 \t|   2.517853 \t|  19.821470\n",
      " 26 \t| 31 \t|  101 \t|   2.517853 \t|  22.339323\n",
      " 26 \t| 32 \t|  101 \t|   2.517853 \t|  24.857176\n",
      " 26 \t| 33 \t|  101 \t|   2.517853 \t|  27.375029\n",
      " 26 \t| 34 \t|  101 \t|   2.517853 \t|  29.892882\n",
      " 26 \t| 35 \t|  101 \t|   2.517853 \t|  32.410735\n",
      " 26 \t| 36 \t|  101 \t|   2.517853 \t|  34.928588\n",
      " 26 \t| 37 \t|  101 \t|   2.517853 \t|  37.446441\n",
      " 26 \t| 38 \t|  101 \t|   2.517853 \t|  39.964294\n",
      " 26 \t| 39 \t|  101 \t|   2.517853 \t|  42.482147\n"
     ]
    }
   ],
   "source": [
    "meshing_ats.summarize_extrusion(layer_types, layer_data, layer_ncells, layer_mat_ids)"
   ]
  },
  {
   "cell_type": "code",
   "execution_count": 62,
   "metadata": {},
   "outputs": [],
   "source": [
    "# Creating a copy of the variable\n",
    "layer_depth_all = layer_depth[:-1].copy()"
   ]
  },
  {
   "cell_type": "code",
   "execution_count": 63,
   "metadata": {},
   "outputs": [],
   "source": [
    "# Adding a 0 at the beginning \n",
    "layer_depth_all.insert(0,0.00)"
   ]
  },
  {
   "cell_type": "code",
   "execution_count": 64,
   "metadata": {},
   "outputs": [],
   "source": [
    "# Copied from the summary text - Check a way to automatise it!\n",
    "extra_z_depth = [12.267, 14.786, 17.3, 19.8, 22.34, 24.86, 27.375, 29.89, 32.4, 34.928, 37.446, 39.9642, 42.48, 45]\n",
    "layer_depth_all.extend(extra_z_depth)"
   ]
  },
  {
   "cell_type": "code",
   "execution_count": 65,
   "metadata": {},
   "outputs": [
    {
     "data": {
      "text/plain": [
       "[0.0,\n",
       " 0.012,\n",
       " 0.0264,\n",
       " 0.04368,\n",
       " 0.064416,\n",
       " 0.0892992,\n",
       " 0.11915904,\n",
       " 0.154990848,\n",
       " 0.19798901759999998,\n",
       " 0.24958682111999997,\n",
       " 0.31150418534399993,\n",
       " 0.3858050224127999,\n",
       " 0.4749660268953599,\n",
       " 0.5819592322744318,\n",
       " 0.7103510787293181,\n",
       " 0.8644212944751818,\n",
       " 1.049305553370218,\n",
       " 1.2711666640442616,\n",
       " 1.537399996853114,\n",
       " 1.8568799962237368,\n",
       " 2.240255995468484,\n",
       " 2.7003071945621806,\n",
       " 3.344378873293356,\n",
       " 4.246079223517002,\n",
       " 5.508459713830106,\n",
       " 7.275792400268451,\n",
       " 9.750058161282134,\n",
       " 12.267,\n",
       " 14.786,\n",
       " 17.3,\n",
       " 19.8,\n",
       " 22.34,\n",
       " 24.86,\n",
       " 27.375,\n",
       " 29.89,\n",
       " 32.4,\n",
       " 34.928,\n",
       " 37.446,\n",
       " 39.9642,\n",
       " 42.48,\n",
       " 45]"
      ]
     },
     "execution_count": 65,
     "metadata": {},
     "output_type": "execute_result"
    }
   ],
   "source": [
    "layer_depth_all"
   ]
  },
  {
   "cell_type": "code",
   "execution_count": 66,
   "metadata": {},
   "outputs": [
    {
     "data": {
      "text/plain": [
       "array([6.00000000e-03, 1.92000000e-02, 3.50400000e-02, 5.40480000e-02,\n",
       "       7.68576000e-02, 1.04229120e-01, 1.37074944e-01, 1.76489933e-01,\n",
       "       2.23787919e-01, 2.80545503e-01, 3.48654604e-01, 4.30385525e-01,\n",
       "       5.28462630e-01, 6.46155156e-01, 7.87386187e-01, 9.56863424e-01,\n",
       "       1.16023611e+00, 1.40428333e+00, 1.69714000e+00, 2.04856800e+00,\n",
       "       2.47028160e+00, 3.02234303e+00, 3.79522905e+00, 4.87726947e+00,\n",
       "       6.39212606e+00, 8.51292528e+00, 1.10085291e+01, 1.35265000e+01,\n",
       "       1.60430000e+01, 1.85500000e+01, 2.10700000e+01, 2.36000000e+01,\n",
       "       2.61175000e+01, 2.86325000e+01, 3.11450000e+01, 3.36640000e+01,\n",
       "       3.61870000e+01, 3.87051000e+01, 4.12221000e+01, 4.37400000e+01])"
      ]
     },
     "execution_count": 66,
     "metadata": {},
     "output_type": "execute_result"
    }
   ],
   "source": [
    "# Finding the centroidal distance:\n",
    "z_centroid_depth = np.array([])\n",
    "i = 0\n",
    "for i in range(len(layer_depth_all) - 1):\n",
    "    avg = (layer_depth_all[i] + layer_depth_all[i+1])/2\n",
    "    z_centroid_depth = np.append(z_centroid_depth, avg)\n",
    "    \n",
    "z_centroid_depth"
   ]
  },
  {
   "cell_type": "code",
   "execution_count": 67,
   "metadata": {},
   "outputs": [
    {
     "data": {
      "text/plain": [
       "40"
      ]
     },
     "execution_count": 67,
     "metadata": {},
     "output_type": "execute_result"
    }
   ],
   "source": [
    "len(z_centroid_depth)"
   ]
  },
  {
   "cell_type": "code",
   "execution_count": 68,
   "metadata": {},
   "outputs": [],
   "source": [
    "# Creating a csv file to store the centroidal distance\n",
    "np.savetxt(\"test_org_column_centroidal_dist.csv\", z_centroid_depth, delimiter=\" \")"
   ]
  },
  {
   "cell_type": "code",
   "execution_count": 17,
   "metadata": {
    "scrolled": true
   },
   "outputs": [
    {
     "name": "stdout",
     "output_type": "stream",
     "text": [
      "\n",
      "You are using exodus.py v 1.05 (beta-cmake), a python wrapper of some of the exodus II library.\n",
      "\n",
      "Copyright (c) 2013, 2014, 2015, 2016, 2017 National Technology &\n",
      "Engineering Solutions of Sandia, LLC (NTESS).  Under the terms of\n",
      "Contract DE-NA0003525 with NTESS, the U.S. Government retains certain\n",
      "rights in this software.  \n",
      "\n",
      "Opening exodus file: test_organic.exo\n"
     ]
    },
    {
     "ename": "AssertionError",
     "evalue": "",
     "output_type": "error",
     "traceback": [
      "\u001b[0;31m---------------------------------------------------------------------------\u001b[0m",
      "\u001b[0;31mAssertionError\u001b[0m                            Traceback (most recent call last)",
      "\u001b[0;32m<ipython-input-17-25e25d981c19>\u001b[0m in \u001b[0;36m<module>\u001b[0;34m\u001b[0m\n\u001b[1;32m      1\u001b[0m \u001b[0;31m# make the mesh, save it as an exodus file\u001b[0m\u001b[0;34m\u001b[0m\u001b[0;34m\u001b[0m\u001b[0;34m\u001b[0m\u001b[0m\n\u001b[1;32m      2\u001b[0m \u001b[0mm3\u001b[0m \u001b[0;34m=\u001b[0m \u001b[0mmeshing_ats\u001b[0m\u001b[0;34m.\u001b[0m\u001b[0mMesh3D\u001b[0m\u001b[0;34m.\u001b[0m\u001b[0mextruded_Mesh2D\u001b[0m\u001b[0;34m(\u001b[0m\u001b[0mm2\u001b[0m\u001b[0;34m,\u001b[0m \u001b[0mlayer_types\u001b[0m\u001b[0;34m,\u001b[0m\u001b[0mlayer_data\u001b[0m\u001b[0;34m,\u001b[0m \u001b[0mlayer_ncells\u001b[0m\u001b[0;34m,\u001b[0m \u001b[0mlayer_mat_ids\u001b[0m\u001b[0;34m)\u001b[0m\u001b[0;34m\u001b[0m\u001b[0;34m\u001b[0m\u001b[0m\n\u001b[0;32m----> 3\u001b[0;31m \u001b[0mm3\u001b[0m\u001b[0;34m.\u001b[0m\u001b[0mwrite_exodus\u001b[0m\u001b[0;34m(\u001b[0m\u001b[0;34m\"test_organic.exo\"\u001b[0m\u001b[0;34m)\u001b[0m\u001b[0;34m\u001b[0m\u001b[0;34m\u001b[0m\u001b[0m\n\u001b[0m",
      "\u001b[0;32m~/ats_rk/amanzi/src/physics/ats/tools/meshing_ats_rk/meshing_ats.py\u001b[0m in \u001b[0;36mwrite_exodus\u001b[0;34m(self, filename, face_block_mode)\u001b[0m\n\u001b[1;32m    629\u001b[0m         \u001b[0;32mfor\u001b[0m \u001b[0mss\u001b[0m \u001b[0;32min\u001b[0m \u001b[0mself\u001b[0m\u001b[0;34m.\u001b[0m\u001b[0mside_sets\u001b[0m\u001b[0;34m:\u001b[0m\u001b[0;34m\u001b[0m\u001b[0;34m\u001b[0m\u001b[0m\n\u001b[1;32m    630\u001b[0m             \u001b[0;32mfor\u001b[0m \u001b[0melem\u001b[0m \u001b[0;32min\u001b[0m \u001b[0mss\u001b[0m\u001b[0;34m.\u001b[0m\u001b[0melem_list\u001b[0m\u001b[0;34m:\u001b[0m\u001b[0;34m\u001b[0m\u001b[0;34m\u001b[0m\u001b[0m\n\u001b[0;32m--> 631\u001b[0;31m                 \u001b[0;32massert\u001b[0m \u001b[0mold_to_new_elems\u001b[0m\u001b[0;34m[\u001b[0m\u001b[0melem\u001b[0m\u001b[0;34m]\u001b[0m\u001b[0;34m[\u001b[0m\u001b[0;36m0\u001b[0m\u001b[0;34m]\u001b[0m \u001b[0;34m==\u001b[0m \u001b[0melem\u001b[0m\u001b[0;34m\u001b[0m\u001b[0;34m\u001b[0m\u001b[0m\n\u001b[0m\u001b[1;32m    632\u001b[0m             \u001b[0mnew_elem_list\u001b[0m \u001b[0;34m=\u001b[0m \u001b[0;34m[\u001b[0m\u001b[0mold_to_new_elems\u001b[0m\u001b[0;34m[\u001b[0m\u001b[0melem\u001b[0m\u001b[0;34m]\u001b[0m\u001b[0;34m[\u001b[0m\u001b[0;36m1\u001b[0m\u001b[0;34m]\u001b[0m \u001b[0;32mfor\u001b[0m \u001b[0melem\u001b[0m \u001b[0;32min\u001b[0m \u001b[0mss\u001b[0m\u001b[0;34m.\u001b[0m\u001b[0melem_list\u001b[0m\u001b[0;34m]\u001b[0m\u001b[0;34m\u001b[0m\u001b[0;34m\u001b[0m\u001b[0m\n\u001b[1;32m    633\u001b[0m             \u001b[0me\u001b[0m\u001b[0;34m.\u001b[0m\u001b[0mput_side_set_params\u001b[0m\u001b[0;34m(\u001b[0m\u001b[0mss\u001b[0m\u001b[0;34m.\u001b[0m\u001b[0msetid\u001b[0m\u001b[0;34m,\u001b[0m \u001b[0mlen\u001b[0m\u001b[0;34m(\u001b[0m\u001b[0mss\u001b[0m\u001b[0;34m.\u001b[0m\u001b[0melem_list\u001b[0m\u001b[0;34m)\u001b[0m\u001b[0;34m,\u001b[0m \u001b[0;36m0\u001b[0m\u001b[0;34m)\u001b[0m\u001b[0;34m\u001b[0m\u001b[0;34m\u001b[0m\u001b[0m\n",
      "\u001b[0;31mAssertionError\u001b[0m: "
     ]
    }
   ],
   "source": [
    "# make the mesh, save it as an exodus file\n",
    "m3 = meshing_ats.Mesh3D.extruded_Mesh2D(m2, layer_types,layer_data, layer_ncells, layer_mat_ids)\n",
    "m3.write_exodus(\"test_organic.exo\")"
   ]
  },
  {
   "cell_type": "markdown",
   "metadata": {},
   "source": [
    "### Check with this error!!"
   ]
  },
  {
   "cell_type": "code",
   "execution_count": null,
   "metadata": {},
   "outputs": [],
   "source": []
  },
  {
   "cell_type": "code",
   "execution_count": 1,
   "metadata": {},
   "outputs": [
    {
     "ename": "NameError",
     "evalue": "name 'np' is not defined",
     "output_type": "error",
     "traceback": [
      "\u001b[0;31m---------------------------------------------------------------------------\u001b[0m",
      "\u001b[0;31mNameError\u001b[0m                                 Traceback (most recent call last)",
      "\u001b[0;32m<ipython-input-1-4b38d5cabac6>\u001b[0m in \u001b[0;36m<module>\u001b[0;34m\u001b[0m\n\u001b[1;32m      1\u001b[0m \u001b[0;31m# Make a column that is the same as the deepest organic layer thickness for use in spinup.\u001b[0m\u001b[0;34m\u001b[0m\u001b[0;34m\u001b[0m\u001b[0;34m\u001b[0m\u001b[0m\n\u001b[1;32m      2\u001b[0m \u001b[0;31m# 1 km long hillslope, 10% slope\u001b[0m\u001b[0;34m\u001b[0m\u001b[0;34m\u001b[0m\u001b[0;34m\u001b[0m\u001b[0m\n\u001b[0;32m----> 3\u001b[0;31m \u001b[0mxc\u001b[0m \u001b[0;34m=\u001b[0m \u001b[0mnp\u001b[0m\u001b[0;34m.\u001b[0m\u001b[0marray\u001b[0m\u001b[0;34m(\u001b[0m\u001b[0;34m[\u001b[0m\u001b[0;36m0\u001b[0m\u001b[0;34m,\u001b[0m\u001b[0;36m1\u001b[0m\u001b[0;34m]\u001b[0m\u001b[0;34m)\u001b[0m\u001b[0;34m\u001b[0m\u001b[0;34m\u001b[0m\u001b[0m\n\u001b[0m\u001b[1;32m      4\u001b[0m \u001b[0mzc\u001b[0m \u001b[0;34m=\u001b[0m \u001b[0mnp\u001b[0m\u001b[0;34m.\u001b[0m\u001b[0marray\u001b[0m\u001b[0;34m(\u001b[0m\u001b[0;34m[\u001b[0m\u001b[0;36m0\u001b[0m\u001b[0;34m,\u001b[0m\u001b[0;36m0\u001b[0m\u001b[0;34m]\u001b[0m\u001b[0;34m)\u001b[0m\u001b[0;34m\u001b[0m\u001b[0;34m\u001b[0m\u001b[0m\n\u001b[1;32m      5\u001b[0m \u001b[0mm2c\u001b[0m \u001b[0;34m=\u001b[0m \u001b[0mmeshing_ats\u001b[0m\u001b[0;34m.\u001b[0m\u001b[0mMesh2D\u001b[0m\u001b[0;34m.\u001b[0m\u001b[0mfrom_Transect\u001b[0m\u001b[0;34m(\u001b[0m\u001b[0mxc\u001b[0m\u001b[0;34m,\u001b[0m\u001b[0mzc\u001b[0m\u001b[0;34m)\u001b[0m\u001b[0;34m\u001b[0m\u001b[0;34m\u001b[0m\u001b[0m\n",
      "\u001b[0;31mNameError\u001b[0m: name 'np' is not defined"
     ]
    }
   ],
   "source": [
    "# Make a column that is the same as the deepest organic layer thickness for use in spinup.\n",
    "# 1 km long hillslope, 10% slope\n",
    "xc = np.array([0,1])\n",
    "zc = np.array([0,0])\n",
    "m2c = meshing_ats.Mesh2D.from_Transect(xc,zc)\n",
    "print('# of cells: ', m2c.num_cells())"
   ]
  },
  {
   "cell_type": "code",
   "execution_count": null,
   "metadata": {},
   "outputs": [],
   "source": [
    "column_mat_ids = [lmi[50] for lmi in layer_mat_ids]\n",
    "print(column_mat_ids)"
   ]
  },
  {
   "cell_type": "code",
   "execution_count": 58,
   "metadata": {},
   "outputs": [
    {
     "ename": "NameError",
     "evalue": "name 'm2c' is not defined",
     "output_type": "error",
     "traceback": [
      "\u001b[0;31m---------------------------------------------------------------------------\u001b[0m",
      "\u001b[0;31mNameError\u001b[0m                                 Traceback (most recent call last)",
      "\u001b[0;32m<ipython-input-58-a1f6dd5bc8fa>\u001b[0m in \u001b[0;36m<module>\u001b[0;34m\u001b[0m\n\u001b[0;32m----> 1\u001b[0;31m \u001b[0mm3c\u001b[0m \u001b[0;34m=\u001b[0m \u001b[0mmeshing_ats\u001b[0m\u001b[0;34m.\u001b[0m\u001b[0mMesh3D\u001b[0m\u001b[0;34m.\u001b[0m\u001b[0mextruded_Mesh2D\u001b[0m\u001b[0;34m(\u001b[0m\u001b[0mm2c\u001b[0m\u001b[0;34m,\u001b[0m \u001b[0mlayer_types\u001b[0m\u001b[0;34m,\u001b[0m\u001b[0mlayer_data\u001b[0m\u001b[0;34m,\u001b[0m \u001b[0mlayer_ncells\u001b[0m\u001b[0;34m,\u001b[0m \u001b[0mcolumn_mat_ids\u001b[0m\u001b[0;34m)\u001b[0m\u001b[0;34m\u001b[0m\u001b[0;34m\u001b[0m\u001b[0m\n\u001b[0m\u001b[1;32m      2\u001b[0m \u001b[0mm3c\u001b[0m\u001b[0;34m.\u001b[0m\u001b[0mwrite_exodus\u001b[0m\u001b[0;34m(\u001b[0m\u001b[0;34m\"test_organic_highres_column.exo\"\u001b[0m\u001b[0;34m)\u001b[0m\u001b[0;34m\u001b[0m\u001b[0;34m\u001b[0m\u001b[0m\n",
      "\u001b[0;31mNameError\u001b[0m: name 'm2c' is not defined"
     ]
    }
   ],
   "source": [
    "m3c = meshing_ats.Mesh3D.extruded_Mesh2D(m2c, layer_types,layer_data, layer_ncells, column_mat_ids)\n",
    "m3c.write_exodus(\"test_organic_highres_column.exo\")"
   ]
  },
  {
   "cell_type": "code",
   "execution_count": null,
   "metadata": {
    "collapsed": true
   },
   "outputs": [],
   "source": []
  }
 ],
 "metadata": {
  "anaconda-cloud": {},
  "kernelspec": {
   "display_name": "Python 3",
   "language": "python",
   "name": "python3"
  },
  "language_info": {
   "codemirror_mode": {
    "name": "ipython",
    "version": 3
   },
   "file_extension": ".py",
   "mimetype": "text/x-python",
   "name": "python",
   "nbconvert_exporter": "python",
   "pygments_lexer": "ipython3",
   "version": "3.8.8"
  }
 },
 "nbformat": 4,
 "nbformat_minor": 1
}
