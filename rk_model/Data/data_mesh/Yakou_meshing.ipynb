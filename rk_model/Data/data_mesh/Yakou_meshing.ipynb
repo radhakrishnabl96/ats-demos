{
 "cells": [
  {
   "cell_type": "markdown",
   "metadata": {},
   "source": [
    "# Simple Meshing Workflow\n",
    "\n",
    "This is a simple workflow for generating 1D and 2D meshes.  Note this workflow can do simple 3D meshes as well, especially for simple topography like hexahedral meshes that track a DEM or similar.\n",
    "\n",
    "Often, even in very simple simulations, we use variable vertical resolution (dz).  For many processes (infiltration vs runoff generation, thermal processes, vegetation) much of the dynamics happens in the very near surface soil (within the top centimeters to meters, or in the critical zone).  That said, groundwater depths or the annual thermal signal can propogate to many meters below the surface.  To resolve the near surface dynamics without using so many cells that the simulation is unnecessarily expensive to run, we often use small dz (\\~10cm or less) at the surface and much coarser (\\~1-5 m) at depth.\n",
    "\n",
    "This workflow, and most ATS workflows, make **terrain following, extruded** meshes.  These meshes can be unstructured in map-view, but follow the same vertical spacing everywhere.  This is not required for ATS, but is the most commonly used type of mesh.\n",
    "\n",
    "Note that an unstructured mesh is completely specified by:\n",
    "* nodal coordinates\n",
    "* topology (faces as collections of nodes, cells as collections of faces)\n",
    "* labeled sets (collections of nodes, faces, or cells)\n",
    "\n",
    "This workflow uses the \"meshing_ats\" tool provided with the ATS repository.\n",
    "\n",
    "## Note on mesh dimensionality\n",
    "\n",
    "All meshes have two dimensions -- the \"spatial\" dimension (the dimension of the coordinates of the nodes) and the \"manifold\" dimension (the dimension of a single cell).  ATS uses:\n",
    "\n",
    "* 3 space, 3 manifold: standard volumetric mesh in 3D\n",
    "* 3 space, 2 manifold: the surface of the Earth\n",
    "* 2 space, 2 manifold: a flattened surface mesh whose z-coordinate has been removed\n",
    "* 1 space, 1 manifold: very few processes use a true 1D mesh\n",
    "\n",
    "## Note on labels\n",
    "\n",
    "Labels must be unique.  Therefore we use the following conventions to make life simpler across all ATS meshes.  This is not _required_, but is strongly encouraged.\n",
    "\n",
    "* 1 : the bottom boundary faces of the domain\n",
    "* 2 : the top (surface) boundary faces of the domain\n",
    "* 3 : all other boundary faces (side boundaries)\n",
    "* 4-9 : reserved for user-provided sets, e.g. outlets, observation points, etc.\n",
    "* 10-99 : Land Cover side sets, typically NLCD indices are used directly\n",
    "* 100 : geologic layer material IDs, e.g. rock types\n",
    "* 999 : reserved for bedrock\n",
    "* 1000-9999 : soil layer material IDs, e.g. soil types\n",
    "* 10000+ : user-defined, no limitations\n",
    "\n",
    "## Note on format\n",
    "\n",
    "We write these meshes to ExodusII files.  ExodusII can handle two types of meshes -- \"fixed type\" meshes, which contain only elements of a given type (e.g. tetrahedrons, hexahedrons, triangular prisms, etc) or \"polyhedral meshes.\"  In the former, faces are not stored -- instead, each cell is a list of nodes ordered in a particular way.  In the latter, faces are stored explicitly as a list of  nodes, and cells are stored as a list of faces.  ATS meshing workflows tend to write the latter, because it is actually simpler, and typed meshes can be stored as polyhedral meshes.\n",
    "\n",
    "Vis tools like VisIt and Paraview tend to do better with fixed type meshes, however.  If you write a fixed type mesh in polyhedral form, MSTK's `meshconvert` utility can be used to detect and change the type automatically.  This is built and installed with ATS:\n",
    "\n",
    "    $AMANZI_TPLS_DIR/bin/meshconvert transect.exo transect_fixed_format.exo\n",
    "\n"
   ]
  },
  {
   "cell_type": "code",
   "execution_count": 1,
   "metadata": {
    "tags": []
   },
   "outputs": [
    {
     "name": "stderr",
     "output_type": "stream",
     "text": [
      "Matplotlib created a temporary config/cache directory at /tmp/matplotlib-_2_8z9sb because the default path (/home/ats_sc_user/.cache/matplotlib) is not a writable directory; it is highly recommended to set the MPLCONFIGDIR environment variable to a writable directory, in particular to speed up the import of Matplotlib and to better support multiprocessing.\n"
     ]
    }
   ],
   "source": [
    "import sys,os\n",
    "sys.path.append(os.path.join(os.environ['ATS_SRC_DIR'],'tools','meshing','meshing_ats'))\n",
    "import meshing_ats\n",
    "\n",
    "import numpy as np\n",
    "from matplotlib import pyplot as plt"
   ]
  },
  {
   "cell_type": "markdown",
   "metadata": {},
   "source": [
    "## Yakou mesh configuration\n",
    "- 2 - D hillslope transect: [3-D with unit layer thickness]\n",
    "- Length: 1000 m, slope = 10%, dx = 10 m --> 100 cells (0r 101 nodes)\n",
    "- Along the vertical profile: Organic layer (0.3 m), Mineral layer (0.3 - 20 m), Bedrock (20 – 40 m) [1001, 1002, 999]"
   ]
  },
  {
   "cell_type": "markdown",
   "metadata": {},
   "source": [
    "### Developing the top sloping surface:"
   ]
  },
  {
   "cell_type": "code",
   "execution_count": 8,
   "metadata": {},
   "outputs": [
    {
     "name": "stdout",
     "output_type": "stream",
     "text": [
      "# of x and z coordinates: (101, 101)\n",
      "# of cells: 100\n"
     ]
    },
    {
     "data": {
      "image/png": "[encoded data removed]",
      "text/plain": [
       "<Figure size 432x288 with 1 Axes>"
      ]
     },
     "metadata": {
      "needs_background": "light"
     },
     "output_type": "display_data"
    }
   ],
   "source": [
    "# The top surface is given by z(x):\n",
    "\n",
    "# Generating the x-coordinates with 10 m spacing\n",
    "x = np.linspace(0, 1000, 101)\n",
    "#print(x)\n",
    "\n",
    "# Generating the sloping z-coordinates\n",
    "z = 100 - 0.1*x # 0.1 or 10% slope \n",
    "#print(z)\n",
    "\n",
    "print(f'# of x and z coordinates: {len(x),len(z)}')\n",
    "\n",
    "# Plot the surface topography \n",
    "plt.plot(x,z);plt.xlabel('x distance (m)'); plt.ylabel('z elevation (m)')\n",
    "\n",
    "# Generate the manifold 2D mesh.\n",
    "m2 = meshing_ats.Mesh2D.from_Transect(x,z)\n",
    "print(f'# of cells: {m2.num_cells()}')"
   ]
  },
  {
   "cell_type": "markdown",
   "metadata": {},
   "source": [
    "### Generating the vertical column\n",
    "- Three types of soil: Organic-rich layer (0.25 m), Mineral layer (0.25 - 20 m), and Bedrock (20 – 40 m) [1001, 1002, 999]"
   ]
  },
  {
   "cell_type": "code",
   "execution_count": 20,
   "metadata": {
    "tags": []
   },
   "outputs": [
    {
     "name": "stdout",
     "output_type": "stream",
     "text": [
      "The depth after mineral layer: current_depth = 21.9, dz = 0.8 \n",
      "Cell summary:\n",
      "------------------------------------------------------------\n",
      "l_id\t| c_id\t|mat_id\t| dz\t\t| z_top\n",
      "------------------------------------------------------------\n",
      " 00 \t| 00 \t| 1001 \t|   0.050000 \t|   0.000000\n",
      " 00 \t| 01 \t| 1001 \t|   0.050000 \t|   0.050000\n",
      " 00 \t| 02 \t| 1001 \t|   0.050000 \t|   0.100000\n",
      " 00 \t| 03 \t| 1001 \t|   0.050000 \t|   0.150000\n",
      " 00 \t| 04 \t| 1001 \t|   0.050000 \t|   0.200000\n",
      " 01 \t| 05 \t| 1002 \t|   0.050000 \t|   0.250000\n",
      " 01 \t| 06 \t| 1002 \t|   0.050000 \t|   0.300000\n",
      " 01 \t| 07 \t| 1002 \t|   0.050000 \t|   0.350000\n",
      " 01 \t| 08 \t| 1002 \t|   0.050000 \t|   0.400000\n",
      " 01 \t| 09 \t| 1002 \t|   0.050000 \t|   0.450000\n",
      " 02 \t| 10 \t| 1002 \t|   0.100000 \t|   0.500000\n",
      " 03 \t| 11 \t| 1002 \t|   0.200000 \t|   0.600000\n",
      " 04 \t| 12 \t| 1002 \t|   0.400000 \t|   0.800000\n",
      " 05 \t| 13 \t| 1002 \t|   0.800000 \t|   1.200000\n",
      " 06 \t| 14 \t| 1002 \t|   2.000000 \t|   2.000000\n",
      " 06 \t| 15 \t| 1002 \t|   2.000000 \t|   4.000000\n",
      " 06 \t| 16 \t| 1002 \t|   2.000000 \t|   6.000000\n",
      " 06 \t| 17 \t| 1002 \t|   2.000000 \t|   8.000000\n",
      " 06 \t| 18 \t| 1002 \t|   2.000000 \t|  10.000000\n",
      " 06 \t| 19 \t| 1002 \t|   2.000000 \t|  12.000000\n",
      " 06 \t| 20 \t| 1002 \t|   2.000000 \t|  14.000000\n",
      " 06 \t| 21 \t| 1002 \t|   2.000000 \t|  16.000000\n",
      " 06 \t| 22 \t| 1002 \t|   2.000000 \t|  18.000000\n",
      " 07 \t| 23 \t|  999 \t|   2.000000 \t|  20.000000\n",
      " 07 \t| 24 \t|  999 \t|   2.000000 \t|  22.000000\n",
      " 07 \t| 25 \t|  999 \t|   2.000000 \t|  24.000000\n",
      " 07 \t| 26 \t|  999 \t|   2.000000 \t|  26.000000\n",
      " 07 \t| 27 \t|  999 \t|   2.000000 \t|  28.000000\n",
      " 07 \t| 28 \t|  999 \t|   2.000000 \t|  30.000000\n",
      " 07 \t| 29 \t|  999 \t|   2.000000 \t|  32.000000\n",
      " 07 \t| 30 \t|  999 \t|   2.000000 \t|  34.000000\n",
      " 07 \t| 31 \t|  999 \t|   2.000000 \t|  36.000000\n",
      " 07 \t| 32 \t|  999 \t|   2.000000 \t|  38.000000\n"
     ]
    }
   ],
   "source": [
    "# Prepare layer extrusion data\n",
    "#\n",
    "# Meshes are extruded in the vertical by \"layer\", where a layer may \n",
    "# consist of multiple cells in the z direction.  These layers are \n",
    "# logical units to make construction easier, and may or may not \n",
    "# correspond to material type (organic/mineral soil).\n",
    "# \n",
    "# The extrusion process is then given four lists, each of length\n",
    "# num_layers.\n",
    "#\n",
    "layer_types = []  # a list of strings that tell the extruding \n",
    "                  # code how to do the layers.  See meshing_ats \n",
    "                  # documentation for more, but here we will use\n",
    "                  # only \"constant\", which means that dz within\n",
    "                  # the layer is constant.\n",
    "\n",
    "layer_data = []   # this data depends upon the layer type, but\n",
    "                  # for constant is the total thickness of the layer\n",
    "\n",
    "layer_ncells = [] # number of cells (in the vertical) in the layer.\n",
    "                  # The dz of each cell is the layer thickness / number of cells.\n",
    "\n",
    "layer_mat_ids = []# The material ID.  This may be either a constant int (for\n",
    "                  # unform layering) or an array of size [ncells_vertical x ncells_horizontal] in the layer \n",
    "                  # where each entry corresponds to the material ID of that cell.\n",
    "        \n",
    "\n",
    "# A.Organic-rich layer (1001): A single layer, 5 cells @ 0.05 m = 0.25 m of organic soil\n",
    "layer_types.append(\"constant\")\n",
    "layer_data.append(0.25)\n",
    "layer_ncells.append(5)\n",
    "layer_mat_ids.append(1001) \n",
    "current_depth = 0.25\n",
    "\n",
    "# B.Mineral soil layer (1002) from 0.25 m to 2 m: Two units - \n",
    "# 1. 5 cells @ 0.05 m = 0.25 m of first part mineral soil [0.25 - 0.5 m]\n",
    "# 2. Increasing dz by a factor of 2 until 2 m [0.5 m - 2 m]\n",
    "# 3. Adding dz = 2 m until 20 m [2 m - 20 m]\n",
    "\n",
    "# 1. 5 cells @ 0.05 m = 0.25 m of first part mineral soil [0.25 - 0.5 m]\n",
    "layer_types.append('constant')\n",
    "layer_data.append(0.25)\n",
    "layer_ncells.append(5)\n",
    "layer_mat_ids.append(1002)\n",
    "current_depth += 0.25\n",
    "\n",
    "# 2. Increasing dz by a factor of 2 until 2 m [0.6 m - 2 m]\n",
    "dz = 0.05\n",
    "i = 0\n",
    "\n",
    "while current_depth < 2:\n",
    "    dz *= 2\n",
    "    layer_types.append(\"constant\")\n",
    "    layer_data.append(dz)\n",
    "    layer_ncells.append(1)\n",
    "    layer_mat_ids.append(1002)\n",
    "    current_depth += dz\n",
    "    i += 1\n",
    "    \n",
    "# 3. Adding dz = 2 m until 20 m [2 m - 20 m]\n",
    "layer_types.append('constant')\n",
    "layer_data.append(18)\n",
    "layer_ncells.append(18//2)\n",
    "layer_mat_ids.append(1002)\n",
    "current_depth += 19.9\n",
    "\n",
    "print(f\"The depth after mineral layer: current_depth = {current_depth}, dz = {dz} \")\n",
    "\n",
    "# C. Bedrock (999) - Adding several cells with 2 m thickness (dz) from 2 m - 40 m\n",
    "layer_types.append(\"constant\")\n",
    "layer_data.append(20)\n",
    "layer_ncells.append(20//2)\n",
    "layer_mat_ids.append(999)\n",
    "current_depth += 20\n",
    "\n",
    "# Adding the last point until 40 m\n",
    "#layer_types.append(\"constant\")\n",
    "#layer_data.append(40)\n",
    "#layer_ncells.append(1)\n",
    "#layer_mat_ids.append(999)\n",
    "#current_depth += 1.9\n",
    "\n",
    "# Summary of the vertical column\n",
    "\n",
    "meshing_ats.summarize_extrusion(layer_types, layer_data, layer_ncells, layer_mat_ids)"
   ]
  },
  {
   "cell_type": "markdown",
   "metadata": {
    "tags": []
   },
   "source": [
    "### make the 2-D mesh, save it as an exodus file"
   ]
  },
  {
   "cell_type": "code",
   "execution_count": 21,
   "metadata": {},
   "outputs": [
    {
     "name": "stdout",
     "output_type": "stream",
     "text": [
      "Opening exodus file: yakou_hillslope.exo\n",
      "Closing exodus file: yakou_hillslope.exo\n"
     ]
    }
   ],
   "source": [
    "m3 = meshing_ats.Mesh3D.extruded_Mesh2D(m2, layer_types,layer_data, \n",
    "                                        layer_ncells, layer_mat_ids)\n",
    "if os.path.exists('yakou_hillslope.exo'):\n",
    "    os.remove('yakou_hillslope.exo')\n",
    "m3.write_exodus('yakou_hillslope.exo')"
   ]
  },
  {
   "cell_type": "markdown",
   "metadata": {},
   "source": [
    "### Make the 1-D column, save it as an exodus file"
   ]
  },
  {
   "cell_type": "code",
   "execution_count": 23,
   "metadata": {},
   "outputs": [
    {
     "name": "stdout",
     "output_type": "stream",
     "text": [
      "# of cells: 1\n"
     ]
    }
   ],
   "source": [
    "# Making the surface mesh that is a 1 m X 1 m box in the map view\n",
    "\n",
    "m2c = meshing_ats.Mesh2D.from_Column(0., 0., 0., width=1)\n",
    "print(f\"# of cells: {m2c.num_cells()}\")"
   ]
  },
  {
   "cell_type": "code",
   "execution_count": 24,
   "metadata": {},
   "outputs": [
    {
     "name": "stdout",
     "output_type": "stream",
     "text": [
      "Opening exodus file: yakou_column.exo\n",
      "Closing exodus file: yakou_column.exo\n"
     ]
    }
   ],
   "source": [
    "# Turn this into a 3D mesh (column of cells), and save it to disk\n",
    "m3c = meshing_ats.Mesh3D.extruded_Mesh2D(m2c, layer_types, layer_data, layer_ncells, layer_mat_ids)\n",
    "if os.path.exists('yakou_column.exo'):\n",
    "    os.remove('yakou_column.exo')\n",
    "m3c.write_exodus('yakou_column.exo')"
   ]
  },
  {
   "cell_type": "code",
   "execution_count": null,
   "metadata": {},
   "outputs": [],
   "source": []
  }
 ],
 "metadata": {
  "anaconda-cloud": {},
  "kernelspec": {
   "display_name": "Python 3 (ipykernel)",
   "language": "python",
   "name": "python3"
  },
  "language_info": {
   "codemirror_mode": {
    "name": "ipython",
    "version": 3
   },
   "file_extension": ".py",
   "mimetype": "text/x-python",
   "name": "python",
   "nbconvert_exporter": "python",
   "pygments_lexer": "ipython3",
   "version": "3.8.5"
  }
 },
 "nbformat": 4,
 "nbformat_minor": 4
}
