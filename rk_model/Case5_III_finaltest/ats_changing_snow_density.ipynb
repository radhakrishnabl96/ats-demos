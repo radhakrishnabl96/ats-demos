{
 "cells": [
  {
   "cell_type": "markdown",
   "id": "35983e16",
   "metadata": {},
   "source": [
    "We would like to add snow density as a parameter that PEST can change. The following code is written to ensure as a trial version to ensure that the snow density value changes within the script. "
   ]
  },
  {
   "cell_type": "code",
   "execution_count": 1,
   "id": "aa8cda78",
   "metadata": {},
   "outputs": [],
   "source": [
    "%matplotlib inline\n",
    "import sys, os\n",
    "import numpy as np\n",
    "from matplotlib import rcParams\n",
    "import matplotlib.pyplot as plt"
   ]
  },
  {
   "cell_type": "code",
   "execution_count": 2,
   "id": "c40a1166",
   "metadata": {},
   "outputs": [],
   "source": [
    "%matplotlib inline\n",
    "import sys,os\n",
    "import colors\n",
    "import numpy as np\n",
    "import matplotlib.cm\n",
    "from matplotlib import pyplot as plt\n",
    "import matplotlib.gridspec as gridspec\n",
    "import h5py\n",
    "import pandas as pd\n",
    "from datetime import datetime\n",
    "import matplotlib.image as mpimg\n",
    "from matplotlib.dates import DateFormatter\n",
    "import matplotlib.dates as dates"
   ]
  },
  {
   "cell_type": "code",
   "execution_count": 3,
   "id": "e97bba33",
   "metadata": {},
   "outputs": [],
   "source": [
    "import h5py\n",
    "import pandas as pd\n",
    "import numpy as np\n",
    "import matplotlib.pyplot as plt\n",
    "import colors\n",
    "import matplotlib.cm\n",
    "from matplotlib import pyplot as plt\n",
    "import seaborn as sns\n",
    "import matplotlib.gridspec as gridspec"
   ]
  },
  {
   "cell_type": "code",
   "execution_count": 11,
   "id": "76379724",
   "metadata": {},
   "outputs": [],
   "source": [
    "\n",
    "import subprocess\n",
    "import shutil\n",
    "import fileinput\n",
    "import time\n",
    "import re"
   ]
  },
  {
   "cell_type": "code",
   "execution_count": 5,
   "id": "84754b22",
   "metadata": {},
   "outputs": [],
   "source": [
    "os.chdir('/home/rk/ats_rk/testing/ats-demos/rk_model/Case5_III_finaltest')"
   ]
  },
  {
   "cell_type": "code",
   "execution_count": 6,
   "id": "0b95d68b",
   "metadata": {},
   "outputs": [
    {
     "data": {
      "text/plain": [
       "'/home/rk/ats_rk/testing/ats-demos/rk_model/Case5_III_finaltest'"
      ]
     },
     "execution_count": 6,
     "metadata": {},
     "output_type": "execute_result"
    }
   ],
   "source": [
    "os.getcwd()"
   ]
  },
  {
   "cell_type": "code",
   "execution_count": 8,
   "id": "ecfd2c2c",
   "metadata": {},
   "outputs": [],
   "source": [
    "file_name = 'Case5_III_C_3yrs_testsd'"
   ]
  },
  {
   "cell_type": "code",
   "execution_count": 57,
   "id": "2a22e2bf",
   "metadata": {},
   "outputs": [
    {
     "data": {
      "text/plain": [
       "0"
      ]
     },
     "execution_count": 57,
     "metadata": {},
     "output_type": "execute_result"
    }
   ],
   "source": [
    "# Making a test directory \n",
    "os.system('mkdir testsd.demo')"
   ]
  },
  {
   "cell_type": "code",
   "execution_count": 58,
   "id": "e8542a59",
   "metadata": {},
   "outputs": [],
   "source": [
    "os.chdir('testsd.demo')"
   ]
  },
  {
   "cell_type": "code",
   "execution_count": 59,
   "id": "2aafe25f",
   "metadata": {},
   "outputs": [
    {
     "data": {
      "text/plain": [
       "0"
      ]
     },
     "execution_count": 59,
     "metadata": {},
     "output_type": "execute_result"
    }
   ],
   "source": [
    "# Running ats command\n",
    "os.system(f\"ats --xml_file=../{file_name}.xml\")"
   ]
  },
  {
   "cell_type": "code",
   "execution_count": 44,
   "id": "141380fb",
   "metadata": {},
   "outputs": [],
   "source": [
    "os.chdir('..')"
   ]
  },
  {
   "cell_type": "code",
   "execution_count": 45,
   "id": "f6e5f61c",
   "metadata": {},
   "outputs": [
    {
     "data": {
      "text/plain": [
       "'Case5_III_C_3yrs_testsd'"
      ]
     },
     "execution_count": 45,
     "metadata": {},
     "output_type": "execute_result"
    }
   ],
   "source": [
    "file_name"
   ]
  },
  {
   "cell_type": "code",
   "execution_count": 46,
   "id": "76fe0e46",
   "metadata": {},
   "outputs": [],
   "source": [
    "def ats_run(file_name):\n",
    "    \"\"\"\n",
    "    Function that calls & reproduces the command line options for executing ats. It involves mainly the following steps:\n",
    "    1. Creating a demo directory : mkdir output_file_name.demo\n",
    "    2. 'cd' into the demo directory : cd out_file_name.demo\n",
    "    3. Excecuting the ats command : ats --xml_file=../input_file_name.xml &>out.log\n",
    "    \n",
    "    Note: To execute the command - Please be in the directory where the input xml file is present.\n",
    "    \n",
    "    Parameters:\n",
    "    \n",
    "    -----\n",
    "    INPUT\n",
    "    \n",
    "    file_name : string\n",
    "    \n",
    "    The input xml file name and the directory name (both are the same). Ex: infiltration\n",
    "    \n",
    "    \n",
    "    -----\n",
    "    OUTPUT:\n",
    "    \n",
    "    Runs the ats command and dumps all the outputs in file_name_i.demo\n",
    "    \n",
    "    \"\"\"\n",
    "    # Removing the directory if it exists\n",
    "    if os.path.isdir(f'{file_name}.demo/'):\n",
    "        shutil.rmtree(f'{file_name}.demo/')\n",
    "    \n",
    "    # Making a new directory\n",
    "    os.mkdir(f'{file_name}.demo')\n",
    "    \n",
    "    # Changing the directory to the demo directory\n",
    "    os.chdir(f'{file_name}.demo/')\n",
    "    \n",
    "    # Running the ats command\n",
    "    ats_command = f\"ats --xml_file=../{file_name}.xml >out.log\"\n",
    "    \n",
    "    os.system(ats_command)\n",
    "    #output = os.popen(ats_command).read()\n",
    "    \n",
    "    #return output\n",
    "    \n",
    "    "
   ]
  },
  {
   "cell_type": "code",
   "execution_count": 28,
   "id": "d402f24e",
   "metadata": {},
   "outputs": [],
   "source": [
    "output = ats_run(file_name)"
   ]
  },
  {
   "cell_type": "code",
   "execution_count": 47,
   "id": "07382552",
   "metadata": {},
   "outputs": [
    {
     "data": {
      "text/plain": [
       "'/home/rk/.local/share/Trash/files/Case5_III_C_3yrs_testsd.xml.demo'"
      ]
     },
     "execution_count": 47,
     "metadata": {},
     "output_type": "execute_result"
    }
   ],
   "source": [
    "os.getcwd()"
   ]
  },
  {
   "cell_type": "code",
   "execution_count": 22,
   "id": "906e438a",
   "metadata": {},
   "outputs": [],
   "source": [
    "os.chdir('..')"
   ]
  },
  {
   "cell_type": "code",
   "execution_count": 31,
   "id": "4510efba",
   "metadata": {},
   "outputs": [
    {
     "data": {
      "text/plain": [
       "'/home/rk/ats_rk/testing/ats-demos/rk_model/Case5_III_finaltest/Case5_III_C_3yrs_testsd.xml.demo'"
      ]
     },
     "execution_count": 31,
     "metadata": {},
     "output_type": "execute_result"
    }
   ],
   "source": [
    "os.getcwd()"
   ]
  },
  {
   "cell_type": "code",
   "execution_count": 33,
   "id": "0d59a1fa",
   "metadata": {},
   "outputs": [
    {
     "data": {
      "text/plain": [
       "256"
      ]
     },
     "execution_count": 33,
     "metadata": {},
     "output_type": "execute_result"
    }
   ],
   "source": [
    "ats_command = f\"ats --xml_file=../{file_name}.xml\"\n",
    "    \n",
    "os.system(ats_command)"
   ]
  },
  {
   "cell_type": "code",
   "execution_count": null,
   "id": "90732638",
   "metadata": {},
   "outputs": [],
   "source": [
    "# Snow depth is also a input parameter - data collected from Dr. Xiao's article\n",
    "Snow_depth = pd.read_excel('/home/rk/ats_rk/testing/ats-demos/rk_model/Data/Data_Yakou/Yakou_met_data_ITP_rk/Final_data_excelsheet/Yakou_metstation_data_2017_snowdepth.xlsx',sheet_name='snow_depth',index_col=0, parse_dates=True) \n",
    "\n",
    "# Filling the snow depth missing data with an average value\n",
    "Snow_depth = Snow_depth.fillna(np.average(Snow_depth.loc['2017-12']))\n",
    "\n",
    "# Concatatenating all the dataframes for the year 2016, 2017, 2018, 2019.\n",
    "\n",
    "snow_depth_2016_2019 = np.concatenate([Snow_depth['Snow depth (m)'].values, Snow_depth['Snow depth (m)'].values, Snow_depth['Snow depth (m)'].values, Snow_depth['Snow depth (m)'].values])\n",
    "\n",
    "# Note: The year 2016 has 366 days, hence I am adding the Dec 31st value once more\n",
    "snow_depth_2016_2019 = np.insert(snow_depth_2016_2019, 366, Snow_depth['Snow depth (m)']['2017-12-31'])\n",
    "\n",
    "# Creating a dataframe with four years of snow depth data\n",
    "\n",
    "# The snow depth dataframe with the same index\n",
    "Snow_depth_4_yrs = pd.DataFrame(index=pd.date_range(start='1/1/2016',end='31/12/2019',freq='D'),data = snow_depth_2016_2019, columns=['Snow depth (m)'])\n",
    "\n",
    "# Calculating the snow water equivalent\n",
    "Snow_depth_4_yrs['precipitation snow [m SWE s^-1]'] = Snow_depth_4_yrs['Snow depth (m)']*(snow_dens_ratio/86400)\n",
    "\n",
    "# Storing the data in a seperate dataframe\n",
    "data_SWE_input_calib = Snow_depth_4_yrs['2016':'2018']\n",
    "\n",
    "# Opening the input file\n",
    "hf_input = h5py.File('Snow_depth_data/SWE_2016_2018.h5','w')\n",
    "\n",
    "# Creating a variable with time instances for 1096 days\n",
    "no_days = len(data_SWE_input_calib) # Total number of days\n",
    "no_secs_day = 86400 # Total number of seconds in a day\n",
    "times = np.arange(0,no_days*no_secs_day,no_secs_day)\n",
    "len(times)\n",
    "\n",
    "# Changing the storage to numpy array\n",
    "hf_input.create_dataset('time [s]', data=times)\n",
    "hf_input.create_dataset('precipitation snow [m SWE s^-1]', data=data_SWE_input_calib['precipitation snow [m SWE s^-1]'].values)\n",
    "\n",
    "hf_input.close()\n"
   ]
  },
  {
   "cell_type": "code",
   "execution_count": null,
   "id": "4666c565",
   "metadata": {},
   "outputs": [],
   "source": []
  },
  {
   "cell_type": "code",
   "execution_count": null,
   "id": "002efdd7",
   "metadata": {},
   "outputs": [],
   "source": []
  },
  {
   "cell_type": "code",
   "execution_count": 73,
   "id": "18b5d4c1",
   "metadata": {},
   "outputs": [
    {
     "data": {
      "text/html": [
       "<div>\n",
       "<style scoped>\n",
       "    .dataframe tbody tr th:only-of-type {\n",
       "        vertical-align: middle;\n",
       "    }\n",
       "\n",
       "    .dataframe tbody tr th {\n",
       "        vertical-align: top;\n",
       "    }\n",
       "\n",
       "    .dataframe thead th {\n",
       "        text-align: right;\n",
       "    }\n",
       "</style>\n",
       "<table border=\"1\" class=\"dataframe\">\n",
       "  <thead>\n",
       "    <tr style=\"text-align: right;\">\n",
       "      <th></th>\n",
       "      <th>Snow depth (m)</th>\n",
       "    </tr>\n",
       "    <tr>\n",
       "      <th>Measurement Time</th>\n",
       "      <th></th>\n",
       "    </tr>\n",
       "  </thead>\n",
       "  <tbody>\n",
       "    <tr>\n",
       "      <th>2017-01-01</th>\n",
       "      <td>0.000375</td>\n",
       "    </tr>\n",
       "    <tr>\n",
       "      <th>2017-01-02</th>\n",
       "      <td>0.000208</td>\n",
       "    </tr>\n",
       "    <tr>\n",
       "      <th>2017-01-03</th>\n",
       "      <td>0.000125</td>\n",
       "    </tr>\n",
       "    <tr>\n",
       "      <th>2017-01-04</th>\n",
       "      <td>0.000458</td>\n",
       "    </tr>\n",
       "    <tr>\n",
       "      <th>2017-01-05</th>\n",
       "      <td>0.000250</td>\n",
       "    </tr>\n",
       "  </tbody>\n",
       "</table>\n",
       "</div>"
      ],
      "text/plain": [
       "                  Snow depth (m)\n",
       "Measurement Time                \n",
       "2017-01-01              0.000375\n",
       "2017-01-02              0.000208\n",
       "2017-01-03              0.000125\n",
       "2017-01-04              0.000458\n",
       "2017-01-05              0.000250"
      ]
     },
     "execution_count": 73,
     "metadata": {},
     "output_type": "execute_result"
    }
   ],
   "source": [
    "# Snow depth is also a input parameter - data collected from Dr. Xiao's article\n",
    "Snow_depth = pd.read_excel('/home/rk/ats_rk/testing/ats-demos/rk_model/Data/Data_Yakou/Yakou_met_data_ITP_rk/Final_data_excelsheet/Yakou_metstation_data_2017_snowdepth.xlsx',sheet_name='snow_depth',index_col=0, parse_dates=True) \n",
    "Snow_depth.head()"
   ]
  },
  {
   "cell_type": "code",
   "execution_count": 74,
   "id": "e49312b3",
   "metadata": {},
   "outputs": [
    {
     "data": {
      "text/plain": [
       "0.048606129032258055"
      ]
     },
     "execution_count": 74,
     "metadata": {},
     "output_type": "execute_result"
    }
   ],
   "source": [
    "# Calculating the average snow depth value in December:\n",
    "np.average(Snow_depth.loc['2017-12'])"
   ]
  },
  {
   "cell_type": "code",
   "execution_count": 75,
   "id": "5eaed42d",
   "metadata": {},
   "outputs": [],
   "source": [
    "# Filling the snow depth missing data with an average value\n",
    "\n",
    "#data_AWS_input_2017['Snow depth (in m)'] = data_AWS_syn_input['Snow depth (in m)'].fillna(0)\n",
    "\n",
    "Snow_depth = Snow_depth.fillna(np.average(Snow_depth.loc['2017-12']))"
   ]
  },
  {
   "cell_type": "code",
   "execution_count": 76,
   "id": "f18acd4e",
   "metadata": {},
   "outputs": [],
   "source": [
    "# Concatatenating all the dataframes for the year 2016, 2017, 2018, 2019.\n",
    "\n",
    "snow_depth_2016_2019 = np.concatenate([Snow_depth['Snow depth (m)'].values, Snow_depth['Snow depth (m)'].values, Snow_depth['Snow depth (m)'].values, Snow_depth['Snow depth (m)'].values])\n",
    "\n",
    "# Note: The year 2016 has 366 days, hence I am adding the Dec 31st value once more\n",
    "snow_depth_2016_2019 = np.insert(snow_depth_2016_2019, 366, Snow_depth['Snow depth (m)']['2017-12-31'])"
   ]
  },
  {
   "cell_type": "code",
   "execution_count": 77,
   "id": "33d15d3c",
   "metadata": {},
   "outputs": [
    {
     "data": {
      "text/plain": [
       "1461"
      ]
     },
     "execution_count": 77,
     "metadata": {},
     "output_type": "execute_result"
    }
   ],
   "source": [
    "len(snow_depth_2016_2019)"
   ]
  },
  {
   "cell_type": "code",
   "execution_count": 78,
   "id": "5d3d2cfb",
   "metadata": {},
   "outputs": [
    {
     "data": {
      "text/plain": [
       "DatetimeIndex(['2016-01-01', '2016-01-02', '2016-01-03', '2016-01-04',\n",
       "               '2016-01-05', '2016-01-06', '2016-01-07', '2016-01-08',\n",
       "               '2016-01-09', '2016-01-10',\n",
       "               ...\n",
       "               '2019-12-22', '2019-12-23', '2019-12-24', '2019-12-25',\n",
       "               '2019-12-26', '2019-12-27', '2019-12-28', '2019-12-29',\n",
       "               '2019-12-30', '2019-12-31'],\n",
       "              dtype='datetime64[ns]', length=1461, freq='D')"
      ]
     },
     "execution_count": 78,
     "metadata": {},
     "output_type": "execute_result"
    }
   ],
   "source": [
    "pd.date_range(start='1/1/2016',end='31/12/2019',freq='D')"
   ]
  },
  {
   "cell_type": "code",
   "execution_count": 79,
   "id": "aa79a3a9",
   "metadata": {},
   "outputs": [
    {
     "data": {
      "text/html": [
       "<div>\n",
       "<style scoped>\n",
       "    .dataframe tbody tr th:only-of-type {\n",
       "        vertical-align: middle;\n",
       "    }\n",
       "\n",
       "    .dataframe tbody tr th {\n",
       "        vertical-align: top;\n",
       "    }\n",
       "\n",
       "    .dataframe thead th {\n",
       "        text-align: right;\n",
       "    }\n",
       "</style>\n",
       "<table border=\"1\" class=\"dataframe\">\n",
       "  <thead>\n",
       "    <tr style=\"text-align: right;\">\n",
       "      <th></th>\n",
       "      <th>Snow depth (m)</th>\n",
       "    </tr>\n",
       "  </thead>\n",
       "  <tbody>\n",
       "    <tr>\n",
       "      <th>2016-01-01</th>\n",
       "      <td>0.000375</td>\n",
       "    </tr>\n",
       "    <tr>\n",
       "      <th>2016-01-02</th>\n",
       "      <td>0.000208</td>\n",
       "    </tr>\n",
       "    <tr>\n",
       "      <th>2016-01-03</th>\n",
       "      <td>0.000125</td>\n",
       "    </tr>\n",
       "    <tr>\n",
       "      <th>2016-01-04</th>\n",
       "      <td>0.000458</td>\n",
       "    </tr>\n",
       "    <tr>\n",
       "      <th>2016-01-05</th>\n",
       "      <td>0.000250</td>\n",
       "    </tr>\n",
       "  </tbody>\n",
       "</table>\n",
       "</div>"
      ],
      "text/plain": [
       "            Snow depth (m)\n",
       "2016-01-01        0.000375\n",
       "2016-01-02        0.000208\n",
       "2016-01-03        0.000125\n",
       "2016-01-04        0.000458\n",
       "2016-01-05        0.000250"
      ]
     },
     "execution_count": 79,
     "metadata": {},
     "output_type": "execute_result"
    }
   ],
   "source": [
    "# Creating a dataframe with four years of snow depth data\n",
    "\n",
    "# The snow depth dataframe with the same index\n",
    "Snow_depth_4_yrs = pd.DataFrame(index=pd.date_range(start='1/1/2016',end='31/12/2019',freq='D'),data = snow_depth_2016_2019, columns=['Snow depth (m)'])\n",
    "\n",
    "Snow_depth_4_yrs.head()"
   ]
  },
  {
   "cell_type": "markdown",
   "id": "36104fd0",
   "metadata": {},
   "source": [
    "#### To define the SWE, the following file was considered: http://webarchiv.ethz.ch/arolla/Arolla_Data/SnowConditions/depth_to_swe.pdf\n",
    "Snow water equivalent is the water content obtained from melting a sample of snow. Density is defined as the ratio of mass per unit volume. Since the mass of the sample is the same whether it is snow or water, the relationship can be expressed using the respective densities and volumes. \n",
    "\n",
    "Let $V_{snow}$ = the volume of the snow in the sample, $\\rho_{snow}$ = the density of the snow in the sample, V_{water} = the volume of the water when the sample is melted, $\\rho_{water}$ = the density of water.\n",
    "\n",
    "Since the mass of the sample in snow and water remains the same:\n",
    "\n",
    "$$ m_{water}  = m_{snow}$$\n",
    "\n",
    "$$ \\rho_{water} V_{water} = \\rho_{snow} V_{snow} $$\n",
    "\n",
    "Here, if the Area (A) is constant for both water and snow (it is!), then the $V_{water} = A * SWE$ and $V_{snow} = A * Z_s$ where SWE is the snow water equivalent, $Z_s$ is the depth of snow. We can now write the equation as\n",
    "\n",
    "$$ \\rho_{water} * A * SWE = \\rho_{snow} * A * Z_s$$\n",
    "\n",
    "Finally we have the equation:\n",
    "\n",
    "$$  SWE = \\frac{\\rho_{snow} * Z_s}{\\rho_{water}} $$\n",
    "\n",
    "Here we also need the SWE in $m s^{-1}$ --> $Z_s$ is in m/day. $\\rho_{water} = 1000 \\frac{kg}{m^3}$, $\\rho_{snow} = 1000 \\frac{kg}{m^3}$. \n",
    "\n",
    "Based on the link - https://www.sciencelearn.org.nz/resources/1391-snow-and-ice-density, and Atchley article 2015. Assuming a average snow density between 50 - 1000 $\\frac{kg}{m^3}$\n",
    "\n",
    "Ex: $$ SWE (m s^{-1}) = \\frac{450 * Z_s}{1000*86400} = 5.208E-06 * Z_s $$"
   ]
  },
  {
   "cell_type": "code",
   "execution_count": 115,
   "id": "62f495dc",
   "metadata": {},
   "outputs": [],
   "source": [
    "snow_dens_ratio = 0.2"
   ]
  },
  {
   "cell_type": "code",
   "execution_count": 116,
   "id": "ae88b00d",
   "metadata": {},
   "outputs": [
    {
     "data": {
      "text/html": [
       "<div>\n",
       "<style scoped>\n",
       "    .dataframe tbody tr th:only-of-type {\n",
       "        vertical-align: middle;\n",
       "    }\n",
       "\n",
       "    .dataframe tbody tr th {\n",
       "        vertical-align: top;\n",
       "    }\n",
       "\n",
       "    .dataframe thead th {\n",
       "        text-align: right;\n",
       "    }\n",
       "</style>\n",
       "<table border=\"1\" class=\"dataframe\">\n",
       "  <thead>\n",
       "    <tr style=\"text-align: right;\">\n",
       "      <th></th>\n",
       "      <th>Snow depth (m)</th>\n",
       "      <th>precipitation snow [m SWE s^-1]</th>\n",
       "    </tr>\n",
       "  </thead>\n",
       "  <tbody>\n",
       "    <tr>\n",
       "      <th>2016-01-01</th>\n",
       "      <td>0.000375</td>\n",
       "      <td>8.680556e-10</td>\n",
       "    </tr>\n",
       "    <tr>\n",
       "      <th>2016-01-02</th>\n",
       "      <td>0.000208</td>\n",
       "      <td>4.822523e-10</td>\n",
       "    </tr>\n",
       "    <tr>\n",
       "      <th>2016-01-03</th>\n",
       "      <td>0.000125</td>\n",
       "      <td>2.893519e-10</td>\n",
       "    </tr>\n",
       "    <tr>\n",
       "      <th>2016-01-04</th>\n",
       "      <td>0.000458</td>\n",
       "      <td>1.060956e-09</td>\n",
       "    </tr>\n",
       "    <tr>\n",
       "      <th>2016-01-05</th>\n",
       "      <td>0.000250</td>\n",
       "      <td>5.787037e-10</td>\n",
       "    </tr>\n",
       "    <tr>\n",
       "      <th>...</th>\n",
       "      <td>...</td>\n",
       "      <td>...</td>\n",
       "    </tr>\n",
       "    <tr>\n",
       "      <th>2019-12-27</th>\n",
       "      <td>0.050770</td>\n",
       "      <td>1.175231e-07</td>\n",
       "    </tr>\n",
       "    <tr>\n",
       "      <th>2019-12-28</th>\n",
       "      <td>0.049060</td>\n",
       "      <td>1.135648e-07</td>\n",
       "    </tr>\n",
       "    <tr>\n",
       "      <th>2019-12-29</th>\n",
       "      <td>0.048640</td>\n",
       "      <td>1.125926e-07</td>\n",
       "    </tr>\n",
       "    <tr>\n",
       "      <th>2019-12-30</th>\n",
       "      <td>0.055130</td>\n",
       "      <td>1.276157e-07</td>\n",
       "    </tr>\n",
       "    <tr>\n",
       "      <th>2019-12-31</th>\n",
       "      <td>0.050080</td>\n",
       "      <td>1.159259e-07</td>\n",
       "    </tr>\n",
       "  </tbody>\n",
       "</table>\n",
       "<p>1461 rows × 2 columns</p>\n",
       "</div>"
      ],
      "text/plain": [
       "            Snow depth (m)  precipitation snow [m SWE s^-1]\n",
       "2016-01-01        0.000375                     8.680556e-10\n",
       "2016-01-02        0.000208                     4.822523e-10\n",
       "2016-01-03        0.000125                     2.893519e-10\n",
       "2016-01-04        0.000458                     1.060956e-09\n",
       "2016-01-05        0.000250                     5.787037e-10\n",
       "...                    ...                              ...\n",
       "2019-12-27        0.050770                     1.175231e-07\n",
       "2019-12-28        0.049060                     1.135648e-07\n",
       "2019-12-29        0.048640                     1.125926e-07\n",
       "2019-12-30        0.055130                     1.276157e-07\n",
       "2019-12-31        0.050080                     1.159259e-07\n",
       "\n",
       "[1461 rows x 2 columns]"
      ]
     },
     "execution_count": 116,
     "metadata": {},
     "output_type": "execute_result"
    }
   ],
   "source": [
    "Snow_depth_4_yrs['precipitation snow [m SWE s^-1]'] = Snow_depth_4_yrs['Snow depth (m)']*(snow_dens_ratio/86400)\n",
    "\n",
    "Snow_depth_4_yrs"
   ]
  },
  {
   "cell_type": "code",
   "execution_count": 117,
   "id": "fed19587",
   "metadata": {},
   "outputs": [
    {
     "data": {
      "text/plain": [
       "'/home/rk/ats_rk/testing/ats-demos/rk_model/Case5_III_finaltest'"
      ]
     },
     "execution_count": 117,
     "metadata": {},
     "output_type": "execute_result"
    }
   ],
   "source": [
    "os.getcwd()"
   ]
  },
  {
   "cell_type": "code",
   "execution_count": 118,
   "id": "f6d4c733",
   "metadata": {},
   "outputs": [],
   "source": [
    "os.chdir('/home/rk/ats_rk/testing/ats-demos/rk_model/Case5_III_finaltest')"
   ]
  },
  {
   "cell_type": "code",
   "execution_count": 119,
   "id": "b43aa46a",
   "metadata": {},
   "outputs": [],
   "source": [
    "# Storing the data in a seperate dataframe\n",
    "data_SWE_input_calib = Snow_depth_4_yrs['2016':'2018']"
   ]
  },
  {
   "cell_type": "code",
   "execution_count": 120,
   "id": "4aec5ca2",
   "metadata": {},
   "outputs": [],
   "source": [
    "# Opening the input file\n",
    "hf_input = h5py.File('Snow_depth_data/SWE_2016_2018.h5','w')"
   ]
  },
  {
   "cell_type": "code",
   "execution_count": 121,
   "id": "c87502f2",
   "metadata": {},
   "outputs": [
    {
     "data": {
      "text/plain": [
       "1096"
      ]
     },
     "execution_count": 121,
     "metadata": {},
     "output_type": "execute_result"
    }
   ],
   "source": [
    "# Creating a variable with time instances for 1096 days\n",
    "no_days = len(data_SWE_input_calib) # Total number of days\n",
    "no_secs_day = 86400 # Total number of seconds in a day\n",
    "times = np.arange(0,no_days*no_secs_day,no_secs_day)\n",
    "len(times)"
   ]
  },
  {
   "cell_type": "code",
   "execution_count": 122,
   "id": "4370d1b3",
   "metadata": {},
   "outputs": [
    {
     "data": {
      "text/plain": [
       "<HDF5 dataset \"precipitation snow [m SWE s^-1]\": shape (1096,), type \"<f8\">"
      ]
     },
     "execution_count": 122,
     "metadata": {},
     "output_type": "execute_result"
    }
   ],
   "source": [
    "# Changing the storage to numpy array\n",
    "hf_input.create_dataset('time [s]', data=times)\n",
    "hf_input.create_dataset('precipitation snow [m SWE s^-1]', data=data_SWE_input_calib['precipitation snow [m SWE s^-1]'].values)"
   ]
  },
  {
   "cell_type": "code",
   "execution_count": 123,
   "id": "6825a2bf",
   "metadata": {},
   "outputs": [],
   "source": [
    "hf_input.close()"
   ]
  },
  {
   "cell_type": "code",
   "execution_count": 124,
   "id": "ce7a303f",
   "metadata": {},
   "outputs": [
    {
     "name": "stdout",
     "output_type": "stream",
     "text": [
      "List of datasets in this file: \n",
      " \n",
      " ['precipitation snow [m SWE s^-1]', 'time [s]']\n",
      "\n",
      "\n",
      "[8.68055556e-10 4.82252315e-10 2.89351852e-10 ... 1.12592593e-07\n",
      " 1.27615741e-07 1.15925926e-07]\n",
      "1096\n"
     ]
    }
   ],
   "source": [
    "### Reading the file once more to check\n",
    "### Extracting the data from the example 'column_data.h5'.  \n",
    "with h5py.File(f'Snow_depth_data/SWE_2016_2018.h5','r') as hdf:\n",
    "    ls = list(hdf.keys())\n",
    "    print('List of datasets in this file: \\n \\n', ls)\n",
    "    print('\\n')\n",
    "    print(np.array(hdf.get('precipitation snow [m SWE s^-1]')))\n",
    "    print(len(np.array(hdf.get('precipitation snow [m SWE s^-1]'))))\n",
    "    sd_02 = np.array(hdf.get('precipitation snow [m SWE s^-1]'))\n",
    "\n",
    "    #temperature_column = np.array(hdf.get('temperature.cell.0/1600'))"
   ]
  },
  {
   "cell_type": "code",
   "execution_count": 94,
   "id": "72d1930b",
   "metadata": {},
   "outputs": [
    {
     "data": {
      "text/plain": [
       "array([1.95312500e-09, 1.08506771e-09, 6.51041667e-10, ...,\n",
       "       2.53333333e-07, 2.87135417e-07, 2.60833333e-07])"
      ]
     },
     "execution_count": 94,
     "metadata": {},
     "output_type": "execute_result"
    }
   ],
   "source": [
    "sd_045"
   ]
  },
  {
   "cell_type": "code",
   "execution_count": 27,
   "id": "6460255f",
   "metadata": {},
   "outputs": [],
   "source": [
    "# 1. To find the snow density from the xml file\n",
    "filename = f'{file_name}.xml'\n",
    "line_sd = 1011\n",
    "\n",
    "with open(f'{filename}') as oldfile:\n",
    "            for line, content in enumerate(oldfile):\n",
    "                if line == line_sd: # Line 603 (+1) has the porosity_peat \n",
    "                    sd_line = str(content)\n",
    "                    result = re.findall('\\\".*?\\\"', sd_line)\n",
    "                    #print(result)\n",
    "                    snow_dens_ratio = float(result[2].replace('\"',''))\n",
    "                    #print(snow_density_ratio)\n",
    "\n",
    "\n",
    "\n",
    "# Snow depth is also a input parameter - data collected from Dr. Xiao's article\n",
    "Snow_depth = pd.read_excel('/home/rk/ats_rk/testing/ats-demos/rk_model/Data/Data_Yakou/Yakou_met_data_ITP_rk/Final_data_excelsheet/Yakou_metstation_data_2017_snowdepth.xlsx',sheet_name='snow_depth',index_col=0, parse_dates=True) \n",
    "\n",
    "# Filling the snow depth missing data with an average value\n",
    "Snow_depth = Snow_depth.fillna(np.average(Snow_depth.loc['2017-12']))\n",
    "# Snow depth is also a input parameter - data collected from Dr. Xiao's article\n",
    "Snow_depth = pd.read_excel('/home/rk/ats_rk/testing/ats-demos/rk_model/Data/Data_Yakou/Yakou_met_data_ITP_rk/Final_data_excelsheet/Yakou_metstation_data_2017_snowdepth.xlsx',sheet_name='snow_depth',index_col=0, parse_dates=True) \n",
    "\n",
    "# Filling the snow depth missing data with an average value\n",
    "Snow_depth = Snow_depth.fillna(np.average(Snow_depth.loc['2017-12']))\n",
    "\n",
    "# Concatatenating all the dataframes for the year 2016, 2017, 2018, 2019.\n",
    "\n",
    "snow_depth_2016_2019 = np.concatenate([Snow_depth['Snow depth (m)'].values, Snow_depth['Snow depth (m)'].values, Snow_depth['Snow depth (m)'].values, Snow_depth['Snow depth (m)'].values])\n",
    "\n",
    "# Note: The year 2016 has 366 days, hence I am adding the Dec 31st value once more\n",
    "snow_depth_2016_2019 = np.insert(snow_depth_2016_2019, 366, Snow_depth['Snow depth (m)']['2017-12-31'])\n",
    "\n",
    "# Creating a dataframe with four years of snow depth data\n",
    "\n",
    "# The snow depth dataframe with the same index\n",
    "Snow_depth_4_yrs = pd.DataFrame(index=pd.date_range(start='1/1/2016',end='31/12/2019',freq='D'),data = snow_depth_2016_2019, columns=['Snow depth (m)'])\n",
    "\n",
    "# Calculating the snow water equivalent\n",
    "Snow_depth_4_yrs['precipitation snow [m SWE s^-1]'] = Snow_depth_4_yrs['Snow depth (m)']*(snow_dens_ratio/86400)\n",
    "\n",
    "# Storing the data in a seperate dataframe\n",
    "data_SWE_input_calib = Snow_depth_4_yrs['2016':'2018']\n",
    "\n",
    "# Opening the input file\n",
    "hf_input = h5py.File('Snow_depth_data/SWE_2016_2018.h5','w')\n",
    "\n",
    "# Creating a variable with time instances for 1096 days\n",
    "no_days = len(data_SWE_input_calib) # Total number of days\n",
    "no_secs_day = 86400 # Total number of seconds in a day\n",
    "times = np.arange(0,no_days*no_secs_day,no_secs_day)\n",
    "len(times)\n",
    "\n",
    "# Changing the storage to numpy array\n",
    "hf_input.create_dataset('time [s]', data=times)\n",
    "hf_input.create_dataset('precipitation snow [m SWE s^-1]', data=data_SWE_input_calib['precipitation snow [m SWE s^-1]'].values)\n",
    "\n",
    "hf_input.close()"
   ]
  },
  {
   "cell_type": "code",
   "execution_count": 28,
   "id": "43b6d51c",
   "metadata": {},
   "outputs": [
    {
     "name": "stdout",
     "output_type": "stream",
     "text": [
      "List of datasets in this file: \n",
      " \n",
      " ['precipitation snow [m SWE s^-1]', 'time [s]']\n",
      "\n",
      "\n",
      "[1.95312500e-09 1.08506771e-09 6.51041667e-10 ... 2.53333333e-07\n",
      " 2.87135417e-07 2.60833333e-07]\n",
      "1096\n"
     ]
    }
   ],
   "source": [
    "### Reading the file once more to check\n",
    "### Extracting the data from the example 'column_data.h5'.  \n",
    "with h5py.File(f'Snow_depth_data/SWE_2016_2018.h5','r') as hdf:\n",
    "    ls = list(hdf.keys())\n",
    "    print('List of datasets in this file: \\n \\n', ls)\n",
    "    print('\\n')\n",
    "    print(np.array(hdf.get('precipitation snow [m SWE s^-1]')))\n",
    "    print(len(np.array(hdf.get('precipitation snow [m SWE s^-1]'))))\n",
    "    sd_045_itr = np.array(hdf.get('precipitation snow [m SWE s^-1]'))\n",
    "\n",
    "    #temperature_column = np.array(hdf.get('temperature.cell.0/1600'))"
   ]
  },
  {
   "cell_type": "code",
   "execution_count": 29,
   "id": "5b6ba3cb",
   "metadata": {},
   "outputs": [
    {
     "data": {
      "text/plain": [
       "[<matplotlib.lines.Line2D at 0x7f86c86d6460>]"
      ]
     },
     "execution_count": 29,
     "metadata": {},
     "output_type": "execute_result"
    },
    {
     "data": {
      "image/png": "[encoded data removed]",
      "text/plain": [
       "<Figure size 432x288 with 1 Axes>"
      ]
     },
     "metadata": {
      "needs_background": "light"
     },
     "output_type": "display_data"
    }
   ],
   "source": [
    "#plt.plot(sd_01)\n",
    "#plt.plot(sd_02)\n",
    "plt.plot(sd_045_itr)\n",
    "plt.plot(sd_01_itr)"
   ]
  },
  {
   "cell_type": "markdown",
   "id": "46fc24b9",
   "metadata": {},
   "source": [
    "### Makre sure that the initial value of snow density is the same for also the generated h5 file"
   ]
  },
  {
   "cell_type": "markdown",
   "id": "3f4b2db0",
   "metadata": {},
   "source": [
    "### Extracting the snow density value from the xml file"
   ]
  },
  {
   "cell_type": "code",
   "execution_count": null,
   "id": "54598872",
   "metadata": {},
   "outputs": [],
   "source": []
  },
  {
   "cell_type": "code",
   "execution_count": null,
   "id": "5f4045dd",
   "metadata": {},
   "outputs": [],
   "source": []
  }
 ],
 "metadata": {
  "kernelspec": {
   "display_name": "Python 3",
   "language": "python",
   "name": "python3"
  },
  "language_info": {
   "codemirror_mode": {
    "name": "ipython",
    "version": 3
   },
   "file_extension": ".py",
   "mimetype": "text/x-python",
   "name": "python",
   "nbconvert_exporter": "python",
   "pygments_lexer": "ipython3",
   "version": "3.8.8"
  }
 },
 "nbformat": 4,
 "nbformat_minor": 5
}
