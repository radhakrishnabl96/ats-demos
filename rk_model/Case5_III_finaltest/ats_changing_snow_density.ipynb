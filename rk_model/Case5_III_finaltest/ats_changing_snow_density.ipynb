{
 "cells": [
  {
   "cell_type": "code",
   "execution_count": 49,
   "id": "aa8cda78",
   "metadata": {},
   "outputs": [],
   "source": [
    "%matplotlib inline\n",
    "import sys, os\n",
    "import numpy as np\n",
    "from matplotlib import rcParams\n",
    "import matplotlib.pyplot as plt"
   ]
  },
  {
   "cell_type": "code",
   "execution_count": 50,
   "id": "c40a1166",
   "metadata": {},
   "outputs": [],
   "source": [
    "%matplotlib inline\n",
    "import sys,os\n",
    "import colors\n",
    "import numpy as np\n",
    "import matplotlib.cm\n",
    "from matplotlib import pyplot as plt\n",
    "import matplotlib.gridspec as gridspec\n",
    "import h5py\n",
    "import pandas as pd\n",
    "from datetime import datetime\n",
    "import matplotlib.image as mpimg\n",
    "from matplotlib.dates import DateFormatter\n",
    "import matplotlib.dates as dates"
   ]
  },
  {
   "cell_type": "code",
   "execution_count": 51,
   "id": "3e4b9a16",
   "metadata": {},
   "outputs": [
    {
     "data": {
      "text/plain": [
       "'/home/rk/.local/share/Trash/files/Case5_III_C_3yrs_testsd.xml.demo'"
      ]
     },
     "execution_count": 51,
     "metadata": {},
     "output_type": "execute_result"
    }
   ],
   "source": [
    "import os\n"
   ]
  },
  {
   "cell_type": "code",
   "execution_count": 52,
   "id": "54f518d5",
   "metadata": {},
   "outputs": [],
   "source": [
    "os.chdir('/home/rk/ats_rk/testing/ats-demos/rk_model/Case5_III_finaltest')"
   ]
  },
  {
   "cell_type": "code",
   "execution_count": 53,
   "id": "ee8f4d4f",
   "metadata": {},
   "outputs": [
    {
     "data": {
      "text/plain": [
       "'/home/rk/ats_rk/testing/ats-demos/rk_model/Case5_III_finaltest'"
      ]
     },
     "execution_count": 53,
     "metadata": {},
     "output_type": "execute_result"
    }
   ],
   "source": [
    "os.getcwd()"
   ]
  },
  {
   "cell_type": "code",
   "execution_count": 54,
   "id": "262d27f3",
   "metadata": {},
   "outputs": [],
   "source": [
    "import h5py\n",
    "import pandas as pd\n",
    "import numpy as np\n",
    "import matplotlib.pyplot as plt\n",
    "import colors\n",
    "import matplotlib.cm\n",
    "from matplotlib import pyplot as plt\n",
    "import seaborn as sns\n",
    "import matplotlib.gridspec as gridspec"
   ]
  },
  {
   "cell_type": "code",
   "execution_count": 55,
   "id": "90c4d351",
   "metadata": {},
   "outputs": [],
   "source": [
    "import os\n",
    "import subprocess\n",
    "import shutil\n",
    "import fileinput\n",
    "import time"
   ]
  },
  {
   "cell_type": "code",
   "execution_count": 56,
   "id": "ecfd2c2c",
   "metadata": {},
   "outputs": [],
   "source": [
    "file_name = 'Case5_III_C_3yrs_testsd'"
   ]
  },
  {
   "cell_type": "code",
   "execution_count": 57,
   "id": "2a22e2bf",
   "metadata": {},
   "outputs": [
    {
     "data": {
      "text/plain": [
       "0"
      ]
     },
     "execution_count": 57,
     "metadata": {},
     "output_type": "execute_result"
    }
   ],
   "source": [
    "# Making a test directory \n",
    "os.system('mkdir testsd.demo')"
   ]
  },
  {
   "cell_type": "code",
   "execution_count": 58,
   "id": "e8542a59",
   "metadata": {},
   "outputs": [],
   "source": [
    "os.chdir('testsd.demo')"
   ]
  },
  {
   "cell_type": "code",
   "execution_count": null,
   "id": "2aafe25f",
   "metadata": {},
   "outputs": [],
   "source": [
    "# Running ats command\n",
    "os.system(f\"ats --xml_file=../{file_name}.xml\")"
   ]
  },
  {
   "cell_type": "code",
   "execution_count": 44,
   "id": "141380fb",
   "metadata": {},
   "outputs": [],
   "source": [
    "os.chdir('..')"
   ]
  },
  {
   "cell_type": "code",
   "execution_count": 45,
   "id": "f6e5f61c",
   "metadata": {},
   "outputs": [
    {
     "data": {
      "text/plain": [
       "'Case5_III_C_3yrs_testsd'"
      ]
     },
     "execution_count": 45,
     "metadata": {},
     "output_type": "execute_result"
    }
   ],
   "source": [
    "file_name"
   ]
  },
  {
   "cell_type": "code",
   "execution_count": 46,
   "id": "76fe0e46",
   "metadata": {},
   "outputs": [],
   "source": [
    "def ats_run(file_name):\n",
    "    \"\"\"\n",
    "    Function that calls & reproduces the command line options for executing ats. It involves mainly the following steps:\n",
    "    1. Creating a demo directory : mkdir output_file_name.demo\n",
    "    2. 'cd' into the demo directory : cd out_file_name.demo\n",
    "    3. Excecuting the ats command : ats --xml_file=../input_file_name.xml &>out.log\n",
    "    \n",
    "    Note: To execute the command - Please be in the directory where the input xml file is present.\n",
    "    \n",
    "    Parameters:\n",
    "    \n",
    "    -----\n",
    "    INPUT\n",
    "    \n",
    "    file_name : string\n",
    "    \n",
    "    The input xml file name and the directory name (both are the same). Ex: infiltration\n",
    "    \n",
    "    \n",
    "    -----\n",
    "    OUTPUT:\n",
    "    \n",
    "    Runs the ats command and dumps all the outputs in file_name_i.demo\n",
    "    \n",
    "    \"\"\"\n",
    "    # Removing the directory if it exists\n",
    "    if os.path.isdir(f'{file_name}.demo/'):\n",
    "        shutil.rmtree(f'{file_name}.demo/')\n",
    "    \n",
    "    # Making a new directory\n",
    "    os.mkdir(f'{file_name}.demo')\n",
    "    \n",
    "    # Changing the directory to the demo directory\n",
    "    os.chdir(f'{file_name}.demo/')\n",
    "    \n",
    "    # Running the ats command\n",
    "    ats_command = f\"ats --xml_file=../{file_name}.xml >out.log\"\n",
    "    \n",
    "    os.system(ats_command)\n",
    "    #output = os.popen(ats_command).read()\n",
    "    \n",
    "    #return output\n",
    "    \n",
    "    "
   ]
  },
  {
   "cell_type": "code",
   "execution_count": 28,
   "id": "d402f24e",
   "metadata": {},
   "outputs": [],
   "source": [
    "output = ats_run(file_name)"
   ]
  },
  {
   "cell_type": "code",
   "execution_count": 47,
   "id": "07382552",
   "metadata": {},
   "outputs": [
    {
     "data": {
      "text/plain": [
       "'/home/rk/.local/share/Trash/files/Case5_III_C_3yrs_testsd.xml.demo'"
      ]
     },
     "execution_count": 47,
     "metadata": {},
     "output_type": "execute_result"
    }
   ],
   "source": [
    "os.getcwd()"
   ]
  },
  {
   "cell_type": "code",
   "execution_count": 22,
   "id": "906e438a",
   "metadata": {},
   "outputs": [],
   "source": [
    "os.chdir('..')"
   ]
  },
  {
   "cell_type": "code",
   "execution_count": 31,
   "id": "4510efba",
   "metadata": {},
   "outputs": [
    {
     "data": {
      "text/plain": [
       "'/home/rk/ats_rk/testing/ats-demos/rk_model/Case5_III_finaltest/Case5_III_C_3yrs_testsd.xml.demo'"
      ]
     },
     "execution_count": 31,
     "metadata": {},
     "output_type": "execute_result"
    }
   ],
   "source": [
    "os.getcwd()"
   ]
  },
  {
   "cell_type": "code",
   "execution_count": 33,
   "id": "0d59a1fa",
   "metadata": {},
   "outputs": [
    {
     "data": {
      "text/plain": [
       "256"
      ]
     },
     "execution_count": 33,
     "metadata": {},
     "output_type": "execute_result"
    }
   ],
   "source": [
    "ats_command = f\"ats --xml_file=../{file_name}.xml\"\n",
    "    \n",
    "os.system(ats_command)"
   ]
  },
  {
   "cell_type": "code",
   "execution_count": null,
   "id": "90732638",
   "metadata": {},
   "outputs": [],
   "source": []
  }
 ],
 "metadata": {
  "kernelspec": {
   "display_name": "Python 3",
   "language": "python",
   "name": "python3"
  },
  "language_info": {
   "codemirror_mode": {
    "name": "ipython",
    "version": 3
   },
   "file_extension": ".py",
   "mimetype": "text/x-python",
   "name": "python",
   "nbconvert_exporter": "python",
   "pygments_lexer": "ipython3",
   "version": "3.8.8"
  }
 },
 "nbformat": 4,
 "nbformat_minor": 5
}
