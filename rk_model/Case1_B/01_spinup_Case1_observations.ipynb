{
 "cells": [
  {
   "cell_type": "markdown",
   "id": "8d2f4292",
   "metadata": {},
   "source": [
    "### The following notebook accomplishes the following things:\n",
    "1. Extracts the results from the observations file \n",
    "2. Creates the input file for initial conditions based on the spinup observations"
   ]
  },
  {
   "cell_type": "code",
   "execution_count": 3,
   "id": "e84c4a51",
   "metadata": {},
   "outputs": [],
   "source": [
    "%matplotlib inline\n",
    "import sys,os\n",
    "\n",
    "sys.path.append(os.path.join(os.environ['ATS_SRC_DIR'],'tools', 'utils'))\n",
    "#sys.path.append(os.path.join('/home/rk/ats_rk/amanzi/src/physics/ats/tools/utils'))\n",
    "import ats_xdmf\n",
    "import plot_column_data\n",
    "import colors\n",
    "import numpy as np\n",
    "import matplotlib.cm\n",
    "from matplotlib import pyplot as plt\n",
    "import h5py\n",
    "import pandas as pd"
   ]
  },
  {
   "cell_type": "markdown",
   "id": "19b7025e",
   "metadata": {},
   "source": [
    "#### 1. Extracts the results from the observations file "
   ]
  },
  {
   "cell_type": "code",
   "execution_count": 4,
   "id": "3ba2de90",
   "metadata": {},
   "outputs": [],
   "source": [
    "### Reading the observation files:\n",
    "file_observation = '/home/rk/ats_rk/testing/ats-demos/rk_model/01_spinup_Case1/01_spinup_Case1_obs.demo/observation.dat'\n",
    "\n",
    "\n",
    "# https://stackoverflow.com/questions/11968998/remove-lines-that-contain-certain-string\n",
    "remove_hashs = ['#']\n",
    "\n",
    "# Opening the observation.dat file, \n",
    "# removing the lines with a hash and storing it in a new file - observation_2.dat\n",
    "with open(f'{file_observation}') as oldfile, open('observation_2.dat', 'w') as newfile:\n",
    "    for line in oldfile:\n",
    "        if not any(remove_hash in line for remove_hash in remove_hashs):\n",
    "            newfile.write(line)"
   ]
  },
  {
   "cell_type": "code",
   "execution_count": 5,
   "id": "eb9665eb",
   "metadata": {},
   "outputs": [
    {
     "data": {
      "text/html": [
       "<div>\n",
       "<style scoped>\n",
       "    .dataframe tbody tr th:only-of-type {\n",
       "        vertical-align: middle;\n",
       "    }\n",
       "\n",
       "    .dataframe tbody tr th {\n",
       "        vertical-align: top;\n",
       "    }\n",
       "\n",
       "    .dataframe thead th {\n",
       "        text-align: right;\n",
       "    }\n",
       "</style>\n",
       "<table border=\"1\" class=\"dataframe\">\n",
       "  <thead>\n",
       "    <tr style=\"text-align: right;\">\n",
       "      <th></th>\n",
       "      <th>time [s]</th>\n",
       "      <th>water content [mol]</th>\n",
       "      <th>point -0.01 temperature [K]</th>\n",
       "      <th>point -0.04 temperature [K]</th>\n",
       "      <th>point -0.1 temperature [K]</th>\n",
       "      <th>point -0.2 temperature [K]</th>\n",
       "      <th>point -0.4 temperature [K]</th>\n",
       "      <th>point -0.8 temperature [K]</th>\n",
       "      <th>point -1.2 temperature [K]</th>\n",
       "      <th>point -1.6 temperature [K]</th>\n",
       "      <th>point -0.01 saturation liquid</th>\n",
       "      <th>point -0.04 saturation liquid</th>\n",
       "      <th>point -0.1 saturation liquid</th>\n",
       "      <th>point -0.2 saturation liquid</th>\n",
       "      <th>point -0.4 saturation liquid</th>\n",
       "      <th>point -0.8 saturation liquid</th>\n",
       "      <th>point -1.2 saturation liquid</th>\n",
       "      <th>point -1.6 saturation liquid</th>\n",
       "      <th>time [days]</th>\n",
       "    </tr>\n",
       "    <tr>\n",
       "      <th>time [days]</th>\n",
       "      <th></th>\n",
       "      <th></th>\n",
       "      <th></th>\n",
       "      <th></th>\n",
       "      <th></th>\n",
       "      <th></th>\n",
       "      <th></th>\n",
       "      <th></th>\n",
       "      <th></th>\n",
       "      <th></th>\n",
       "      <th></th>\n",
       "      <th></th>\n",
       "      <th></th>\n",
       "      <th></th>\n",
       "      <th></th>\n",
       "      <th></th>\n",
       "      <th></th>\n",
       "      <th></th>\n",
       "      <th></th>\n",
       "    </tr>\n",
       "  </thead>\n",
       "  <tbody>\n",
       "    <tr>\n",
       "      <th>0.0</th>\n",
       "      <td>0.000000e+00</td>\n",
       "      <td>1.197080e+06</td>\n",
       "      <td>273.650000</td>\n",
       "      <td>273.650000</td>\n",
       "      <td>273.650000</td>\n",
       "      <td>273.650000</td>\n",
       "      <td>273.650000</td>\n",
       "      <td>273.650000</td>\n",
       "      <td>273.650000</td>\n",
       "      <td>273.650000</td>\n",
       "      <td>0.250403</td>\n",
       "      <td>0.250609</td>\n",
       "      <td>0.667544</td>\n",
       "      <td>0.669844</td>\n",
       "      <td>0.673885</td>\n",
       "      <td>0.681067</td>\n",
       "      <td>0.688853</td>\n",
       "      <td>0.700604</td>\n",
       "      <td>0.0</td>\n",
       "    </tr>\n",
       "    <tr>\n",
       "      <th>2.0</th>\n",
       "      <td>1.728000e+05</td>\n",
       "      <td>1.197080e+06</td>\n",
       "      <td>273.650000</td>\n",
       "      <td>273.650000</td>\n",
       "      <td>273.650000</td>\n",
       "      <td>273.650000</td>\n",
       "      <td>273.650000</td>\n",
       "      <td>273.650000</td>\n",
       "      <td>273.650000</td>\n",
       "      <td>273.650000</td>\n",
       "      <td>0.250404</td>\n",
       "      <td>0.250610</td>\n",
       "      <td>0.667544</td>\n",
       "      <td>0.669845</td>\n",
       "      <td>0.673885</td>\n",
       "      <td>0.681067</td>\n",
       "      <td>0.688853</td>\n",
       "      <td>0.700605</td>\n",
       "      <td>2.0</td>\n",
       "    </tr>\n",
       "    <tr>\n",
       "      <th>4.0</th>\n",
       "      <td>3.456000e+05</td>\n",
       "      <td>1.197080e+06</td>\n",
       "      <td>273.650000</td>\n",
       "      <td>273.650000</td>\n",
       "      <td>273.650000</td>\n",
       "      <td>273.650000</td>\n",
       "      <td>273.650000</td>\n",
       "      <td>273.650000</td>\n",
       "      <td>273.650000</td>\n",
       "      <td>273.650000</td>\n",
       "      <td>0.250404</td>\n",
       "      <td>0.250610</td>\n",
       "      <td>0.667545</td>\n",
       "      <td>0.669845</td>\n",
       "      <td>0.673885</td>\n",
       "      <td>0.681068</td>\n",
       "      <td>0.688853</td>\n",
       "      <td>0.700605</td>\n",
       "      <td>4.0</td>\n",
       "    </tr>\n",
       "    <tr>\n",
       "      <th>6.0</th>\n",
       "      <td>5.184000e+05</td>\n",
       "      <td>1.197080e+06</td>\n",
       "      <td>273.650000</td>\n",
       "      <td>273.650000</td>\n",
       "      <td>273.650000</td>\n",
       "      <td>273.650000</td>\n",
       "      <td>273.650000</td>\n",
       "      <td>273.650000</td>\n",
       "      <td>273.650000</td>\n",
       "      <td>273.650000</td>\n",
       "      <td>0.250404</td>\n",
       "      <td>0.250610</td>\n",
       "      <td>0.667545</td>\n",
       "      <td>0.669845</td>\n",
       "      <td>0.673885</td>\n",
       "      <td>0.681068</td>\n",
       "      <td>0.688853</td>\n",
       "      <td>0.700605</td>\n",
       "      <td>6.0</td>\n",
       "    </tr>\n",
       "    <tr>\n",
       "      <th>8.0</th>\n",
       "      <td>6.912000e+05</td>\n",
       "      <td>1.197080e+06</td>\n",
       "      <td>273.650000</td>\n",
       "      <td>273.650000</td>\n",
       "      <td>273.650000</td>\n",
       "      <td>273.650000</td>\n",
       "      <td>273.650000</td>\n",
       "      <td>273.650000</td>\n",
       "      <td>273.650000</td>\n",
       "      <td>273.650000</td>\n",
       "      <td>0.250404</td>\n",
       "      <td>0.250610</td>\n",
       "      <td>0.667545</td>\n",
       "      <td>0.669845</td>\n",
       "      <td>0.673885</td>\n",
       "      <td>0.681068</td>\n",
       "      <td>0.688853</td>\n",
       "      <td>0.700605</td>\n",
       "      <td>8.0</td>\n",
       "    </tr>\n",
       "    <tr>\n",
       "      <th>...</th>\n",
       "      <td>...</td>\n",
       "      <td>...</td>\n",
       "      <td>...</td>\n",
       "      <td>...</td>\n",
       "      <td>...</td>\n",
       "      <td>...</td>\n",
       "      <td>...</td>\n",
       "      <td>...</td>\n",
       "      <td>...</td>\n",
       "      <td>...</td>\n",
       "      <td>...</td>\n",
       "      <td>...</td>\n",
       "      <td>...</td>\n",
       "      <td>...</td>\n",
       "      <td>...</td>\n",
       "      <td>...</td>\n",
       "      <td>...</td>\n",
       "      <td>...</td>\n",
       "      <td>...</td>\n",
       "    </tr>\n",
       "    <tr>\n",
       "      <th>365242.0</th>\n",
       "      <td>3.155691e+10</td>\n",
       "      <td>1.197087e+06</td>\n",
       "      <td>264.149999</td>\n",
       "      <td>264.149999</td>\n",
       "      <td>264.149999</td>\n",
       "      <td>264.149999</td>\n",
       "      <td>264.149999</td>\n",
       "      <td>264.149999</td>\n",
       "      <td>264.149999</td>\n",
       "      <td>264.149999</td>\n",
       "      <td>0.074298</td>\n",
       "      <td>0.074298</td>\n",
       "      <td>0.222189</td>\n",
       "      <td>0.222190</td>\n",
       "      <td>0.222190</td>\n",
       "      <td>0.222190</td>\n",
       "      <td>0.222190</td>\n",
       "      <td>0.222190</td>\n",
       "      <td>365242.0</td>\n",
       "    </tr>\n",
       "    <tr>\n",
       "      <th>365244.0</th>\n",
       "      <td>3.155708e+10</td>\n",
       "      <td>1.197087e+06</td>\n",
       "      <td>264.149999</td>\n",
       "      <td>264.149999</td>\n",
       "      <td>264.149999</td>\n",
       "      <td>264.149999</td>\n",
       "      <td>264.149999</td>\n",
       "      <td>264.149999</td>\n",
       "      <td>264.149999</td>\n",
       "      <td>264.149999</td>\n",
       "      <td>0.074298</td>\n",
       "      <td>0.074298</td>\n",
       "      <td>0.222189</td>\n",
       "      <td>0.222190</td>\n",
       "      <td>0.222190</td>\n",
       "      <td>0.222190</td>\n",
       "      <td>0.222190</td>\n",
       "      <td>0.222190</td>\n",
       "      <td>365244.0</td>\n",
       "    </tr>\n",
       "    <tr>\n",
       "      <th>365246.0</th>\n",
       "      <td>3.155725e+10</td>\n",
       "      <td>1.197087e+06</td>\n",
       "      <td>264.149999</td>\n",
       "      <td>264.149999</td>\n",
       "      <td>264.149999</td>\n",
       "      <td>264.149999</td>\n",
       "      <td>264.149999</td>\n",
       "      <td>264.149999</td>\n",
       "      <td>264.149999</td>\n",
       "      <td>264.149999</td>\n",
       "      <td>0.074298</td>\n",
       "      <td>0.074298</td>\n",
       "      <td>0.222189</td>\n",
       "      <td>0.222190</td>\n",
       "      <td>0.222190</td>\n",
       "      <td>0.222190</td>\n",
       "      <td>0.222190</td>\n",
       "      <td>0.222190</td>\n",
       "      <td>365246.0</td>\n",
       "    </tr>\n",
       "    <tr>\n",
       "      <th>365248.0</th>\n",
       "      <td>3.155743e+10</td>\n",
       "      <td>1.197087e+06</td>\n",
       "      <td>264.149999</td>\n",
       "      <td>264.149999</td>\n",
       "      <td>264.149999</td>\n",
       "      <td>264.149999</td>\n",
       "      <td>264.149999</td>\n",
       "      <td>264.149999</td>\n",
       "      <td>264.149999</td>\n",
       "      <td>264.149999</td>\n",
       "      <td>0.074298</td>\n",
       "      <td>0.074298</td>\n",
       "      <td>0.222189</td>\n",
       "      <td>0.222190</td>\n",
       "      <td>0.222190</td>\n",
       "      <td>0.222190</td>\n",
       "      <td>0.222190</td>\n",
       "      <td>0.222190</td>\n",
       "      <td>365248.0</td>\n",
       "    </tr>\n",
       "    <tr>\n",
       "      <th>365250.0</th>\n",
       "      <td>3.155760e+10</td>\n",
       "      <td>1.197087e+06</td>\n",
       "      <td>264.149999</td>\n",
       "      <td>264.149999</td>\n",
       "      <td>264.149999</td>\n",
       "      <td>264.149999</td>\n",
       "      <td>264.149999</td>\n",
       "      <td>264.149999</td>\n",
       "      <td>264.149999</td>\n",
       "      <td>264.149999</td>\n",
       "      <td>0.074298</td>\n",
       "      <td>0.074298</td>\n",
       "      <td>0.222189</td>\n",
       "      <td>0.222190</td>\n",
       "      <td>0.222190</td>\n",
       "      <td>0.222190</td>\n",
       "      <td>0.222190</td>\n",
       "      <td>0.222190</td>\n",
       "      <td>365250.0</td>\n",
       "    </tr>\n",
       "  </tbody>\n",
       "</table>\n",
       "<p>182626 rows × 19 columns</p>\n",
       "</div>"
      ],
      "text/plain": [
       "                 time [s]  water content [mol]  point -0.01 temperature [K]  \\\n",
       "time [days]                                                                   \n",
       "0.0          0.000000e+00         1.197080e+06                   273.650000   \n",
       "2.0          1.728000e+05         1.197080e+06                   273.650000   \n",
       "4.0          3.456000e+05         1.197080e+06                   273.650000   \n",
       "6.0          5.184000e+05         1.197080e+06                   273.650000   \n",
       "8.0          6.912000e+05         1.197080e+06                   273.650000   \n",
       "...                   ...                  ...                          ...   \n",
       "365242.0     3.155691e+10         1.197087e+06                   264.149999   \n",
       "365244.0     3.155708e+10         1.197087e+06                   264.149999   \n",
       "365246.0     3.155725e+10         1.197087e+06                   264.149999   \n",
       "365248.0     3.155743e+10         1.197087e+06                   264.149999   \n",
       "365250.0     3.155760e+10         1.197087e+06                   264.149999   \n",
       "\n",
       "             point -0.04 temperature [K]  point -0.1 temperature [K]  \\\n",
       "time [days]                                                            \n",
       "0.0                           273.650000                  273.650000   \n",
       "2.0                           273.650000                  273.650000   \n",
       "4.0                           273.650000                  273.650000   \n",
       "6.0                           273.650000                  273.650000   \n",
       "8.0                           273.650000                  273.650000   \n",
       "...                                  ...                         ...   \n",
       "365242.0                      264.149999                  264.149999   \n",
       "365244.0                      264.149999                  264.149999   \n",
       "365246.0                      264.149999                  264.149999   \n",
       "365248.0                      264.149999                  264.149999   \n",
       "365250.0                      264.149999                  264.149999   \n",
       "\n",
       "             point -0.2 temperature [K]  point -0.4 temperature [K]  \\\n",
       "time [days]                                                           \n",
       "0.0                          273.650000                  273.650000   \n",
       "2.0                          273.650000                  273.650000   \n",
       "4.0                          273.650000                  273.650000   \n",
       "6.0                          273.650000                  273.650000   \n",
       "8.0                          273.650000                  273.650000   \n",
       "...                                 ...                         ...   \n",
       "365242.0                     264.149999                  264.149999   \n",
       "365244.0                     264.149999                  264.149999   \n",
       "365246.0                     264.149999                  264.149999   \n",
       "365248.0                     264.149999                  264.149999   \n",
       "365250.0                     264.149999                  264.149999   \n",
       "\n",
       "             point -0.8 temperature [K]  point -1.2 temperature [K]  \\\n",
       "time [days]                                                           \n",
       "0.0                          273.650000                  273.650000   \n",
       "2.0                          273.650000                  273.650000   \n",
       "4.0                          273.650000                  273.650000   \n",
       "6.0                          273.650000                  273.650000   \n",
       "8.0                          273.650000                  273.650000   \n",
       "...                                 ...                         ...   \n",
       "365242.0                     264.149999                  264.149999   \n",
       "365244.0                     264.149999                  264.149999   \n",
       "365246.0                     264.149999                  264.149999   \n",
       "365248.0                     264.149999                  264.149999   \n",
       "365250.0                     264.149999                  264.149999   \n",
       "\n",
       "             point -1.6 temperature [K]  point -0.01 saturation liquid  \\\n",
       "time [days]                                                              \n",
       "0.0                          273.650000                       0.250403   \n",
       "2.0                          273.650000                       0.250404   \n",
       "4.0                          273.650000                       0.250404   \n",
       "6.0                          273.650000                       0.250404   \n",
       "8.0                          273.650000                       0.250404   \n",
       "...                                 ...                            ...   \n",
       "365242.0                     264.149999                       0.074298   \n",
       "365244.0                     264.149999                       0.074298   \n",
       "365246.0                     264.149999                       0.074298   \n",
       "365248.0                     264.149999                       0.074298   \n",
       "365250.0                     264.149999                       0.074298   \n",
       "\n",
       "             point -0.04 saturation liquid  point -0.1 saturation liquid  \\\n",
       "time [days]                                                                \n",
       "0.0                               0.250609                      0.667544   \n",
       "2.0                               0.250610                      0.667544   \n",
       "4.0                               0.250610                      0.667545   \n",
       "6.0                               0.250610                      0.667545   \n",
       "8.0                               0.250610                      0.667545   \n",
       "...                                    ...                           ...   \n",
       "365242.0                          0.074298                      0.222189   \n",
       "365244.0                          0.074298                      0.222189   \n",
       "365246.0                          0.074298                      0.222189   \n",
       "365248.0                          0.074298                      0.222189   \n",
       "365250.0                          0.074298                      0.222189   \n",
       "\n",
       "             point -0.2 saturation liquid  point -0.4 saturation liquid  \\\n",
       "time [days]                                                               \n",
       "0.0                              0.669844                      0.673885   \n",
       "2.0                              0.669845                      0.673885   \n",
       "4.0                              0.669845                      0.673885   \n",
       "6.0                              0.669845                      0.673885   \n",
       "8.0                              0.669845                      0.673885   \n",
       "...                                   ...                           ...   \n",
       "365242.0                         0.222190                      0.222190   \n",
       "365244.0                         0.222190                      0.222190   \n",
       "365246.0                         0.222190                      0.222190   \n",
       "365248.0                         0.222190                      0.222190   \n",
       "365250.0                         0.222190                      0.222190   \n",
       "\n",
       "             point -0.8 saturation liquid  point -1.2 saturation liquid  \\\n",
       "time [days]                                                               \n",
       "0.0                              0.681067                      0.688853   \n",
       "2.0                              0.681067                      0.688853   \n",
       "4.0                              0.681068                      0.688853   \n",
       "6.0                              0.681068                      0.688853   \n",
       "8.0                              0.681068                      0.688853   \n",
       "...                                   ...                           ...   \n",
       "365242.0                         0.222190                      0.222190   \n",
       "365244.0                         0.222190                      0.222190   \n",
       "365246.0                         0.222190                      0.222190   \n",
       "365248.0                         0.222190                      0.222190   \n",
       "365250.0                         0.222190                      0.222190   \n",
       "\n",
       "             point -1.6 saturation liquid  time [days]  \n",
       "time [days]                                             \n",
       "0.0                              0.700604          0.0  \n",
       "2.0                              0.700605          2.0  \n",
       "4.0                              0.700605          4.0  \n",
       "6.0                              0.700605          6.0  \n",
       "8.0                              0.700605          8.0  \n",
       "...                                   ...          ...  \n",
       "365242.0                         0.222190     365242.0  \n",
       "365244.0                         0.222190     365244.0  \n",
       "365246.0                         0.222190     365246.0  \n",
       "365248.0                         0.222190     365248.0  \n",
       "365250.0                         0.222190     365250.0  \n",
       "\n",
       "[182626 rows x 19 columns]"
      ]
     },
     "execution_count": 5,
     "metadata": {},
     "output_type": "execute_result"
    }
   ],
   "source": [
    "# Reading the csv file \n",
    "df_observation = pd.read_csv('observation_2.dat',sep=' ')\n",
    "df_observation['time [days]'] = df_observation['time [s]']/86400\n",
    "df_observation.index = df_observation['time [days]']\n",
    "\n",
    "df_observation"
   ]
  },
  {
   "cell_type": "markdown",
   "id": "e767a20e",
   "metadata": {},
   "source": [
    "#### Plotting the values \n",
    "##### 1. Subsurface temperature"
   ]
  },
  {
   "cell_type": "code",
   "execution_count": 33,
   "id": "d2bd2a32",
   "metadata": {},
   "outputs": [
    {
     "data": {
      "image/png": "[encoded data removed]",
      "text/plain": [
       "<Figure size 1008x576 with 1 Axes>"
      ]
     },
     "metadata": {
      "needs_background": "light"
     },
     "output_type": "display_data"
    }
   ],
   "source": [
    "plt.figure(figsize=(14,8))\n",
    "plt.title('Plotting soil temperature [K]')\n",
    "plt.plot(df_observation['point -0.01 temperature [K]'][:1000],label='0.01 m')\n",
    "plt.plot(df_observation['point -0.04 temperature [K]'][:1000],label='0.04 m')\n",
    "plt.plot(df_observation['point -0.2 temperature [K]'][:1000],label='0.2 m')\n",
    "plt.plot(df_observation['point -0.4 temperature [K]'][:1000],label='0.4 m')\n",
    "plt.plot(df_observation['point -0.8 temperature [K]'][:1000],label='0.8 m')\n",
    "plt.plot(df_observation['point -1.2 temperature [K]'][:1000],label='1.2 m')\n",
    "plt.plot(df_observation['point -1.6 temperature [K]'][:1000],label='1.6 m')\n",
    "\n",
    "plt.ylabel('Temperature (K)')\n",
    "#plt.gca().xaxis.set_major_formatter(mdates.DateFormatter('%m-%d'))\n",
    "plt.xlabel('Date (days)')\n",
    "plt.legend()\n",
    "plt.grid(True)"
   ]
  },
  {
   "cell_type": "markdown",
   "id": "f8863206",
   "metadata": {},
   "source": [
    "#### Plotting the values \n",
    "##### 2. Saturation of liquid"
   ]
  },
  {
   "cell_type": "code",
   "execution_count": 35,
   "id": "fdb084ad",
   "metadata": {},
   "outputs": [
    {
     "data": {
      "image/png": "[encoded data removed]",
      "text/plain": [
       "<Figure size 1008x576 with 1 Axes>"
      ]
     },
     "metadata": {
      "needs_background": "light"
     },
     "output_type": "display_data"
    }
   ],
   "source": [
    "plt.figure(figsize=(14,8))\n",
    "plt.title('Plotting soil saturation liquid')\n",
    "plt.plot(df_observation['point -0.01 saturation liquid'],label='0.01 m')\n",
    "plt.plot(df_observation['point -0.04 saturation liquid'],label='0.04 m')\n",
    "plt.plot(df_observation['point -0.2 saturation liquid'],label='0.2 m')\n",
    "plt.plot(df_observation['point -0.4 saturation liquid'],label='0.4 m')\n",
    "plt.plot(df_observation['point -0.8 saturation liquid'],label='0.8 m')\n",
    "plt.plot(df_observation['point -1.2 saturation liquid'],label='1.2 m')\n",
    "plt.plot(df_observation['point -1.6 saturation liquid'],label='1.6 m')\n",
    "\n",
    "plt.ylabel('Saturation of liquid (%)')\n",
    "#plt.gca().xaxis.set_major_formatter(mdates.DateFormatter('%m-%d'))\n",
    "plt.xlabel('Date (days)')\n",
    "plt.legend()\n",
    "plt.grid(True)"
   ]
  },
  {
   "cell_type": "markdown",
   "id": "219e14b7",
   "metadata": {},
   "source": [
    "#### 2. Creates the input file for initial conditions based on the spinup observations."
   ]
  },
  {
   "cell_type": "code",
   "execution_count": 6,
   "id": "385f2ff0",
   "metadata": {},
   "outputs": [
    {
     "name": "stdout",
     "output_type": "stream",
     "text": [
      "[     0    100    200 ... 182400 182500 182600]\n"
     ]
    }
   ],
   "source": [
    "file_name = '/home/rk/ats_rk/testing/ats-demos/rk_model/01_spinup_Case1/01_spinup_Case1_obs.demo'\n",
    "with h5py.File(f'{file_name}/ats_vis_data.h5','r') as hdf:\n",
    "        # Cell_volume\n",
    "        cell_volume_all = np.array(hdf.get(f'cell_volume.cell.0'))\n",
    "        time_period = cell_volume_all.astype('int64')\n",
    "        ### Sorting the dataframes \n",
    "        time_period.sort()\n",
    "        print(time_period)"
   ]
  },
  {
   "cell_type": "code",
   "execution_count": 10,
   "id": "d0963c4b",
   "metadata": {
    "scrolled": true
   },
   "outputs": [
    {
     "name": "stdout",
     "output_type": "stream",
     "text": [
      "List of datasets in this file: \n",
      " \n",
      " ['pressure', 'temperature', 'z']\n",
      "\n",
      "\n",
      "[-5715161.38222217   -38288.94464055  -137009.46125349  -303729.94754876\n",
      "  -604598.55774324 -1359991.77832471 -2596737.52666966 -4390081.79553017\n",
      " -5899925.38370772 -2201592.7919399   -395567.94691654  -208693.39087789\n",
      "  -106984.41961357   -37649.29204946    10003.73100321    42614.18374259\n",
      "    65039.79466325    80682.27302661    92311.972959     227998.28604975\n",
      "   368520.8505223    425196.35995214   448699.98231278   456942.84785056\n",
      "   457954.83533019   456061.82400295   453760.93426082   452489.32873421\n",
      "   453140.85676651   456234.79638825   462026.32667192   470512.04506409\n",
      "   481399.31851633   494122.28984047   507898.01614843   521834.60226221\n",
      "   535075.99445141   546946.19192434   557048.06020229   565285.52361617\n",
      "   571808.38943001   576910.11783969   580922.4326558    584140.76186134\n",
      "   586791.28979156   589030.36787342   590959.58325265   592643.21104279\n",
      "   594122.35191633   595428.49402298   596724.59935131   598094.34855195\n",
      "   599489.12732094   600841.80867424   602064.06554894   603034.73063983\n",
      "   603585.25734359   603484.59260296   602422.40935469   599993.10799053\n",
      "   595685.75154042   588892.47374856   578964.44866947   565340.443106\n",
      "   547874.66082685   519960.65392395   483277.51914584   499000.97353468\n",
      "   522463.05298979   548872.63242427   590454.7009482    634092.33731699\n",
      "   679128.24345649   722437.48963968   766911.1972307    814897.13297787\n",
      "   864673.39133867   918400.63260349   973568.32261358  1025076.45544736\n",
      "  1078398.15557556  1142725.0850995   1230015.24939873  1362605.55107787\n",
      "  1495237.41259135]\n",
      "[253.68008384 253.81752996 253.92027393 254.03031469 254.15000698\n",
      " 254.28515666 254.44303683 254.62807515 254.83941475 255.02850646\n",
      " 255.16772065 255.28335601 255.39076687 255.49201928 255.5882779\n",
      " 255.68061948 255.77003254 255.85736616 255.94328361 256.02823543\n",
      " 256.11253967 256.19638293 256.27982083 256.36287508 256.44555466\n",
      " 256.52786252 256.60979836 256.69136004 256.77254434 256.85334745\n",
      " 256.93376527 257.01379363 257.09342859 257.17266668 257.25150509\n",
      " 257.32994187 257.40797588 257.48560675 257.56283459 257.6396598\n",
      " 257.71608273 257.79210359 257.86772233 257.94293863 258.017752\n",
      " 258.09216178 258.16616725 258.23976764 258.31296215 258.38574999\n",
      " 258.46536891 258.56026491 258.67320653 258.80738819 258.96645819\n",
      " 259.15452643 259.37613645 259.63617774 259.93970279 260.291596\n",
      " 260.69601944 261.15553185 261.66975016 262.23341467 262.83377828\n",
      " 263.67087641 264.8010387  265.2796724  264.86908336 264.38323936\n",
      " 264.06993336 263.96132648 263.97229492 264.02301582 264.07264577\n",
      " 264.10797095 264.12914937 264.14041952 264.14588343 264.14833443\n",
      " 264.14936224 264.14976809 264.14991988 264.1499742  264.14999413]\n",
      "[1.00000000e-02 3.00000000e-02 5.00000000e-02 7.00000000e-02\n",
      " 9.00000000e-02 1.10000000e-01 1.30000000e-01 1.50000000e-01\n",
      " 1.70000000e-01 1.90000000e-01 2.10000000e-01 2.30000000e-01\n",
      " 2.50000000e-01 2.70000000e-01 2.90000000e-01 3.10000000e-01\n",
      " 3.30000000e-01 3.50000000e-01 3.70000000e-01 3.90000000e-01\n",
      " 4.10000000e-01 4.30000000e-01 4.50000000e-01 4.70000000e-01\n",
      " 4.90000000e-01 5.10000000e-01 5.30000000e-01 5.50000000e-01\n",
      " 5.70000000e-01 5.90000000e-01 6.10000000e-01 6.30000000e-01\n",
      " 6.50000000e-01 6.70000000e-01 6.90000000e-01 7.10000000e-01\n",
      " 7.30000000e-01 7.50000000e-01 7.70000000e-01 7.90000000e-01\n",
      " 8.10000000e-01 8.30000000e-01 8.50000000e-01 8.70000000e-01\n",
      " 8.90000000e-01 9.10000000e-01 9.30000000e-01 9.50000000e-01\n",
      " 9.70000000e-01 9.90000000e-01 1.01200000e+00 1.03840000e+00\n",
      " 1.07008000e+00 1.10809600e+00 1.15371520e+00 1.20845824e+00\n",
      " 1.27414989e+00 1.35297987e+00 1.44757584e+00 1.56109101e+00\n",
      " 1.69730921e+00 1.86077105e+00 2.05692526e+00 2.29231031e+00\n",
      " 2.57477237e+00 3.03698302e+00 3.96140431e+00 5.48140431e+00\n",
      " 7.28884259e+00 9.09628086e+00 1.10000000e+01 1.30000000e+01\n",
      " 1.50000000e+01 1.70000000e+01 1.90000000e+01 2.10000000e+01\n",
      " 2.30000000e+01 2.50000000e+01 2.70000000e+01 2.90000000e+01\n",
      " 3.10000000e+01 3.30000000e+01 3.50000000e+01 3.70000000e+01\n",
      " 3.90000000e+01]\n"
     ]
    }
   ],
   "source": [
    "### Extracting the data from the example 'column_data.h5'.  \n",
    "with h5py.File(f'column_data.h5','r') as hdf:\n",
    "    ls = list(hdf.keys())\n",
    "    print('List of datasets in this file: \\n \\n', ls)\n",
    "    print('\\n')\n",
    "    pressure_column = np.array(hdf.get('pressure'))\n",
    "    print(pressure_column)\n",
    "    print(np.array(hdf.get('temperature')))\n",
    "    z_column = np.array(hdf.get('z'))\n",
    "    print(np.array(hdf.get('z')))"
   ]
  },
  {
   "cell_type": "code",
   "execution_count": 13,
   "id": "0ab227a8",
   "metadata": {},
   "outputs": [
    {
     "data": {
      "text/plain": [
       "85"
      ]
     },
     "execution_count": 13,
     "metadata": {},
     "output_type": "execute_result"
    }
   ],
   "source": [
    "len(z_column)"
   ]
  },
  {
   "cell_type": "code",
   "execution_count": 27,
   "id": "f46bc5a7",
   "metadata": {},
   "outputs": [
    {
     "data": {
      "text/plain": [
       "array([1.00000000e-02, 3.00000000e-02, 5.00000000e-02, 7.00000000e-02,\n",
       "       9.00000000e-02, 1.10000000e-01, 1.30000000e-01, 1.50000000e-01,\n",
       "       1.70000000e-01, 1.90000000e-01, 2.10000000e-01, 2.30000000e-01,\n",
       "       2.50000000e-01, 2.70000000e-01, 2.90000000e-01, 3.10000000e-01,\n",
       "       3.30000000e-01, 3.50000000e-01, 3.70000000e-01, 3.90000000e-01,\n",
       "       4.10000000e-01, 4.30000000e-01, 4.50000000e-01, 4.70000000e-01,\n",
       "       4.90000000e-01, 5.10000000e-01, 5.30000000e-01, 5.50000000e-01,\n",
       "       5.70000000e-01, 5.90000000e-01, 6.10000000e-01, 6.30000000e-01,\n",
       "       6.50000000e-01, 6.70000000e-01, 6.90000000e-01, 7.10000000e-01,\n",
       "       7.30000000e-01, 7.50000000e-01, 7.70000000e-01, 7.90000000e-01,\n",
       "       8.10000000e-01, 8.30000000e-01, 8.50000000e-01, 8.70000000e-01,\n",
       "       8.90000000e-01, 9.10000000e-01, 9.30000000e-01, 9.50000000e-01,\n",
       "       9.70000000e-01, 9.90000000e-01, 1.01200000e+00, 1.03840000e+00,\n",
       "       1.07008000e+00, 1.10809600e+00, 1.15371520e+00, 1.20845824e+00,\n",
       "       1.27414989e+00, 1.35297987e+00, 1.44757584e+00, 1.56109101e+00,\n",
       "       1.69730921e+00, 1.86077105e+00, 2.05692526e+00, 2.29231031e+00,\n",
       "       2.57477237e+00, 3.03698302e+00, 3.96140431e+00, 5.48140431e+00,\n",
       "       7.28884259e+00, 9.09628086e+00, 1.10000000e+01, 1.30000000e+01,\n",
       "       1.50000000e+01, 1.70000000e+01, 1.90000000e+01, 2.10000000e+01,\n",
       "       2.30000000e+01, 2.50000000e+01, 2.70000000e+01, 2.90000000e+01,\n",
       "       3.10000000e+01, 3.30000000e+01, 3.50000000e+01, 3.70000000e+01,\n",
       "       3.90000000e+01])"
      ]
     },
     "execution_count": 27,
     "metadata": {},
     "output_type": "execute_result"
    }
   ],
   "source": [
    "z_column"
   ]
  },
  {
   "cell_type": "code",
   "execution_count": 14,
   "id": "13a352b1",
   "metadata": {},
   "outputs": [],
   "source": [
    "# The following data 'layerdepthcentroid_hillslope.csv' was extracted from the meshing files\n",
    "dz_hillslope = pd.read_csv('/home/rk/ats_rk/testing/ats-demos/rk_model/Data/layerdepthcentroid_hillslope.csv')\n",
    "z = dz_hillslope['layer_depth']\n",
    "\n",
    "# Adding a bunch of cells to reach 45 m with 40 cells\n",
    "dz = 1.4\n",
    "i = len(z)\n",
    "total_depth = z[26]\n",
    "while total_depth < 45:\n",
    "    z[i] = z[i - 1] + dz\n",
    "    total_depth += dz\n",
    "    i += 1"
   ]
  },
  {
   "cell_type": "code",
   "execution_count": 15,
   "id": "222ec876",
   "metadata": {},
   "outputs": [
    {
     "data": {
      "text/plain": [
       "0    0.006000\n",
       "1    0.019200\n",
       "2    0.035040\n",
       "3    0.054048\n",
       "4    0.076858\n",
       "Name: layer_depth, dtype: float64"
      ]
     },
     "execution_count": 15,
     "metadata": {},
     "output_type": "execute_result"
    }
   ],
   "source": [
    "z.head()"
   ]
  },
  {
   "cell_type": "markdown",
   "id": "8cc62174",
   "metadata": {},
   "source": [
    "##### Cycle number - 400 \n",
    "* Checked the results with respect to paraview \n",
    "* At the 400th cycle number, the saturation of ice reaches close to 1 m."
   ]
  },
  {
   "cell_type": "code",
   "execution_count": 16,
   "id": "bf0b4ddc",
   "metadata": {},
   "outputs": [],
   "source": [
    "# Creating the input file: First creating a pandas dataframe and then converted to header file.\n",
    "\n",
    "directory = '/home/rk/ats_rk/testing/ats-demos/rk_model/01_spinup_Case1/01_spinup_Case1_obs.demo'\n",
    "\n",
    "### Extracting the data from the example 'column_data.h5'.  \n",
    "with h5py.File(f'{directory}/ats_vis_data.h5','r') as hdf:\n",
    "    ls = list(hdf.keys())\n",
    "    #print('List of datasets in this file: \\n \\n', ls)\n",
    "    #print('\\n')\n",
    "     \n",
    "    # Checked the results with respect to paraview \n",
    "    # At the 400th cycle number, the saturation of ice reaches close to 1 m.\n",
    "    pressure_column = np.array(hdf.get('pressure.cell.0/400'))\n",
    "    temperature_column = np.array(hdf.get('temperature.cell.0/400'))   "
   ]
  },
  {
   "cell_type": "code",
   "execution_count": 17,
   "id": "54ab1b62",
   "metadata": {},
   "outputs": [],
   "source": [
    "hf_input = h5py.File('IC_column_data_400.h5','w')"
   ]
  },
  {
   "cell_type": "code",
   "execution_count": 18,
   "id": "90c1526f",
   "metadata": {},
   "outputs": [
    {
     "data": {
      "text/plain": [
       "<HDF5 dataset \"temperature\": shape (40, 1), type \"<f8\">"
      ]
     },
     "execution_count": 18,
     "metadata": {},
     "output_type": "execute_result"
    }
   ],
   "source": [
    "hf_input.create_dataset('z',data=z)\n",
    "hf_input.create_dataset('pressure',data=pressure_column)\n",
    "hf_input.create_dataset('temperature',data=temperature_column)"
   ]
  },
  {
   "cell_type": "code",
   "execution_count": 19,
   "id": "ac648ff3",
   "metadata": {},
   "outputs": [],
   "source": [
    "hf_input.close()"
   ]
  },
  {
   "cell_type": "code",
   "execution_count": 20,
   "id": "b034ba87",
   "metadata": {},
   "outputs": [
    {
     "name": "stdout",
     "output_type": "stream",
     "text": [
      "List of datasets in this file: \n",
      " \n",
      " ['pressure', 'temperature', 'z']\n",
      "\n",
      "\n"
     ]
    }
   ],
   "source": [
    "### Reading the file once more \n",
    "### Extracting the data from the example 'column_data.h5'.  \n",
    "with h5py.File(f'IC_column_data_400.h5','r') as hdf:\n",
    "    ls = list(hdf.keys())\n",
    "    print('List of datasets in this file: \\n \\n', ls)\n",
    "    print('\\n')\n",
    "    pressure_column = np.array(hdf.get('pressure'))\n",
    "    #print(pressure_column)\n",
    "    #temperature_column = np.array(hdf.get('temperature.cell.0/1600'))"
   ]
  },
  {
   "cell_type": "code",
   "execution_count": 21,
   "id": "c42574d9",
   "metadata": {},
   "outputs": [
    {
     "data": {
      "text/plain": [
       "[<matplotlib.lines.Line2D at 0x7f1360deba30>]"
      ]
     },
     "execution_count": 21,
     "metadata": {},
     "output_type": "execute_result"
    },
    {
     "data": {
      "image/png": "[encoded data removed]",
      "text/plain": [
       "<Figure size 432x288 with 1 Axes>"
      ]
     },
     "metadata": {
      "needs_background": "light"
     },
     "output_type": "display_data"
    }
   ],
   "source": [
    "plt.plot(pressure_column, z)"
   ]
  },
  {
   "cell_type": "code",
   "execution_count": 22,
   "id": "25528893",
   "metadata": {},
   "outputs": [
    {
     "data": {
      "text/plain": [
       "[<matplotlib.lines.Line2D at 0x7f1360d4a9a0>]"
      ]
     },
     "execution_count": 22,
     "metadata": {},
     "output_type": "execute_result"
    },
    {
     "data": {
      "image/png": "[encoded data removed]",
      "text/plain": [
       "<Figure size 432x288 with 1 Axes>"
      ]
     },
     "metadata": {
      "needs_background": "light"
     },
     "output_type": "display_data"
    }
   ],
   "source": [
    "plt.plot(temperature_column, z)"
   ]
  },
  {
   "cell_type": "code",
   "execution_count": 23,
   "id": "6dc12bf0",
   "metadata": {},
   "outputs": [
    {
     "data": {
      "text/plain": [
       "[<matplotlib.lines.Line2D at 0x7f1360d2f0a0>]"
      ]
     },
     "execution_count": 23,
     "metadata": {},
     "output_type": "execute_result"
    },
    {
     "data": {
      "image/png": "[encoded data removed]",
      "text/plain": [
       "<Figure size 432x288 with 1 Axes>"
      ]
     },
     "metadata": {
      "needs_background": "light"
     },
     "output_type": "display_data"
    }
   ],
   "source": [
    "plt.plot(z)"
   ]
  },
  {
   "cell_type": "markdown",
   "id": "3bfa66e0",
   "metadata": {},
   "source": [
    "##### For the last cycle number - 182600"
   ]
  },
  {
   "cell_type": "code",
   "execution_count": 24,
   "id": "ba8b49ca",
   "metadata": {},
   "outputs": [
    {
     "name": "stdout",
     "output_type": "stream",
     "text": [
      "[[3714781.93078202]\n",
      " [3714150.95549412]\n",
      " [3712300.21421232]\n",
      " [3168446.52322115]\n",
      " [3167420.55372769]\n",
      " [3165786.4942035 ]\n",
      " [3163396.59610867]\n",
      " [3160157.60925273]\n",
      " [3156095.70970546]\n",
      " [3151404.01960176]\n",
      " [3146402.76033901]\n",
      " [3141357.0068994 ]\n",
      " [3136230.30752043]\n",
      " [3130579.36501833]\n",
      " [3123629.65779101]\n",
      " [3114325.58896068]\n",
      " [3101231.47321683]\n",
      " [3082311.38104959]\n",
      " [3054598.39147517]\n",
      " [3013697.53953879]\n",
      " [2953027.51513152]\n",
      " [2854563.10832537]\n",
      " [2679102.98934333]\n",
      " [2362807.67110268]\n",
      " [1833661.63990697]\n",
      " [1144385.41497924]\n",
      " [ 695205.07520895]\n",
      " [ 676085.24514531]\n",
      " [ 720934.29118163]\n",
      " [ 769917.74255422]\n",
      " [ 820825.94941246]\n",
      " [ 873172.83061623]\n",
      " [ 925995.77968893]\n",
      " [ 979385.9327306 ]\n",
      " [1033990.24735336]\n",
      " [1091796.24590128]\n",
      " [1155350.771179  ]\n",
      " [1230403.38749792]\n",
      " [1331804.02012808]\n",
      " [1474757.12742547]]\n"
     ]
    }
   ],
   "source": [
    "# Creating the input file: First creating a pandas dataframe and then converted to header file.\n",
    "\n",
    "directory = '/home/rk/ats_rk/testing/ats-demos/rk_model/01_spinup_Case1/01_spinup_Case1_obs.demo'\n",
    "\n",
    "### Extracting the data from the example 'column_data.h5'.  \n",
    "with h5py.File(f'{directory}/ats_vis_data.h5','r') as hdf:\n",
    "    ls = list(hdf.keys())\n",
    "    #print('List of datasets in this file: \\n \\n', ls)\n",
    "    #print('\\n')\n",
    "     \n",
    "    # Checked the results with respect to paraview \n",
    "    # The last cycle number is 1826\n",
    "    pressure_column_182600 = np.array(hdf.get('pressure.cell.0/182600'))\n",
    "    temperature_column_182600 = np.array(hdf.get('temperature.cell.0/182600'))   \n",
    "    print(pressure_column_182600)"
   ]
  },
  {
   "cell_type": "code",
   "execution_count": 118,
   "id": "819dd182",
   "metadata": {},
   "outputs": [],
   "source": [
    "hf_input = h5py.File('IC_column_data_182600.h5','w')"
   ]
  },
  {
   "cell_type": "code",
   "execution_count": 119,
   "id": "9d86108d",
   "metadata": {},
   "outputs": [
    {
     "data": {
      "text/plain": [
       "<HDF5 dataset \"temperature\": shape (40, 1), type \"<f8\">"
      ]
     },
     "execution_count": 119,
     "metadata": {},
     "output_type": "execute_result"
    }
   ],
   "source": [
    "hf_input.create_dataset('z',data=z)\n",
    "hf_input.create_dataset('pressure',data=pressure_column_182600)\n",
    "hf_input.create_dataset('temperature',data=temperature_column_182600)"
   ]
  },
  {
   "cell_type": "code",
   "execution_count": 120,
   "id": "60fefb08",
   "metadata": {},
   "outputs": [],
   "source": [
    "hf_input.close()"
   ]
  },
  {
   "cell_type": "code",
   "execution_count": 121,
   "id": "f4adc32e",
   "metadata": {},
   "outputs": [
    {
     "name": "stdout",
     "output_type": "stream",
     "text": [
      "List of datasets in this file: \n",
      " \n",
      " ['pressure', 'temperature', 'z']\n",
      "\n",
      "\n"
     ]
    }
   ],
   "source": [
    "### Reading the file once more \n",
    "### Extracting the data from the example 'column_data.h5'.  \n",
    "with h5py.File(f'IC_column_data_182600.h5','r') as hdf:\n",
    "    ls = list(hdf.keys())\n",
    "    print('List of datasets in this file: \\n \\n', ls)\n",
    "    print('\\n')\n",
    "    pressure_column = np.array(hdf.get('pressure'))\n",
    "    #print(pressure_column)\n",
    "    #temperature_column = np.array(hdf.get('temperature.cell.0/1600'))"
   ]
  },
  {
   "cell_type": "code",
   "execution_count": 126,
   "id": "d127a8c0",
   "metadata": {},
   "outputs": [
    {
     "data": {
      "text/plain": [
       "<matplotlib.legend.Legend at 0x7fd030f660a0>"
      ]
     },
     "execution_count": 126,
     "metadata": {},
     "output_type": "execute_result"
    },
    {
     "data": {
      "image/png": "[encoded data removed]",
      "text/plain": [
       "<Figure size 432x288 with 1 Axes>"
      ]
     },
     "metadata": {
      "needs_background": "light"
     },
     "output_type": "display_data"
    }
   ],
   "source": [
    "#plt.plot(pressure_column, z)\n",
    "plt.plot(pressure_column, z,label='At 400th cycle number')\n",
    "plt.plot(pressure_column_182600, z,label='At 182600th cycle number')\n",
    "plt.legend()"
   ]
  },
  {
   "cell_type": "code",
   "execution_count": 128,
   "id": "d1638716",
   "metadata": {},
   "outputs": [
    {
     "data": {
      "text/plain": [
       "<matplotlib.legend.Legend at 0x7fd030e9bfa0>"
      ]
     },
     "execution_count": 128,
     "metadata": {},
     "output_type": "execute_result"
    },
    {
     "data": {
      "image/png": "[encoded data removed]",
      "text/plain": [
       "<Figure size 432x288 with 1 Axes>"
      ]
     },
     "metadata": {
      "needs_background": "light"
     },
     "output_type": "display_data"
    }
   ],
   "source": [
    "#plt.plot(pressure_column, z)\n",
    "plt.plot(temperature_column, z,label='At 400th cycle number')\n",
    "plt.plot(temperature_column_182600, z,label='At 182600th cycle number')\n",
    "plt.legend()"
   ]
  },
  {
   "cell_type": "code",
   "execution_count": null,
   "id": "871923c0",
   "metadata": {},
   "outputs": [],
   "source": []
  }
 ],
 "metadata": {
  "kernelspec": {
   "display_name": "Python 3",
   "language": "python",
   "name": "python3"
  },
  "language_info": {
   "codemirror_mode": {
    "name": "ipython",
    "version": 3
   },
   "file_extension": ".py",
   "mimetype": "text/x-python",
   "name": "python",
   "nbconvert_exporter": "python",
   "pygments_lexer": "ipython3",
   "version": "3.8.8"
  }
 },
 "nbformat": 4,
 "nbformat_minor": 5
}
