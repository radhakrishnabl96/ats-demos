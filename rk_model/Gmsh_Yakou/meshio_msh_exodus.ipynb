{
 "cells": [
  {
   "cell_type": "code",
   "execution_count": 9,
   "id": "5f9da3c1",
   "metadata": {},
   "outputs": [],
   "source": [
    "import meshio"
   ]
  },
  {
   "cell_type": "code",
   "execution_count": 12,
   "id": "15e2141e",
   "metadata": {},
   "outputs": [
    {
     "ename": "NameError",
     "evalue": "name 'yakou_mesh' is not defined",
     "output_type": "error",
     "traceback": [
      "\u001b[0;31m---------------------------------------------------------------------------\u001b[0m",
      "\u001b[0;31mNameError\u001b[0m                                 Traceback (most recent call last)",
      "\u001b[0;32m<ipython-input-12-5a01bb395cce>\u001b[0m in \u001b[0;36m<module>\u001b[0;34m\u001b[0m\n\u001b[0;32m----> 1\u001b[0;31m \u001b[0myakou_mesh\u001b[0m \u001b[0;34m=\u001b[0m \u001b[0mmeshio\u001b[0m\u001b[0;34m.\u001b[0m\u001b[0mread\u001b[0m\u001b[0;34m(\u001b[0m\u001b[0mfilename\u001b[0m\u001b[0;34m=\u001b[0m\u001b[0myakou_mesh\u001b[0m\u001b[0;34m,\u001b[0m\u001b[0mfile_format\u001b[0m\u001b[0;34m=\u001b[0m\u001b[0;34m'msh'\u001b[0m\u001b[0;34m)\u001b[0m\u001b[0;34m\u001b[0m\u001b[0;34m\u001b[0m\u001b[0m\n\u001b[0m\u001b[1;32m      2\u001b[0m \u001b[0myakou_mesh\u001b[0m\u001b[0;34m.\u001b[0m\u001b[0mpoints\u001b[0m\u001b[0;34m\u001b[0m\u001b[0;34m\u001b[0m\u001b[0m\n",
      "\u001b[0;31mNameError\u001b[0m: name 'yakou_mesh' is not defined"
     ]
    }
   ],
   "source": [
    "yakou_mesh = meshio.read(filename=yakou_mesh,file_format='msh')\n",
    "yakou_mesh.points"
   ]
  },
  {
   "cell_type": "code",
   "execution_count": 10,
   "id": "dfac631f",
   "metadata": {},
   "outputs": [
    {
     "name": "stderr",
     "output_type": "stream",
     "text": [
      "WARNING:root:VTK requires 3D points, but 2D points given. Appending 0 third component.\n",
      "WARNING:root:VTK requires 3D points, but 2D points given. Appending 0 third component.\n"
     ]
    }
   ],
   "source": [
    "import meshio\n",
    "\n",
    "# two triangles and one quad\n",
    "points = [\n",
    "    [0.0, 0.0],\n",
    "    [1.0, 0.0],\n",
    "    [0.0, 1.0],\n",
    "    [1.0, 1.0],\n",
    "    [2.0, 0.0],\n",
    "    [2.0, 1.0],\n",
    "]\n",
    "cells = [\n",
    "    (\"triangle\", [[0, 1, 2], [1, 3, 2]]),\n",
    "    (\"quad\", [[1, 4, 5, 3]]),\n",
    "]\n",
    "\n",
    "mesh = meshio.Mesh(\n",
    "    points,\n",
    "    cells,\n",
    "    # Optionally provide extra data on points, cells, etc.\n",
    "    point_data={\"T\": [0.3, -1.2, 0.5, 0.7, 0.0, -3.0]},\n",
    "    # Each item in cell data must match the cells array\n",
    "    cell_data={\"a\": [[0.1, 0.2], [0.4]]},\n",
    ")\n",
    "mesh.write(\n",
    "    \"foo.vtk\",  # str, os.PathLike, or buffer/open file\n",
    "    # file_format=\"vtk\",  # optional if first argument is a path; inferred from extension\n",
    ")\n",
    "\n",
    "# Alternative with the same options\n",
    "meshio.write_points_cells(\"foo.vtk\", points, cells)"
   ]
  },
  {
   "cell_type": "code",
   "execution_count": null,
   "id": "c0821dc2",
   "metadata": {},
   "outputs": [],
   "source": []
  }
 ],
 "metadata": {
  "kernelspec": {
   "display_name": "Python 3",
   "language": "python",
   "name": "python3"
  },
  "language_info": {
   "codemirror_mode": {
    "name": "ipython",
    "version": 3
   },
   "file_extension": ".py",
   "mimetype": "text/x-python",
   "name": "python",
   "nbconvert_exporter": "python",
   "pygments_lexer": "ipython3",
   "version": "3.8.8"
  }
 },
 "nbformat": 4,
 "nbformat_minor": 5
}
