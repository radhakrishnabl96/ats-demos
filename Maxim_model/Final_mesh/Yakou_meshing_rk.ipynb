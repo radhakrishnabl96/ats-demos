{
 "cells": [
  {
   "cell_type": "markdown",
   "metadata": {
    "tags": []
   },
   "source": [
    "# Simple Meshing Workflow\n",
    "\n",
    "This is a simple workflow for generating 1D and 2D meshes.  Note this workflow can do simple 3D meshes as well, especially for simple topography like hexahedral meshes that track a DEM or similar.\n",
    "\n",
    "Often, even in very simple simulations, we use variable vertical resolution (dz).  For many processes (infiltration vs runoff generation, thermal processes, vegetation) much of the dynamics happens in the very near surface soil (within the top centimeters to meters, or in the critical zone).  That said, groundwater depths or the annual thermal signal can propogate to many meters below the surface.  To resolve the near surface dynamics without using so many cells that the simulation is unnecessarily expensive to run, we often use small dz (\\~10cm or less) at the surface and much coarser (\\~1-5 m) at depth.\n",
    "\n",
    "This workflow, and most ATS workflows, make **terrain following, extruded** meshes.  These meshes can be unstructured in map-view, but follow the same vertical spacing everywhere.  This is not required for ATS, but is the most commonly used type of mesh.\n",
    "\n",
    "Note that an unstructured mesh is completely specified by:\n",
    "* nodal coordinates\n",
    "* topology (faces as collections of nodes, cells as collections of faces)\n",
    "* labeled sets (collections of nodes, faces, or cells)\n",
    "\n",
    "This workflow uses the \"meshing_ats\" tool provided with the ATS repository.\n"
   ]
  },
  {
   "cell_type": "markdown",
   "metadata": {},
   "source": [
    "## Note on mesh dimensionality\n",
    "\n",
    "All meshes have two dimensions -- the \"spatial\" dimension (the dimension of the coordinates of the nodes) and the \"manifold\" dimension (the dimension of a single cell).  ATS uses:\n",
    "\n",
    "* 3 space, 3 manifold: standard volumetric mesh in 3D\n",
    "* 3 space, 2 manifold: the surface of the Earth\n",
    "* 2 space, 2 manifold: a flattened surface mesh whose z-coordinate has been removed\n",
    "* 1 space, 1 manifold: very few processes use a true 1D mesh"
   ]
  },
  {
   "cell_type": "markdown",
   "metadata": {},
   "source": [
    "## Note on labels\n",
    "\n",
    "Labels must be unique.  Therefore we use the following conventions to make life simpler across all ATS meshes.  This is not _required_, but is strongly encouraged.\n",
    "\n",
    "* 1 : the bottom boundary faces of the domain\n",
    "* 2 : the top (surface) boundary faces of the domain\n",
    "* 3 : all other boundary faces (side boundaries)\n",
    "* 4-9 : reserved for user-provided sets, e.g. outlets, observation points, etc.\n",
    "* 10-99 : Land Cover side sets, typically NLCD indices are used directly\n",
    "* 100 : geologic layer material IDs, e.g. rock types\n",
    "* 999 : reserved for bedrock\n",
    "* 1000-9999 : soil layer material IDs, e.g. soil types\n",
    "* 10000+ : user-defined, no limitations\n"
   ]
  },
  {
   "cell_type": "markdown",
   "metadata": {},
   "source": [
    "## Note on format\n",
    "\n",
    "We write these meshes to ExodusII files.  ExodusII can handle two types of meshes -- \"fixed type\" meshes, which contain only elements of a given type (e.g. tetrahedrons, hexahedrons, triangular prisms, etc) or \"polyhedral meshes.\"  In the former, faces are not stored -- instead, each cell is a list of nodes ordered in a particular way.  In the latter, faces are stored explicitly as a list of  nodes, and cells are stored as a list of faces.  ATS meshing workflows tend to write the latter, because it is actually simpler, and typed meshes can be stored as polyhedral meshes.\n",
    "\n",
    "Vis tools like VisIt and Paraview tend to do better with fixed type meshes, however.  If you write a fixed type mesh in polyhedral form, MSTK's `meshconvert` utility can be used to detect and change the type automatically.  This is built and installed with ATS:\n",
    "\n",
    "    $AMANZI_TPLS_DIR/bin/meshconvert transect.exo transect_fixed_format.exo\n",
    "\n"
   ]
  },
  {
   "cell_type": "markdown",
   "metadata": {},
   "source": [
    "### Yakou mesh configuration\n",
    "- 2 - D hillslope transect: [3-D with unit layer thickness]\n",
    "- Length: 1500 m, slope = 14%, dx = 10 m --> 100 cells (0r 101 nodes) (Try out with different slopes?)\n",
    "- Along the vertical profile: \n",
    "    - Organic layer : 0.0 - 0.3 m [1001]\n",
    "    - Mineral layer : 0.3 - 26.1 m [1002]\n",
    "    - Bedrock : 26.1 - 40 m [999]\n",
    "- The values have been considered based on literature values in the Yakou catchment\n",
    "- The organic layer thickness also varies along the transect - also check!"
   ]
  },
  {
   "cell_type": "code",
   "execution_count": 1,
   "metadata": {
    "tags": []
   },
   "outputs": [
    {
     "name": "stderr",
     "output_type": "stream",
     "text": [
      "Matplotlib created a temporary config/cache directory at /tmp/matplotlib-e2gttoyj because the default path (/home/ats_sc_user/.cache/matplotlib) is not a writable directory; it is highly recommended to set the MPLCONFIGDIR environment variable to a writable directory, in particular to speed up the import of Matplotlib and to better support multiprocessing.\n"
     ]
    }
   ],
   "source": [
    "import sys,os\n",
    "sys.path.append(os.path.join(os.environ['ATS_SRC_DIR'],'tools','meshing','meshing_ats'))\n",
    "import meshing_ats\n",
    "\n",
    "import numpy as np\n",
    "from matplotlib import pyplot as plt"
   ]
  },
  {
   "cell_type": "markdown",
   "metadata": {
    "tags": []
   },
   "source": [
    "\n",
    "## Column Mesh\n",
    "\n",
    "Columns are useful for getting started, comparing to lab experiments, or for large, flat horizontal extents, where all of the dynamics are assumed to be 1D.\n",
    "\n",
    "Note that we use the phrase: \"column of cells\" to make clear that this is still a 3D volume mesh, but has only 1 cell when projected into map-view.\n",
    "\n",
    "In this exercise we will make a column of cells of three types -- organic-rich layer, mineral soil layer, and bedrock.  The organic-rich layer will be the top 25cm, the mineral soil from 25cm to 2m, and the bedrock from 2m to 40m depth.\n"
   ]
  },
  {
   "cell_type": "code",
   "execution_count": 2,
   "metadata": {},
   "outputs": [
    {
     "name": "stdout",
     "output_type": "stream",
     "text": [
      "# of cells: 1\n"
     ]
    }
   ],
   "source": [
    "# Make a surface mesh that is a 1m x 1m box in map-view.\n",
    "#\n",
    "# note that 2D here refers to the \"manifold\" dimension -- nodes are 3D, but this \n",
    "# describes a surface consisting of once cell.\n",
    "m2c = meshing_ats.Mesh2D.from_Column(0.,0.,0., width=1)\n",
    "print(f'# of cells: {m2c.num_cells()}')"
   ]
  },
  {
   "cell_type": "code",
   "execution_count": 3,
   "metadata": {},
   "outputs": [],
   "source": [
    "# Prepare layer extrusion data\n",
    "#\n",
    "# Meshes are extruded in the vertical by \"layer\", where a layer may \n",
    "# consist of multiple cells in the z direction.  These layers are \n",
    "# logical units to make construction easier, and may or may not \n",
    "# correspond to material type (organic/mineral soil).\n",
    "# \n",
    "# The extrusion process is then given four lists, each of length\n",
    "# num_layers.\n",
    "#\n",
    "layer_types = []  # a list of strings that tell the extruding \n",
    "                  # code how to do the layers.  See meshing_ats \n",
    "                  # documentation for more, but here we will use\n",
    "                  # only \"constant\", which means that dz within\n",
    "                  # the layer is constant.\n",
    "\n",
    "layer_data = []   # this data depends upon the layer type, but\n",
    "                  # for constant is the total thickness of the layer\n",
    "\n",
    "layer_ncells = [] # number of cells (in the vertical) in the layer.\n",
    "                  # The dz of each cell is the layer thickness / number of cells.\n",
    "\n",
    "layer_mat_ids = []# The material ID.  This may be either a constant int (for\n",
    "                  # unform layering) or an array of size [ncells_vertical x ncells_horizontal] in the layer \n",
    "                  # where each entry corresponds to the material ID of that cell.\n",
    "        "
   ]
  },
  {
   "cell_type": "code",
   "execution_count": 4,
   "metadata": {},
   "outputs": [],
   "source": [
    "# first, prescribe a single layer, 6 cells @ 5 cm = 30 cm (0.3 m) of organic-rich soil\n",
    "layer_types.append('constant')\n",
    "layer_data.append(0.3)\n",
    "layer_ncells.append(6)\n",
    "layer_mat_ids.append(1001) # organic-rich soil ID number\n",
    "current_depth = 0.3\n"
   ]
  },
  {
   "cell_type": "code",
   "execution_count": 5,
   "metadata": {},
   "outputs": [
    {
     "data": {
      "text/plain": [
       "[0.3]"
      ]
     },
     "execution_count": 5,
     "metadata": {},
     "output_type": "execute_result"
    }
   ],
   "source": [
    "layer_data"
   ]
  },
  {
   "cell_type": "code",
   "execution_count": 6,
   "metadata": {},
   "outputs": [],
   "source": [
    "# next, we want a mineral soil layer ranging from 0.3 m to 26.1 m deep\n",
    "# -- add another layer of 6 cells @ 5 cm = 30 more cm of mineral soil\n",
    "layer_types.append('constant')\n",
    "layer_data.append(0.3)\n",
    "layer_ncells.append(6)\n",
    "layer_mat_ids.append(1002) # mineral-soil ID number\n",
    "current_depth += 0.3\n"
   ]
  },
  {
   "cell_type": "code",
   "execution_count": 7,
   "metadata": {},
   "outputs": [
    {
     "data": {
      "text/plain": [
       "0.6"
      ]
     },
     "execution_count": 7,
     "metadata": {},
     "output_type": "execute_result"
    }
   ],
   "source": [
    "current_depth"
   ]
  },
  {
   "cell_type": "code",
   "execution_count": 8,
   "metadata": {},
   "outputs": [
    {
     "name": "stdout",
     "output_type": "stream",
     "text": [
      "After the mineral layer, dz = 12.8, current_depth=26.1\n"
     ]
    }
   ],
   "source": [
    "# -- next, we start to grow dz by factors of 2, till we hit 26.1 m\n",
    "dz = .05\n",
    "i = 0\n",
    "while current_depth < 20:\n",
    "    dz *= 2\n",
    "    layer_types.append(\"constant\")\n",
    "    layer_data.append(dz)\n",
    "    layer_ncells.append(1)\n",
    "    layer_mat_ids.append(1002) # mineral soil\n",
    "    current_depth += dz\n",
    "    i += 1\n",
    "    \n",
    "# -- where are we at?\n",
    "print(f\"After the mineral layer, dz = {dz}, current_depth={current_depth}\")\n",
    "\n",
    "# By careful choice of the number of cells and dz, we are now at 20 m.\n",
    "# \n",
    "# Now add in a bunch of 2 m cells to reach 40 m, of equal dz that is ~2m.\n",
    "layer_types.append(\"constant\")\n",
    "layer_data.append(38)\n",
    "layer_ncells.append(38//2) # note, // is integer division\n",
    "layer_mat_ids.append(999) # bedrock material ID\n",
    "current_depth += 13.9\n"
   ]
  },
  {
   "cell_type": "code",
   "execution_count": 9,
   "metadata": {},
   "outputs": [
    {
     "data": {
      "text/plain": [
       "40.0"
      ]
     },
     "execution_count": 9,
     "metadata": {},
     "output_type": "execute_result"
    }
   ],
   "source": [
    "current_depth"
   ]
  },
  {
   "cell_type": "code",
   "execution_count": 10,
   "metadata": {},
   "outputs": [
    {
     "name": "stdout",
     "output_type": "stream",
     "text": [
      "Cell summary:\n",
      "------------------------------------------------------------\n",
      "l_id\t| c_id\t|mat_id\t| dz\t\t| z_top\n",
      "------------------------------------------------------------\n",
      " 00 \t| 00 \t| 1001 \t|   0.050000 \t|   0.000000\n",
      " 00 \t| 01 \t| 1001 \t|   0.050000 \t|   0.050000\n",
      " 00 \t| 02 \t| 1001 \t|   0.050000 \t|   0.100000\n",
      " 00 \t| 03 \t| 1001 \t|   0.050000 \t|   0.150000\n",
      " 00 \t| 04 \t| 1001 \t|   0.050000 \t|   0.200000\n",
      " 00 \t| 05 \t| 1001 \t|   0.050000 \t|   0.250000\n",
      " 01 \t| 06 \t| 1002 \t|   0.050000 \t|   0.300000\n",
      " 01 \t| 07 \t| 1002 \t|   0.050000 \t|   0.350000\n",
      " 01 \t| 08 \t| 1002 \t|   0.050000 \t|   0.400000\n",
      " 01 \t| 09 \t| 1002 \t|   0.050000 \t|   0.450000\n",
      " 01 \t| 10 \t| 1002 \t|   0.050000 \t|   0.500000\n",
      " 01 \t| 11 \t| 1002 \t|   0.050000 \t|   0.550000\n",
      " 02 \t| 12 \t| 1002 \t|   0.100000 \t|   0.600000\n",
      " 03 \t| 13 \t| 1002 \t|   0.200000 \t|   0.700000\n",
      " 04 \t| 14 \t| 1002 \t|   0.400000 \t|   0.900000\n",
      " 05 \t| 15 \t| 1002 \t|   0.800000 \t|   1.300000\n",
      " 06 \t| 16 \t| 1002 \t|   1.600000 \t|   2.100000\n",
      " 07 \t| 17 \t| 1002 \t|   3.200000 \t|   3.700000\n",
      " 08 \t| 18 \t| 1002 \t|   6.400000 \t|   6.900000\n",
      " 09 \t| 19 \t| 1002 \t|  12.800000 \t|  13.300000\n",
      " 10 \t| 20 \t|  999 \t|   2.000000 \t|  26.100000\n",
      " 10 \t| 21 \t|  999 \t|   2.000000 \t|  28.100000\n",
      " 10 \t| 22 \t|  999 \t|   2.000000 \t|  30.100000\n",
      " 10 \t| 23 \t|  999 \t|   2.000000 \t|  32.100000\n",
      " 10 \t| 24 \t|  999 \t|   2.000000 \t|  34.100000\n",
      " 10 \t| 25 \t|  999 \t|   2.000000 \t|  36.100000\n",
      " 10 \t| 26 \t|  999 \t|   2.000000 \t|  38.100000\n",
      " 10 \t| 27 \t|  999 \t|   2.000000 \t|  40.100000\n",
      " 10 \t| 28 \t|  999 \t|   2.000000 \t|  42.100000\n",
      " 10 \t| 29 \t|  999 \t|   2.000000 \t|  44.100000\n",
      " 10 \t| 30 \t|  999 \t|   2.000000 \t|  46.100000\n",
      " 10 \t| 31 \t|  999 \t|   2.000000 \t|  48.100000\n",
      " 10 \t| 32 \t|  999 \t|   2.000000 \t|  50.100000\n",
      " 10 \t| 33 \t|  999 \t|   2.000000 \t|  52.100000\n",
      " 10 \t| 34 \t|  999 \t|   2.000000 \t|  54.100000\n",
      " 10 \t| 35 \t|  999 \t|   2.000000 \t|  56.100000\n",
      " 10 \t| 36 \t|  999 \t|   2.000000 \t|  58.100000\n",
      " 10 \t| 37 \t|  999 \t|   2.000000 \t|  60.100000\n",
      " 10 \t| 38 \t|  999 \t|   2.000000 \t|  62.100000\n"
     ]
    }
   ],
   "source": [
    "# print a summary of the final layering\n",
    "meshing_ats.summarize_extrusion(layer_types, layer_data, layer_ncells, layer_mat_ids)\n"
   ]
  },
  {
   "cell_type": "code",
   "execution_count": 11,
   "metadata": {},
   "outputs": [
    {
     "name": "stdout",
     "output_type": "stream",
     "text": [
      "\n",
      "You are using exodus.py v 1.20.2 (seacas-py3), a python wrapper of some of the exodus library.\n",
      "\n",
      "Copyright (c) 2013, 2014, 2015, 2016, 2017, 2018, 2019, 2020, 2021 National Technology &\n",
      "Engineering Solutions of Sandia, LLC (NTESS).  Under the terms of\n",
      "Contract DE-NA0003525 with NTESS, the U.S. Government retains certain\n",
      "rights in this software.\n",
      "\n",
      "Opening exodus file: yakou_column.exo\n",
      "Closing exodus file: yakou_column.exo\n"
     ]
    }
   ],
   "source": [
    "# Turn this into a 3D mesh (column of cells), and save it to disk\n",
    "m3c = meshing_ats.Mesh3D.extruded_Mesh2D(m2c, layer_types, layer_data, layer_ncells, layer_mat_ids)\n",
    "if os.path.exists('yakou_column.exo'):\n",
    "    os.remove('yakou_column.exo')\n",
    "m3c.write_exodus('yakou_column.exo')\n"
   ]
  },
  {
   "cell_type": "markdown",
   "metadata": {},
   "source": [
    "## Transect Mesh\n",
    "\n",
    "As a next step, make a transect mesh.  This mesh is also a 3D volumetric mesh, but is conceptually a 2D mesh.  Think of this as a cross-section of a hillslope.  "
   ]
  },
  {
   "cell_type": "code",
   "execution_count": 25,
   "metadata": {},
   "outputs": [
    {
     "name": "stdout",
     "output_type": "stream",
     "text": [
      "# of x and z coordinates: 151, 151\n",
      "# of cells: 150\n"
     ]
    },
    {
     "data": {
      "image/png": "[encoded data removed]",
      "text/plain": [
       "<Figure size 432x288 with 1 Axes>"
      ]
     },
     "metadata": {
      "needs_background": "light"
     },
     "output_type": "display_data"
    }
   ],
   "source": [
    "# Specify the top surface, given by z(x).\n",
    "#\n",
    "# 1.5 km long hillslope, 14% slope, 150 cells (or 151 nodes) in x.\n",
    "x = np.linspace(0,1500,151)\n",
    "z = 210 - 0.14*x\n",
    "print(f'# of x and z coordinates: {len(x)}, {len(z)}')\n",
    "\n",
    "# plot the surface topography\n",
    "plt.plot(x,z); plt.xlabel('x distance (m)'); plt.ylabel('z elevation (m)')\n",
    "\n",
    "# make the (manifold) 2D mesh.\n",
    "m2 = meshing_ats.Mesh2D.from_Transect(x,z)\n",
    "print(f'# of cells: {m2.num_cells()}')"
   ]
  },
  {
   "cell_type": "code",
   "execution_count": 27,
   "metadata": {},
   "outputs": [
    {
     "data": {
      "text/plain": [
       "array([   0.,   10.,   20.,   30.,   40.,   50.,   60.,   70.,   80.,\n",
       "         90.,  100.,  110.,  120.,  130.,  140.,  150.,  160.,  170.,\n",
       "        180.,  190.,  200.,  210.,  220.,  230.,  240.,  250.,  260.,\n",
       "        270.,  280.,  290.,  300.,  310.,  320.,  330.,  340.,  350.,\n",
       "        360.,  370.,  380.,  390.,  400.,  410.,  420.,  430.,  440.,\n",
       "        450.,  460.,  470.,  480.,  490.,  500.,  510.,  520.,  530.,\n",
       "        540.,  550.,  560.,  570.,  580.,  590.,  600.,  610.,  620.,\n",
       "        630.,  640.,  650.,  660.,  670.,  680.,  690.,  700.,  710.,\n",
       "        720.,  730.,  740.,  750.,  760.,  770.,  780.,  790.,  800.,\n",
       "        810.,  820.,  830.,  840.,  850.,  860.,  870.,  880.,  890.,\n",
       "        900.,  910.,  920.,  930.,  940.,  950.,  960.,  970.,  980.,\n",
       "        990., 1000., 1010., 1020., 1030., 1040., 1050., 1060., 1070.,\n",
       "       1080., 1090., 1100., 1110., 1120., 1130., 1140., 1150., 1160.,\n",
       "       1170., 1180., 1190., 1200., 1210., 1220., 1230., 1240., 1250.,\n",
       "       1260., 1270., 1280., 1290., 1300., 1310., 1320., 1330., 1340.,\n",
       "       1350., 1360., 1370., 1380., 1390., 1400., 1410., 1420., 1430.,\n",
       "       1440., 1450., 1460., 1470., 1480., 1490., 1500.])"
      ]
     },
     "execution_count": 27,
     "metadata": {},
     "output_type": "execute_result"
    }
   ],
   "source": [
    "x"
   ]
  },
  {
   "cell_type": "code",
   "execution_count": 28,
   "metadata": {},
   "outputs": [
    {
     "data": {
      "image/png": "[encoded data removed]",
      "text/plain": [
       "<Figure size 432x288 with 1 Axes>"
      ]
     },
     "metadata": {
      "needs_background": "light"
     },
     "output_type": "display_data"
    }
   ],
   "source": [
    "# In this mesh, we vary the organic layer thickness across the hillslope.\n",
    "# Assuming a organic layer thickness of 0.3, 0.6 and 1.0 m in the up-slope, middle-slope and riparian zone\n",
    "# each of 500 m length\n",
    "# To ensure a transition : for 100 m (between 450 - 550 & 950 - 1050) a slope is considered : \n",
    "# (0.6 - 0.3)/102\n",
    "# Changing organic layer thickness \n",
    "def organic_thickness(x):\n",
    "    \"\"\"This function is the thickness of the layer we want to vary as a function of distance down the slope\"\"\"\n",
    "    if x < 450:\n",
    "        thickness = 0.3\n",
    "    elif ((450 <= x) and (x <= 550)):\n",
    "        thickness = 0.0029*(x-450) + 0.3\n",
    "    elif ((550 < x) and (x < 950)):\n",
    "        thickness = 0.6\n",
    "    elif ((950 <= x) and (x <= 1050)):\n",
    "        thickness = 0.0029*(x-950) + 0.6\n",
    "    else:\n",
    "        thickness = 0.9\n",
    "    return thickness\n",
    "\n",
    "org_layer_thickness = np.array([organic_thickness(xx) for xx in m2.coords[:,0]])\n",
    "plt.plot(x, org_layer_thickness[0:151]); plt.xlabel('x distance (m)'); plt.ylabel('org. layer thickness (m)');\n"
   ]
  },
  {
   "cell_type": "code",
   "execution_count": 29,
   "metadata": {},
   "outputs": [],
   "source": [
    "# geometry of the transect extrusion\n",
    "transect_layer_types = []\n",
    "transect_layer_data = []\n",
    "transect_layer_ncells = []\n",
    "\n",
    "depth = []  # bookkeeping for material IDs\n",
    "current_depth = 0\n",
    "\n",
    "# We use the same dz as the above column, but because the material ID will change\n",
    "# at a given depth in x, we spell it out with 1 cell per transect.\n",
    "#\n",
    "# 10 cells @ 5cm\n",
    "dz = .05\n",
    "depth.append(current_depth)\n",
    "for i in range(12):\n",
    "    transect_layer_types.append('constant')\n",
    "    transect_layer_data.append(dz)\n",
    "    transect_layer_ncells.append(1)\n",
    "    current_depth += dz\n",
    "    depth.append(current_depth)\n",
    "    \n",
    "# grow dz by factors of 2, til we hit 2 m\n",
    "i = 0\n",
    "while current_depth < 20:\n",
    "    dz *= 2\n",
    "    transect_layer_types.append(\"constant\")\n",
    "    transect_layer_data.append(dz)\n",
    "    transect_layer_ncells.append(1)\n",
    "    current_depth += dz\n",
    "    depth.append(current_depth)\n",
    "\n",
    "# 2m cells to 40 m\n",
    "dz = 2\n",
    "while current_depth < 40:\n",
    "    transect_layer_types.append(\"constant\")\n",
    "    transect_layer_data.append(dz)\n",
    "    transect_layer_ncells.append(1)\n",
    "    current_depth += dz\n",
    "    depth.append(current_depth)\n"
   ]
  },
  {
   "cell_type": "code",
   "execution_count": 30,
   "metadata": {},
   "outputs": [],
   "source": [
    "# calculate the cell centroid depth\n",
    "depth = np.array(depth)\n",
    "transect_layer_depth = (depth[0:-1] + depth[1:])/2\n",
    "\n",
    "# allocate 2D matrix for material id, (# surface cells, # layers)\n",
    "n_layers = len(transect_layer_data)\n",
    "transect_layer_mat_ids=np.zeros((n_layers, m2.num_cells()), 'i')\n",
    "for j in range(m2.num_cells()):\n",
    "    for i in range(n_layers):\n",
    "        if (transect_layer_depth[i] < org_layer_thickness[j]):\n",
    "            transect_layer_mat_ids[i,j] = 1001\n",
    "        elif transect_layer_depth[i] < 20:\n",
    "            transect_layer_mat_ids[i,j] = 1002\n",
    "        else:\n",
    "            transect_layer_mat_ids[i,j] = 999\n"
   ]
  },
  {
   "cell_type": "code",
   "execution_count": 31,
   "metadata": {},
   "outputs": [
    {
     "name": "stdout",
     "output_type": "stream",
     "text": [
      "Cell summary:\n",
      "------------------------------------------------------------\n",
      "l_id\t| c_id\t|mat_id\t| dz\t\t| z_top\n",
      "------------------------------------------------------------\n",
      " 00 \t| 00 \t| 1001 \t|   0.050000 \t|   0.000000\n",
      " 01 \t| 01 \t| 1001 \t|   0.050000 \t|   0.050000\n",
      " 02 \t| 02 \t| 1001 \t|   0.050000 \t|   0.100000\n",
      " 03 \t| 03 \t| 1001 \t|   0.050000 \t|   0.150000\n",
      " 04 \t| 04 \t| 1001 \t|   0.050000 \t|   0.200000\n",
      " 05 \t| 05 \t| 1001 \t|   0.050000 \t|   0.250000\n",
      " 06 \t| 06 \t| 1002 \t|   0.050000 \t|   0.300000\n",
      " 07 \t| 07 \t| 1002 \t|   0.050000 \t|   0.350000\n",
      " 08 \t| 08 \t| 1002 \t|   0.050000 \t|   0.400000\n",
      " 09 \t| 09 \t| 1002 \t|   0.050000 \t|   0.450000\n",
      " 10 \t| 10 \t| 1002 \t|   0.050000 \t|   0.500000\n",
      " 11 \t| 11 \t| 1002 \t|   0.050000 \t|   0.550000\n",
      " 12 \t| 12 \t| 1002 \t|   0.100000 \t|   0.600000\n",
      " 13 \t| 13 \t| 1002 \t|   0.200000 \t|   0.700000\n",
      " 14 \t| 14 \t| 1002 \t|   0.400000 \t|   0.900000\n",
      " 15 \t| 15 \t| 1002 \t|   0.800000 \t|   1.300000\n",
      " 16 \t| 16 \t| 1002 \t|   1.600000 \t|   2.100000\n",
      " 17 \t| 17 \t| 1002 \t|   3.200000 \t|   3.700000\n",
      " 18 \t| 18 \t| 1002 \t|   6.400000 \t|   6.900000\n",
      " 19 \t| 19 \t| 1002 \t|  12.800000 \t|  13.300000\n",
      " 20 \t| 20 \t|  999 \t|   2.000000 \t|  26.100000\n",
      " 21 \t| 21 \t|  999 \t|   2.000000 \t|  28.100000\n",
      " 22 \t| 22 \t|  999 \t|   2.000000 \t|  30.100000\n",
      " 23 \t| 23 \t|  999 \t|   2.000000 \t|  32.100000\n",
      " 24 \t| 24 \t|  999 \t|   2.000000 \t|  34.100000\n",
      " 25 \t| 25 \t|  999 \t|   2.000000 \t|  36.100000\n",
      " 26 \t| 26 \t|  999 \t|   2.000000 \t|  38.100000\n"
     ]
    }
   ],
   "source": [
    "# print out the layer information for the first column of cells\n",
    "meshing_ats.summarize_extrusion(transect_layer_types, transect_layer_data, \n",
    "                                transect_layer_ncells, transect_layer_mat_ids, 0)\n"
   ]
  },
  {
   "cell_type": "code",
   "execution_count": 33,
   "metadata": {},
   "outputs": [
    {
     "name": "stdout",
     "output_type": "stream",
     "text": [
      "Opening exodus file: yakou_transect_ini.exo\n",
      "Closing exodus file: yakou_transect_ini.exo\n"
     ]
    }
   ],
   "source": [
    "# make the mesh, save it as an exodus file\n",
    "m3 = meshing_ats.Mesh3D.extruded_Mesh2D(m2, transect_layer_types,transect_layer_data, \n",
    "                                        transect_layer_ncells, transect_layer_mat_ids)\n",
    "if os.path.exists('yakou_transect_ini.exo'):\n",
    "    os.remove('yakou_transect_ini.exo')\n",
    "m3.write_exodus('yakou_transect_ini.exo')"
   ]
  },
  {
   "cell_type": "code",
   "execution_count": 35,
   "metadata": {},
   "outputs": [
    {
     "name": "stderr",
     "output_type": "stream",
     "text": [
      "\n",
      "App to convert unstructured meshes between formats\n",
      "Contact: Rao Garimella (rao@lanl.gov)\n",
      "\n",
      "Importing mesh from ExodusII file...Building classification information....Done\n",
      "Exporting mesh to ExodusII/NemesisI format...Done\n"
     ]
    },
    {
     "data": {
      "text/plain": [
       "0"
      ]
     },
     "execution_count": 35,
     "metadata": {},
     "output_type": "execute_result"
    }
   ],
   "source": [
    "# Now convert the file from \"polyhedral\" to \"fixed format\" and open it in VisIt or Paraview.\n",
    "os.system(\"$AMANZI_TPLS_DIR/bin/meshconvert yakou_transect_ini.exo yakou_transect.exo\")"
   ]
  },
  {
   "cell_type": "markdown",
   "metadata": {
    "tags": []
   },
   "source": [
    "![transect1.pnt](./transect1.png)\n",
    "\n",
    "![transect2.png](./transect2.png)"
   ]
  },
  {
   "cell_type": "code",
   "execution_count": 78,
   "metadata": {},
   "outputs": [
    {
     "name": "stderr",
     "output_type": "stream",
     "text": [
      "\n",
      "App to convert unstructured meshes between formats\n",
      "Contact: Rao Garimella (rao@lanl.gov)\n",
      "\n",
      "Importing mesh from ExodusII file...\n",
      "FATAL ERROR!! in MESH_ReadExodusII_Serial: Could not find a single region whose faces could be reliably oriented\n"
     ]
    },
    {
     "data": {
      "text/plain": [
       "65280"
      ]
     },
     "execution_count": 78,
     "metadata": {},
     "output_type": "execute_result"
    }
   ],
   "source": [
    "# Now convert the file from \"polyhedral\" to \"fixed format\" and open it in VisIt or Paraview.\n",
    "os.system(\"$AMANZI_TPLS_DIR/bin/meshconvert column.exo yakou_column_fixed.exo\")"
   ]
  },
  {
   "cell_type": "code",
   "execution_count": null,
   "metadata": {},
   "outputs": [],
   "source": []
  }
 ],
 "metadata": {
  "anaconda-cloud": {},
  "kernelspec": {
   "display_name": "Python 3 (ipykernel)",
   "language": "python",
   "name": "python3"
  },
  "language_info": {
   "codemirror_mode": {
    "name": "ipython",
    "version": 3
   },
   "file_extension": ".py",
   "mimetype": "text/x-python",
   "name": "python",
   "nbconvert_exporter": "python",
   "pygments_lexer": "ipython3",
   "version": "3.8.5"
  }
 },
 "nbformat": 4,
 "nbformat_minor": 4
}
